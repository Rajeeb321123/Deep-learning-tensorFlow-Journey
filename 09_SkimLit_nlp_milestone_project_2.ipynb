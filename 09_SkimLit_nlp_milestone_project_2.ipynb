{
  "nbformat": 4,
  "nbformat_minor": 0,
  "metadata": {
    "colab": {
      "provenance": [],
      "toc_visible": true,
      "authorship_tag": "ABX9TyOYo+GMcwEQWbTBYobW04oG",
      "include_colab_link": true
    },
    "kernelspec": {
      "name": "python3",
      "display_name": "Python 3"
    },
    "language_info": {
      "name": "python"
    }
  },
  "cells": [
    {
      "cell_type": "markdown",
      "metadata": {
        "id": "view-in-github",
        "colab_type": "text"
      },
      "source": [
        "<a href=\"https://colab.research.google.com/github/Rajeeb321123/Deep-learning-tensorFlow-Journey/blob/master/09_SkimLit_nlp_milestone_project_2.ipynb\" target=\"_parent\"><img src=\"https://colab.research.google.com/assets/colab-badge.svg\" alt=\"Open In Colab\"/></a>"
      ]
    },
    {
      "cell_type": "markdown",
      "source": [
        "# MileStone Project 2: SkimLit📃🔥\n",
        "\n",
        "The purpose of this notebook is to build an NLP model to make reading medical abstacts easier.\n",
        "\n",
        "The paper we're replicating (the source of the dataset that we'll be using **PubMed 200k RCT**) is available here: https://arxiv.org/abs/1710.06071\n",
        "\n",
        "And reading throughn the paper above, we see that the model architecture (**Neural Networks for Joint Sentence Classification in Medical Paper Abstracts**) that they used to achieve the best result is here: https://arxiv.org/abs/1612.05251\n",
        "\n",
        "If you want to find the ground truth for this notebook (with lots of diagram and text annotation) see the github: https://github.com/mrdbourke/tensorflow-deep-learning/blob/main/09_SkimLit_nlp_milestone_project_2.ipynb"
      ],
      "metadata": {
        "id": "wuS9R9qXIOH9"
      }
    },
    {
      "cell_type": "markdown",
      "source": [
        "## Confirm access to GPU"
      ],
      "metadata": {
        "id": "9m0bBfckJ0IA"
      }
    },
    {
      "cell_type": "code",
      "source": [
        "!nvidia-smi -L"
      ],
      "metadata": {
        "colab": {
          "base_uri": "https://localhost:8080/"
        },
        "id": "N1QIA7qGJ4pB",
        "outputId": "eb46bfdd-2d92-490a-a991-28bbf970d8c8"
      },
      "execution_count": 1,
      "outputs": [
        {
          "output_type": "stream",
          "name": "stdout",
          "text": [
            "/bin/bash: line 1: nvidia-smi: command not found\n"
          ]
        }
      ]
    },
    {
      "cell_type": "markdown",
      "source": [
        "## Get the data\n",
        "\n",
        "Since we'll be relicating the paper above (PubMed 200k RCT), Let's download the datset they used.\n",
        "\n",
        "We can do so from Authers GitHub: https://github.com/Franck-Dernoncourt/pubmed-rct"
      ],
      "metadata": {
        "id": "yWpS2GdZJ7e_"
      }
    },
    {
      "cell_type": "code",
      "source": [
        "!git clone https://github.com/Franck-Dernoncourt/pubmed-rct\n",
        "!ls pubmed-rct"
      ],
      "metadata": {
        "colab": {
          "base_uri": "https://localhost:8080/"
        },
        "id": "0XpKvY7-LDxN",
        "outputId": "2ae4b404-40d7-4b11-c061-555d6ba3b1bd"
      },
      "execution_count": 2,
      "outputs": [
        {
          "output_type": "stream",
          "name": "stdout",
          "text": [
            "Cloning into 'pubmed-rct'...\n",
            "remote: Enumerating objects: 39, done.\u001b[K\n",
            "remote: Counting objects: 100% (14/14), done.\u001b[K\n",
            "remote: Compressing objects: 100% (9/9), done.\u001b[K\n",
            "remote: Total 39 (delta 8), reused 5 (delta 5), pack-reused 25\u001b[K\n",
            "Receiving objects: 100% (39/39), 177.08 MiB | 37.78 MiB/s, done.\n",
            "Resolving deltas: 100% (15/15), done.\n",
            "Updating files: 100% (13/13), done.\n",
            "PubMed_200k_RCT\t\t\t\t       PubMed_20k_RCT_numbers_replaced_with_at_sign\n",
            "PubMed_200k_RCT_numbers_replaced_with_at_sign  README.md\n",
            "PubMed_20k_RCT\n"
          ]
        }
      ]
    },
    {
      "cell_type": "code",
      "source": [
        "# Check what files are in the PubMed_20k Dataset\n",
        "!ls pubmed-rct/PubMed_20k_RCT_numbers_replaced_with_at_sign/"
      ],
      "metadata": {
        "colab": {
          "base_uri": "https://localhost:8080/"
        },
        "id": "jyWxZw35LWfP",
        "outputId": "459d099c-e84a-4812-c4e2-cede36e86e46"
      },
      "execution_count": 3,
      "outputs": [
        {
          "output_type": "stream",
          "name": "stdout",
          "text": [
            "dev.txt  test.txt  train.txt\n"
          ]
        }
      ]
    },
    {
      "cell_type": "code",
      "source": [
        "# Start ou experiment using the 20k dataset with numbers replaced by \"@\" sign\n",
        "data_dir = \"/content/pubmed-rct/PubMed_20k_RCT_numbers_replaced_with_at_sign/\""
      ],
      "metadata": {
        "id": "QK0I1cQ7L-2n"
      },
      "execution_count": 4,
      "outputs": []
    },
    {
      "cell_type": "code",
      "source": [
        "import os\n",
        "os.listdir(data_dir)"
      ],
      "metadata": {
        "colab": {
          "base_uri": "https://localhost:8080/"
        },
        "id": "Dho8yvCoNhNK",
        "outputId": "238ebda1-0ff5-4d0e-f21b-657260e5741d"
      },
      "execution_count": 5,
      "outputs": [
        {
          "output_type": "execute_result",
          "data": {
            "text/plain": [
              "['test.txt', 'train.txt', 'dev.txt']"
            ]
          },
          "metadata": {},
          "execution_count": 5
        }
      ]
    },
    {
      "cell_type": "code",
      "source": [
        "# Check all of the filename in the target directory\n",
        "import os\n",
        "filenames = [data_dir + filename for filename in os.listdir(data_dir)]\n",
        "filenames"
      ],
      "metadata": {
        "colab": {
          "base_uri": "https://localhost:8080/"
        },
        "id": "KKNwADZuNOuW",
        "outputId": "aac60584-8607-4c3d-ad2b-f2db9371be3d"
      },
      "execution_count": 6,
      "outputs": [
        {
          "output_type": "execute_result",
          "data": {
            "text/plain": [
              "['/content/pubmed-rct/PubMed_20k_RCT_numbers_replaced_with_at_sign/test.txt',\n",
              " '/content/pubmed-rct/PubMed_20k_RCT_numbers_replaced_with_at_sign/train.txt',\n",
              " '/content/pubmed-rct/PubMed_20k_RCT_numbers_replaced_with_at_sign/dev.txt']"
            ]
          },
          "metadata": {},
          "execution_count": 6
        }
      ]
    },
    {
      "cell_type": "markdown",
      "source": [
        "## Preprocess data\n",
        "\n",
        "Now we've got some text data, it's time to become one with it.\n",
        "\n",
        "And one of the best ways to become one with data is to...\n",
        "\n",
        "> Visualize, visualize, visualize\n",
        "\n",
        "Let's write a function to read in all of the lines of a target text file."
      ],
      "metadata": {
        "id": "K90eSUE8Nb4W"
      }
    },
    {
      "cell_type": "code",
      "source": [
        "# Create a function to read the line of a document\n",
        "def get_lines(filename):\n",
        "  \"\"\"\n",
        "  Reads filename (a text filename) and returns the lines of text as a lists.\n",
        "\n",
        "  Args:\n",
        "    filename:  a string containing the target filepath.\n",
        "\n",
        "  Returns:\n",
        "    A List of strings with one string per line from the target filename.\n",
        "  \"\"\"\n",
        "\n",
        "  # with is simialr to try/finally\n",
        "  with open(filename, \"r\") as f:\n",
        "    return f.readlines()"
      ],
      "metadata": {
        "id": "bIyQEwqlOYlH"
      },
      "execution_count": 7,
      "outputs": []
    },
    {
      "cell_type": "code",
      "source": [
        "# Let's read in the training lines\n",
        "train_lines = get_lines(data_dir + \"train.txt\") # read the line for training file\n",
        "train_lines[:28]"
      ],
      "metadata": {
        "colab": {
          "base_uri": "https://localhost:8080/"
        },
        "id": "OJ9MV2kwQBOO",
        "outputId": "6fb1b084-af19-4074-8901-8fce31ba0f35"
      },
      "execution_count": 8,
      "outputs": [
        {
          "output_type": "execute_result",
          "data": {
            "text/plain": [
              "['###24293578\\n',\n",
              " 'OBJECTIVE\\tTo investigate the efficacy of @ weeks of daily low-dose oral prednisolone in improving pain , mobility , and systemic low-grade inflammation in the short term and whether the effect would be sustained at @ weeks in older adults with moderate to severe knee osteoarthritis ( OA ) .\\n',\n",
              " 'METHODS\\tA total of @ patients with primary knee OA were randomized @:@ ; @ received @ mg/day of prednisolone and @ received placebo for @ weeks .\\n',\n",
              " 'METHODS\\tOutcome measures included pain reduction and improvement in function scores and systemic inflammation markers .\\n',\n",
              " 'METHODS\\tPain was assessed using the visual analog pain scale ( @-@ mm ) .\\n',\n",
              " 'METHODS\\tSecondary outcome measures included the Western Ontario and McMaster Universities Osteoarthritis Index scores , patient global assessment ( PGA ) of the severity of knee OA , and @-min walk distance ( @MWD ) .\\n',\n",
              " 'METHODS\\tSerum levels of interleukin @ ( IL-@ ) , IL-@ , tumor necrosis factor ( TNF ) - , and high-sensitivity C-reactive protein ( hsCRP ) were measured .\\n',\n",
              " 'RESULTS\\tThere was a clinically relevant reduction in the intervention group compared to the placebo group for knee pain , physical function , PGA , and @MWD at @ weeks .\\n',\n",
              " 'RESULTS\\tThe mean difference between treatment arms ( @ % CI ) was @ ( @-@ @ ) , p < @ ; @ ( @-@ @ ) , p < @ ; @ ( @-@ @ ) , p < @ ; and @ ( @-@ @ ) , p < @ , respectively .\\n',\n",
              " 'RESULTS\\tFurther , there was a clinically relevant reduction in the serum levels of IL-@ , IL-@ , TNF - , and hsCRP at @ weeks in the intervention group when compared to the placebo group .\\n',\n",
              " 'RESULTS\\tThese differences remained significant at @ weeks .\\n',\n",
              " 'RESULTS\\tThe Outcome Measures in Rheumatology Clinical Trials-Osteoarthritis Research Society International responder rate was @ % in the intervention group and @ % in the placebo group ( p < @ ) .\\n',\n",
              " 'CONCLUSIONS\\tLow-dose oral prednisolone had both a short-term and a longer sustained effect resulting in less knee pain , better physical function , and attenuation of systemic inflammation in older patients with knee OA ( ClinicalTrials.gov identifier NCT@ ) .\\n',\n",
              " '\\n',\n",
              " '###24854809\\n',\n",
              " 'BACKGROUND\\tEmotional eating is associated with overeating and the development of obesity .\\n',\n",
              " 'BACKGROUND\\tYet , empirical evidence for individual ( trait ) differences in emotional eating and cognitive mechanisms that contribute to eating during sad mood remain equivocal .\\n',\n",
              " 'OBJECTIVE\\tThe aim of this study was to test if attention bias for food moderates the effect of self-reported emotional eating during sad mood ( vs neutral mood ) on actual food intake .\\n',\n",
              " 'OBJECTIVE\\tIt was expected that emotional eating is predictive of elevated attention for food and higher food intake after an experimentally induced sad mood and that attentional maintenance on food predicts food intake during a sad versus a neutral mood .\\n',\n",
              " 'METHODS\\tParticipants ( N = @ ) were randomly assigned to one of the two experimental mood induction conditions ( sad/neutral ) .\\n',\n",
              " 'METHODS\\tAttentional biases for high caloric foods were measured by eye tracking during a visual probe task with pictorial food and neutral stimuli .\\n',\n",
              " 'METHODS\\tSelf-reported emotional eating was assessed with the Dutch Eating Behavior Questionnaire ( DEBQ ) and ad libitum food intake was tested by a disguised food offer .\\n',\n",
              " 'RESULTS\\tHierarchical multivariate regression modeling showed that self-reported emotional eating did not account for changes in attention allocation for food or food intake in either condition .\\n',\n",
              " 'RESULTS\\tYet , attention maintenance on food cues was significantly related to increased intake specifically in the neutral condition , but not in the sad mood condition .\\n',\n",
              " 'CONCLUSIONS\\tThe current findings show that self-reported emotional eating ( based on the DEBQ ) might not validly predict who overeats when sad , at least not in a laboratory setting with healthy women .\\n',\n",
              " 'CONCLUSIONS\\tResults further suggest that attention maintenance on food relates to eating motivation when in a neutral affective state , and might therefore be a cognitive mechanism contributing to increased food intake in general , but maybe not during sad mood .\\n',\n",
              " '\\n',\n",
              " '###25165090\\n']"
            ]
          },
          "metadata": {},
          "execution_count": 8
        }
      ]
    },
    {
      "cell_type": "code",
      "source": [
        "len(train_lines)"
      ],
      "metadata": {
        "colab": {
          "base_uri": "https://localhost:8080/"
        },
        "id": "JWCAYDLnOt2-",
        "outputId": "43600e10-8116-45a4-bb0b-79661bf04717"
      },
      "execution_count": 9,
      "outputs": [
        {
          "output_type": "execute_result",
          "data": {
            "text/plain": [
              "210040"
            ]
          },
          "metadata": {},
          "execution_count": 9
        }
      ]
    },
    {
      "cell_type": "code",
      "source": [
        "len('CONCLUSIONS\\t')"
      ],
      "metadata": {
        "colab": {
          "base_uri": "https://localhost:8080/"
        },
        "id": "Eg_KhT4P49Em",
        "outputId": "59ec41c2-6575-49ef-bd5b-e1fffe5126df"
      },
      "execution_count": 10,
      "outputs": [
        {
          "output_type": "execute_result",
          "data": {
            "text/plain": [
              "12"
            ]
          },
          "metadata": {},
          "execution_count": 10
        }
      ]
    },
    {
      "cell_type": "code",
      "source": [
        "a = [1, 2, 3, 4, 5]"
      ],
      "metadata": {
        "id": "CkrIAyJTwolB"
      },
      "execution_count": 11,
      "outputs": []
    },
    {
      "cell_type": "code",
      "source": [
        "for i  in range(3):\n",
        "  print(a[-i-1])"
      ],
      "metadata": {
        "colab": {
          "base_uri": "https://localhost:8080/"
        },
        "id": "qw8S4RTxwrjv",
        "outputId": "6a916044-ca60-4c41-9a65-18d521f1b542"
      },
      "execution_count": 12,
      "outputs": [
        {
          "output_type": "stream",
          "name": "stdout",
          "text": [
            "5\n",
            "4\n",
            "3\n"
          ]
        }
      ]
    },
    {
      "cell_type": "markdown",
      "source": [
        "Let's think about how we want our data to look.\n",
        "\n",
        "How I think our data would be represented?\n",
        "\n",
        "```\n",
        "[\n",
        "  {\n",
        "    'line_number': 0,\n",
        "    'target': 'BACKGROUND',\n",
        "    'text': Emotional eating is associated with overeating and the development of obesity .\\n',\n",
        "    'total_lines': 11\n",
        "  },\n",
        "  ...\n",
        "]\n",
        "```"
      ],
      "metadata": {
        "id": "5xgPQlwzQvBl"
      }
    },
    {
      "cell_type": "code",
      "source": [
        "# My own logic: correct\n",
        "# But exceed our Cpu limit. our time complexity seems to be shit\n",
        "# seem like i misunderstood line number but its alright\n",
        "\n",
        "abstract_number = -1\n",
        "list_of_dic = []\n",
        "dic_to_be_added = {}\n",
        "total_lines = -1\n",
        "\n",
        "for i in train_lines[:28]:\n",
        "\n",
        "  if ( i[:3] == '###'):\n",
        "    abstract_number += 1\n",
        "\n",
        "\n",
        "    continue\n",
        "  if (i == '\\n'):\n",
        "    for j in range(total_lines + 1): # for updating total_lines values\n",
        "      list_of_dic[-1-j][\"total_lines\"] = total_lines\n",
        "\n",
        "    total_lines = -1\n",
        "    continue\n",
        "\n",
        "  total_lines += 1\n",
        "\n",
        "  if (i[:11] == 'BACKGROUND\\t'):\n",
        "    dic_to_be_added[\"abstract_number\"] = abstract_number\n",
        "    dic_to_be_added[\"target\"] = 'BACKGROUND'\n",
        "    dic_to_be_added[\"text\"] = i[11:-1]\n",
        "    list_of_dic.append(dic_to_be_added)\n",
        "    dic_to_be_added = {}\n",
        "    continue\n",
        "    # print(i[11:-1])\n",
        "\n",
        "  if (i[:10] == 'OBJECTIVE\\t'):\n",
        "    dic_to_be_added[\"abstract_number\"] = abstract_number\n",
        "    dic_to_be_added[\"target\"] = 'OBJECTIVE'\n",
        "    dic_to_be_added[\"text\"] = i[10:-1]\n",
        "    list_of_dic.append(dic_to_be_added)\n",
        "    dic_to_be_added = {}\n",
        "    continue\n",
        "\n",
        "  if (i[:8] == 'METHODS\\t'):\n",
        "    dic_to_be_added[\"abstract_number\"] = abstract_number\n",
        "    dic_to_be_added[\"target\"] = 'METHODS'\n",
        "    dic_to_be_added[\"text\"] = i[8:-1]\n",
        "    list_of_dic.append(dic_to_be_added)\n",
        "    dic_to_be_added = {}\n",
        "    continue\n",
        "\n",
        "\n",
        "  if (i[:8] == 'RESULTS\\t'):\n",
        "    dic_to_be_added[\"abstract_number\"] = abstract_number\n",
        "    dic_to_be_added[\"target\"] = 'RESULTS'\n",
        "    dic_to_be_added[\"text\"] = i[8:-1]\n",
        "    list_of_dic.append(dic_to_be_added)\n",
        "    dic_to_be_added = {}\n",
        "    continue\n",
        "\n",
        "  if (i[:12] == 'CONCLUSIONS\\t'):\n",
        "    dic_to_be_added[\"abstract_number\"] = abstract_number\n",
        "    dic_to_be_added[\"target\"] = 'CONCLUSIONS'\n",
        "    dic_to_be_added[\"text\"] = i[12:-1]\n",
        "    list_of_dic.append(dic_to_be_added)\n",
        "    dic_to_be_added = {}\n",
        "    continue\n",
        "\n",
        "\n",
        "print(list_of_dic)"
      ],
      "metadata": {
        "colab": {
          "base_uri": "https://localhost:8080/"
        },
        "id": "l_2qDGacRgdv",
        "outputId": "062f1e55-b01f-410e-e1c3-ad7181c5d14f"
      },
      "execution_count": 13,
      "outputs": [
        {
          "output_type": "stream",
          "name": "stdout",
          "text": [
            "[{'abstract_number': 0, 'target': 'OBJECTIVE', 'text': 'To investigate the efficacy of @ weeks of daily low-dose oral prednisolone in improving pain , mobility , and systemic low-grade inflammation in the short term and whether the effect would be sustained at @ weeks in older adults with moderate to severe knee osteoarthritis ( OA ) .', 'total_lines': 11}, {'abstract_number': 0, 'target': 'METHODS', 'text': 'A total of @ patients with primary knee OA were randomized @:@ ; @ received @ mg/day of prednisolone and @ received placebo for @ weeks .', 'total_lines': 11}, {'abstract_number': 0, 'target': 'METHODS', 'text': 'Outcome measures included pain reduction and improvement in function scores and systemic inflammation markers .', 'total_lines': 11}, {'abstract_number': 0, 'target': 'METHODS', 'text': 'Pain was assessed using the visual analog pain scale ( @-@ mm ) .', 'total_lines': 11}, {'abstract_number': 0, 'target': 'METHODS', 'text': 'Secondary outcome measures included the Western Ontario and McMaster Universities Osteoarthritis Index scores , patient global assessment ( PGA ) of the severity of knee OA , and @-min walk distance ( @MWD ) .', 'total_lines': 11}, {'abstract_number': 0, 'target': 'METHODS', 'text': 'Serum levels of interleukin @ ( IL-@ ) , IL-@ , tumor necrosis factor ( TNF ) - , and high-sensitivity C-reactive protein ( hsCRP ) were measured .', 'total_lines': 11}, {'abstract_number': 0, 'target': 'RESULTS', 'text': 'There was a clinically relevant reduction in the intervention group compared to the placebo group for knee pain , physical function , PGA , and @MWD at @ weeks .', 'total_lines': 11}, {'abstract_number': 0, 'target': 'RESULTS', 'text': 'The mean difference between treatment arms ( @ % CI ) was @ ( @-@ @ ) , p < @ ; @ ( @-@ @ ) , p < @ ; @ ( @-@ @ ) , p < @ ; and @ ( @-@ @ ) , p < @ , respectively .', 'total_lines': 11}, {'abstract_number': 0, 'target': 'RESULTS', 'text': 'Further , there was a clinically relevant reduction in the serum levels of IL-@ , IL-@ , TNF - , and hsCRP at @ weeks in the intervention group when compared to the placebo group .', 'total_lines': 11}, {'abstract_number': 0, 'target': 'RESULTS', 'text': 'These differences remained significant at @ weeks .', 'total_lines': 11}, {'abstract_number': 0, 'target': 'RESULTS', 'text': 'The Outcome Measures in Rheumatology Clinical Trials-Osteoarthritis Research Society International responder rate was @ % in the intervention group and @ % in the placebo group ( p < @ ) .', 'total_lines': 11}, {'abstract_number': 0, 'target': 'CONCLUSIONS', 'text': 'Low-dose oral prednisolone had both a short-term and a longer sustained effect resulting in less knee pain , better physical function , and attenuation of systemic inflammation in older patients with knee OA ( ClinicalTrials.gov identifier NCT@ ) .', 'total_lines': 11}, {'abstract_number': 1, 'target': 'BACKGROUND', 'text': 'Emotional eating is associated with overeating and the development of obesity .', 'total_lines': 10}, {'abstract_number': 1, 'target': 'BACKGROUND', 'text': 'Yet , empirical evidence for individual ( trait ) differences in emotional eating and cognitive mechanisms that contribute to eating during sad mood remain equivocal .', 'total_lines': 10}, {'abstract_number': 1, 'target': 'OBJECTIVE', 'text': 'The aim of this study was to test if attention bias for food moderates the effect of self-reported emotional eating during sad mood ( vs neutral mood ) on actual food intake .', 'total_lines': 10}, {'abstract_number': 1, 'target': 'OBJECTIVE', 'text': 'It was expected that emotional eating is predictive of elevated attention for food and higher food intake after an experimentally induced sad mood and that attentional maintenance on food predicts food intake during a sad versus a neutral mood .', 'total_lines': 10}, {'abstract_number': 1, 'target': 'METHODS', 'text': 'Participants ( N = @ ) were randomly assigned to one of the two experimental mood induction conditions ( sad/neutral ) .', 'total_lines': 10}, {'abstract_number': 1, 'target': 'METHODS', 'text': 'Attentional biases for high caloric foods were measured by eye tracking during a visual probe task with pictorial food and neutral stimuli .', 'total_lines': 10}, {'abstract_number': 1, 'target': 'METHODS', 'text': 'Self-reported emotional eating was assessed with the Dutch Eating Behavior Questionnaire ( DEBQ ) and ad libitum food intake was tested by a disguised food offer .', 'total_lines': 10}, {'abstract_number': 1, 'target': 'RESULTS', 'text': 'Hierarchical multivariate regression modeling showed that self-reported emotional eating did not account for changes in attention allocation for food or food intake in either condition .', 'total_lines': 10}, {'abstract_number': 1, 'target': 'RESULTS', 'text': 'Yet , attention maintenance on food cues was significantly related to increased intake specifically in the neutral condition , but not in the sad mood condition .', 'total_lines': 10}, {'abstract_number': 1, 'target': 'CONCLUSIONS', 'text': 'The current findings show that self-reported emotional eating ( based on the DEBQ ) might not validly predict who overeats when sad , at least not in a laboratory setting with healthy women .', 'total_lines': 10}, {'abstract_number': 1, 'target': 'CONCLUSIONS', 'text': 'Results further suggest that attention maintenance on food relates to eating motivation when in a neutral affective state , and might therefore be a cognitive mechanism contributing to increased food intake in general , but maybe not during sad mood .', 'total_lines': 10}]\n"
          ]
        }
      ]
    },
    {
      "cell_type": "code",
      "source": [
        "len(list_of_dic)"
      ],
      "metadata": {
        "colab": {
          "base_uri": "https://localhost:8080/"
        },
        "id": "WEEUA_2I0kiA",
        "outputId": "b3f2f142-e86c-46ac-f45a-a3b79c1f1dc1"
      },
      "execution_count": 14,
      "outputs": [
        {
          "output_type": "execute_result",
          "data": {
            "text/plain": [
              "23"
            ]
          },
          "metadata": {},
          "execution_count": 14
        }
      ]
    },
    {
      "cell_type": "code",
      "source": [
        "import pandas as pd\n",
        "list_of_dic_df = pd.DataFrame(list_of_dic)\n",
        "list_of_dic_df"
      ],
      "metadata": {
        "colab": {
          "base_uri": "https://localhost:8080/",
          "height": 770
        },
        "id": "2dkABM1W3YOu",
        "outputId": "ff500806-de58-401a-82ab-7cea4b533b5b"
      },
      "execution_count": 15,
      "outputs": [
        {
          "output_type": "execute_result",
          "data": {
            "text/plain": [
              "    abstract_number       target  \\\n",
              "0                 0    OBJECTIVE   \n",
              "1                 0      METHODS   \n",
              "2                 0      METHODS   \n",
              "3                 0      METHODS   \n",
              "4                 0      METHODS   \n",
              "5                 0      METHODS   \n",
              "6                 0      RESULTS   \n",
              "7                 0      RESULTS   \n",
              "8                 0      RESULTS   \n",
              "9                 0      RESULTS   \n",
              "10                0      RESULTS   \n",
              "11                0  CONCLUSIONS   \n",
              "12                1   BACKGROUND   \n",
              "13                1   BACKGROUND   \n",
              "14                1    OBJECTIVE   \n",
              "15                1    OBJECTIVE   \n",
              "16                1      METHODS   \n",
              "17                1      METHODS   \n",
              "18                1      METHODS   \n",
              "19                1      RESULTS   \n",
              "20                1      RESULTS   \n",
              "21                1  CONCLUSIONS   \n",
              "22                1  CONCLUSIONS   \n",
              "\n",
              "                                                 text  total_lines  \n",
              "0   To investigate the efficacy of @ weeks of dail...           11  \n",
              "1   A total of @ patients with primary knee OA wer...           11  \n",
              "2   Outcome measures included pain reduction and i...           11  \n",
              "3   Pain was assessed using the visual analog pain...           11  \n",
              "4   Secondary outcome measures included the Wester...           11  \n",
              "5   Serum levels of interleukin @ ( IL-@ ) , IL-@ ...           11  \n",
              "6   There was a clinically relevant reduction in t...           11  \n",
              "7   The mean difference between treatment arms ( @...           11  \n",
              "8   Further , there was a clinically relevant redu...           11  \n",
              "9   These differences remained significant at @ we...           11  \n",
              "10  The Outcome Measures in Rheumatology Clinical ...           11  \n",
              "11  Low-dose oral prednisolone had both a short-te...           11  \n",
              "12  Emotional eating is associated with overeating...           10  \n",
              "13  Yet , empirical evidence for individual ( trai...           10  \n",
              "14  The aim of this study was to test if attention...           10  \n",
              "15  It was expected that emotional eating is predi...           10  \n",
              "16  Participants ( N = @ ) were randomly assigned ...           10  \n",
              "17  Attentional biases for high caloric foods were...           10  \n",
              "18  Self-reported emotional eating was assessed wi...           10  \n",
              "19  Hierarchical multivariate regression modeling ...           10  \n",
              "20  Yet , attention maintenance on food cues was s...           10  \n",
              "21  The current findings show that self-reported e...           10  \n",
              "22  Results further suggest that attention mainten...           10  "
            ],
            "text/html": [
              "\n",
              "  <div id=\"df-1ac74635-4cda-48ba-9d6c-2e1c4ae72100\" class=\"colab-df-container\">\n",
              "    <div>\n",
              "<style scoped>\n",
              "    .dataframe tbody tr th:only-of-type {\n",
              "        vertical-align: middle;\n",
              "    }\n",
              "\n",
              "    .dataframe tbody tr th {\n",
              "        vertical-align: top;\n",
              "    }\n",
              "\n",
              "    .dataframe thead th {\n",
              "        text-align: right;\n",
              "    }\n",
              "</style>\n",
              "<table border=\"1\" class=\"dataframe\">\n",
              "  <thead>\n",
              "    <tr style=\"text-align: right;\">\n",
              "      <th></th>\n",
              "      <th>abstract_number</th>\n",
              "      <th>target</th>\n",
              "      <th>text</th>\n",
              "      <th>total_lines</th>\n",
              "    </tr>\n",
              "  </thead>\n",
              "  <tbody>\n",
              "    <tr>\n",
              "      <th>0</th>\n",
              "      <td>0</td>\n",
              "      <td>OBJECTIVE</td>\n",
              "      <td>To investigate the efficacy of @ weeks of dail...</td>\n",
              "      <td>11</td>\n",
              "    </tr>\n",
              "    <tr>\n",
              "      <th>1</th>\n",
              "      <td>0</td>\n",
              "      <td>METHODS</td>\n",
              "      <td>A total of @ patients with primary knee OA wer...</td>\n",
              "      <td>11</td>\n",
              "    </tr>\n",
              "    <tr>\n",
              "      <th>2</th>\n",
              "      <td>0</td>\n",
              "      <td>METHODS</td>\n",
              "      <td>Outcome measures included pain reduction and i...</td>\n",
              "      <td>11</td>\n",
              "    </tr>\n",
              "    <tr>\n",
              "      <th>3</th>\n",
              "      <td>0</td>\n",
              "      <td>METHODS</td>\n",
              "      <td>Pain was assessed using the visual analog pain...</td>\n",
              "      <td>11</td>\n",
              "    </tr>\n",
              "    <tr>\n",
              "      <th>4</th>\n",
              "      <td>0</td>\n",
              "      <td>METHODS</td>\n",
              "      <td>Secondary outcome measures included the Wester...</td>\n",
              "      <td>11</td>\n",
              "    </tr>\n",
              "    <tr>\n",
              "      <th>5</th>\n",
              "      <td>0</td>\n",
              "      <td>METHODS</td>\n",
              "      <td>Serum levels of interleukin @ ( IL-@ ) , IL-@ ...</td>\n",
              "      <td>11</td>\n",
              "    </tr>\n",
              "    <tr>\n",
              "      <th>6</th>\n",
              "      <td>0</td>\n",
              "      <td>RESULTS</td>\n",
              "      <td>There was a clinically relevant reduction in t...</td>\n",
              "      <td>11</td>\n",
              "    </tr>\n",
              "    <tr>\n",
              "      <th>7</th>\n",
              "      <td>0</td>\n",
              "      <td>RESULTS</td>\n",
              "      <td>The mean difference between treatment arms ( @...</td>\n",
              "      <td>11</td>\n",
              "    </tr>\n",
              "    <tr>\n",
              "      <th>8</th>\n",
              "      <td>0</td>\n",
              "      <td>RESULTS</td>\n",
              "      <td>Further , there was a clinically relevant redu...</td>\n",
              "      <td>11</td>\n",
              "    </tr>\n",
              "    <tr>\n",
              "      <th>9</th>\n",
              "      <td>0</td>\n",
              "      <td>RESULTS</td>\n",
              "      <td>These differences remained significant at @ we...</td>\n",
              "      <td>11</td>\n",
              "    </tr>\n",
              "    <tr>\n",
              "      <th>10</th>\n",
              "      <td>0</td>\n",
              "      <td>RESULTS</td>\n",
              "      <td>The Outcome Measures in Rheumatology Clinical ...</td>\n",
              "      <td>11</td>\n",
              "    </tr>\n",
              "    <tr>\n",
              "      <th>11</th>\n",
              "      <td>0</td>\n",
              "      <td>CONCLUSIONS</td>\n",
              "      <td>Low-dose oral prednisolone had both a short-te...</td>\n",
              "      <td>11</td>\n",
              "    </tr>\n",
              "    <tr>\n",
              "      <th>12</th>\n",
              "      <td>1</td>\n",
              "      <td>BACKGROUND</td>\n",
              "      <td>Emotional eating is associated with overeating...</td>\n",
              "      <td>10</td>\n",
              "    </tr>\n",
              "    <tr>\n",
              "      <th>13</th>\n",
              "      <td>1</td>\n",
              "      <td>BACKGROUND</td>\n",
              "      <td>Yet , empirical evidence for individual ( trai...</td>\n",
              "      <td>10</td>\n",
              "    </tr>\n",
              "    <tr>\n",
              "      <th>14</th>\n",
              "      <td>1</td>\n",
              "      <td>OBJECTIVE</td>\n",
              "      <td>The aim of this study was to test if attention...</td>\n",
              "      <td>10</td>\n",
              "    </tr>\n",
              "    <tr>\n",
              "      <th>15</th>\n",
              "      <td>1</td>\n",
              "      <td>OBJECTIVE</td>\n",
              "      <td>It was expected that emotional eating is predi...</td>\n",
              "      <td>10</td>\n",
              "    </tr>\n",
              "    <tr>\n",
              "      <th>16</th>\n",
              "      <td>1</td>\n",
              "      <td>METHODS</td>\n",
              "      <td>Participants ( N = @ ) were randomly assigned ...</td>\n",
              "      <td>10</td>\n",
              "    </tr>\n",
              "    <tr>\n",
              "      <th>17</th>\n",
              "      <td>1</td>\n",
              "      <td>METHODS</td>\n",
              "      <td>Attentional biases for high caloric foods were...</td>\n",
              "      <td>10</td>\n",
              "    </tr>\n",
              "    <tr>\n",
              "      <th>18</th>\n",
              "      <td>1</td>\n",
              "      <td>METHODS</td>\n",
              "      <td>Self-reported emotional eating was assessed wi...</td>\n",
              "      <td>10</td>\n",
              "    </tr>\n",
              "    <tr>\n",
              "      <th>19</th>\n",
              "      <td>1</td>\n",
              "      <td>RESULTS</td>\n",
              "      <td>Hierarchical multivariate regression modeling ...</td>\n",
              "      <td>10</td>\n",
              "    </tr>\n",
              "    <tr>\n",
              "      <th>20</th>\n",
              "      <td>1</td>\n",
              "      <td>RESULTS</td>\n",
              "      <td>Yet , attention maintenance on food cues was s...</td>\n",
              "      <td>10</td>\n",
              "    </tr>\n",
              "    <tr>\n",
              "      <th>21</th>\n",
              "      <td>1</td>\n",
              "      <td>CONCLUSIONS</td>\n",
              "      <td>The current findings show that self-reported e...</td>\n",
              "      <td>10</td>\n",
              "    </tr>\n",
              "    <tr>\n",
              "      <th>22</th>\n",
              "      <td>1</td>\n",
              "      <td>CONCLUSIONS</td>\n",
              "      <td>Results further suggest that attention mainten...</td>\n",
              "      <td>10</td>\n",
              "    </tr>\n",
              "  </tbody>\n",
              "</table>\n",
              "</div>\n",
              "    <div class=\"colab-df-buttons\">\n",
              "\n",
              "  <div class=\"colab-df-container\">\n",
              "    <button class=\"colab-df-convert\" onclick=\"convertToInteractive('df-1ac74635-4cda-48ba-9d6c-2e1c4ae72100')\"\n",
              "            title=\"Convert this dataframe to an interactive table.\"\n",
              "            style=\"display:none;\">\n",
              "\n",
              "  <svg xmlns=\"http://www.w3.org/2000/svg\" height=\"24px\" viewBox=\"0 -960 960 960\">\n",
              "    <path d=\"M120-120v-720h720v720H120Zm60-500h600v-160H180v160Zm220 220h160v-160H400v160Zm0 220h160v-160H400v160ZM180-400h160v-160H180v160Zm440 0h160v-160H620v160ZM180-180h160v-160H180v160Zm440 0h160v-160H620v160Z\"/>\n",
              "  </svg>\n",
              "    </button>\n",
              "\n",
              "  <style>\n",
              "    .colab-df-container {\n",
              "      display:flex;\n",
              "      gap: 12px;\n",
              "    }\n",
              "\n",
              "    .colab-df-convert {\n",
              "      background-color: #E8F0FE;\n",
              "      border: none;\n",
              "      border-radius: 50%;\n",
              "      cursor: pointer;\n",
              "      display: none;\n",
              "      fill: #1967D2;\n",
              "      height: 32px;\n",
              "      padding: 0 0 0 0;\n",
              "      width: 32px;\n",
              "    }\n",
              "\n",
              "    .colab-df-convert:hover {\n",
              "      background-color: #E2EBFA;\n",
              "      box-shadow: 0px 1px 2px rgba(60, 64, 67, 0.3), 0px 1px 3px 1px rgba(60, 64, 67, 0.15);\n",
              "      fill: #174EA6;\n",
              "    }\n",
              "\n",
              "    .colab-df-buttons div {\n",
              "      margin-bottom: 4px;\n",
              "    }\n",
              "\n",
              "    [theme=dark] .colab-df-convert {\n",
              "      background-color: #3B4455;\n",
              "      fill: #D2E3FC;\n",
              "    }\n",
              "\n",
              "    [theme=dark] .colab-df-convert:hover {\n",
              "      background-color: #434B5C;\n",
              "      box-shadow: 0px 1px 3px 1px rgba(0, 0, 0, 0.15);\n",
              "      filter: drop-shadow(0px 1px 2px rgba(0, 0, 0, 0.3));\n",
              "      fill: #FFFFFF;\n",
              "    }\n",
              "  </style>\n",
              "\n",
              "    <script>\n",
              "      const buttonEl =\n",
              "        document.querySelector('#df-1ac74635-4cda-48ba-9d6c-2e1c4ae72100 button.colab-df-convert');\n",
              "      buttonEl.style.display =\n",
              "        google.colab.kernel.accessAllowed ? 'block' : 'none';\n",
              "\n",
              "      async function convertToInteractive(key) {\n",
              "        const element = document.querySelector('#df-1ac74635-4cda-48ba-9d6c-2e1c4ae72100');\n",
              "        const dataTable =\n",
              "          await google.colab.kernel.invokeFunction('convertToInteractive',\n",
              "                                                    [key], {});\n",
              "        if (!dataTable) return;\n",
              "\n",
              "        const docLinkHtml = 'Like what you see? Visit the ' +\n",
              "          '<a target=\"_blank\" href=https://colab.research.google.com/notebooks/data_table.ipynb>data table notebook</a>'\n",
              "          + ' to learn more about interactive tables.';\n",
              "        element.innerHTML = '';\n",
              "        dataTable['output_type'] = 'display_data';\n",
              "        await google.colab.output.renderOutput(dataTable, element);\n",
              "        const docLink = document.createElement('div');\n",
              "        docLink.innerHTML = docLinkHtml;\n",
              "        element.appendChild(docLink);\n",
              "      }\n",
              "    </script>\n",
              "  </div>\n",
              "\n",
              "\n",
              "<div id=\"df-1f8f7e5c-7e27-4ae1-b666-a3add8dee7c0\">\n",
              "  <button class=\"colab-df-quickchart\" onclick=\"quickchart('df-1f8f7e5c-7e27-4ae1-b666-a3add8dee7c0')\"\n",
              "            title=\"Suggest charts\"\n",
              "            style=\"display:none;\">\n",
              "\n",
              "<svg xmlns=\"http://www.w3.org/2000/svg\" height=\"24px\"viewBox=\"0 0 24 24\"\n",
              "     width=\"24px\">\n",
              "    <g>\n",
              "        <path d=\"M19 3H5c-1.1 0-2 .9-2 2v14c0 1.1.9 2 2 2h14c1.1 0 2-.9 2-2V5c0-1.1-.9-2-2-2zM9 17H7v-7h2v7zm4 0h-2V7h2v10zm4 0h-2v-4h2v4z\"/>\n",
              "    </g>\n",
              "</svg>\n",
              "  </button>\n",
              "\n",
              "<style>\n",
              "  .colab-df-quickchart {\n",
              "      --bg-color: #E8F0FE;\n",
              "      --fill-color: #1967D2;\n",
              "      --hover-bg-color: #E2EBFA;\n",
              "      --hover-fill-color: #174EA6;\n",
              "      --disabled-fill-color: #AAA;\n",
              "      --disabled-bg-color: #DDD;\n",
              "  }\n",
              "\n",
              "  [theme=dark] .colab-df-quickchart {\n",
              "      --bg-color: #3B4455;\n",
              "      --fill-color: #D2E3FC;\n",
              "      --hover-bg-color: #434B5C;\n",
              "      --hover-fill-color: #FFFFFF;\n",
              "      --disabled-bg-color: #3B4455;\n",
              "      --disabled-fill-color: #666;\n",
              "  }\n",
              "\n",
              "  .colab-df-quickchart {\n",
              "    background-color: var(--bg-color);\n",
              "    border: none;\n",
              "    border-radius: 50%;\n",
              "    cursor: pointer;\n",
              "    display: none;\n",
              "    fill: var(--fill-color);\n",
              "    height: 32px;\n",
              "    padding: 0;\n",
              "    width: 32px;\n",
              "  }\n",
              "\n",
              "  .colab-df-quickchart:hover {\n",
              "    background-color: var(--hover-bg-color);\n",
              "    box-shadow: 0 1px 2px rgba(60, 64, 67, 0.3), 0 1px 3px 1px rgba(60, 64, 67, 0.15);\n",
              "    fill: var(--button-hover-fill-color);\n",
              "  }\n",
              "\n",
              "  .colab-df-quickchart-complete:disabled,\n",
              "  .colab-df-quickchart-complete:disabled:hover {\n",
              "    background-color: var(--disabled-bg-color);\n",
              "    fill: var(--disabled-fill-color);\n",
              "    box-shadow: none;\n",
              "  }\n",
              "\n",
              "  .colab-df-spinner {\n",
              "    border: 2px solid var(--fill-color);\n",
              "    border-color: transparent;\n",
              "    border-bottom-color: var(--fill-color);\n",
              "    animation:\n",
              "      spin 1s steps(1) infinite;\n",
              "  }\n",
              "\n",
              "  @keyframes spin {\n",
              "    0% {\n",
              "      border-color: transparent;\n",
              "      border-bottom-color: var(--fill-color);\n",
              "      border-left-color: var(--fill-color);\n",
              "    }\n",
              "    20% {\n",
              "      border-color: transparent;\n",
              "      border-left-color: var(--fill-color);\n",
              "      border-top-color: var(--fill-color);\n",
              "    }\n",
              "    30% {\n",
              "      border-color: transparent;\n",
              "      border-left-color: var(--fill-color);\n",
              "      border-top-color: var(--fill-color);\n",
              "      border-right-color: var(--fill-color);\n",
              "    }\n",
              "    40% {\n",
              "      border-color: transparent;\n",
              "      border-right-color: var(--fill-color);\n",
              "      border-top-color: var(--fill-color);\n",
              "    }\n",
              "    60% {\n",
              "      border-color: transparent;\n",
              "      border-right-color: var(--fill-color);\n",
              "    }\n",
              "    80% {\n",
              "      border-color: transparent;\n",
              "      border-right-color: var(--fill-color);\n",
              "      border-bottom-color: var(--fill-color);\n",
              "    }\n",
              "    90% {\n",
              "      border-color: transparent;\n",
              "      border-bottom-color: var(--fill-color);\n",
              "    }\n",
              "  }\n",
              "</style>\n",
              "\n",
              "  <script>\n",
              "    async function quickchart(key) {\n",
              "      const quickchartButtonEl =\n",
              "        document.querySelector('#' + key + ' button');\n",
              "      quickchartButtonEl.disabled = true;  // To prevent multiple clicks.\n",
              "      quickchartButtonEl.classList.add('colab-df-spinner');\n",
              "      try {\n",
              "        const charts = await google.colab.kernel.invokeFunction(\n",
              "            'suggestCharts', [key], {});\n",
              "      } catch (error) {\n",
              "        console.error('Error during call to suggestCharts:', error);\n",
              "      }\n",
              "      quickchartButtonEl.classList.remove('colab-df-spinner');\n",
              "      quickchartButtonEl.classList.add('colab-df-quickchart-complete');\n",
              "    }\n",
              "    (() => {\n",
              "      let quickchartButtonEl =\n",
              "        document.querySelector('#df-1f8f7e5c-7e27-4ae1-b666-a3add8dee7c0 button');\n",
              "      quickchartButtonEl.style.display =\n",
              "        google.colab.kernel.accessAllowed ? 'block' : 'none';\n",
              "    })();\n",
              "  </script>\n",
              "</div>\n",
              "\n",
              "  <div id=\"id_e1422e55-ded1-403e-8e13-2971489036b1\">\n",
              "    <style>\n",
              "      .colab-df-generate {\n",
              "        background-color: #E8F0FE;\n",
              "        border: none;\n",
              "        border-radius: 50%;\n",
              "        cursor: pointer;\n",
              "        display: none;\n",
              "        fill: #1967D2;\n",
              "        height: 32px;\n",
              "        padding: 0 0 0 0;\n",
              "        width: 32px;\n",
              "      }\n",
              "\n",
              "      .colab-df-generate:hover {\n",
              "        background-color: #E2EBFA;\n",
              "        box-shadow: 0px 1px 2px rgba(60, 64, 67, 0.3), 0px 1px 3px 1px rgba(60, 64, 67, 0.15);\n",
              "        fill: #174EA6;\n",
              "      }\n",
              "\n",
              "      [theme=dark] .colab-df-generate {\n",
              "        background-color: #3B4455;\n",
              "        fill: #D2E3FC;\n",
              "      }\n",
              "\n",
              "      [theme=dark] .colab-df-generate:hover {\n",
              "        background-color: #434B5C;\n",
              "        box-shadow: 0px 1px 3px 1px rgba(0, 0, 0, 0.15);\n",
              "        filter: drop-shadow(0px 1px 2px rgba(0, 0, 0, 0.3));\n",
              "        fill: #FFFFFF;\n",
              "      }\n",
              "    </style>\n",
              "    <button class=\"colab-df-generate\" onclick=\"generateWithVariable('list_of_dic_df')\"\n",
              "            title=\"Generate code using this dataframe.\"\n",
              "            style=\"display:none;\">\n",
              "\n",
              "  <svg xmlns=\"http://www.w3.org/2000/svg\" height=\"24px\"viewBox=\"0 0 24 24\"\n",
              "       width=\"24px\">\n",
              "    <path d=\"M7,19H8.4L18.45,9,17,7.55,7,17.6ZM5,21V16.75L18.45,3.32a2,2,0,0,1,2.83,0l1.4,1.43a1.91,1.91,0,0,1,.58,1.4,1.91,1.91,0,0,1-.58,1.4L9.25,21ZM18.45,9,17,7.55Zm-12,3A5.31,5.31,0,0,0,4.9,8.1,5.31,5.31,0,0,0,1,6.5,5.31,5.31,0,0,0,4.9,4.9,5.31,5.31,0,0,0,6.5,1,5.31,5.31,0,0,0,8.1,4.9,5.31,5.31,0,0,0,12,6.5,5.46,5.46,0,0,0,6.5,12Z\"/>\n",
              "  </svg>\n",
              "    </button>\n",
              "    <script>\n",
              "      (() => {\n",
              "      const buttonEl =\n",
              "        document.querySelector('#id_e1422e55-ded1-403e-8e13-2971489036b1 button.colab-df-generate');\n",
              "      buttonEl.style.display =\n",
              "        google.colab.kernel.accessAllowed ? 'block' : 'none';\n",
              "\n",
              "      buttonEl.onclick = () => {\n",
              "        google.colab.notebook.generateWithVariable('list_of_dic_df');\n",
              "      }\n",
              "      })();\n",
              "    </script>\n",
              "  </div>\n",
              "\n",
              "    </div>\n",
              "  </div>\n"
            ],
            "application/vnd.google.colaboratory.intrinsic+json": {
              "type": "dataframe",
              "variable_name": "list_of_dic_df",
              "summary": "{\n  \"name\": \"list_of_dic_df\",\n  \"rows\": 23,\n  \"fields\": [\n    {\n      \"column\": \"abstract_number\",\n      \"properties\": {\n        \"dtype\": \"number\",\n        \"std\": 0,\n        \"min\": 0,\n        \"max\": 1,\n        \"num_unique_values\": 2,\n        \"samples\": [\n          1,\n          0\n        ],\n        \"semantic_type\": \"\",\n        \"description\": \"\"\n      }\n    },\n    {\n      \"column\": \"target\",\n      \"properties\": {\n        \"dtype\": \"category\",\n        \"num_unique_values\": 5,\n        \"samples\": [\n          \"METHODS\",\n          \"BACKGROUND\"\n        ],\n        \"semantic_type\": \"\",\n        \"description\": \"\"\n      }\n    },\n    {\n      \"column\": \"text\",\n      \"properties\": {\n        \"dtype\": \"string\",\n        \"num_unique_values\": 23,\n        \"samples\": [\n          \"It was expected that emotional eating is predictive of elevated attention for food and higher food intake after an experimentally induced sad mood and that attentional maintenance on food predicts food intake during a sad versus a neutral mood .\",\n          \"These differences remained significant at @ weeks .\"\n        ],\n        \"semantic_type\": \"\",\n        \"description\": \"\"\n      }\n    },\n    {\n      \"column\": \"total_lines\",\n      \"properties\": {\n        \"dtype\": \"number\",\n        \"std\": 0,\n        \"min\": 10,\n        \"max\": 11,\n        \"num_unique_values\": 2,\n        \"samples\": [\n          10,\n          11\n        ],\n        \"semantic_type\": \"\",\n        \"description\": \"\"\n      }\n    }\n  ]\n}"
            }
          },
          "metadata": {},
          "execution_count": 15
        }
      ]
    },
    {
      "cell_type": "code",
      "source": [
        "a='aa\\n'\n",
        "a.isspace()"
      ],
      "metadata": {
        "colab": {
          "base_uri": "https://localhost:8080/"
        },
        "id": "zxIV5fupixOJ",
        "outputId": "1486e6c2-2e91-4a07-ad6c-d5d4a11314e7"
      },
      "execution_count": 16,
      "outputs": [
        {
          "output_type": "execute_result",
          "data": {
            "text/plain": [
              "False"
            ]
          },
          "metadata": {},
          "execution_count": 16
        }
      ]
    },
    {
      "cell_type": "code",
      "source": [
        "a='\\n'\n",
        "a.isspace()"
      ],
      "metadata": {
        "colab": {
          "base_uri": "https://localhost:8080/"
        },
        "id": "Pi1sEB6LjDFq",
        "outputId": "36d0473c-1c4a-4e10-b469-ad08e92c7aa5"
      },
      "execution_count": 17,
      "outputs": [
        {
          "output_type": "execute_result",
          "data": {
            "text/plain": [
              "True"
            ]
          },
          "metadata": {},
          "execution_count": 17
        }
      ]
    },
    {
      "cell_type": "code",
      "source": [
        "# Dbruke logic\n",
        "\n",
        "# very important to look at the train_lines in above to visualize the data and how it is formatted\n",
        "def preprocess_text_with_line_numbers(filename):\n",
        "  \"\"\"\n",
        "  Return a list of dictionaries of abstract line data.\n",
        "\n",
        "  Takes in filename, reads it contents and sort through each line,\n",
        "  extracting things like the target label, the text of sentence,\n",
        "  how many sentences are in the current abstract and what sentence number the target line is.\n",
        "  \"\"\"\n",
        "\n",
        "  input_lines = get_lines(filename) # get all lines from filename\n",
        "\n",
        "  # abstract are separated by '/n' and '###24293578\\n'\n",
        "  abstract_lines = \"\" # create an empty abstract\n",
        "  abstract_samples = [] # create and empty list of abstracts\n",
        "\n",
        "  # Loop through each line in the target file\n",
        "  for line in input_lines:\n",
        "\n",
        "    # at the start of each abstract\n",
        "    if line.startswith(\"###\"): # check to see if the line is an ID line\n",
        "      abstract_id = line\n",
        "      abstract_lines = \"\" # reset the abstract string if the line is an ID line\n",
        "\n",
        "\n",
        "    # the end of each abstract: we know we have '\\n' at the end of each abstract (1 abstract: whole collection of background, methond, objective...)\n",
        "    # elif line == '\\n'\n",
        "    elif line.isspace(): # means is it '\\n' # check if the line is new line. if we reach end of the each line_number\n",
        "      # now we again split line for each background, objective...\n",
        "      # return list of each list\n",
        "      abstract_line_split = abstract_lines.splitlines() # split abstract into separate lines or it won string like ['hello i am Rajeeb', \"todayis good day']\"\n",
        "\n",
        "      # Iterate thorugh each line in a single abstract and count them at the same time.\n",
        "      for abstract_line_number, abstract_line in enumerate(abstract_line_split):\n",
        "        line_data = {} # create an empty dictionary for each line\n",
        "        target_text_split = abstract_line.split(\"\\t\") # split target label from text eg: [objective\\tHello] ---> [objective, Hello]\n",
        "        line_data[\"target\"] = target_text_split[0] # get target label\n",
        "        line_data[\"text\"] = target_text_split[1].lower() # get target text and lower it # probably no need for lower for do it anyway.\n",
        "        line_data[\"line_number\"] = abstract_line_number # what number line does the line appear in the abstract\n",
        "        line_data[\"total_lines\"]  = len(abstract_line_split)-1 # how many total lines are there in target abstract (start from 0 i.e - 1)\n",
        "        abstract_samples.append(line_data) # add line data to abstract sample list\n",
        "\n",
        "    # if we are in BACKGROUND, or OBJECTIVE, OR REUSLTS .... (not at the start of abstract (###) or end ('\\n') )\n",
        "    else: # if the above condition aren't fulfilled the line contains a labelled sentence\n",
        "      abstract_lines += line # adding whole element to abstract_lines so it can be formatted later in above elif condition when we reach the end of abstrac\n",
        "\n",
        "  return abstract_samples\n"
      ],
      "metadata": {
        "id": "Kzu4adRkfH9J"
      },
      "execution_count": 18,
      "outputs": []
    },
    {
      "cell_type": "code",
      "source": [
        "# Get data from file and preprocess it\n",
        "%%time\n",
        "train_samples = preprocess_text_with_line_numbers(data_dir + \"train.txt\")\n",
        "val_samples = preprocess_text_with_line_numbers(data_dir + \"dev.txt\") # another txt file\n",
        "test_samples = preprocess_text_with_line_numbers(data_dir + \"test.txt\")\n",
        "\n",
        "len(train_samples), len(val_samples), len(test_samples)"
      ],
      "metadata": {
        "colab": {
          "base_uri": "https://localhost:8080/"
        },
        "id": "n-vmFqSEVfGM",
        "outputId": "e3959da9-67f6-4da9-86cc-3dc5c9521d27"
      },
      "execution_count": 19,
      "outputs": [
        {
          "output_type": "stream",
          "name": "stdout",
          "text": [
            "CPU times: user 715 ms, sys: 155 ms, total: 869 ms\n",
            "Wall time: 1.38 s\n"
          ]
        },
        {
          "output_type": "execute_result",
          "data": {
            "text/plain": [
              "(180040, 30212, 30135)"
            ]
          },
          "metadata": {},
          "execution_count": 19
        }
      ]
    },
    {
      "cell_type": "code",
      "source": [
        "# Check the first abstract of our training data\n",
        "train_samples[:14]"
      ],
      "metadata": {
        "colab": {
          "base_uri": "https://localhost:8080/"
        },
        "id": "Xd7IYYI9zZhr",
        "outputId": "9b3d1e6b-6ebb-4acc-d90f-81e2fd28eff7"
      },
      "execution_count": 20,
      "outputs": [
        {
          "output_type": "execute_result",
          "data": {
            "text/plain": [
              "[{'target': 'OBJECTIVE',\n",
              "  'text': 'to investigate the efficacy of @ weeks of daily low-dose oral prednisolone in improving pain , mobility , and systemic low-grade inflammation in the short term and whether the effect would be sustained at @ weeks in older adults with moderate to severe knee osteoarthritis ( oa ) .',\n",
              "  'line_number': 0,\n",
              "  'total_lines': 11},\n",
              " {'target': 'METHODS',\n",
              "  'text': 'a total of @ patients with primary knee oa were randomized @:@ ; @ received @ mg/day of prednisolone and @ received placebo for @ weeks .',\n",
              "  'line_number': 1,\n",
              "  'total_lines': 11},\n",
              " {'target': 'METHODS',\n",
              "  'text': 'outcome measures included pain reduction and improvement in function scores and systemic inflammation markers .',\n",
              "  'line_number': 2,\n",
              "  'total_lines': 11},\n",
              " {'target': 'METHODS',\n",
              "  'text': 'pain was assessed using the visual analog pain scale ( @-@ mm ) .',\n",
              "  'line_number': 3,\n",
              "  'total_lines': 11},\n",
              " {'target': 'METHODS',\n",
              "  'text': 'secondary outcome measures included the western ontario and mcmaster universities osteoarthritis index scores , patient global assessment ( pga ) of the severity of knee oa , and @-min walk distance ( @mwd ) .',\n",
              "  'line_number': 4,\n",
              "  'total_lines': 11},\n",
              " {'target': 'METHODS',\n",
              "  'text': 'serum levels of interleukin @ ( il-@ ) , il-@ , tumor necrosis factor ( tnf ) - , and high-sensitivity c-reactive protein ( hscrp ) were measured .',\n",
              "  'line_number': 5,\n",
              "  'total_lines': 11},\n",
              " {'target': 'RESULTS',\n",
              "  'text': 'there was a clinically relevant reduction in the intervention group compared to the placebo group for knee pain , physical function , pga , and @mwd at @ weeks .',\n",
              "  'line_number': 6,\n",
              "  'total_lines': 11},\n",
              " {'target': 'RESULTS',\n",
              "  'text': 'the mean difference between treatment arms ( @ % ci ) was @ ( @-@ @ ) , p < @ ; @ ( @-@ @ ) , p < @ ; @ ( @-@ @ ) , p < @ ; and @ ( @-@ @ ) , p < @ , respectively .',\n",
              "  'line_number': 7,\n",
              "  'total_lines': 11},\n",
              " {'target': 'RESULTS',\n",
              "  'text': 'further , there was a clinically relevant reduction in the serum levels of il-@ , il-@ , tnf - , and hscrp at @ weeks in the intervention group when compared to the placebo group .',\n",
              "  'line_number': 8,\n",
              "  'total_lines': 11},\n",
              " {'target': 'RESULTS',\n",
              "  'text': 'these differences remained significant at @ weeks .',\n",
              "  'line_number': 9,\n",
              "  'total_lines': 11},\n",
              " {'target': 'RESULTS',\n",
              "  'text': 'the outcome measures in rheumatology clinical trials-osteoarthritis research society international responder rate was @ % in the intervention group and @ % in the placebo group ( p < @ ) .',\n",
              "  'line_number': 10,\n",
              "  'total_lines': 11},\n",
              " {'target': 'CONCLUSIONS',\n",
              "  'text': 'low-dose oral prednisolone had both a short-term and a longer sustained effect resulting in less knee pain , better physical function , and attenuation of systemic inflammation in older patients with knee oa ( clinicaltrials.gov identifier nct@ ) .',\n",
              "  'line_number': 11,\n",
              "  'total_lines': 11},\n",
              " {'target': 'BACKGROUND',\n",
              "  'text': 'emotional eating is associated with overeating and the development of obesity .',\n",
              "  'line_number': 0,\n",
              "  'total_lines': 10},\n",
              " {'target': 'BACKGROUND',\n",
              "  'text': 'yet , empirical evidence for individual ( trait ) differences in emotional eating and cognitive mechanisms that contribute to eating during sad mood remain equivocal .',\n",
              "  'line_number': 1,\n",
              "  'total_lines': 10}]"
            ]
          },
          "metadata": {},
          "execution_count": 20
        }
      ]
    },
    {
      "cell_type": "markdown",
      "source": [
        "Now that our data is the format of a list of dictionaries, how about we turn it into a DataGram to further visualize it."
      ],
      "metadata": {
        "id": "fb4ZVdVq2xWE"
      }
    },
    {
      "cell_type": "code",
      "source": [
        "import pandas as pd\n",
        "\n",
        "train_df = pd.DataFrame(train_samples)\n",
        "val_df = pd.DataFrame(val_samples)\n",
        "test_df = pd.DataFrame(test_samples)\n",
        "train_df.head(14)\n"
      ],
      "metadata": {
        "colab": {
          "base_uri": "https://localhost:8080/",
          "height": 488
        },
        "id": "o0ePA3IC1xxx",
        "outputId": "be8e41e8-edae-4249-8643-013e1905c9b1"
      },
      "execution_count": 21,
      "outputs": [
        {
          "output_type": "execute_result",
          "data": {
            "text/plain": [
              "         target                                               text  \\\n",
              "0     OBJECTIVE  to investigate the efficacy of @ weeks of dail...   \n",
              "1       METHODS  a total of @ patients with primary knee oa wer...   \n",
              "2       METHODS  outcome measures included pain reduction and i...   \n",
              "3       METHODS  pain was assessed using the visual analog pain...   \n",
              "4       METHODS  secondary outcome measures included the wester...   \n",
              "5       METHODS  serum levels of interleukin @ ( il-@ ) , il-@ ...   \n",
              "6       RESULTS  there was a clinically relevant reduction in t...   \n",
              "7       RESULTS  the mean difference between treatment arms ( @...   \n",
              "8       RESULTS  further , there was a clinically relevant redu...   \n",
              "9       RESULTS  these differences remained significant at @ we...   \n",
              "10      RESULTS  the outcome measures in rheumatology clinical ...   \n",
              "11  CONCLUSIONS  low-dose oral prednisolone had both a short-te...   \n",
              "12   BACKGROUND  emotional eating is associated with overeating...   \n",
              "13   BACKGROUND  yet , empirical evidence for individual ( trai...   \n",
              "\n",
              "    line_number  total_lines  \n",
              "0             0           11  \n",
              "1             1           11  \n",
              "2             2           11  \n",
              "3             3           11  \n",
              "4             4           11  \n",
              "5             5           11  \n",
              "6             6           11  \n",
              "7             7           11  \n",
              "8             8           11  \n",
              "9             9           11  \n",
              "10           10           11  \n",
              "11           11           11  \n",
              "12            0           10  \n",
              "13            1           10  "
            ],
            "text/html": [
              "\n",
              "  <div id=\"df-90bdcc83-7f34-4805-9dd4-8c41e710aec5\" class=\"colab-df-container\">\n",
              "    <div>\n",
              "<style scoped>\n",
              "    .dataframe tbody tr th:only-of-type {\n",
              "        vertical-align: middle;\n",
              "    }\n",
              "\n",
              "    .dataframe tbody tr th {\n",
              "        vertical-align: top;\n",
              "    }\n",
              "\n",
              "    .dataframe thead th {\n",
              "        text-align: right;\n",
              "    }\n",
              "</style>\n",
              "<table border=\"1\" class=\"dataframe\">\n",
              "  <thead>\n",
              "    <tr style=\"text-align: right;\">\n",
              "      <th></th>\n",
              "      <th>target</th>\n",
              "      <th>text</th>\n",
              "      <th>line_number</th>\n",
              "      <th>total_lines</th>\n",
              "    </tr>\n",
              "  </thead>\n",
              "  <tbody>\n",
              "    <tr>\n",
              "      <th>0</th>\n",
              "      <td>OBJECTIVE</td>\n",
              "      <td>to investigate the efficacy of @ weeks of dail...</td>\n",
              "      <td>0</td>\n",
              "      <td>11</td>\n",
              "    </tr>\n",
              "    <tr>\n",
              "      <th>1</th>\n",
              "      <td>METHODS</td>\n",
              "      <td>a total of @ patients with primary knee oa wer...</td>\n",
              "      <td>1</td>\n",
              "      <td>11</td>\n",
              "    </tr>\n",
              "    <tr>\n",
              "      <th>2</th>\n",
              "      <td>METHODS</td>\n",
              "      <td>outcome measures included pain reduction and i...</td>\n",
              "      <td>2</td>\n",
              "      <td>11</td>\n",
              "    </tr>\n",
              "    <tr>\n",
              "      <th>3</th>\n",
              "      <td>METHODS</td>\n",
              "      <td>pain was assessed using the visual analog pain...</td>\n",
              "      <td>3</td>\n",
              "      <td>11</td>\n",
              "    </tr>\n",
              "    <tr>\n",
              "      <th>4</th>\n",
              "      <td>METHODS</td>\n",
              "      <td>secondary outcome measures included the wester...</td>\n",
              "      <td>4</td>\n",
              "      <td>11</td>\n",
              "    </tr>\n",
              "    <tr>\n",
              "      <th>5</th>\n",
              "      <td>METHODS</td>\n",
              "      <td>serum levels of interleukin @ ( il-@ ) , il-@ ...</td>\n",
              "      <td>5</td>\n",
              "      <td>11</td>\n",
              "    </tr>\n",
              "    <tr>\n",
              "      <th>6</th>\n",
              "      <td>RESULTS</td>\n",
              "      <td>there was a clinically relevant reduction in t...</td>\n",
              "      <td>6</td>\n",
              "      <td>11</td>\n",
              "    </tr>\n",
              "    <tr>\n",
              "      <th>7</th>\n",
              "      <td>RESULTS</td>\n",
              "      <td>the mean difference between treatment arms ( @...</td>\n",
              "      <td>7</td>\n",
              "      <td>11</td>\n",
              "    </tr>\n",
              "    <tr>\n",
              "      <th>8</th>\n",
              "      <td>RESULTS</td>\n",
              "      <td>further , there was a clinically relevant redu...</td>\n",
              "      <td>8</td>\n",
              "      <td>11</td>\n",
              "    </tr>\n",
              "    <tr>\n",
              "      <th>9</th>\n",
              "      <td>RESULTS</td>\n",
              "      <td>these differences remained significant at @ we...</td>\n",
              "      <td>9</td>\n",
              "      <td>11</td>\n",
              "    </tr>\n",
              "    <tr>\n",
              "      <th>10</th>\n",
              "      <td>RESULTS</td>\n",
              "      <td>the outcome measures in rheumatology clinical ...</td>\n",
              "      <td>10</td>\n",
              "      <td>11</td>\n",
              "    </tr>\n",
              "    <tr>\n",
              "      <th>11</th>\n",
              "      <td>CONCLUSIONS</td>\n",
              "      <td>low-dose oral prednisolone had both a short-te...</td>\n",
              "      <td>11</td>\n",
              "      <td>11</td>\n",
              "    </tr>\n",
              "    <tr>\n",
              "      <th>12</th>\n",
              "      <td>BACKGROUND</td>\n",
              "      <td>emotional eating is associated with overeating...</td>\n",
              "      <td>0</td>\n",
              "      <td>10</td>\n",
              "    </tr>\n",
              "    <tr>\n",
              "      <th>13</th>\n",
              "      <td>BACKGROUND</td>\n",
              "      <td>yet , empirical evidence for individual ( trai...</td>\n",
              "      <td>1</td>\n",
              "      <td>10</td>\n",
              "    </tr>\n",
              "  </tbody>\n",
              "</table>\n",
              "</div>\n",
              "    <div class=\"colab-df-buttons\">\n",
              "\n",
              "  <div class=\"colab-df-container\">\n",
              "    <button class=\"colab-df-convert\" onclick=\"convertToInteractive('df-90bdcc83-7f34-4805-9dd4-8c41e710aec5')\"\n",
              "            title=\"Convert this dataframe to an interactive table.\"\n",
              "            style=\"display:none;\">\n",
              "\n",
              "  <svg xmlns=\"http://www.w3.org/2000/svg\" height=\"24px\" viewBox=\"0 -960 960 960\">\n",
              "    <path d=\"M120-120v-720h720v720H120Zm60-500h600v-160H180v160Zm220 220h160v-160H400v160Zm0 220h160v-160H400v160ZM180-400h160v-160H180v160Zm440 0h160v-160H620v160ZM180-180h160v-160H180v160Zm440 0h160v-160H620v160Z\"/>\n",
              "  </svg>\n",
              "    </button>\n",
              "\n",
              "  <style>\n",
              "    .colab-df-container {\n",
              "      display:flex;\n",
              "      gap: 12px;\n",
              "    }\n",
              "\n",
              "    .colab-df-convert {\n",
              "      background-color: #E8F0FE;\n",
              "      border: none;\n",
              "      border-radius: 50%;\n",
              "      cursor: pointer;\n",
              "      display: none;\n",
              "      fill: #1967D2;\n",
              "      height: 32px;\n",
              "      padding: 0 0 0 0;\n",
              "      width: 32px;\n",
              "    }\n",
              "\n",
              "    .colab-df-convert:hover {\n",
              "      background-color: #E2EBFA;\n",
              "      box-shadow: 0px 1px 2px rgba(60, 64, 67, 0.3), 0px 1px 3px 1px rgba(60, 64, 67, 0.15);\n",
              "      fill: #174EA6;\n",
              "    }\n",
              "\n",
              "    .colab-df-buttons div {\n",
              "      margin-bottom: 4px;\n",
              "    }\n",
              "\n",
              "    [theme=dark] .colab-df-convert {\n",
              "      background-color: #3B4455;\n",
              "      fill: #D2E3FC;\n",
              "    }\n",
              "\n",
              "    [theme=dark] .colab-df-convert:hover {\n",
              "      background-color: #434B5C;\n",
              "      box-shadow: 0px 1px 3px 1px rgba(0, 0, 0, 0.15);\n",
              "      filter: drop-shadow(0px 1px 2px rgba(0, 0, 0, 0.3));\n",
              "      fill: #FFFFFF;\n",
              "    }\n",
              "  </style>\n",
              "\n",
              "    <script>\n",
              "      const buttonEl =\n",
              "        document.querySelector('#df-90bdcc83-7f34-4805-9dd4-8c41e710aec5 button.colab-df-convert');\n",
              "      buttonEl.style.display =\n",
              "        google.colab.kernel.accessAllowed ? 'block' : 'none';\n",
              "\n",
              "      async function convertToInteractive(key) {\n",
              "        const element = document.querySelector('#df-90bdcc83-7f34-4805-9dd4-8c41e710aec5');\n",
              "        const dataTable =\n",
              "          await google.colab.kernel.invokeFunction('convertToInteractive',\n",
              "                                                    [key], {});\n",
              "        if (!dataTable) return;\n",
              "\n",
              "        const docLinkHtml = 'Like what you see? Visit the ' +\n",
              "          '<a target=\"_blank\" href=https://colab.research.google.com/notebooks/data_table.ipynb>data table notebook</a>'\n",
              "          + ' to learn more about interactive tables.';\n",
              "        element.innerHTML = '';\n",
              "        dataTable['output_type'] = 'display_data';\n",
              "        await google.colab.output.renderOutput(dataTable, element);\n",
              "        const docLink = document.createElement('div');\n",
              "        docLink.innerHTML = docLinkHtml;\n",
              "        element.appendChild(docLink);\n",
              "      }\n",
              "    </script>\n",
              "  </div>\n",
              "\n",
              "\n",
              "<div id=\"df-b7031f4a-8bfb-40b3-ab74-1c197c29487b\">\n",
              "  <button class=\"colab-df-quickchart\" onclick=\"quickchart('df-b7031f4a-8bfb-40b3-ab74-1c197c29487b')\"\n",
              "            title=\"Suggest charts\"\n",
              "            style=\"display:none;\">\n",
              "\n",
              "<svg xmlns=\"http://www.w3.org/2000/svg\" height=\"24px\"viewBox=\"0 0 24 24\"\n",
              "     width=\"24px\">\n",
              "    <g>\n",
              "        <path d=\"M19 3H5c-1.1 0-2 .9-2 2v14c0 1.1.9 2 2 2h14c1.1 0 2-.9 2-2V5c0-1.1-.9-2-2-2zM9 17H7v-7h2v7zm4 0h-2V7h2v10zm4 0h-2v-4h2v4z\"/>\n",
              "    </g>\n",
              "</svg>\n",
              "  </button>\n",
              "\n",
              "<style>\n",
              "  .colab-df-quickchart {\n",
              "      --bg-color: #E8F0FE;\n",
              "      --fill-color: #1967D2;\n",
              "      --hover-bg-color: #E2EBFA;\n",
              "      --hover-fill-color: #174EA6;\n",
              "      --disabled-fill-color: #AAA;\n",
              "      --disabled-bg-color: #DDD;\n",
              "  }\n",
              "\n",
              "  [theme=dark] .colab-df-quickchart {\n",
              "      --bg-color: #3B4455;\n",
              "      --fill-color: #D2E3FC;\n",
              "      --hover-bg-color: #434B5C;\n",
              "      --hover-fill-color: #FFFFFF;\n",
              "      --disabled-bg-color: #3B4455;\n",
              "      --disabled-fill-color: #666;\n",
              "  }\n",
              "\n",
              "  .colab-df-quickchart {\n",
              "    background-color: var(--bg-color);\n",
              "    border: none;\n",
              "    border-radius: 50%;\n",
              "    cursor: pointer;\n",
              "    display: none;\n",
              "    fill: var(--fill-color);\n",
              "    height: 32px;\n",
              "    padding: 0;\n",
              "    width: 32px;\n",
              "  }\n",
              "\n",
              "  .colab-df-quickchart:hover {\n",
              "    background-color: var(--hover-bg-color);\n",
              "    box-shadow: 0 1px 2px rgba(60, 64, 67, 0.3), 0 1px 3px 1px rgba(60, 64, 67, 0.15);\n",
              "    fill: var(--button-hover-fill-color);\n",
              "  }\n",
              "\n",
              "  .colab-df-quickchart-complete:disabled,\n",
              "  .colab-df-quickchart-complete:disabled:hover {\n",
              "    background-color: var(--disabled-bg-color);\n",
              "    fill: var(--disabled-fill-color);\n",
              "    box-shadow: none;\n",
              "  }\n",
              "\n",
              "  .colab-df-spinner {\n",
              "    border: 2px solid var(--fill-color);\n",
              "    border-color: transparent;\n",
              "    border-bottom-color: var(--fill-color);\n",
              "    animation:\n",
              "      spin 1s steps(1) infinite;\n",
              "  }\n",
              "\n",
              "  @keyframes spin {\n",
              "    0% {\n",
              "      border-color: transparent;\n",
              "      border-bottom-color: var(--fill-color);\n",
              "      border-left-color: var(--fill-color);\n",
              "    }\n",
              "    20% {\n",
              "      border-color: transparent;\n",
              "      border-left-color: var(--fill-color);\n",
              "      border-top-color: var(--fill-color);\n",
              "    }\n",
              "    30% {\n",
              "      border-color: transparent;\n",
              "      border-left-color: var(--fill-color);\n",
              "      border-top-color: var(--fill-color);\n",
              "      border-right-color: var(--fill-color);\n",
              "    }\n",
              "    40% {\n",
              "      border-color: transparent;\n",
              "      border-right-color: var(--fill-color);\n",
              "      border-top-color: var(--fill-color);\n",
              "    }\n",
              "    60% {\n",
              "      border-color: transparent;\n",
              "      border-right-color: var(--fill-color);\n",
              "    }\n",
              "    80% {\n",
              "      border-color: transparent;\n",
              "      border-right-color: var(--fill-color);\n",
              "      border-bottom-color: var(--fill-color);\n",
              "    }\n",
              "    90% {\n",
              "      border-color: transparent;\n",
              "      border-bottom-color: var(--fill-color);\n",
              "    }\n",
              "  }\n",
              "</style>\n",
              "\n",
              "  <script>\n",
              "    async function quickchart(key) {\n",
              "      const quickchartButtonEl =\n",
              "        document.querySelector('#' + key + ' button');\n",
              "      quickchartButtonEl.disabled = true;  // To prevent multiple clicks.\n",
              "      quickchartButtonEl.classList.add('colab-df-spinner');\n",
              "      try {\n",
              "        const charts = await google.colab.kernel.invokeFunction(\n",
              "            'suggestCharts', [key], {});\n",
              "      } catch (error) {\n",
              "        console.error('Error during call to suggestCharts:', error);\n",
              "      }\n",
              "      quickchartButtonEl.classList.remove('colab-df-spinner');\n",
              "      quickchartButtonEl.classList.add('colab-df-quickchart-complete');\n",
              "    }\n",
              "    (() => {\n",
              "      let quickchartButtonEl =\n",
              "        document.querySelector('#df-b7031f4a-8bfb-40b3-ab74-1c197c29487b button');\n",
              "      quickchartButtonEl.style.display =\n",
              "        google.colab.kernel.accessAllowed ? 'block' : 'none';\n",
              "    })();\n",
              "  </script>\n",
              "</div>\n",
              "\n",
              "    </div>\n",
              "  </div>\n"
            ],
            "application/vnd.google.colaboratory.intrinsic+json": {
              "type": "dataframe",
              "variable_name": "train_df"
            }
          },
          "metadata": {},
          "execution_count": 21
        }
      ]
    },
    {
      "cell_type": "code",
      "source": [
        "# Distribution of labels in training data\n",
        "train_df.target.value_counts()"
      ],
      "metadata": {
        "colab": {
          "base_uri": "https://localhost:8080/"
        },
        "id": "YBAoBy0g3LeM",
        "outputId": "9cfc00d8-0e99-4e19-bc7d-70b44c84e37a"
      },
      "execution_count": 22,
      "outputs": [
        {
          "output_type": "execute_result",
          "data": {
            "text/plain": [
              "target\n",
              "METHODS        59353\n",
              "RESULTS        57953\n",
              "CONCLUSIONS    27168\n",
              "BACKGROUND     21727\n",
              "OBJECTIVE      13839\n",
              "Name: count, dtype: int64"
            ]
          },
          "metadata": {},
          "execution_count": 22
        }
      ]
    },
    {
      "cell_type": "code",
      "source": [
        "# Let's check the length of different lines\n",
        "train_df.total_lines.plot.hist();"
      ],
      "metadata": {
        "colab": {
          "base_uri": "https://localhost:8080/",
          "height": 431
        },
        "id": "Lc86e_3O6l7B",
        "outputId": "1cdd2524-6399-48db-e4dc-6fb4e988cd69"
      },
      "execution_count": 23,
      "outputs": [
        {
          "output_type": "display_data",
          "data": {
            "text/plain": [
              "<Figure size 640x480 with 1 Axes>"
            ],
            "image/png": "[encoded data removed]"
          },
          "metadata": {}
        }
      ]
    },
    {
      "cell_type": "markdown",
      "source": [
        "### Get lists of sentences"
      ],
      "metadata": {
        "id": "Fh5lpr4n7KSw"
      }
    },
    {
      "cell_type": "code",
      "source": [
        "# Convert abstract text lines into lists\n",
        "train_sentences = train_df[\"text\"].tolist()\n",
        "val_sentences = val_df[\"text\"].tolist()\n",
        "test_sentences = test_df[\"text\"].tolist()\n",
        "len(train_sentences), len(val_sentences), len(test_sentences)"
      ],
      "metadata": {
        "colab": {
          "base_uri": "https://localhost:8080/"
        },
        "id": "TqhkiMeG7TlV",
        "outputId": "da0c05b5-6fca-465d-8087-73f44e66f340"
      },
      "execution_count": 24,
      "outputs": [
        {
          "output_type": "execute_result",
          "data": {
            "text/plain": [
              "(180040, 30212, 30135)"
            ]
          },
          "metadata": {},
          "execution_count": 24
        }
      ]
    },
    {
      "cell_type": "code",
      "source": [
        "# View the 10 lines of training sentences\n",
        "train_sentences[:10]"
      ],
      "metadata": {
        "colab": {
          "base_uri": "https://localhost:8080/"
        },
        "id": "dTGwwFWk7q-y",
        "outputId": "e25990ce-2046-463e-fc93-b3a4cf81a778"
      },
      "execution_count": 25,
      "outputs": [
        {
          "output_type": "execute_result",
          "data": {
            "text/plain": [
              "['to investigate the efficacy of @ weeks of daily low-dose oral prednisolone in improving pain , mobility , and systemic low-grade inflammation in the short term and whether the effect would be sustained at @ weeks in older adults with moderate to severe knee osteoarthritis ( oa ) .',\n",
              " 'a total of @ patients with primary knee oa were randomized @:@ ; @ received @ mg/day of prednisolone and @ received placebo for @ weeks .',\n",
              " 'outcome measures included pain reduction and improvement in function scores and systemic inflammation markers .',\n",
              " 'pain was assessed using the visual analog pain scale ( @-@ mm ) .',\n",
              " 'secondary outcome measures included the western ontario and mcmaster universities osteoarthritis index scores , patient global assessment ( pga ) of the severity of knee oa , and @-min walk distance ( @mwd ) .',\n",
              " 'serum levels of interleukin @ ( il-@ ) , il-@ , tumor necrosis factor ( tnf ) - , and high-sensitivity c-reactive protein ( hscrp ) were measured .',\n",
              " 'there was a clinically relevant reduction in the intervention group compared to the placebo group for knee pain , physical function , pga , and @mwd at @ weeks .',\n",
              " 'the mean difference between treatment arms ( @ % ci ) was @ ( @-@ @ ) , p < @ ; @ ( @-@ @ ) , p < @ ; @ ( @-@ @ ) , p < @ ; and @ ( @-@ @ ) , p < @ , respectively .',\n",
              " 'further , there was a clinically relevant reduction in the serum levels of il-@ , il-@ , tnf - , and hscrp at @ weeks in the intervention group when compared to the placebo group .',\n",
              " 'these differences remained significant at @ weeks .']"
            ]
          },
          "metadata": {},
          "execution_count": 25
        }
      ]
    },
    {
      "cell_type": "markdown",
      "source": [
        "## Make numeric labels (ML models require labels)"
      ],
      "metadata": {
        "id": "TbRPX8NK74kt"
      }
    },
    {
      "cell_type": "code",
      "source": [
        "# # One hot encode labels\n",
        "# from sklearn.preprocessing import OneHotEncoder\n",
        "# one_hot_encoder = OneHotEncoder(sparse=False) # we want non-sparse matrix\n",
        "# train_labels_one_hot = one_hot_encoder.fit_transform(train_df[\"target\"].to_numpy()) # sure: shape error got 1D but needed 2D\n",
        "\n",
        "# # Check out our one hot encoded labels\n",
        "# train_labels_one_hot"
      ],
      "metadata": {
        "id": "rRbuqSJC8rsk"
      },
      "execution_count": 26,
      "outputs": []
    },
    {
      "cell_type": "code",
      "source": [
        "# One hot encode labels of train data\n",
        "from sklearn.preprocessing import OneHotEncoder\n",
        "one_hot_encoder = OneHotEncoder(sparse=False) # we want non-sparse matrix as tensorflow is incompatible with sparse matrix\n",
        "train_labels_one_hot = one_hot_encoder.fit_transform(train_df[\"target\"].to_numpy().reshape(-1, 1))\n",
        "val_labels_one_hot = one_hot_encoder.transform(val_df[\"target\"].to_numpy().reshape(-1, 1))\n",
        "test_labels_one_hot = one_hot_encoder.transform(test_df[\"target\"].to_numpy().reshape(-1, 1))\n",
        "\n",
        "# Check out our one hot encoded labels\n",
        "train_labels_one_hot[:10], val_labels_one_hot[:10], test_labels_one_hot[:10]"
      ],
      "metadata": {
        "colab": {
          "base_uri": "https://localhost:8080/"
        },
        "id": "1WD_qKSv_Sg3",
        "outputId": "c094b7ac-66ec-4f4a-bea9-4983d8ac1db3"
      },
      "execution_count": 27,
      "outputs": [
        {
          "output_type": "stream",
          "name": "stderr",
          "text": [
            "/usr/local/lib/python3.10/dist-packages/sklearn/preprocessing/_encoders.py:868: FutureWarning: `sparse` was renamed to `sparse_output` in version 1.2 and will be removed in 1.4. `sparse_output` is ignored unless you leave `sparse` to its default value.\n",
            "  warnings.warn(\n"
          ]
        },
        {
          "output_type": "execute_result",
          "data": {
            "text/plain": [
              "(array([[0., 0., 0., 1., 0.],\n",
              "        [0., 0., 1., 0., 0.],\n",
              "        [0., 0., 1., 0., 0.],\n",
              "        [0., 0., 1., 0., 0.],\n",
              "        [0., 0., 1., 0., 0.],\n",
              "        [0., 0., 1., 0., 0.],\n",
              "        [0., 0., 0., 0., 1.],\n",
              "        [0., 0., 0., 0., 1.],\n",
              "        [0., 0., 0., 0., 1.],\n",
              "        [0., 0., 0., 0., 1.]]),\n",
              " array([[1., 0., 0., 0., 0.],\n",
              "        [1., 0., 0., 0., 0.],\n",
              "        [0., 0., 0., 1., 0.],\n",
              "        [0., 0., 1., 0., 0.],\n",
              "        [0., 0., 1., 0., 0.],\n",
              "        [0., 0., 0., 0., 1.],\n",
              "        [0., 0., 0., 0., 1.],\n",
              "        [0., 0., 0., 0., 1.],\n",
              "        [0., 0., 0., 0., 1.],\n",
              "        [0., 1., 0., 0., 0.]]),\n",
              " array([[1., 0., 0., 0., 0.],\n",
              "        [0., 0., 0., 0., 1.],\n",
              "        [0., 0., 0., 0., 1.],\n",
              "        [0., 0., 0., 0., 1.],\n",
              "        [0., 0., 0., 0., 1.],\n",
              "        [0., 0., 0., 0., 1.],\n",
              "        [0., 0., 0., 0., 1.],\n",
              "        [0., 1., 0., 0., 0.],\n",
              "        [0., 1., 0., 0., 0.],\n",
              "        [1., 0., 0., 0., 0.]]))"
            ]
          },
          "metadata": {},
          "execution_count": 27
        }
      ]
    },
    {
      "cell_type": "code",
      "source": [
        "import tensorflow as tf\n",
        "tf.constant(train_labels_one_hot)"
      ],
      "metadata": {
        "colab": {
          "base_uri": "https://localhost:8080/"
        },
        "id": "gJ9zAffj_pKO",
        "outputId": "33de6ff7-73ec-4904-dacd-09b9847687e9"
      },
      "execution_count": 28,
      "outputs": [
        {
          "output_type": "execute_result",
          "data": {
            "text/plain": [
              "<tf.Tensor: shape=(180040, 5), dtype=float64, numpy=\n",
              "array([[0., 0., 0., 1., 0.],\n",
              "       [0., 0., 1., 0., 0.],\n",
              "       [0., 0., 1., 0., 0.],\n",
              "       ...,\n",
              "       [0., 0., 0., 0., 1.],\n",
              "       [0., 1., 0., 0., 0.],\n",
              "       [0., 1., 0., 0., 0.]])>"
            ]
          },
          "metadata": {},
          "execution_count": 28
        }
      ]
    },
    {
      "cell_type": "markdown",
      "source": [
        "### Labels: encode Labels"
      ],
      "metadata": {
        "id": "aH5OKzisAPMz"
      }
    },
    {
      "cell_type": "code",
      "source": [
        "# Extract label {\"target\" columns} and encode them into integers\n",
        "from sklearn.preprocessing import LabelEncoder\n",
        "label_encoder = LabelEncoder()\n",
        "train_labels_encoded = label_encoder.fit_transform(train_df[\"target\"].to_numpy())\n",
        "val_labels_encoded = label_encoder.transform(val_df[\"target\"].to_numpy())\n",
        "test_label_encoded = label_encoder.transform(test_df[\"target\"].to_numpy())\n",
        "\n",
        "# Check out training labels\n",
        "train_labels_encoded"
      ],
      "metadata": {
        "colab": {
          "base_uri": "https://localhost:8080/"
        },
        "id": "4BCTOTRXD-Vd",
        "outputId": "68907520-e3ab-4dcf-de55-925f02655e73"
      },
      "execution_count": 29,
      "outputs": [
        {
          "output_type": "execute_result",
          "data": {
            "text/plain": [
              "array([3, 2, 2, ..., 4, 1, 1])"
            ]
          },
          "metadata": {},
          "execution_count": 29
        }
      ]
    },
    {
      "cell_type": "code",
      "source": [
        "# Get class names and number of classes from label encoder instances\n",
        "num_classes = len(label_encoder.classes_)\n",
        "class_names = label_encoder.classes_\n",
        "num_classes, class_names\n"
      ],
      "metadata": {
        "colab": {
          "base_uri": "https://localhost:8080/"
        },
        "id": "mJcOpxuKAhNf",
        "outputId": "bfa3ff89-099c-4326-b2b6-aafaa25d76c2"
      },
      "execution_count": 30,
      "outputs": [
        {
          "output_type": "execute_result",
          "data": {
            "text/plain": [
              "(5,\n",
              " array(['BACKGROUND', 'CONCLUSIONS', 'METHODS', 'OBJECTIVE', 'RESULTS'],\n",
              "       dtype=object))"
            ]
          },
          "metadata": {},
          "execution_count": 30
        }
      ]
    },
    {
      "cell_type": "markdown",
      "source": [
        "## Starting a series of modelling experiments...\n",
        "\n",
        "As usual, we're going to be trying our a bunch of different models and seeing which one works bes.\n",
        "\n",
        "And as always, we're going to start with a baseline (TF-IDF multinomial Naive Bayes Classifier).\n",
        "\n",
        "Great resources and teacher: https://chrisalbon.com/Home"
      ],
      "metadata": {
        "id": "H_UIwhy_TeeS"
      }
    },
    {
      "cell_type": "code",
      "source": [
        "from sklearn.feature_extraction.text import TfidfVectorizer #Convert a collection of raw documents to a matrix of TF-IDF features or vectors.\n",
        "from sklearn.naive_bayes import MultinomialNB\n",
        "from sklearn.pipeline import Pipeline\n",
        "\n",
        "# Create tokenization and modelling Pipeline\n",
        "model_0 = Pipeline([\n",
        "    # Tuple\n",
        "    (\"tfidf\", TfidfVectorizer()), # Convert words to number using tfidf\n",
        "    (\"clf\", MultinomialNB()) # model the text\n",
        "])\n",
        "\n",
        "# Fit the pipeline to the training data\n",
        "model_0.fit(X=train_sentences, y=train_labels_encoded) # multinomialNB doesnot support one hot encoded, just label encoder"
      ],
      "metadata": {
        "colab": {
          "base_uri": "https://localhost:8080/",
          "height": 125
        },
        "id": "2xMX6hHMFM_L",
        "outputId": "8e1c6bce-9721-45e4-dc2d-41ad4180eaa7"
      },
      "execution_count": 31,
      "outputs": [
        {
          "output_type": "execute_result",
          "data": {
            "text/plain": [
              "Pipeline(steps=[('tfidf', TfidfVectorizer()), ('clf', MultinomialNB())])"
            ],
            "text/html": [
              "<style>#sk-container-id-1 {color: black;background-color: white;}#sk-container-id-1 pre{padding: 0;}#sk-container-id-1 div.sk-toggleable {background-color: white;}#sk-container-id-1 label.sk-toggleable__label {cursor: pointer;display: block;width: 100%;margin-bottom: 0;padding: 0.3em;box-sizing: border-box;text-align: center;}#sk-container-id-1 label.sk-toggleable__label-arrow:before {content: \"▸\";float: left;margin-right: 0.25em;color: #696969;}#sk-container-id-1 label.sk-toggleable__label-arrow:hover:before {color: black;}#sk-container-id-1 div.sk-estimator:hover label.sk-toggleable__label-arrow:before {color: black;}#sk-container-id-1 div.sk-toggleable__content {max-height: 0;max-width: 0;overflow: hidden;text-align: left;background-color: #f0f8ff;}#sk-container-id-1 div.sk-toggleable__content pre {margin: 0.2em;color: black;border-radius: 0.25em;background-color: #f0f8ff;}#sk-container-id-1 input.sk-toggleable__control:checked~div.sk-toggleable__content {max-height: 200px;max-width: 100%;overflow: auto;}#sk-container-id-1 input.sk-toggleable__control:checked~label.sk-toggleable__label-arrow:before {content: \"▾\";}#sk-container-id-1 div.sk-estimator input.sk-toggleable__control:checked~label.sk-toggleable__label {background-color: #d4ebff;}#sk-container-id-1 div.sk-label input.sk-toggleable__control:checked~label.sk-toggleable__label {background-color: #d4ebff;}#sk-container-id-1 input.sk-hidden--visually {border: 0;clip: rect(1px 1px 1px 1px);clip: rect(1px, 1px, 1px, 1px);height: 1px;margin: -1px;overflow: hidden;padding: 0;position: absolute;width: 1px;}#sk-container-id-1 div.sk-estimator {font-family: monospace;background-color: #f0f8ff;border: 1px dotted black;border-radius: 0.25em;box-sizing: border-box;margin-bottom: 0.5em;}#sk-container-id-1 div.sk-estimator:hover {background-color: #d4ebff;}#sk-container-id-1 div.sk-parallel-item::after {content: \"\";width: 100%;border-bottom: 1px solid gray;flex-grow: 1;}#sk-container-id-1 div.sk-label:hover label.sk-toggleable__label {background-color: #d4ebff;}#sk-container-id-1 div.sk-serial::before {content: \"\";position: absolute;border-left: 1px solid gray;box-sizing: border-box;top: 0;bottom: 0;left: 50%;z-index: 0;}#sk-container-id-1 div.sk-serial {display: flex;flex-direction: column;align-items: center;background-color: white;padding-right: 0.2em;padding-left: 0.2em;position: relative;}#sk-container-id-1 div.sk-item {position: relative;z-index: 1;}#sk-container-id-1 div.sk-parallel {display: flex;align-items: stretch;justify-content: center;background-color: white;position: relative;}#sk-container-id-1 div.sk-item::before, #sk-container-id-1 div.sk-parallel-item::before {content: \"\";position: absolute;border-left: 1px solid gray;box-sizing: border-box;top: 0;bottom: 0;left: 50%;z-index: -1;}#sk-container-id-1 div.sk-parallel-item {display: flex;flex-direction: column;z-index: 1;position: relative;background-color: white;}#sk-container-id-1 div.sk-parallel-item:first-child::after {align-self: flex-end;width: 50%;}#sk-container-id-1 div.sk-parallel-item:last-child::after {align-self: flex-start;width: 50%;}#sk-container-id-1 div.sk-parallel-item:only-child::after {width: 0;}#sk-container-id-1 div.sk-dashed-wrapped {border: 1px dashed gray;margin: 0 0.4em 0.5em 0.4em;box-sizing: border-box;padding-bottom: 0.4em;background-color: white;}#sk-container-id-1 div.sk-label label {font-family: monospace;font-weight: bold;display: inline-block;line-height: 1.2em;}#sk-container-id-1 div.sk-label-container {text-align: center;}#sk-container-id-1 div.sk-container {/* jupyter's `normalize.less` sets `[hidden] { display: none; }` but bootstrap.min.css set `[hidden] { display: none !important; }` so we also need the `!important` here to be able to override the default hidden behavior on the sphinx rendered scikit-learn.org. See: https://github.com/scikit-learn/scikit-learn/issues/21755 */display: inline-block !important;position: relative;}#sk-container-id-1 div.sk-text-repr-fallback {display: none;}</style><div id=\"sk-container-id-1\" class=\"sk-top-container\"><div class=\"sk-text-repr-fallback\"><pre>Pipeline(steps=[(&#x27;tfidf&#x27;, TfidfVectorizer()), (&#x27;clf&#x27;, MultinomialNB())])</pre><b>In a Jupyter environment, please rerun this cell to show the HTML representation or trust the notebook. <br />On GitHub, the HTML representation is unable to render, please try loading this page with nbviewer.org.</b></div><div class=\"sk-container\" hidden><div class=\"sk-item sk-dashed-wrapped\"><div class=\"sk-label-container\"><div class=\"sk-label sk-toggleable\"><input class=\"sk-toggleable__control sk-hidden--visually\" id=\"sk-estimator-id-1\" type=\"checkbox\" ><label for=\"sk-estimator-id-1\" class=\"sk-toggleable__label sk-toggleable__label-arrow\">Pipeline</label><div class=\"sk-toggleable__content\"><pre>Pipeline(steps=[(&#x27;tfidf&#x27;, TfidfVectorizer()), (&#x27;clf&#x27;, MultinomialNB())])</pre></div></div></div><div class=\"sk-serial\"><div class=\"sk-item\"><div class=\"sk-estimator sk-toggleable\"><input class=\"sk-toggleable__control sk-hidden--visually\" id=\"sk-estimator-id-2\" type=\"checkbox\" ><label for=\"sk-estimator-id-2\" class=\"sk-toggleable__label sk-toggleable__label-arrow\">TfidfVectorizer</label><div class=\"sk-toggleable__content\"><pre>TfidfVectorizer()</pre></div></div></div><div class=\"sk-item\"><div class=\"sk-estimator sk-toggleable\"><input class=\"sk-toggleable__control sk-hidden--visually\" id=\"sk-estimator-id-3\" type=\"checkbox\" ><label for=\"sk-estimator-id-3\" class=\"sk-toggleable__label sk-toggleable__label-arrow\">MultinomialNB</label><div class=\"sk-toggleable__content\"><pre>MultinomialNB()</pre></div></div></div></div></div></div></div>"
            ]
          },
          "metadata": {},
          "execution_count": 31
        }
      ]
    },
    {
      "cell_type": "code",
      "source": [
        "baseline_score = model_0.score(val_sentences, val_labels_encoded)\n",
        "print(f\"Our baseline model achieves an accuracy of: {baseline_score*100:.2f}%\")"
      ],
      "metadata": {
        "colab": {
          "base_uri": "https://localhost:8080/"
        },
        "id": "ZMCrhaoTPMoc",
        "outputId": "eb44723d-6c38-46c6-fc3f-e94218fb9432"
      },
      "execution_count": 32,
      "outputs": [
        {
          "output_type": "stream",
          "name": "stdout",
          "text": [
            "Our baseline model achieves an accuracy of: 72.18%\n"
          ]
        }
      ]
    },
    {
      "cell_type": "code",
      "source": [
        "# Make predictions using our baseline model\n",
        "baseline_preds = model_0.predict(val_sentences)\n",
        "baseline_preds"
      ],
      "metadata": {
        "colab": {
          "base_uri": "https://localhost:8080/"
        },
        "id": "DjgzX-LSPeXW",
        "outputId": "00a50a94-b244-4d12-8d82-03f52653939b"
      },
      "execution_count": 33,
      "outputs": [
        {
          "output_type": "execute_result",
          "data": {
            "text/plain": [
              "array([4, 1, 3, ..., 4, 4, 1])"
            ]
          },
          "metadata": {},
          "execution_count": 33
        }
      ]
    },
    {
      "cell_type": "markdown",
      "source": [
        "### Download helper function script\n",
        "\n",
        "In previous module, we wrote a function to compare prediction accross different matrics (accuracy, precision, recall, f1) and rather than rewriting it here, let's download it from helper function:\n",
        "https://raw.githubusercontent.com/mrdbourke/tensorflow-deep-learning/main/extras/helper_functions.py"
      ],
      "metadata": {
        "id": "7D_iZM0-Ut-f"
      }
    },
    {
      "cell_type": "code",
      "source": [
        "!wget https://raw.githubusercontent.com/mrdbourke/tensorflow-deep-learning/main/extras/helper_functions.py"
      ],
      "metadata": {
        "colab": {
          "base_uri": "https://localhost:8080/"
        },
        "id": "ojh4JO12VtY8",
        "outputId": "db414833-7c49-474a-aedc-2b3958fd8fda"
      },
      "execution_count": 34,
      "outputs": [
        {
          "output_type": "stream",
          "name": "stdout",
          "text": [
            "--2024-04-13 16:23:07--  https://raw.githubusercontent.com/mrdbourke/tensorflow-deep-learning/main/extras/helper_functions.py\n",
            "Resolving raw.githubusercontent.com (raw.githubusercontent.com)... 185.199.110.133, 185.199.108.133, 185.199.111.133, ...\n",
            "Connecting to raw.githubusercontent.com (raw.githubusercontent.com)|185.199.110.133|:443... connected.\n",
            "HTTP request sent, awaiting response... 200 OK\n",
            "Length: 10246 (10K) [text/plain]\n",
            "Saving to: ‘helper_functions.py’\n",
            "\n",
            "\rhelper_functions.py   0%[                    ]       0  --.-KB/s               \rhelper_functions.py 100%[===================>]  10.01K  --.-KB/s    in 0s      \n",
            "\n",
            "2024-04-13 16:23:07 (58.3 MB/s) - ‘helper_functions.py’ saved [10246/10246]\n",
            "\n"
          ]
        }
      ]
    },
    {
      "cell_type": "code",
      "source": [
        "from helper_functions import calculate_results"
      ],
      "metadata": {
        "id": "Vkahr-k9Vz5a"
      },
      "execution_count": 35,
      "outputs": []
    },
    {
      "cell_type": "code",
      "source": [
        "# Calculate baseline results\n",
        "baseline_results = calculate_results(y_true=val_labels_encoded,\n",
        "                                     y_pred=baseline_preds)\n",
        "\n",
        "baseline_results"
      ],
      "metadata": {
        "colab": {
          "base_uri": "https://localhost:8080/"
        },
        "id": "RymLZ_xUV20Z",
        "outputId": "57bd85f7-152e-4366-ddec-e7c4a849e23c"
      },
      "execution_count": 36,
      "outputs": [
        {
          "output_type": "execute_result",
          "data": {
            "text/plain": [
              "{'accuracy': 72.1832384482987,\n",
              " 'precision': 0.7186466952323352,\n",
              " 'recall': 0.7218323844829869,\n",
              " 'f1': 0.6989250353450294}"
            ]
          },
          "metadata": {},
          "execution_count": 36
        }
      ]
    },
    {
      "cell_type": "code",
      "source": [
        "train_sentences[:10]"
      ],
      "metadata": {
        "colab": {
          "base_uri": "https://localhost:8080/"
        },
        "id": "11BXvFAjWHoL",
        "outputId": "608a2b01-25ed-47c3-bada-63fd81bdd415"
      },
      "execution_count": 37,
      "outputs": [
        {
          "output_type": "execute_result",
          "data": {
            "text/plain": [
              "['to investigate the efficacy of @ weeks of daily low-dose oral prednisolone in improving pain , mobility , and systemic low-grade inflammation in the short term and whether the effect would be sustained at @ weeks in older adults with moderate to severe knee osteoarthritis ( oa ) .',\n",
              " 'a total of @ patients with primary knee oa were randomized @:@ ; @ received @ mg/day of prednisolone and @ received placebo for @ weeks .',\n",
              " 'outcome measures included pain reduction and improvement in function scores and systemic inflammation markers .',\n",
              " 'pain was assessed using the visual analog pain scale ( @-@ mm ) .',\n",
              " 'secondary outcome measures included the western ontario and mcmaster universities osteoarthritis index scores , patient global assessment ( pga ) of the severity of knee oa , and @-min walk distance ( @mwd ) .',\n",
              " 'serum levels of interleukin @ ( il-@ ) , il-@ , tumor necrosis factor ( tnf ) - , and high-sensitivity c-reactive protein ( hscrp ) were measured .',\n",
              " 'there was a clinically relevant reduction in the intervention group compared to the placebo group for knee pain , physical function , pga , and @mwd at @ weeks .',\n",
              " 'the mean difference between treatment arms ( @ % ci ) was @ ( @-@ @ ) , p < @ ; @ ( @-@ @ ) , p < @ ; @ ( @-@ @ ) , p < @ ; and @ ( @-@ @ ) , p < @ , respectively .',\n",
              " 'further , there was a clinically relevant reduction in the serum levels of il-@ , il-@ , tnf - , and hscrp at @ weeks in the intervention group when compared to the placebo group .',\n",
              " 'these differences remained significant at @ weeks .']"
            ]
          },
          "metadata": {},
          "execution_count": 37
        }
      ]
    },
    {
      "cell_type": "markdown",
      "source": [
        "### Preparin our data (the text) for deep sequence models\n",
        "\n",
        "Before we start building deeper model, we've go to create vectorization and embedding layers."
      ],
      "metadata": {
        "id": "8KBgAwroe0jd"
      }
    },
    {
      "cell_type": "code",
      "source": [
        "import numpy as np\n",
        "import tensorflow as tf"
      ],
      "metadata": {
        "id": "2E7yyRG9WRk9"
      },
      "execution_count": 38,
      "outputs": []
    },
    {
      "cell_type": "code",
      "source": [
        "# Each sentence length\n",
        "sent_lens=[len(i.split()) for i in train_sentences]\n",
        "\n",
        "# How long is each senctences in average\n",
        "avg_sent_len = np.mean(sent_lens)\n",
        "avg_sent_len\n",
        "# seem no of token or words is 26"
      ],
      "metadata": {
        "colab": {
          "base_uri": "https://localhost:8080/"
        },
        "id": "d_EMuaswWoJ8",
        "outputId": "82c884e6-8e3e-46e7-88da-7602eeaa379c"
      },
      "execution_count": 39,
      "outputs": [
        {
          "output_type": "execute_result",
          "data": {
            "text/plain": [
              "26.338269273494777"
            ]
          },
          "metadata": {},
          "execution_count": 39
        }
      ]
    },
    {
      "cell_type": "code",
      "source": [
        "# What's the distribution look like?\n",
        "import matplotlib.pyplot as plt\n",
        "plt.hist(sent_lens, bins=20)\n",
        "\n",
        "# vast majority of sentences are under 50 words"
      ],
      "metadata": {
        "colab": {
          "base_uri": "https://localhost:8080/",
          "height": 575
        },
        "id": "skeyggKlfnNd",
        "outputId": "78870df3-5e93-4c88-d99f-0422b476ceaa"
      },
      "execution_count": 40,
      "outputs": [
        {
          "output_type": "execute_result",
          "data": {
            "text/plain": [
              "(array([4.2075e+04, 8.3771e+04, 3.6877e+04, 1.0945e+04, 3.9310e+03,\n",
              "        1.4450e+03, 5.6000e+02, 2.2600e+02, 1.0100e+02, 4.5000e+01,\n",
              "        2.0000e+01, 1.2000e+01, 9.0000e+00, 1.0000e+01, 6.0000e+00,\n",
              "        2.0000e+00, 3.0000e+00, 0.0000e+00, 1.0000e+00, 1.0000e+00]),\n",
              " array([  1.  ,  15.75,  30.5 ,  45.25,  60.  ,  74.75,  89.5 , 104.25,\n",
              "        119.  , 133.75, 148.5 , 163.25, 178.  , 192.75, 207.5 , 222.25,\n",
              "        237.  , 251.75, 266.5 , 281.25, 296.  ]),\n",
              " <BarContainer object of 20 artists>)"
            ]
          },
          "metadata": {},
          "execution_count": 40
        },
        {
          "output_type": "display_data",
          "data": {
            "text/plain": [
              "<Figure size 640x480 with 1 Axes>"
            ],
            "image/png": "[encoded data removed]"
          },
          "metadata": {}
        }
      ]
    },
    {
      "cell_type": "code",
      "source": [
        "# How long of a sentences length coers 95% of examples? how long our max_lenght should be so it covers most of the sentences\n",
        "output_seq_len = int(np.percentile(sent_lens, 95))\n",
        "output_seq_len\n",
        "\n",
        "# This is saying 95% of sentences are under 55"
      ],
      "metadata": {
        "colab": {
          "base_uri": "https://localhost:8080/"
        },
        "id": "wiwipPNxgh-L",
        "outputId": "16350e47-2724-4122-bcc4-b662ba7ec2db"
      },
      "execution_count": 41,
      "outputs": [
        {
          "output_type": "execute_result",
          "data": {
            "text/plain": [
              "55"
            ]
          },
          "metadata": {},
          "execution_count": 41
        }
      ]
    },
    {
      "cell_type": "code",
      "source": [
        "# Max sequence length in the training set\n",
        "max(sent_lens)\n",
        "# ridiculous to set max_length to 296\n",
        "# best is 55 for performance without losing accuracy"
      ],
      "metadata": {
        "colab": {
          "base_uri": "https://localhost:8080/"
        },
        "id": "uarz8JLMhRNk",
        "outputId": "135c40b3-acca-4685-83fb-bf7bccdf70f0"
      },
      "execution_count": 42,
      "outputs": [
        {
          "output_type": "execute_result",
          "data": {
            "text/plain": [
              "296"
            ]
          },
          "metadata": {},
          "execution_count": 42
        }
      ]
    },
    {
      "cell_type": "markdown",
      "source": [
        "### Crreating text vectorizer layer\n",
        "\n",
        "Map our text from words to numbers."
      ],
      "metadata": {
        "id": "PUloULgvs03V"
      }
    },
    {
      "cell_type": "code",
      "source": [
        "from tensorflow.keras.layers import TextVectorization"
      ],
      "metadata": {
        "id": "XQmA0y8LvgS0"
      },
      "execution_count": 43,
      "outputs": []
    },
    {
      "cell_type": "code",
      "source": [
        "# use the default TextVectorization parameters\n",
        "# This is only the default bu we will modify later here.\n",
        "#max_token=10000 means only 10000 most common word\n",
        "text_vectorizer = TextVectorization(max_tokens=None, # How many words in our vocabulary: None: no limit ( automaically add <00V>)\n",
        "                                    standardize = 'lower_and_strip_punctuation',\n",
        "                                    split='whitespace',\n",
        "                                    ngrams=None, # n-words:join splitted words before tokenizaion. None:each word, each token\n",
        "                                    output_mode='int', # how to map token to token. here int but can be specific function like tf_idf\n",
        "                                    #How long do we want our sequence to be : 50 ,100, None..\n",
        "                                    #automatially set sequence to longest sequence or tweet lenght. add zero ad end for short tweets\n",
        "                                    output_sequence_length=None, # Batch need to same length. Eg here Each Tweet length are different\n",
        "                                    # aadd zero ad end for short tweets to match (output_sequence_length: none: means longest one)\n",
        "                                    pad_to_max_tokens=False #if true reult in shape (Batch_size, Max_tokesn)\n",
        "                                    )"
      ],
      "metadata": {
        "id": "J3yzC7AMWl0c"
      },
      "execution_count": 44,
      "outputs": []
    },
    {
      "cell_type": "code",
      "source": [
        "# Setup text Vectorization variable\n",
        "max_vocab_length = 68000 # max number of words  to have in our vocabulary #\n",
        "# 15 from round(sum([len(i.split()) for i in train_sentences])/len(train_sentences))\n",
        "max_length= output_seq_len # desired output length of vectorized sequence # we got 55 above: look\n",
        "\n",
        "text_vectorizer = TextVectorization(max_tokens = max_vocab_length,\n",
        "                                    output_mode=\"int\",\n",
        "                                    output_sequence_length = max_length,\n",
        "                                    pad_to_max_tokens=True,\n",
        "                                    )"
      ],
      "metadata": {
        "id": "N5CLtp90WykM"
      },
      "execution_count": 45,
      "outputs": []
    },
    {
      "cell_type": "code",
      "source": [
        "# Adapt text vectorizer to training sentences\n",
        "text_vectorizer.adapt(train_sentences)"
      ],
      "metadata": {
        "id": "WfDr-p8lvW3e"
      },
      "execution_count": 46,
      "outputs": []
    },
    {
      "cell_type": "code",
      "source": [
        "# Create our own sample sentences and tokenize it\n",
        "sample_sentence = \"There's a flood in my street!\"\n",
        "text_vectorizer([sample_sentence])"
      ],
      "metadata": {
        "colab": {
          "base_uri": "https://localhost:8080/"
        },
        "id": "sgToSDG5XEN_",
        "outputId": "a5ec5137-a7b8-4e1a-e460-2c940f2b980b"
      },
      "execution_count": 47,
      "outputs": [
        {
          "output_type": "execute_result",
          "data": {
            "text/plain": [
              "<tf.Tensor: shape=(1, 55), dtype=int64, numpy=\n",
              "array([[43871,     8,     1,     5, 25624, 10148,     0,     0,     0,\n",
              "            0,     0,     0,     0,     0,     0,     0,     0,     0,\n",
              "            0,     0,     0,     0,     0,     0,     0,     0,     0,\n",
              "            0,     0,     0,     0,     0,     0,     0,     0,     0,\n",
              "            0,     0,     0,     0,     0,     0,     0,     0,     0,\n",
              "            0,     0,     0,     0,     0,     0,     0,     0,     0,\n",
              "            0]])>"
            ]
          },
          "metadata": {},
          "execution_count": 47
        }
      ]
    },
    {
      "cell_type": "code",
      "source": [
        "import random\n",
        "# Choose  a random sentence from the training dataset and tokenize it\n",
        "random_sentence = random.choice(train_sentences)\n",
        "print(f\"The length of random sentence: {len(random_sentence)}\")\n",
        "print(f\"Original text:\\n {random_sentence}\\\n",
        "      \\n\\nVectorized version:\")\n",
        "text_vectorizer([random_sentence])"
      ],
      "metadata": {
        "colab": {
          "base_uri": "https://localhost:8080/"
        },
        "id": "i-KCkNXLXHq-",
        "outputId": "dd11c547-1dbf-478f-ae33-61fac7b3fde8"
      },
      "execution_count": 48,
      "outputs": [
        {
          "output_type": "stream",
          "name": "stdout",
          "text": [
            "The length of random sentence: 128\n",
            "Original text:\n",
            " the eeg laterality coefficients from the therapy part of the tdcs group were significantly higher than those of the sham group .      \n",
            "\n",
            "Vectorized version:\n"
          ]
        },
        {
          "output_type": "execute_result",
          "data": {
            "text/plain": [
              "<tf.Tensor: shape=(1, 55), dtype=int64, numpy=\n",
              "array([[    2,  3122, 20303,  3452,    27,     2,    66,   732,     4,\n",
              "            2,  1750,    13,     9,    39,    82,    42,   125,     4,\n",
              "            2,   786,    13,     0,     0,     0,     0,     0,     0,\n",
              "            0,     0,     0,     0,     0,     0,     0,     0,     0,\n",
              "            0,     0,     0,     0,     0,     0,     0,     0,     0,\n",
              "            0,     0,     0,     0,     0,     0,     0,     0,     0,\n",
              "            0]])>"
            ]
          },
          "metadata": {},
          "execution_count": 48
        }
      ]
    },
    {
      "cell_type": "code",
      "source": [
        "# part of Exploration of data: one with the data\n",
        "# How unique words from vocabulary we found in our train_sentence\n",
        "# if Max_token: None as hyperparameter : automatically set no of words_in_vocab to each Unique word\n",
        "# if Max_token: 10000 like we did : words_in_vocab will be 100000\n",
        "rct_20k_text_vocab = text_vectorizer.get_vocabulary() # get all of the unique words in our train_data\n",
        "top_5_words = rct_20k_text_vocab[:5] # get the most common words\n",
        "bottom_5_words = rct_20k_text_vocab[-5:] # get the least common words\n",
        "\n",
        "print(f\"Number of words in vocab in train_data: {len(rct_20k_text_vocab)}\")\n",
        "print(f\"5 most common words: {top_5_words}\")\n",
        "print(f\"5 least common words: {bottom_5_words}\")\n",
        "\n",
        "#[UNK] means unkown: 10000 words may be small but its ok here"
      ],
      "metadata": {
        "colab": {
          "base_uri": "https://localhost:8080/"
        },
        "id": "VP-Qjd8_ZbF_",
        "outputId": "48aab6fe-c6c0-4bc7-ee33-e576adff7f80"
      },
      "execution_count": 49,
      "outputs": [
        {
          "output_type": "stream",
          "name": "stdout",
          "text": [
            "Number of words in vocab in train_data: 64841\n",
            "5 most common words: ['', '[UNK]', 'the', 'and', 'of']\n",
            "5 least common words: ['aainduced', 'aaigroup', 'aachener', 'aachen', 'aaacp']\n"
          ]
        }
      ]
    },
    {
      "cell_type": "markdown",
      "source": [
        "### Creating a embedding"
      ],
      "metadata": {
        "id": "GmHaIYwrx5AI"
      }
    },
    {
      "cell_type": "code",
      "source": [
        "from tensorflow.keras import layers\n",
        "\n",
        "token_embed = layers.Embedding(input_dim = len(rct_20k_text_vocab), # set the input shape,: 68000\n",
        "                              output_dim = 128, # Neural network especially that using GPU works greate with number divisible by 8 eg. 128. eacg word or token to 128 numerical values\n",
        "                              input_length = max_length, # how long is each input\n",
        "                              mask_zero=True, # use masking to handle variable sequence length # just making sure for shape error # efficient computing if lots of zero\n",
        "                              name='token_embedding'\n",
        "                              )\n",
        "token_embed"
      ],
      "metadata": {
        "colab": {
          "base_uri": "https://localhost:8080/"
        },
        "id": "z9LbmQokZuxC",
        "outputId": "db4ceac8-4620-4794-ed85-3a4ea8f0e04b"
      },
      "execution_count": 50,
      "outputs": [
        {
          "output_type": "execute_result",
          "data": {
            "text/plain": [
              "<keras.src.layers.core.embedding.Embedding at 0x7ea892a6cdc0>"
            ]
          },
          "metadata": {},
          "execution_count": 50
        }
      ]
    },
    {
      "cell_type": "code",
      "source": [
        "# for visualizaion only one random sentence\n",
        "\n",
        "# Get a random sentence from the training set\n",
        "random_sentence = random.choice(train_sentences)\n",
        "print(f\"Original text:\\n {random_sentence}\\n\\n\")\n",
        "\n",
        "# Embed the random sentence (turn it into dense vector of fixed size)\n",
        "sample_embed = token_embed(text_vectorizer([random_sentence]))\n",
        "print(f\"Sentence after embedding:\\n {sample_embed}\\n\\n\")\n",
        "print(f\"Shape of embedded sentence: {sample_embed.shape}\")"
      ],
      "metadata": {
        "colab": {
          "base_uri": "https://localhost:8080/"
        },
        "id": "bUz5ilsxaAwt",
        "outputId": "036005c0-6f8a-4d4a-e50d-adb10003c44a"
      },
      "execution_count": 51,
      "outputs": [
        {
          "output_type": "stream",
          "name": "stdout",
          "text": [
            "Original text:\n",
            " pooled data from both treatment groups showed a significant decrease in bmi sd score of @ units and a significant decrease in parent-reported and self-reported strength and difficulty questionnaire total score of @ units .\n",
            "\n",
            "\n",
            "Sentence after embedding:\n",
            " [[[-0.03154664 -0.01448639  0.02953434 ... -0.01507654 -0.03734257\n",
            "    0.01742257]\n",
            "  [-0.00031411  0.00752087 -0.00883322 ... -0.01690944 -0.01843262\n",
            "   -0.00104817]\n",
            "  [-0.03783726  0.00581353 -0.04616947 ... -0.00205252  0.00074514\n",
            "    0.03281679]\n",
            "  ...\n",
            "  [-0.02277984 -0.02255322 -0.03529133 ... -0.04819499  0.04517848\n",
            "   -0.02153148]\n",
            "  [-0.02277984 -0.02255322 -0.03529133 ... -0.04819499  0.04517848\n",
            "   -0.02153148]\n",
            "  [-0.02277984 -0.02255322 -0.03529133 ... -0.04819499  0.04517848\n",
            "   -0.02153148]]]\n",
            "\n",
            "\n",
            "Shape of embedded sentence: (1, 55, 128)\n"
          ]
        }
      ]
    },
    {
      "cell_type": "code",
      "source": [
        "# Check out a single token's embedding for the first word of our sentence e.g. the\n",
        "print(f\"Original text:\\n {random_sentence}\\n\\n\")\n",
        "print(f\"First word :\\n {random_sentence.split(' ', 1)[0]}\\n\\n\")\n",
        "print(f\" Embedding values of single First word ({random_sentence.split(' ', 1)[0]}) in sentences are: {sample_embed[0][0]}\\n\\n\")\n",
        "print(f\"Shape of each word (here word: {random_sentence.split(' ', 1)[0]}) is: {sample_embed[0][0].shape}\")"
      ],
      "metadata": {
        "colab": {
          "base_uri": "https://localhost:8080/"
        },
        "id": "YmcPz1M2aG2b",
        "outputId": "78a60c27-25a4-4fba-f891-cb69c7dc0c19"
      },
      "execution_count": 52,
      "outputs": [
        {
          "output_type": "stream",
          "name": "stdout",
          "text": [
            "Original text:\n",
            " pooled data from both treatment groups showed a significant decrease in bmi sd score of @ units and a significant decrease in parent-reported and self-reported strength and difficulty questionnaire total score of @ units .\n",
            "\n",
            "\n",
            "First word :\n",
            " pooled\n",
            "\n",
            "\n",
            " Embedding values of single First word (pooled) in sentences are: [-3.15466411e-02 -1.44863948e-02  2.95343436e-02  3.94743569e-02\n",
            " -2.92887222e-02  4.13898490e-02  4.57703806e-02 -1.49877295e-02\n",
            "  4.92688678e-02 -4.47102301e-02  3.16500403e-02 -4.65525053e-02\n",
            " -5.97957522e-03  5.73138148e-03 -4.24066074e-02 -2.30433345e-02\n",
            " -3.18823010e-02  1.27223879e-03 -5.91940805e-03 -5.38849831e-03\n",
            "  4.22341563e-02  9.45720822e-03 -4.35325764e-02  4.21432592e-02\n",
            " -3.22782546e-02  1.31472982e-02 -1.64734200e-03  2.41993330e-02\n",
            "  1.57675035e-02 -2.46069916e-02  1.83941238e-02 -3.73236313e-02\n",
            "  1.85755752e-02 -2.46182326e-02  9.28312540e-03  4.94345762e-02\n",
            "  4.84983586e-02  5.21517918e-03 -7.77901337e-03  3.68855149e-03\n",
            " -2.17797291e-02  2.33650208e-05 -4.14718166e-02 -2.27515828e-02\n",
            " -3.46283317e-02  2.79708393e-02  4.08328809e-02 -2.54033208e-02\n",
            "  2.68263705e-02 -2.38408800e-02 -4.87698317e-02  1.46280639e-02\n",
            " -2.06798799e-02  1.27764605e-02  4.23519872e-02 -3.75087149e-02\n",
            "  4.19322401e-03  7.01887533e-03  1.16594806e-02 -2.77306680e-02\n",
            "  1.55239739e-02 -4.01247740e-02  2.52433680e-02  2.37002112e-02\n",
            "  2.82586105e-02 -1.64190903e-02  4.34769429e-02 -2.11846232e-02\n",
            " -4.06982787e-02 -1.15979686e-02  1.60325803e-02 -2.46950984e-02\n",
            " -1.80466399e-02  4.19079401e-02  3.33265774e-02 -4.76883762e-02\n",
            "  1.12508908e-02  3.85408662e-02 -4.93000634e-02  1.37209408e-02\n",
            " -1.12496130e-02  3.92208733e-02 -1.35480277e-02  6.42907619e-03\n",
            " -9.21125337e-03 -9.16341692e-03 -4.03866284e-02  9.16936249e-03\n",
            " -3.75216082e-03 -4.47080843e-02  1.46705396e-02 -4.60139625e-02\n",
            "  3.28894593e-02 -2.17915662e-02  1.31815113e-02 -1.21592060e-02\n",
            " -2.37244014e-02 -3.74718755e-03  2.93519013e-02 -4.69407104e-02\n",
            " -3.26909646e-02  1.09834187e-02  3.55639495e-02  5.46455383e-04\n",
            " -3.22127342e-03 -7.99697638e-03 -9.86624882e-03  4.90837805e-02\n",
            " -1.35986693e-02  3.65098156e-02  2.57516168e-02  8.78768042e-03\n",
            "  2.22132914e-02 -1.53841004e-02 -4.31283116e-02  4.30258624e-02\n",
            "  2.02782080e-03  3.74138020e-02  1.27781555e-03 -3.93849984e-02\n",
            " -3.01896092e-02  4.94712032e-02 -4.48564887e-02  3.13057341e-02\n",
            " -4.15878780e-02 -1.50765404e-02 -3.73425707e-02  1.74225681e-02]\n",
            "\n",
            "\n",
            "Shape of each word (here word: pooled) is: (128,)\n"
          ]
        }
      ]
    },
    {
      "cell_type": "markdown",
      "source": [
        "## Creating dataset (making sure our data loads as fast as possible)\n",
        "\n",
        "`We must do it for every good machine learning project so must read: https://www.tensorflow.org/guide/data_performance`\n",
        "\n",
        "We're going to setup our data to run as fast as possible with the TensorFlow tf.data API, many of the steps here are discussed at length in these two resources:\n",
        "* https://www.tensorflow.org/guide/data_performance\n",
        "* https://www.tensorflow.org/guide/data"
      ],
      "metadata": {
        "id": "s0aGnfGT2_V8"
      }
    },
    {
      "cell_type": "code",
      "source": [
        "# Turn our data in TensorFlow Datasets\n",
        "train_dataset = tf.data.Dataset.from_tensor_slices((train_sentences, train_labels_one_hot)) #(one_hot or label encoded both good). Here one hot beacuase we want feature like (may be getting probabilities while .predict ) we want to use on loss function that wont work on label encoded\n",
        "valid_dataset = tf.data.Dataset.from_tensor_slices((val_sentences, val_labels_one_hot))\n",
        "test_dataset = tf.data.Dataset.from_tensor_slices((test_sentences, test_labels_one_hot))\n",
        "\n",
        "train_dataset"
      ],
      "metadata": {
        "colab": {
          "base_uri": "https://localhost:8080/"
        },
        "id": "A650sYGJ38X7",
        "outputId": "6cf76ed7-b514-42ed-994d-cfcd9f8356f5"
      },
      "execution_count": 53,
      "outputs": [
        {
          "output_type": "execute_result",
          "data": {
            "text/plain": [
              "<_TensorSliceDataset element_spec=(TensorSpec(shape=(), dtype=tf.string, name=None), TensorSpec(shape=(5,), dtype=tf.float64, name=None))>"
            ]
          },
          "metadata": {},
          "execution_count": 53
        }
      ]
    },
    {
      "cell_type": "code",
      "source": [
        "train_labels_one_hot.shape, train_labels_one_hot[0] # above 5 in TensorSpec(shape=(5,) came from here"
      ],
      "metadata": {
        "colab": {
          "base_uri": "https://localhost:8080/"
        },
        "id": "FUbR5JhKGjTR",
        "outputId": "8af993f9-e8e1-4ce4-b77e-7f2da9b1e5fc"
      },
      "execution_count": 54,
      "outputs": [
        {
          "output_type": "execute_result",
          "data": {
            "text/plain": [
              "((180040, 5), array([0., 0., 0., 1., 0.]))"
            ]
          },
          "metadata": {},
          "execution_count": 54
        }
      ]
    },
    {
      "cell_type": "code",
      "source": [
        "# Take the TensorSliceDataset's and turn them into prefetched datasets\n",
        "\n",
        "# Very imp: We don't shuffle or dataset here: because order of dataset is very very importand.\n",
        "train_dataset = train_dataset.batch(32).prefetch(tf.data.AUTOTUNE) # automatically prefetch any many as you can\n",
        "valid_dataset = valid_dataset.batch(32).prefetch(tf.data.AUTOTUNE)\n",
        "test_dataset = test_dataset.batch(32).prefetch(tf.data.AUTOTUNE)\n",
        "\n",
        "train_dataset"
      ],
      "metadata": {
        "colab": {
          "base_uri": "https://localhost:8080/"
        },
        "id": "iXlgvcEeHCKc",
        "outputId": "c481b318-ced3-4fbd-a76a-ef977614c52c"
      },
      "execution_count": 55,
      "outputs": [
        {
          "output_type": "execute_result",
          "data": {
            "text/plain": [
              "<_PrefetchDataset element_spec=(TensorSpec(shape=(None,), dtype=tf.string, name=None), TensorSpec(shape=(None, 5), dtype=tf.float64, name=None))>"
            ]
          },
          "metadata": {},
          "execution_count": 55
        }
      ]
    },
    {
      "cell_type": "markdown",
      "source": [
        "## Model 1: Conv1D with token embeddings"
      ],
      "metadata": {
        "id": "iP3eLH3uJrbD"
      }
    },
    {
      "cell_type": "code",
      "source": [
        "num_classes, class_names"
      ],
      "metadata": {
        "colab": {
          "base_uri": "https://localhost:8080/"
        },
        "id": "TddwopI1JzwD",
        "outputId": "0ca805c7-4d5d-4dc1-c6c4-ad2dd368bcfa"
      },
      "execution_count": 56,
      "outputs": [
        {
          "output_type": "execute_result",
          "data": {
            "text/plain": [
              "(5,\n",
              " array(['BACKGROUND', 'CONCLUSIONS', 'METHODS', 'OBJECTIVE', 'RESULTS'],\n",
              "       dtype=object))"
            ]
          },
          "metadata": {},
          "execution_count": 56
        }
      ]
    },
    {
      "cell_type": "code",
      "source": [
        "# Build our Conv1D model to process sequences\n",
        "from tensorflow.keras import layers\n",
        "\n",
        "inputs = layers.Input(shape=(1,), dtype='string')\n",
        "text_vectors = text_vectorizer(inputs)\n",
        "token_embeddings = token_embed(text_vectors)\n",
        "print(token_embeddings.shape)\n",
        "\n",
        "\n",
        "\n",
        "x = layers.Conv1D(filters=64, # each review will diveded into 64 parts\n",
        "                  kernel_size=5, # 5 words at a time\n",
        "                  strides=1,\n",
        "                  activation='relu',\n",
        "                  padding='same')(token_embeddings) # padding will compress input like 15 to 13 if 'valid' (default). if 'same' no-compression\n",
        "print(x.shape)\n",
        "\n",
        "x = layers.GlobalMaxPool1D()(x) # Max Pool seems to be better for this data.\n",
        "print(x.shape)\n",
        "\n",
        "# x = layers.Dense(64, activation=\"relu\")(x)\n",
        "# print(x.shape)\n",
        "outputs = layers.Dense(num_classes, activation=\"softmax\")(x) # num_classes = 5 # number of our ouptut\n",
        "print(outputs.shape)\n",
        "model_1 = tf.keras.Model(inputs, outputs, name='model_1_conv1D')"
      ],
      "metadata": {
        "colab": {
          "base_uri": "https://localhost:8080/"
        },
        "id": "ejPskrjWbTB8",
        "outputId": "981cfe37-b7fa-4923-9c86-82a8209466cc"
      },
      "execution_count": 57,
      "outputs": [
        {
          "output_type": "stream",
          "name": "stdout",
          "text": [
            "(None, 55, 128)\n",
            "(None, 55, 64)\n",
            "(None, 64)\n",
            "(None, 5)\n"
          ]
        }
      ]
    },
    {
      "cell_type": "code",
      "source": [
        "# Compile  Conv1D\n",
        "model_1.compile(loss='categorical_crossentropy',\n",
        "                optimizer=tf.keras.optimizers.Adam(),\n",
        "                metrics=[\"accuracy\"])\n",
        "\n",
        "# Get a summary()\n",
        "model_1.summary()"
      ],
      "metadata": {
        "colab": {
          "base_uri": "https://localhost:8080/"
        },
        "id": "4FPfD3UFbs_5",
        "outputId": "c949c4f8-b3b0-4ad1-f604-ef28b12b972c"
      },
      "execution_count": 58,
      "outputs": [
        {
          "output_type": "stream",
          "name": "stdout",
          "text": [
            "Model: \"model_1_conv1D\"\n",
            "_________________________________________________________________\n",
            " Layer (type)                Output Shape              Param #   \n",
            "=================================================================\n",
            " input_1 (InputLayer)        [(None, 1)]               0         \n",
            "                                                                 \n",
            " text_vectorization_1 (Text  (None, 55)                0         \n",
            " Vectorization)                                                  \n",
            "                                                                 \n",
            " token_embedding (Embedding  (None, 55, 128)           8299648   \n",
            " )                                                               \n",
            "                                                                 \n",
            " conv1d (Conv1D)             (None, 55, 64)            41024     \n",
            "                                                                 \n",
            " global_max_pooling1d (Glob  (None, 64)                0         \n",
            " alMaxPooling1D)                                                 \n",
            "                                                                 \n",
            " dense (Dense)               (None, 5)                 325       \n",
            "                                                                 \n",
            "=================================================================\n",
            "Total params: 8340997 (31.82 MB)\n",
            "Trainable params: 8340997 (31.82 MB)\n",
            "Non-trainable params: 0 (0.00 Byte)\n",
            "_________________________________________________________________\n"
          ]
        }
      ]
    },
    {
      "cell_type": "code",
      "source": [
        "len(train_dataset) *32 # seems like very big datset"
      ],
      "metadata": {
        "colab": {
          "base_uri": "https://localhost:8080/"
        },
        "id": "uKIsZmPZLSk6",
        "outputId": "d4f2f9c1-5744-429a-aae4-0e02497d936e"
      },
      "execution_count": 59,
      "outputs": [
        {
          "output_type": "execute_result",
          "data": {
            "text/plain": [
              "180064"
            ]
          },
          "metadata": {},
          "execution_count": 59
        }
      ]
    },
    {
      "cell_type": "code",
      "source": [
        "# # It is imp for creating tensorboard callback if we are expreimenting with different model\n",
        "# # Create a tensorboard callback (need to create a new one of each model)\n",
        "# from helper_functions import  create_tensorboard_callback\n",
        "\n",
        "# # Create a directory to save TensorBoard logs\n",
        "# SAVE_DIR = \"model_logs\""
      ],
      "metadata": {
        "id": "EAfHgUKlcpUp"
      },
      "execution_count": 60,
      "outputs": []
    },
    {
      "cell_type": "code",
      "source": [
        "# Fit the model\n",
        "# faster experiment by reducing data to 10% by steps_per_epoch helps us to get know what doenot work and what does work\n",
        "history_model_1 = model_1.fit(train_dataset,\n",
        "                              steps_per_epoch = int(0.1 * len(train_dataset)), # dataset is very big: 180064 so we want 10% of batches of data for faster training\n",
        "                              epochs=3,\n",
        "                              validation_data = valid_dataset,\n",
        "                              validation_steps = int(0.1 * len(valid_dataset)) # validation on only 10% of batches of  data\n",
        "                              )"
      ],
      "metadata": {
        "colab": {
          "base_uri": "https://localhost:8080/"
        },
        "id": "hSsZ6zlcb6P1",
        "outputId": "f0634956-f43c-43b9-cbce-95d9e130843d"
      },
      "execution_count": 61,
      "outputs": [
        {
          "output_type": "stream",
          "name": "stdout",
          "text": [
            "Epoch 1/3\n",
            "562/562 [==============================] - 81s 141ms/step - loss: 0.8295 - accuracy: 0.6919 - val_loss: 0.5826 - val_accuracy: 0.7879\n",
            "Epoch 2/3\n",
            "562/562 [==============================] - 95s 169ms/step - loss: 0.5765 - accuracy: 0.7874 - val_loss: 0.5417 - val_accuracy: 0.8029\n",
            "Epoch 3/3\n",
            "562/562 [==============================] - 92s 164ms/step - loss: 0.5459 - accuracy: 0.7989 - val_loss: 0.5209 - val_accuracy: 0.8062\n"
          ]
        }
      ]
    },
    {
      "cell_type": "code",
      "source": [
        "# Evaluate on whole validation dataset\n",
        "model_1.evaluate(valid_dataset)"
      ],
      "metadata": {
        "colab": {
          "base_uri": "https://localhost:8080/"
        },
        "id": "BSNIA0T9cyez",
        "outputId": "279b6c12-882a-44c2-a8fd-feccbca46616"
      },
      "execution_count": 62,
      "outputs": [
        {
          "output_type": "stream",
          "name": "stdout",
          "text": [
            "945/945 [==============================] - 9s 9ms/step - loss: 0.5241 - accuracy: 0.8041\n"
          ]
        },
        {
          "output_type": "execute_result",
          "data": {
            "text/plain": [
              "[0.5240955948829651, 0.8040844798088074]"
            ]
          },
          "metadata": {},
          "execution_count": 62
        }
      ]
    },
    {
      "cell_type": "code",
      "source": [
        "# Make predictions (our model predicts prediction preobabilities of each classes)\n",
        "model_1_pred_probs = model_1.predict(valid_dataset)\n",
        "model_1_pred_probs, model_1_pred_probs.shape"
      ],
      "metadata": {
        "id": "9ZqIzxKIeTjU",
        "colab": {
          "base_uri": "https://localhost:8080/"
        },
        "outputId": "29d93e26-0cf5-4284-c06c-8b545de39006"
      },
      "execution_count": 63,
      "outputs": [
        {
          "output_type": "stream",
          "name": "stdout",
          "text": [
            "945/945 [==============================] - 7s 7ms/step\n"
          ]
        },
        {
          "output_type": "execute_result",
          "data": {
            "text/plain": [
              "(array([[5.8152127e-01, 1.0580061e-01, 2.5083772e-03, 3.0232784e-01,\n",
              "         7.8418572e-03],\n",
              "        [2.4891368e-01, 5.5121934e-01, 7.1742653e-04, 1.9575301e-01,\n",
              "         3.3965013e-03],\n",
              "        [1.0815928e-01, 7.7840416e-03, 2.5470064e-03, 8.8126385e-01,\n",
              "         2.4571776e-04],\n",
              "        ...,\n",
              "        [2.6436403e-04, 2.4922404e-03, 1.3922120e-02, 1.7269906e-04,\n",
              "         9.8314857e-01],\n",
              "        [1.6134566e-02, 5.3547949e-01, 3.6323387e-02, 1.2927985e-02,\n",
              "         3.9913452e-01],\n",
              "        [1.8130271e-02, 9.7219729e-01, 2.0724044e-03, 3.2514178e-03,\n",
              "         4.3486604e-03]], dtype=float32),\n",
              " (30212, 5))"
            ]
          },
          "metadata": {},
          "execution_count": 63
        }
      ]
    },
    {
      "cell_type": "code",
      "source": [
        "# Convert pred probs to classes\n",
        "model_1_preds = tf.argmax(model_1_pred_probs, axis=1)\n",
        "model_1_preds"
      ],
      "metadata": {
        "colab": {
          "base_uri": "https://localhost:8080/"
        },
        "id": "Ehp0Em_9QkEi",
        "outputId": "d7c93bbd-d4bc-4e2b-ef08-d9e2a040c2ba"
      },
      "execution_count": 64,
      "outputs": [
        {
          "output_type": "execute_result",
          "data": {
            "text/plain": [
              "<tf.Tensor: shape=(30212,), dtype=int64, numpy=array([0, 1, 3, ..., 4, 1, 1])>"
            ]
          },
          "metadata": {},
          "execution_count": 64
        }
      ]
    },
    {
      "cell_type": "code",
      "source": [
        "# Calculate model_1 results\n",
        "model_1_results = calculate_results(y_true = val_labels_encoded,\n",
        "                                    y_pred = model_1_preds)\n",
        "model_1_results\n",
        " # seems like our model_1 is better than baseline: probably use to larger output_sequence length for each sentences here: 55"
      ],
      "metadata": {
        "colab": {
          "base_uri": "https://localhost:8080/"
        },
        "id": "c5VhFVWTQ2f2",
        "outputId": "86ccef7e-ee07-4cdf-cd81-3e873ca65f08"
      },
      "execution_count": 65,
      "outputs": [
        {
          "output_type": "execute_result",
          "data": {
            "text/plain": [
              "{'accuracy': 80.40844697471204,\n",
              " 'precision': 0.8026786804897196,\n",
              " 'recall': 0.8040844697471203,\n",
              " 'f1': 0.802669022985119}"
            ]
          },
          "metadata": {},
          "execution_count": 65
        }
      ]
    },
    {
      "cell_type": "code",
      "source": [
        "baseline_results"
      ],
      "metadata": {
        "colab": {
          "base_uri": "https://localhost:8080/"
        },
        "id": "TaGXuFGJRZJl",
        "outputId": "4c4b6418-c857-464e-cdd9-60a297777d94"
      },
      "execution_count": 66,
      "outputs": [
        {
          "output_type": "execute_result",
          "data": {
            "text/plain": [
              "{'accuracy': 72.1832384482987,\n",
              " 'precision': 0.7186466952323352,\n",
              " 'recall': 0.7218323844829869,\n",
              " 'f1': 0.6989250353450294}"
            ]
          },
          "metadata": {},
          "execution_count": 66
        }
      ]
    },
    {
      "cell_type": "markdown",
      "source": [
        "## Model 2: Feature Extraction with pretrained token embeddings\n",
        "\n",
        "* tranfer learning is very powerful"
      ],
      "metadata": {
        "id": "eSIFYmKgRb8Y"
      }
    },
    {
      "cell_type": "markdown",
      "source": [
        "- In Paper They are using old pretrained model likes GloVe embeddings: https://nlp.stanford.edu/projects/glove/\n",
        "- But we will use another modern model from Tensorflow Hub"
      ],
      "metadata": {
        "id": "OGKWsqUHUj4u"
      }
    },
    {
      "cell_type": "code",
      "source": [
        "import tensorflow_hub as hub\n",
        "\n",
        "print(sample_sentence)\n",
        "embed = hub.load(\"https://www.kaggle.com/models/google/universal-sentence-encoder/TensorFlow2/universal-sentence-encoder/2\")\n",
        "embed_samples = embed([sample_sentence])\n",
        "print(embed_samples.shape)"
      ],
      "metadata": {
        "colab": {
          "base_uri": "https://localhost:8080/"
        },
        "id": "qAKaeVMmVqhx",
        "outputId": "bc781e94-ce40-47c7-e7d9-76555d799b94"
      },
      "execution_count": 67,
      "outputs": [
        {
          "output_type": "stream",
          "name": "stdout",
          "text": [
            "There's a flood in my street!\n",
            "(1, 512)\n"
          ]
        }
      ]
    },
    {
      "cell_type": "code",
      "source": [
        "# Create a keras layer using the USE pretrained layer from  tensorflow hub\n",
        "\n",
        "# turn the link into layer\n",
        "sentence_encoder_layer = hub.KerasLayer(\"https://www.kaggle.com/models/google/universal-sentence-encoder/frameworks/TensorFlow2/variations/universal-sentence-encoder/versions/2\",\n",
        "\n",
        "                                        # Previously we had to limit the input but here we don't need to do that\n",
        "                                        #The input is variable length English text so input can be variable length. (documentaion of universal-sentence-encoder in kaggle)\n",
        "                                        input_shape=[],\n",
        "\n",
        "                                        dtype=tf.string,\n",
        "                                        trainable=False, # pretrained weights stay same,\n",
        "                                        name='USE'\n",
        "                                        )"
      ],
      "metadata": {
        "id": "j5RuFUloXHV-"
      },
      "execution_count": 68,
      "outputs": []
    },
    {
      "cell_type": "code",
      "source": [
        "# Test out the pretrained embedding on a random sentences\n",
        "random_train_sentence = random.choice(train_sentences)\n",
        "print(f\"Random sentence:\\n {random_train_sentence}\")\n",
        "use_embedded_sentence =sentence_encoder_layer([random_train_sentence])\n",
        "print(f\"Sentence after embedding:\\n{use_embedded_sentence[0][:30]}\\n\")\n",
        "print(f\"Length of sentence embeddings: {len(use_embedded_sentence[0])}\")\n",
        "print(f\"Shape of sentence embeddings: {use_embedded_sentence[0].shape}\")"
      ],
      "metadata": {
        "colab": {
          "base_uri": "https://localhost:8080/"
        },
        "id": "aSvy5e0rd2cX",
        "outputId": "6ee12665-665a-4043-9cff-2e1c1e989842"
      },
      "execution_count": 69,
      "outputs": [
        {
          "output_type": "stream",
          "name": "stdout",
          "text": [
            "Random sentence:\n",
            " on day @ , the participants consumed a standardized breakfast and lunch ; the respective snack was consumed @-h post-lunch .\n",
            "Sentence after embedding:\n",
            "[-0.01566435 -0.00652406 -0.00125517  0.01627326  0.01289022  0.00680369\n",
            "  0.02186484  0.04961556 -0.0657009   0.05364676  0.01135612 -0.04254761\n",
            " -0.00497487  0.04030678 -0.09411047 -0.04561844  0.02321607 -0.03767611\n",
            " -0.03301861  0.03478397  0.01573711  0.01126503 -0.08111127 -0.00619716\n",
            "  0.03962223 -0.02830505  0.04046213 -0.00194566 -0.03819248 -0.0522632 ]\n",
            "\n",
            "Length of sentence embeddings: 512\n",
            "Shape of sentence embeddings: (512,)\n"
          ]
        }
      ]
    },
    {
      "cell_type": "markdown",
      "source": [
        "## Building and Fitting an NLP feature extraction model using pretrained embedding from TensorFlow HUB"
      ],
      "metadata": {
        "id": "PnhjEnsVfR0S"
      }
    },
    {
      "cell_type": "code",
      "source": [
        "inputs = layers.Input(shape=[], dtype='string', name = 'input_layer')# shape =() or shape = [] because shape may be variable length as mention in above sentence_encoder_layer\n",
        "\n",
        "pretrained_embeddings = sentence_encoder_layer(inputs)\n",
        "print(pretrained_embeddings.shape)\n",
        "\n",
        "x = layers.Dense(128, activation='relu')(pretrained_embeddings)\n",
        "# You could add more layers if you want to\n",
        "\n",
        "outputs = layers.Dense(num_classes, activation=\"softmax\")(x) # num_classes = 5 # number of our ouptut\n",
        "print(outputs.shape)\n",
        "\n",
        "model_2 = tf.keras.Model(inputs=inputs,\n",
        "                         outputs=outputs,\n",
        "                         name = \"model_2_USE_Feature_Extractor\" )"
      ],
      "metadata": {
        "colab": {
          "base_uri": "https://localhost:8080/"
        },
        "id": "YcaK2jiBYWLp",
        "outputId": "83a2ef9f-e6dc-48ef-da45-49200f098eb7"
      },
      "execution_count": 70,
      "outputs": [
        {
          "output_type": "stream",
          "name": "stdout",
          "text": [
            "(None, 512)\n",
            "(None, 5)\n"
          ]
        }
      ]
    },
    {
      "cell_type": "code",
      "source": [
        "65664 + 645 # Trainable params"
      ],
      "metadata": {
        "colab": {
          "base_uri": "https://localhost:8080/"
        },
        "id": "RpmGIhr3giL-",
        "outputId": "e3bb2800-3f3b-48c0-87bf-0bcea3786777"
      },
      "execution_count": 71,
      "outputs": [
        {
          "output_type": "execute_result",
          "data": {
            "text/plain": [
              "66309"
            ]
          },
          "metadata": {},
          "execution_count": 71
        }
      ]
    },
    {
      "cell_type": "code",
      "source": [
        "#Compile\n",
        "model_2.compile(loss=\"binary_crossentropy\",\n",
        "                optimizer=tf.keras.optimizers.Adam(),\n",
        "                metrics=[\"accuracy\"])\n",
        "model_2.summary()"
      ],
      "metadata": {
        "colab": {
          "base_uri": "https://localhost:8080/"
        },
        "id": "8CVxbjToZ6dM",
        "outputId": "ac79812b-1549-441f-85d7-92e094d69ab9"
      },
      "execution_count": 72,
      "outputs": [
        {
          "output_type": "stream",
          "name": "stdout",
          "text": [
            "Model: \"model_2_USE_Feature_Extractor\"\n",
            "_________________________________________________________________\n",
            " Layer (type)                Output Shape              Param #   \n",
            "=================================================================\n",
            " input_layer (InputLayer)    [(None,)]                 0         \n",
            "                                                                 \n",
            " USE (KerasLayer)            (None, 512)               256797824 \n",
            "                                                                 \n",
            " dense_1 (Dense)             (None, 128)               65664     \n",
            "                                                                 \n",
            " dense_2 (Dense)             (None, 5)                 645       \n",
            "                                                                 \n",
            "=================================================================\n",
            "Total params: 256864133 (979.86 MB)\n",
            "Trainable params: 66309 (259.02 KB)\n",
            "Non-trainable params: 256797824 (979.61 MB)\n",
            "_________________________________________________________________\n"
          ]
        }
      ]
    },
    {
      "cell_type": "code",
      "source": [
        "# Fit the model\n",
        "# faster experiment by reducing data to 10% by steps_per_epoch helps us to get know what doenot work and what does work\n",
        "history_model_1 = model_2.fit(train_dataset,\n",
        "                              steps_per_epoch = int(0.1 * len(train_dataset)), # dataset is very big: 180064 so we want 10% of batches of data for faster training\n",
        "                              epochs=3,\n",
        "                              validation_data = valid_dataset,\n",
        "                              validation_steps = int(0.1 * len(valid_dataset)) # validation on only 10% of batches of  data\n",
        "                              )"
      ],
      "metadata": {
        "colab": {
          "base_uri": "https://localhost:8080/"
        },
        "id": "LSWE4UEYaTNu",
        "outputId": "2df9f4d5-04a0-4f1c-d886-ae4d809ddaaf"
      },
      "execution_count": 73,
      "outputs": [
        {
          "output_type": "stream",
          "name": "stdout",
          "text": [
            "Epoch 1/3\n",
            "562/562 [==============================] - 20s 27ms/step - loss: 0.3413 - accuracy: 0.6224 - val_loss: 0.2864 - val_accuracy: 0.6898\n",
            "Epoch 2/3\n",
            "562/562 [==============================] - 15s 27ms/step - loss: 0.2747 - accuracy: 0.6929 - val_loss: 0.2694 - val_accuracy: 0.7058\n",
            "Epoch 3/3\n",
            "562/562 [==============================] - 17s 30ms/step - loss: 0.2662 - accuracy: 0.7057 - val_loss: 0.2620 - val_accuracy: 0.7171\n"
          ]
        }
      ]
    },
    {
      "cell_type": "code",
      "source": [
        "# Evaluate on the whole validation dataset\n",
        "model_2.evaluate(valid_dataset)"
      ],
      "metadata": {
        "colab": {
          "base_uri": "https://localhost:8080/"
        },
        "id": "he2shbD-dKU_",
        "outputId": "57a5b92e-6187-4a9d-c14e-20a049a441eb"
      },
      "execution_count": 74,
      "outputs": [
        {
          "output_type": "stream",
          "name": "stdout",
          "text": [
            "945/945 [==============================] - 20s 21ms/step - loss: 0.2610 - accuracy: 0.7120\n"
          ]
        },
        {
          "output_type": "execute_result",
          "data": {
            "text/plain": [
              "[0.261035293340683, 0.7119687795639038]"
            ]
          },
          "metadata": {},
          "execution_count": 74
        }
      ]
    },
    {
      "cell_type": "code",
      "source": [
        "# Make prediction with feature extraction model\n",
        "model_2_pred_probs = model_2.predict(valid_dataset)\n",
        "model_2_pred_probs"
      ],
      "metadata": {
        "colab": {
          "base_uri": "https://localhost:8080/"
        },
        "id": "cH3ELHqehlgs",
        "outputId": "cc6a5b37-220d-4188-9e1d-d8ced2ae4b6d"
      },
      "execution_count": 75,
      "outputs": [
        {
          "output_type": "stream",
          "name": "stdout",
          "text": [
            "945/945 [==============================] - 12s 12ms/step\n"
          ]
        },
        {
          "output_type": "execute_result",
          "data": {
            "text/plain": [
              "array([[4.9449334e-01, 3.5681427e-01, 1.6051972e-03, 1.4032818e-01,\n",
              "        6.7589642e-03],\n",
              "       [2.8761679e-01, 6.2292308e-01, 1.6159521e-03, 8.6174227e-02,\n",
              "        1.6699171e-03],\n",
              "       [1.3724419e-01, 1.7097078e-01, 1.4411071e-02, 6.3463724e-01,\n",
              "        4.2736653e-02],\n",
              "       ...,\n",
              "       [2.8149039e-04, 4.3007100e-04, 3.4053798e-03, 1.0939603e-04,\n",
              "        9.9577361e-01],\n",
              "       [2.7993163e-03, 2.7067631e-02, 1.0990998e-01, 6.9610460e-04,\n",
              "        8.5952693e-01],\n",
              "       [1.4814164e-01, 1.6128580e-01, 6.6188800e-01, 2.1689208e-03,\n",
              "        2.6515737e-02]], dtype=float32)"
            ]
          },
          "metadata": {},
          "execution_count": 75
        }
      ]
    },
    {
      "cell_type": "code",
      "source": [
        "# Convert pred probs to classes\n",
        "model_2_preds = tf.argmax(model_2_pred_probs, axis=1)\n",
        "model_2_preds"
      ],
      "metadata": {
        "colab": {
          "base_uri": "https://localhost:8080/"
        },
        "id": "L-RUNw63hxzm",
        "outputId": "dd6bc4bb-ab21-4f45-ed04-b5890140e870"
      },
      "execution_count": 76,
      "outputs": [
        {
          "output_type": "execute_result",
          "data": {
            "text/plain": [
              "<tf.Tensor: shape=(30212,), dtype=int64, numpy=array([0, 1, 3, ..., 4, 4, 2])>"
            ]
          },
          "metadata": {},
          "execution_count": 76
        }
      ]
    },
    {
      "cell_type": "code",
      "source": [
        "# Calculate model_1 results\n",
        "model_2_results = calculate_results(y_true = val_labels_encoded,\n",
        "                                    y_pred = model_2_preds)\n",
        "model_2_results\n",
        " # seems like our model_2_feature_extractor is worse than baseline(except f1) and model_1: probably due to less parameters (trainable) used than model_1"
      ],
      "metadata": {
        "colab": {
          "base_uri": "https://localhost:8080/"
        },
        "id": "MtWwIY98iDdl",
        "outputId": "e4c3961e-bd2e-4e12-86f0-f170833e9534"
      },
      "execution_count": 77,
      "outputs": [
        {
          "output_type": "execute_result",
          "data": {
            "text/plain": [
              "{'accuracy': 71.19687541374289,\n",
              " 'precision': 0.7101715545044164,\n",
              " 'recall': 0.7119687541374289,\n",
              " 'f1': 0.707178927092024}"
            ]
          },
          "metadata": {},
          "execution_count": 77
        }
      ]
    },
    {
      "cell_type": "code",
      "source": [
        "baseline_results"
      ],
      "metadata": {
        "colab": {
          "base_uri": "https://localhost:8080/"
        },
        "id": "ozyFboetiH9Q",
        "outputId": "768a553a-494f-49c8-a768-ef93dae7ed29"
      },
      "execution_count": 78,
      "outputs": [
        {
          "output_type": "execute_result",
          "data": {
            "text/plain": [
              "{'accuracy': 72.1832384482987,\n",
              " 'precision': 0.7186466952323352,\n",
              " 'recall': 0.7218323844829869,\n",
              " 'f1': 0.6989250353450294}"
            ]
          },
          "metadata": {},
          "execution_count": 78
        }
      ]
    },
    {
      "cell_type": "markdown",
      "source": [
        "## Model 3: Conv1D with character embeddings\n",
        "\n",
        "The paper which we're replicating state they have used a combination of token embeddings and character embeddings.\n",
        "\n",
        "Previously we've token-level embeddings but we'll need to do similar steps for characters if we want to use char-level embeddings."
      ],
      "metadata": {
        "id": "rakw3BNiiOug"
      }
    },
    {
      "cell_type": "markdown",
      "source": [
        "### Creating Character-Level tokenizer"
      ],
      "metadata": {
        "id": "d_c8QS0rFpSR"
      }
    },
    {
      "cell_type": "code",
      "source": [
        "train_sentences[:5]"
      ],
      "metadata": {
        "colab": {
          "base_uri": "https://localhost:8080/"
        },
        "id": "UR4Ap8RpFwrh",
        "outputId": "3536f91a-cff1-488d-ac14-4bbb010e5368"
      },
      "execution_count": 79,
      "outputs": [
        {
          "output_type": "execute_result",
          "data": {
            "text/plain": [
              "['to investigate the efficacy of @ weeks of daily low-dose oral prednisolone in improving pain , mobility , and systemic low-grade inflammation in the short term and whether the effect would be sustained at @ weeks in older adults with moderate to severe knee osteoarthritis ( oa ) .',\n",
              " 'a total of @ patients with primary knee oa were randomized @:@ ; @ received @ mg/day of prednisolone and @ received placebo for @ weeks .',\n",
              " 'outcome measures included pain reduction and improvement in function scores and systemic inflammation markers .',\n",
              " 'pain was assessed using the visual analog pain scale ( @-@ mm ) .',\n",
              " 'secondary outcome measures included the western ontario and mcmaster universities osteoarthritis index scores , patient global assessment ( pga ) of the severity of knee oa , and @-min walk distance ( @mwd ) .']"
            ]
          },
          "metadata": {},
          "execution_count": 79
        }
      ]
    },
    {
      "cell_type": "code",
      "source": [
        "list(\"hello to you\")"
      ],
      "metadata": {
        "colab": {
          "base_uri": "https://localhost:8080/"
        },
        "id": "6pXso8B9HMTQ",
        "outputId": "408c8206-4a25-4ff4-d653-48b738e04e97"
      },
      "execution_count": 80,
      "outputs": [
        {
          "output_type": "execute_result",
          "data": {
            "text/plain": [
              "['h', 'e', 'l', 'l', 'o', ' ', 't', 'o', ' ', 'y', 'o', 'u']"
            ]
          },
          "metadata": {},
          "execution_count": 80
        }
      ]
    },
    {
      "cell_type": "code",
      "source": [
        "\" \".join(list(\"hello to you\"))"
      ],
      "metadata": {
        "colab": {
          "base_uri": "https://localhost:8080/",
          "height": 36
        },
        "id": "Wg0ajhdrGELJ",
        "outputId": "2e8aebaf-df4d-435b-d751-4e5636a4a40c"
      },
      "execution_count": 81,
      "outputs": [
        {
          "output_type": "execute_result",
          "data": {
            "text/plain": [
              "'h e l l o   t o   y o u'"
            ],
            "application/vnd.google.colaboratory.intrinsic+json": {
              "type": "string"
            }
          },
          "metadata": {},
          "execution_count": 81
        }
      ]
    },
    {
      "cell_type": "code",
      "source": [
        "\" \".join(list(train_sentences[0]))"
      ],
      "metadata": {
        "colab": {
          "base_uri": "https://localhost:8080/",
          "height": 90
        },
        "id": "ZpB-sThDHSMI",
        "outputId": "57da5c35-2074-4b47-88ae-40bd87fb5822"
      },
      "execution_count": 82,
      "outputs": [
        {
          "output_type": "execute_result",
          "data": {
            "text/plain": [
              "'t o   i n v e s t i g a t e   t h e   e f f i c a c y   o f   @   w e e k s   o f   d a i l y   l o w - d o s e   o r a l   p r e d n i s o l o n e   i n   i m p r o v i n g   p a i n   ,   m o b i l i t y   ,   a n d   s y s t e m i c   l o w - g r a d e   i n f l a m m a t i o n   i n   t h e   s h o r t   t e r m   a n d   w h e t h e r   t h e   e f f e c t   w o u l d   b e   s u s t a i n e d   a t   @   w e e k s   i n   o l d e r   a d u l t s   w i t h   m o d e r a t e   t o   s e v e r e   k n e e   o s t e o a r t h r i t i s   (   o a   )   .'"
            ],
            "application/vnd.google.colaboratory.intrinsic+json": {
              "type": "string"
            }
          },
          "metadata": {},
          "execution_count": 82
        }
      ]
    },
    {
      "cell_type": "code",
      "source": [
        "# Make Function to split sentences into characters\n",
        "def split_chars(text):\n",
        "  return \" \".join(list(text))\n",
        "\n",
        "# Text spliting non-character-level sequences into characters\n",
        "split_chars(random_train_sentence)"
      ],
      "metadata": {
        "colab": {
          "base_uri": "https://localhost:8080/",
          "height": 54
        },
        "id": "RkA0u9bQFyk0",
        "outputId": "cd370f5c-e820-4477-c2ee-1a7f34036f1d"
      },
      "execution_count": 83,
      "outputs": [
        {
          "output_type": "execute_result",
          "data": {
            "text/plain": [
              "'o n   d a y   @   ,   t h e   p a r t i c i p a n t s   c o n s u m e d   a   s t a n d a r d i z e d   b r e a k f a s t   a n d   l u n c h   ;   t h e   r e s p e c t i v e   s n a c k   w a s   c o n s u m e d   @ - h   p o s t - l u n c h   .'"
            ],
            "application/vnd.google.colaboratory.intrinsic+json": {
              "type": "string"
            }
          },
          "metadata": {},
          "execution_count": 83
        }
      ]
    },
    {
      "cell_type": "code",
      "source": [
        "# Split sequence-level data splits into character-level data splits\n",
        "train_chars = [split_chars(sentence) for sentence in train_sentences]\n",
        "val_chars = [split_chars(sentence) for sentence in val_sentences]\n",
        "test_chars = [split_chars(sentence) for sentence in test_sentences]\n",
        "\n",
        "train_chars[:5]"
      ],
      "metadata": {
        "colab": {
          "base_uri": "https://localhost:8080/"
        },
        "id": "c9GnQEDgGFeZ",
        "outputId": "1c9f21e7-8bc7-47f7-a843-7663ed62b1a6"
      },
      "execution_count": 84,
      "outputs": [
        {
          "output_type": "execute_result",
          "data": {
            "text/plain": [
              "['t o   i n v e s t i g a t e   t h e   e f f i c a c y   o f   @   w e e k s   o f   d a i l y   l o w - d o s e   o r a l   p r e d n i s o l o n e   i n   i m p r o v i n g   p a i n   ,   m o b i l i t y   ,   a n d   s y s t e m i c   l o w - g r a d e   i n f l a m m a t i o n   i n   t h e   s h o r t   t e r m   a n d   w h e t h e r   t h e   e f f e c t   w o u l d   b e   s u s t a i n e d   a t   @   w e e k s   i n   o l d e r   a d u l t s   w i t h   m o d e r a t e   t o   s e v e r e   k n e e   o s t e o a r t h r i t i s   (   o a   )   .',\n",
              " 'a   t o t a l   o f   @   p a t i e n t s   w i t h   p r i m a r y   k n e e   o a   w e r e   r a n d o m i z e d   @ : @   ;   @   r e c e i v e d   @   m g / d a y   o f   p r e d n i s o l o n e   a n d   @   r e c e i v e d   p l a c e b o   f o r   @   w e e k s   .',\n",
              " 'o u t c o m e   m e a s u r e s   i n c l u d e d   p a i n   r e d u c t i o n   a n d   i m p r o v e m e n t   i n   f u n c t i o n   s c o r e s   a n d   s y s t e m i c   i n f l a m m a t i o n   m a r k e r s   .',\n",
              " 'p a i n   w a s   a s s e s s e d   u s i n g   t h e   v i s u a l   a n a l o g   p a i n   s c a l e   (   @ - @   m m   )   .',\n",
              " 's e c o n d a r y   o u t c o m e   m e a s u r e s   i n c l u d e d   t h e   w e s t e r n   o n t a r i o   a n d   m c m a s t e r   u n i v e r s i t i e s   o s t e o a r t h r i t i s   i n d e x   s c o r e s   ,   p a t i e n t   g l o b a l   a s s e s s m e n t   (   p g a   )   o f   t h e   s e v e r i t y   o f   k n e e   o a   ,   a n d   @ - m i n   w a l k   d i s t a n c e   (   @ m w d   )   .']"
            ]
          },
          "metadata": {},
          "execution_count": 84
        }
      ]
    },
    {
      "cell_type": "code",
      "source": [
        "# what's the average character length (before the split)\n",
        "char_lens = [len(sentences) for sentences in train_sentences]\n",
        "mean_char_lens = np.mean(char_lens)\n",
        "mean_char_lens"
      ],
      "metadata": {
        "colab": {
          "base_uri": "https://localhost:8080/"
        },
        "id": "Z8Hbn_zUH6CE",
        "outputId": "918040dd-4432-44b2-cc70-6743c08900d0"
      },
      "execution_count": 85,
      "outputs": [
        {
          "output_type": "execute_result",
          "data": {
            "text/plain": [
              "149.3662574983337"
            ]
          },
          "metadata": {},
          "execution_count": 85
        }
      ]
    },
    {
      "cell_type": "code",
      "source": [
        "# Check the distribution\n",
        "import matplotlib.pyplot as plt\n",
        "plt.hist(char_lens, bins=20)"
      ],
      "metadata": {
        "colab": {
          "base_uri": "https://localhost:8080/",
          "height": 612
        },
        "id": "kNGTuaI2Ie7s",
        "outputId": "0f268ad5-7dca-42b8-f10b-10b65b2603c3"
      },
      "execution_count": 86,
      "outputs": [
        {
          "output_type": "execute_result",
          "data": {
            "text/plain": [
              "(array([2.2108e+04, 7.0583e+04, 5.3952e+04, 2.2391e+04, 7.4540e+03,\n",
              "        2.2350e+03, 8.0200e+02, 2.8700e+02, 1.1800e+02, 4.9000e+01,\n",
              "        2.9000e+01, 1.3000e+01, 8.0000e+00, 5.0000e+00, 1.0000e+00,\n",
              "        2.0000e+00, 1.0000e+00, 1.0000e+00, 0.0000e+00, 1.0000e+00]),\n",
              " array([1.00000e+00, 7.02500e+01, 1.39500e+02, 2.08750e+02, 2.78000e+02,\n",
              "        3.47250e+02, 4.16500e+02, 4.85750e+02, 5.55000e+02, 6.24250e+02,\n",
              "        6.93500e+02, 7.62750e+02, 8.32000e+02, 9.01250e+02, 9.70500e+02,\n",
              "        1.03975e+03, 1.10900e+03, 1.17825e+03, 1.24750e+03, 1.31675e+03,\n",
              "        1.38600e+03]),\n",
              " <BarContainer object of 20 artists>)"
            ]
          },
          "metadata": {},
          "execution_count": 86
        },
        {
          "output_type": "display_data",
          "data": {
            "text/plain": [
              "<Figure size 640x480 with 1 Axes>"
            ],
            "image/png": "[encoded data removed]"
          },
          "metadata": {}
        }
      ]
    },
    {
      "cell_type": "code",
      "source": [
        "# Find what character length covers 95% of sequences\n",
        "output_seq_char_len = int(np.percentile(char_lens, 95))\n",
        "output_seq_char_len"
      ],
      "metadata": {
        "colab": {
          "base_uri": "https://localhost:8080/"
        },
        "id": "_FMbmvejI7HL",
        "outputId": "5d835327-e2b9-41a9-fcc3-98fa66c6c39e"
      },
      "execution_count": 87,
      "outputs": [
        {
          "output_type": "execute_result",
          "data": {
            "text/plain": [
              "290"
            ]
          },
          "metadata": {},
          "execution_count": 87
        }
      ]
    },
    {
      "cell_type": "code",
      "source": [
        "# Get all keyboard characters\n",
        "import string\n",
        "alphabet = string.ascii_lowercase + string.digits + string.punctuation\n",
        "alphabet"
      ],
      "metadata": {
        "colab": {
          "base_uri": "https://localhost:8080/",
          "height": 36
        },
        "id": "HUmh78M8JQLb",
        "outputId": "68b230d3-3daa-4f30-bf9c-1531062fdf38"
      },
      "execution_count": 88,
      "outputs": [
        {
          "output_type": "execute_result",
          "data": {
            "text/plain": [
              "'abcdefghijklmnopqrstuvwxyz0123456789!\"#$%&\\'()*+,-./:;<=>?@[\\\\]^_`{|}~'"
            ],
            "application/vnd.google.colaboratory.intrinsic+json": {
              "type": "string"
            }
          },
          "metadata": {},
          "execution_count": 88
        }
      ]
    },
    {
      "cell_type": "code",
      "source": [
        "# Create char-level token vectorizer instance\n",
        "NUM_CHAR_TOKENS = len(alphabet) + 2 # add 2 for space and OOV token (OOV = out of vocab: '[UNK]') # 26+2 =28\n",
        "char_vectorizer = TextVectorization(max_tokens = NUM_CHAR_TOKENS,\n",
        "                                    output_sequence_length = output_seq_char_len,\n",
        "                                    #  can be set to None if we don't what stardization if we dont want to remove punctuation\n",
        "                                    standardize = 'lower_and_strip_punctuation', #Default # make everything lowercase and remove punctuation like @#/!...\n",
        "                                    name = 'char_vectorizer',\n",
        "                                    pad_to_max_tokens=True)"
      ],
      "metadata": {
        "id": "829mmzdVJ3y4"
      },
      "execution_count": 89,
      "outputs": []
    },
    {
      "cell_type": "code",
      "source": [
        "# Adapt charcter vectorizer to training character\n",
        "char_vectorizer.adapt(train_chars)"
      ],
      "metadata": {
        "id": "E0AGVNEkLFwj"
      },
      "execution_count": 90,
      "outputs": []
    },
    {
      "cell_type": "code",
      "source": [
        "# Check character vocab stats\n",
        "char_vocab = char_vectorizer.get_vocabulary()\n",
        "print(f\"Number of different characters in character vocab: {len(char_vocab)}\")\n",
        "print(f\"5 most common characters: {char_vocab[:5]}\")\n",
        "print(f\"5 least common characters: {char_vocab[-5:]}\")"
      ],
      "metadata": {
        "colab": {
          "base_uri": "https://localhost:8080/"
        },
        "id": "-uLOmXvoLRKp",
        "outputId": "c746d282-2ec3-4be3-ed79-a4b0498c1d09"
      },
      "execution_count": 91,
      "outputs": [
        {
          "output_type": "stream",
          "name": "stdout",
          "text": [
            "Number of different characters in character vocab: 28\n",
            "5 most common characters: ['', '[UNK]', 'e', 't', 'i']\n",
            "5 least common characters: ['k', 'x', 'z', 'q', 'j']\n"
          ]
        }
      ]
    },
    {
      "cell_type": "code",
      "source": [
        "random_train_chars = random.choice(train_chars)\n",
        "print(f\"Charified text:\\n {random_train_chars}\")\n",
        "print(f\"\\nLength of random_train_chars: {len(random_train_chars.split())}\")\n",
        "vectorized_chars = char_vectorizer([random_train_chars])\n",
        "print(f\"\\nVectorized chars:\\n {vectorized_chars}\")\n",
        "print(f\"\\nLength of vectorized chars: {len(vectorized_chars[0])}\")\n",
        "# 290 beacuse we set max_token 290"
      ],
      "metadata": {
        "colab": {
          "base_uri": "https://localhost:8080/"
        },
        "id": "yvW9GU0lLlYV",
        "outputId": "2293cf66-3a8d-4b4d-ae3f-7e26d9a01bb1"
      },
      "execution_count": 92,
      "outputs": [
        {
          "output_type": "stream",
          "name": "stdout",
          "text": [
            "Charified text:\n",
            " a   r a n d o m i z e d   b l i n d e d   p l a c e b o - c o n t r o l l e d   c r o s s o v e r   s t u d y   w a s   c o n d u c t e d   t o   e x a m i n e   t h e   e f f e c t s   o f   t r e a t m e n t   w i t h   p h e n y l b u t a z o n e   ,   m e l o x i c a m   ,   o r   a   p l a c e b o   (   c o n t r o l   s o l u t i o n   )   o n   r e n a l   r e s p o n s e s   t o   t h e   a d m i n i s t r a t i o n   o f   f u r o s e m i d e   ,   d o b u t a m i n e   ,   a n d   e x e r c i s e   (   @   m i n u t e s   a t   @   %   o f   m a x i m u m   h e a r t   r a t e   )   .\n",
            "\n",
            "Length of random_train_chars: 251\n",
            "\n",
            "Vectorized chars:\n",
            " [[ 5  8  5  6 10  7 15  4 25  2 10 22 12  4  6 10  2 10 14 12  5 11  2 22\n",
            "   7 11  7  6  3  8  7 12 12  2 10 11  8  7  9  9  7 21  2  8  9  3 16 10\n",
            "  19 20  5  9 11  7  6 10 16 11  3  2 10  3  7  2 24  5 15  4  6  2  3 13\n",
            "   2  2 17 17  2 11  3  9  7 17  3  8  2  5  3 15  2  6  3 20  4  3 13 14\n",
            "  13  2  6 19 12 22 16  3  5 25  7  6  2 15  2 12  7 24  4 11  5 15  7  8\n",
            "   5 14 12  5 11  2 22  7 11  7  6  3  8  7 12  9  7 12 16  3  4  7  6  7\n",
            "   6  8  2  6  5 12  8  2  9 14  7  6  9  2  9  3  7  3 13  2  5 10 15  4\n",
            "   6  4  9  3  8  5  3  4  7  6  7 17 17 16  8  7  9  2 15  4 10  2 10  7\n",
            "  22 16  3  5 15  4  6  2  5  6 10  2 24  2  8 11  4  9  2 15  4  6 16  3\n",
            "   2  9  5  3  7 17 15  5 24  4 15 16 15 13  2  5  8  3  8  5  3  2  0  0\n",
            "   0  0  0  0  0  0  0  0  0  0  0  0  0  0  0  0  0  0  0  0  0  0  0  0\n",
            "   0  0  0  0  0  0  0  0  0  0  0  0  0  0  0  0  0  0  0  0  0  0  0  0\n",
            "   0  0]]\n",
            "\n",
            "Length of vectorized chars: 290\n"
          ]
        }
      ]
    },
    {
      "cell_type": "markdown",
      "source": [
        "### Creating a character-level embedding"
      ],
      "metadata": {
        "id": "XIlBGmmlQ5AB"
      }
    },
    {
      "cell_type": "code",
      "source": [
        "from tensorflow.keras import layers\n",
        "\n",
        "char_embed = layers.Embedding(input_dim = len(char_vocab), # set the input shape,: 28\n",
        "                              # outout dimension: same as given in fig 1 in https://arxiv.org/pdf/1612.05251.pdf\n",
        "                              output_dim = 25, # Neural network especially that using GPU works greate with number divisible by 8 eg. 128. eacg word or token to 128 numerical values\n",
        "                              input_length = NUM_CHAR_TOKENS, # how long is each input\n",
        "                              mask_zero=True, # use masking to handle variable sequence length # just making sure for shape error # efficient computing if lots of zero\n",
        "                              name='char_embedding'\n",
        "                              )\n",
        "char_embed"
      ],
      "metadata": {
        "colab": {
          "base_uri": "https://localhost:8080/"
        },
        "id": "48dVC7LsOFua",
        "outputId": "d4610030-a209-4430-911a-fea873c41d1f"
      },
      "execution_count": 93,
      "outputs": [
        {
          "output_type": "execute_result",
          "data": {
            "text/plain": [
              "<keras.src.layers.core.embedding.Embedding at 0x7ea7f7882e60>"
            ]
          },
          "metadata": {},
          "execution_count": 93
        }
      ]
    },
    {
      "cell_type": "code",
      "source": [
        "# Test our charater embedding layer\n",
        "\n",
        "# Get a random sentence from the training set\n",
        "random_train_char= random.choice(train_chars)\n",
        "print(f\"Charified text:\\n {random_train_char}\\n\\n\")\n",
        "print(f\"Length of Charified text:\\n {len(random_train_char)}\\n\\n\")\n",
        "\n",
        "# Embed the random sentence (turn it into dense vector of fixed size)\n",
        "sample_char_embed = char_embed(char_vectorizer([random_train_char]))\n",
        "print(f\"Charified text after embedding:\\n {sample_char_embed}\\n\\n\")\n",
        "print(f\"Shape of Embedded Char_sample: {sample_char_embed.shape}\")"
      ],
      "metadata": {
        "colab": {
          "base_uri": "https://localhost:8080/"
        },
        "id": "c75nUnIbP_Zr",
        "outputId": "7539b523-cf96-4cf1-aeb5-b1231c5972b6"
      },
      "execution_count": 94,
      "outputs": [
        {
          "output_type": "stream",
          "name": "stdout",
          "text": [
            "Charified text:\n",
            " r e c r u i t m e n t   t a r g e t s   w e r e   m e t   i n   t h e   i n t e r v e n t i o n   (   @   e n r o l l e d   )   b u t   n o t   i n   c o n t r o l   v i l l a g e s   (   @   e n r o l l e d   )   .\n",
            "\n",
            "\n",
            "Length of Charified text:\n",
            " 215\n",
            "\n",
            "\n",
            "Charified text after embedding:\n",
            " [[[-0.0244071  -0.01289337 -0.00808655 ...  0.00768925 -0.01879532\n",
            "    0.00264109]\n",
            "  [-0.02007581 -0.03283103  0.04106324 ...  0.04154317  0.00817062\n",
            "    0.04571501]\n",
            "  [ 0.01496179  0.0019346  -0.00363263 ...  0.04740144 -0.01771158\n",
            "    0.03168922]\n",
            "  ...\n",
            "  [ 0.01367057  0.00513827  0.03146502 ...  0.01172142 -0.04671377\n",
            "    0.02195725]\n",
            "  [ 0.01367057  0.00513827  0.03146502 ...  0.01172142 -0.04671377\n",
            "    0.02195725]\n",
            "  [ 0.01367057  0.00513827  0.03146502 ...  0.01172142 -0.04671377\n",
            "    0.02195725]]]\n",
            "\n",
            "\n",
            "Shape of Embedded Char_sample: (1, 290, 25)\n"
          ]
        }
      ]
    },
    {
      "cell_type": "markdown",
      "source": [
        "### Building a Conv1D model to fit on character embeddings"
      ],
      "metadata": {
        "id": "084fU6U-WFDl"
      }
    },
    {
      "cell_type": "code",
      "source": [
        "# Build our Conv1D model to process sequences\n",
        "from tensorflow.keras import layers\n",
        "\n",
        "inputs = layers.Input(shape=(1,), dtype='string')\n",
        "character_vectors = char_vectorizer(inputs)\n",
        "char_embeddings = char_embed(character_vectors)\n",
        "print(char_embeddings.shape)\n",
        "\n",
        "\n",
        "\n",
        "x = layers.Conv1D(filters=64, # each review will diveded into 64 parts\n",
        "                  kernel_size=5, # 5 words at a time # may 5 no good for character level embedding may be use 15 or 20\n",
        "                  strides=1,\n",
        "                  activation='relu',\n",
        "                  padding='same')(char_embeddings) # padding will compress input like 15 to 13 if 'valid' (default). if 'same' no-compression\n",
        "print(x.shape)\n",
        "\n",
        "# x = layers.GlobalAveragePooling1D()(x) # Max Pool seems to be better for this data but for experimentation use Average\n",
        "x = layers.GlobalMaxPool1D()(x) # Max Pool seems to be better for this data\n",
        "print(x.shape)\n",
        "\n",
        "# x = layers.Dense(64, activation=\"relu\")(x)\n",
        "# print(x.shape)\n",
        "outputs = layers.Dense(num_classes, activation=\"softmax\")(x) # num_classes = 5 # number of our ouptut\n",
        "print(outputs.shape)\n",
        "model_3 = tf.keras.Model(inputs, outputs, name='model_3_conv1D_Char_embedding')"
      ],
      "metadata": {
        "colab": {
          "base_uri": "https://localhost:8080/"
        },
        "id": "YjRtQlIAUmtH",
        "outputId": "31b7313e-c967-4591-e388-8dfa55734f10"
      },
      "execution_count": 95,
      "outputs": [
        {
          "output_type": "stream",
          "name": "stdout",
          "text": [
            "(None, 290, 25)\n",
            "(None, 290, 64)\n",
            "(None, 64)\n",
            "(None, 5)\n"
          ]
        }
      ]
    },
    {
      "cell_type": "code",
      "source": [
        "# Compile  Conv1D\n",
        "model_3.compile(loss='categorical_crossentropy',\n",
        "                optimizer=tf.keras.optimizers.Adam(),\n",
        "                metrics=[\"accuracy\"])\n",
        "\n",
        "# Get a summary()\n",
        "model_3.summary()\n",
        "\n",
        "#Seems like very very less trainable patterns than Model1 where we use text level embedding why? because in model1 emebedding lyaer: ouptput dim 128 but here is just 25"
      ],
      "metadata": {
        "colab": {
          "base_uri": "https://localhost:8080/"
        },
        "id": "_6Wwx78fVJAp",
        "outputId": "f9f6a6ec-0385-44ff-8b95-e071a598978a"
      },
      "execution_count": 96,
      "outputs": [
        {
          "output_type": "stream",
          "name": "stdout",
          "text": [
            "Model: \"model_3_conv1D_Char_embedding\"\n",
            "_________________________________________________________________\n",
            " Layer (type)                Output Shape              Param #   \n",
            "=================================================================\n",
            " input_2 (InputLayer)        [(None, 1)]               0         \n",
            "                                                                 \n",
            " char_vectorizer (TextVecto  (None, 290)               0         \n",
            " rization)                                                       \n",
            "                                                                 \n",
            " char_embedding (Embedding)  (None, 290, 25)           700       \n",
            "                                                                 \n",
            " conv1d_1 (Conv1D)           (None, 290, 64)           8064      \n",
            "                                                                 \n",
            " global_max_pooling1d_1 (Gl  (None, 64)                0         \n",
            " obalMaxPooling1D)                                               \n",
            "                                                                 \n",
            " dense_3 (Dense)             (None, 5)                 325       \n",
            "                                                                 \n",
            "=================================================================\n",
            "Total params: 9089 (35.50 KB)\n",
            "Trainable params: 9089 (35.50 KB)\n",
            "Non-trainable params: 0 (0.00 Byte)\n",
            "_________________________________________________________________\n"
          ]
        }
      ]
    },
    {
      "cell_type": "code",
      "source": [
        "model_1.summary()"
      ],
      "metadata": {
        "colab": {
          "base_uri": "https://localhost:8080/"
        },
        "id": "N-i3NBe8X4AZ",
        "outputId": "c5803c24-bbc3-438e-fd28-4ef32a675f90"
      },
      "execution_count": 97,
      "outputs": [
        {
          "output_type": "stream",
          "name": "stdout",
          "text": [
            "Model: \"model_1_conv1D\"\n",
            "_________________________________________________________________\n",
            " Layer (type)                Output Shape              Param #   \n",
            "=================================================================\n",
            " input_1 (InputLayer)        [(None, 1)]               0         \n",
            "                                                                 \n",
            " text_vectorization_1 (Text  (None, 55)                0         \n",
            " Vectorization)                                                  \n",
            "                                                                 \n",
            " token_embedding (Embedding  (None, 55, 128)           8299648   \n",
            " )                                                               \n",
            "                                                                 \n",
            " conv1d (Conv1D)             (None, 55, 64)            41024     \n",
            "                                                                 \n",
            " global_max_pooling1d (Glob  (None, 64)                0         \n",
            " alMaxPooling1D)                                                 \n",
            "                                                                 \n",
            " dense (Dense)               (None, 5)                 325       \n",
            "                                                                 \n",
            "=================================================================\n",
            "Total params: 8340997 (31.82 MB)\n",
            "Trainable params: 8340997 (31.82 MB)\n",
            "Non-trainable params: 0 (0.00 Byte)\n",
            "_________________________________________________________________\n"
          ]
        }
      ]
    },
    {
      "cell_type": "code",
      "source": [
        "# Turn our data in TensorFlow Datasets\n",
        "train_char_dataset = tf.data.Dataset.from_tensor_slices((train_chars, train_labels_one_hot)) #(one_hot or label encoded both good). Here one hot beacuase we want feature we want to use on loss function that wont work on label encoded\n",
        "valid_char_dataset = tf.data.Dataset.from_tensor_slices((val_chars, val_labels_one_hot))\n",
        "test_char_dataset = tf.data.Dataset.from_tensor_slices((test_chars, test_labels_one_hot))\n",
        "\n",
        "train_char_dataset"
      ],
      "metadata": {
        "colab": {
          "base_uri": "https://localhost:8080/"
        },
        "id": "794cGwRRR7Qw",
        "outputId": "84147dc8-5be4-40c3-d98a-190951452917"
      },
      "execution_count": 98,
      "outputs": [
        {
          "output_type": "execute_result",
          "data": {
            "text/plain": [
              "<_TensorSliceDataset element_spec=(TensorSpec(shape=(), dtype=tf.string, name=None), TensorSpec(shape=(5,), dtype=tf.float64, name=None))>"
            ]
          },
          "metadata": {},
          "execution_count": 98
        }
      ]
    },
    {
      "cell_type": "code",
      "source": [
        "train_labels_one_hot.shape, train_labels_one_hot[0] # above 5 in TensorSpec(shape=(5,) came from here"
      ],
      "metadata": {
        "colab": {
          "base_uri": "https://localhost:8080/"
        },
        "id": "fwEC355NUH7k",
        "outputId": "505df78e-bc38-46ac-d7d3-dfde68ee7731"
      },
      "execution_count": 99,
      "outputs": [
        {
          "output_type": "execute_result",
          "data": {
            "text/plain": [
              "((180040, 5), array([0., 0., 0., 1., 0.]))"
            ]
          },
          "metadata": {},
          "execution_count": 99
        }
      ]
    },
    {
      "cell_type": "code",
      "source": [
        "# Take the TensorSliceDataset's and turn them into prefetched datasets\n",
        "\n",
        "# Very imp: We don't shuffle or dataset here: because order of dataset is very very importand.\n",
        "train_char_dataset = train_char_dataset.batch(32).prefetch(tf.data.AUTOTUNE) # automatically prefetch any many as you can\n",
        "valid_char_dataset = valid_char_dataset.batch(32).prefetch(tf.data.AUTOTUNE)\n",
        "test_char_dataset = test_char_dataset.batch(32).prefetch(tf.data.AUTOTUNE)\n",
        "\n",
        "train_char_dataset # (string, label)"
      ],
      "metadata": {
        "colab": {
          "base_uri": "https://localhost:8080/"
        },
        "id": "1QUxb4opUYkf",
        "outputId": "a31dc39b-2f50-4410-a667-058f4876d747"
      },
      "execution_count": 100,
      "outputs": [
        {
          "output_type": "execute_result",
          "data": {
            "text/plain": [
              "<_PrefetchDataset element_spec=(TensorSpec(shape=(None,), dtype=tf.string, name=None), TensorSpec(shape=(None, 5), dtype=tf.float64, name=None))>"
            ]
          },
          "metadata": {},
          "execution_count": 100
        }
      ]
    },
    {
      "cell_type": "code",
      "source": [
        "# Fit the model\n",
        "# faster experiment by reducing data to 10% by steps_per_epoch helps us to get know what doenot work and what does work\n",
        "model_3_history = model_3.fit(train_char_dataset,\n",
        "                              steps_per_epoch = int(0.1 * len(train_char_dataset)), # dataset is very big: 180064 so we want 10% of batches of data for faster training\n",
        "                              epochs=3,\n",
        "                              validation_data = valid_char_dataset,\n",
        "                              validation_steps = int(0.1 * len(valid_char_dataset)) # validation on only 10% of batches of  data\n",
        "                              )"
      ],
      "metadata": {
        "colab": {
          "base_uri": "https://localhost:8080/"
        },
        "id": "Bqtge2d-VaA3",
        "outputId": "44738185-2cc3-49d4-a0b6-239af00ee07e"
      },
      "execution_count": 101,
      "outputs": [
        {
          "output_type": "stream",
          "name": "stdout",
          "text": [
            "Epoch 1/3\n",
            "562/562 [==============================] - 13s 21ms/step - loss: 1.2649 - accuracy: 0.4892 - val_loss: 1.0451 - val_accuracy: 0.5941\n",
            "Epoch 2/3\n",
            "562/562 [==============================] - 12s 21ms/step - loss: 0.9970 - accuracy: 0.6062 - val_loss: 0.9270 - val_accuracy: 0.6366\n",
            "Epoch 3/3\n",
            "562/562 [==============================] - 12s 21ms/step - loss: 0.9130 - accuracy: 0.6458 - val_loss: 0.8527 - val_accuracy: 0.6749\n"
          ]
        }
      ]
    },
    {
      "cell_type": "code",
      "source": [
        "# Evaluation with model_3 with whole validation dataset\n",
        "model_3.evaluate(valid_char_dataset)"
      ],
      "metadata": {
        "colab": {
          "base_uri": "https://localhost:8080/"
        },
        "id": "VJ2JFkLtVtIY",
        "outputId": "ce91acee-f36d-4b1b-e918-b7be1091cab7"
      },
      "execution_count": 102,
      "outputs": [
        {
          "output_type": "stream",
          "name": "stdout",
          "text": [
            "945/945 [==============================] - 6s 7ms/step - loss: 0.8763 - accuracy: 0.6614\n"
          ]
        },
        {
          "output_type": "execute_result",
          "data": {
            "text/plain": [
              "[0.8762913346290588, 0.6613597273826599]"
            ]
          },
          "metadata": {},
          "execution_count": 102
        }
      ]
    },
    {
      "cell_type": "code",
      "source": [
        "# Make prediction with charater model_3\n",
        "model_3_pred_probs = model_3.predict(valid_char_dataset)\n",
        "model_3_pred_probs[:10]"
      ],
      "metadata": {
        "colab": {
          "base_uri": "https://localhost:8080/"
        },
        "id": "-sInHXTzZqzL",
        "outputId": "13f04863-7cba-44a3-aeaa-4cc345eadfa4"
      },
      "execution_count": 103,
      "outputs": [
        {
          "output_type": "stream",
          "name": "stdout",
          "text": [
            "945/945 [==============================] - 7s 7ms/step\n"
          ]
        },
        {
          "output_type": "execute_result",
          "data": {
            "text/plain": [
              "array([[1.9455217e-01, 4.4033954e-01, 8.8223957e-02, 2.3464677e-01,\n",
              "        4.2237647e-02],\n",
              "       [2.9715410e-01, 1.5647215e-01, 9.1151549e-03, 5.3099620e-01,\n",
              "        6.2624486e-03],\n",
              "       [1.6716786e-01, 1.8985233e-01, 4.9730733e-02, 5.6437254e-01,\n",
              "        2.8876608e-02],\n",
              "       [1.1286393e-02, 1.5332609e-02, 8.5785335e-01, 1.3448172e-02,\n",
              "        1.0207946e-01],\n",
              "       [7.7972603e-03, 2.4981299e-02, 6.3652527e-01, 9.1954516e-03,\n",
              "        3.2150060e-01],\n",
              "       [5.2712270e-04, 6.3662376e-04, 7.6511556e-01, 4.5752098e-04,\n",
              "        2.3326313e-01],\n",
              "       [4.8481552e-03, 9.4527351e-03, 7.7135903e-01, 9.8686917e-03,\n",
              "        2.0447132e-01],\n",
              "       [2.5515082e-01, 3.2061449e-01, 8.3386227e-02, 1.6525826e-01,\n",
              "        1.7559014e-01],\n",
              "       [2.0820294e-03, 1.2948066e-02, 1.3234486e-01, 6.3758418e-03,\n",
              "        8.4624904e-01],\n",
              "       [6.9044046e-02, 2.3438999e-01, 2.5848907e-01, 1.0211004e-01,\n",
              "        3.3596683e-01]], dtype=float32)"
            ]
          },
          "metadata": {},
          "execution_count": 103
        }
      ]
    },
    {
      "cell_type": "code",
      "source": [
        "model_3_preds = tf.argmax(model_3_pred_probs, axis=1)\n",
        "model_3_preds"
      ],
      "metadata": {
        "colab": {
          "base_uri": "https://localhost:8080/"
        },
        "id": "sA9zHBU3aQQd",
        "outputId": "2a91484e-6f6e-4b13-84b1-e765c4923869"
      },
      "execution_count": 104,
      "outputs": [
        {
          "output_type": "execute_result",
          "data": {
            "text/plain": [
              "<tf.Tensor: shape=(30212,), dtype=int64, numpy=array([1, 3, 3, ..., 4, 4, 0])>"
            ]
          },
          "metadata": {},
          "execution_count": 104
        }
      ]
    },
    {
      "cell_type": "code",
      "source": [
        "# Calculate model_1 results\n",
        "model_3_results = calculate_results(y_true = val_labels_encoded,\n",
        "                                    y_pred = model_3_preds)\n",
        "model_3_results\n",
        "# Worst model yet\n",
        "# seems like our model_3_charavter_embedding is worse than baseline and model_1 and model_2: probably due to less parameters (trainable) here"
      ],
      "metadata": {
        "colab": {
          "base_uri": "https://localhost:8080/"
        },
        "id": "HU1vbKT5aoXD",
        "outputId": "8c5e2a13-208a-4b58-f233-6bd3b9a5f9ff"
      },
      "execution_count": 105,
      "outputs": [
        {
          "output_type": "execute_result",
          "data": {
            "text/plain": [
              "{'accuracy': 66.13597246127367,\n",
              " 'precision': 0.6571971388222556,\n",
              " 'recall': 0.6613597246127366,\n",
              " 'f1': 0.6526440538447366}"
            ]
          },
          "metadata": {},
          "execution_count": 105
        }
      ]
    },
    {
      "cell_type": "code",
      "source": [
        "baseline_results"
      ],
      "metadata": {
        "colab": {
          "base_uri": "https://localhost:8080/"
        },
        "id": "I4MTrTdAbFFS",
        "outputId": "6d55beb6-011e-4b48-dd0b-36e974a47404"
      },
      "execution_count": 106,
      "outputs": [
        {
          "output_type": "execute_result",
          "data": {
            "text/plain": [
              "{'accuracy': 72.1832384482987,\n",
              " 'precision': 0.7186466952323352,\n",
              " 'recall': 0.7218323844829869,\n",
              " 'f1': 0.6989250353450294}"
            ]
          },
          "metadata": {},
          "execution_count": 106
        }
      ]
    },
    {
      "cell_type": "markdown",
      "source": [
        "## Model 4: Combining pretrained token embeddings + characters embeddings (hybrid embeddings layer)\n",
        "\n",
        "1. Create a token-level embedding model (similar `model_1`)\n",
        "2. Create a  character-level model (similar to `model_3` with a slight modification)\n",
        "3. Combine 1 and 2 with a concatenate (`layer.Concatenate`)\n",
        "4. Build a series of output layers on top 3 similar to figure 1 and section Training 4.2 of paper: https://arxiv.org/pdf/1612.05251.pdf\n",
        "5. Construct a model that token and character level sequence as input and produces sequence label probabilities as output."
      ],
      "metadata": {
        "id": "fhPXfZvEbHB2"
      }
    },
    {
      "cell_type": "code",
      "source": [
        "# Create a keras layer using the USE pretrained layer from  tensorflow hub\n",
        "\n",
        "# turn the link into layer\n",
        "tf_hub_embedding_layer = hub.KerasLayer(\"https://www.kaggle.com/models/google/universal-sentence-encoder/frameworks/TensorFlow2/variations/universal-sentence-encoder/versions/2\",\n",
        "\n",
        "                                        # Previously we had to limit the input but here we don't need to do that\n",
        "                                        #The input is variable length English text so input can be variable length. (documentaion of universal-sentence-encoder in kaggle)\n",
        "                                        input_shape=[],\n",
        "\n",
        "                                        dtype=tf.string,\n",
        "                                        trainable=False, # pretrained weights stay same,\n",
        "                                        name='USE'\n",
        "                                        )"
      ],
      "metadata": {
        "id": "spQyfarL8Tpn"
      },
      "execution_count": 107,
      "outputs": []
    },
    {
      "cell_type": "code",
      "source": [
        "# 1. Setup token inputs/model\n",
        "token_inputs = layers.Input (shape=[],dtype=tf.string, name = \"token_input\")\n",
        "token_embeddings = tf_hub_embedding_layer (token_inputs)\n",
        "token_outputs = layers.Dense (128, activation=\"relu\")(token_embeddings)\n",
        "print(token_outputs.shape)\n",
        "token_model = tf.keras.Model (inputs = token_inputs,\n",
        "                             outputs = token_outputs)\n",
        "\n",
        "# 2.  Setup char inputs/model\n",
        "char_inputs = layers.Input(shape = (1,),dtype = tf.string, name = \"char_input\")\n",
        "char_vectors = char_vectorizer(char_inputs)\n",
        "char_embeddings = char_embed(char_vectors) # 25 was the output dimension we set before\n",
        "# bidirection so 24 + 24 = 48 output . 24 instead of 25 like in fig1 because multiple of 8 is better for faster runtime\n",
        "char_bi_lstm = layers.Bidirectional(layers.LSTM(24))(char_embeddings) # bi_LSTM shown in fig 1 of https://arxiv.org/pdf/1612.05251.pdf\n",
        "print(char_bi_lstm.shape)\n",
        "char_model = tf.keras.Model(inputs = char_inputs,\n",
        "                            outputs = char_bi_lstm)\n",
        "\n",
        "# 3. Contcatenate token and char inputs (Create hybrid token embedding)\n",
        "token_char_concat = layers.Concatenate(name=\"token_char_hybrid\")([token_model.output,\n",
        "                                                                 char_model.output])\n",
        "\n",
        "# 4. Create output layers - adding in Dropout, discussed in section 4.2 of https://arxiv.org/pdf/1612.05251.pdf, nyst see to realize what we are doing here.\n",
        "# for regularization or overfitting: randomly drops 0.5 learned weights or 50% of input units set to zero randomly At the ends only keep the important weights only\n",
        "combined_dropout = layers.Dropout(0.5)(token_char_concat)\n",
        "combined_dense = layers.Dense(128, activation=\"relu\")(combined_dropout)\n",
        "final_dropout = layers.Dropout(0.5)(combined_dense)\n",
        "\n",
        "output_layer = layers.Dense(num_classes, activation=\"softmax\")(final_dropout)\n",
        "print(output_layer.shape)\n",
        "\n",
        "#5. Construct model with char and token inputs\n",
        "model_4 = tf.keras.Model(inputs = [token_model.input, char_model.input], # while fitting or creating data pipeline order match this order of inputs\n",
        "                         outputs = output_layer,\n",
        "                         name = \"model_4_token_and_char_embeddings\")\n"
      ],
      "metadata": {
        "colab": {
          "base_uri": "https://localhost:8080/"
        },
        "id": "YvzsXFUX8DFX",
        "outputId": "bab4bbcd-1e0b-48c5-d24d-878365cfc8e5"
      },
      "execution_count": 138,
      "outputs": [
        {
          "output_type": "stream",
          "name": "stdout",
          "text": [
            "(None, 128)\n",
            "(None, 48)\n",
            "(None, 5)\n"
          ]
        }
      ]
    },
    {
      "cell_type": "code",
      "source": [
        "model_4.summary()"
      ],
      "metadata": {
        "colab": {
          "base_uri": "https://localhost:8080/"
        },
        "id": "Ej70APNXS4Eq",
        "outputId": "916b7a1e-4734-4edc-b145-d4c08ba5250b"
      },
      "execution_count": 140,
      "outputs": [
        {
          "output_type": "stream",
          "name": "stdout",
          "text": [
            "Model: \"model_4_token_and_char_embeddings\"\n",
            "__________________________________________________________________________________________________\n",
            " Layer (type)                Output Shape                 Param #   Connected to                  \n",
            "==================================================================================================\n",
            " char_input (InputLayer)     [(None, 1)]                  0         []                            \n",
            "                                                                                                  \n",
            " token_input (InputLayer)    [(None,)]                    0         []                            \n",
            "                                                                                                  \n",
            " char_vectorizer (TextVecto  (None, 290)                  0         ['char_input[0][0]']          \n",
            " rization)                                                                                        \n",
            "                                                                                                  \n",
            " USE (KerasLayer)            (None, 512)                  2567978   ['token_input[0][0]']         \n",
            "                                                          24                                      \n",
            "                                                                                                  \n",
            " char_embedding (Embedding)  (None, 290, 25)              700       ['char_vectorizer[26][0]']    \n",
            "                                                                                                  \n",
            " dense_81 (Dense)            (None, 128)                  65664     ['USE[7][0]']                 \n",
            "                                                                                                  \n",
            " bidirectional_6 (Bidirecti  (None, 48)                   9600      ['char_embedding[26][0]']     \n",
            " onal)                                                                                            \n",
            "                                                                                                  \n",
            " token_char_hybrid (Concate  (None, 176)                  0         ['dense_81[0][0]',            \n",
            " nate)                                                               'bidirectional_6[0][0]']     \n",
            "                                                                                                  \n",
            " dropout_33 (Dropout)        (None, 176)                  0         ['token_char_hybrid[0][0]']   \n",
            "                                                                                                  \n",
            " dense_82 (Dense)            (None, 128)                  22656     ['dropout_33[0][0]']          \n",
            "                                                                                                  \n",
            " dropout_34 (Dropout)        (None, 128)                  0         ['dense_82[0][0]']            \n",
            "                                                                                                  \n",
            " dense_83 (Dense)            (None, 5)                    645       ['dropout_34[0][0]']          \n",
            "                                                                                                  \n",
            "==================================================================================================\n",
            "Total params: 256897089 (979.98 MB)\n",
            "Trainable params: 99265 (387.75 KB)\n",
            "Non-trainable params: 256797824 (979.61 MB)\n",
            "__________________________________________________________________________________________________\n"
          ]
        }
      ]
    },
    {
      "cell_type": "code",
      "source": [
        "# Plot hybrid token and character model\n",
        "from keras.utils import plot_model\n",
        "plot_model(model_4,show_shapes=True)\n",
        "\n",
        "# Tip None means batch size"
      ],
      "metadata": {
        "colab": {
          "base_uri": "https://localhost:8080/",
          "height": 976
        },
        "id": "JzyX6YO9lkvC",
        "outputId": "322a09c5-9509-48e9-8068-0e7afa8b312b"
      },
      "execution_count": 146,
      "outputs": [
        {
          "output_type": "execute_result",
          "data": {
            "image/png": "[encoded data removed]",
            "text/plain": [
              "<IPython.core.display.Image object>"
            ]
          },
          "metadata": {},
          "execution_count": 146
        }
      ]
    },
    {
      "cell_type": "markdown",
      "source": [
        "Amazing paper if we want to learn about combininig different model like above: https://medium.com/airbnb-engineering/widetext-a-multimodal-deep-learning-framework-31ce2565880c"
      ],
      "metadata": {
        "id": "tacCiRjRm4bZ"
      }
    },
    {
      "cell_type": "code",
      "source": [
        "# Compile token Char model\n",
        "model_4.compile(loss = \"categorical_crossentropy\",\n",
        "                optimizer = tf.keras.optimizers.Adam(), # section 4.3 of paper says they used SGD but we will use Adam,\n",
        "                metrics=[\"accuracy\"])"
      ],
      "metadata": {
        "id": "aGiUxxyGnTa9"
      },
      "execution_count": 154,
      "outputs": []
    },
    {
      "cell_type": "markdown",
      "source": [
        "### Combining token and character data into tf.data Dataset"
      ],
      "metadata": {
        "id": "BJ7uTnnHn69n"
      }
    },
    {
      "cell_type": "code",
      "source": [
        "# for training dataset\n",
        "# Combine chars and tokens into dataset\n",
        "train_char_token_data = tf.data.Dataset.from_tensor_slices((train_sentences, train_chars))\n",
        "train_char_token_labels = tf.data.Dataset.from_tensor_slices(train_labels_one_hot) # make the labels\n",
        "train_char_token_dataset = tf.data.Dataset.zip(train_char_token_data, train_char_token_labels)# zip combine existing datasets\n",
        "\n",
        "# Prefetch and batch train data\n",
        "train_char_token_dataset = train_char_token_dataset.batch(32).prefetch(tf.data.AUTOTUNE)"
      ],
      "metadata": {
        "id": "0sTpY_3moDit"
      },
      "execution_count": 148,
      "outputs": []
    },
    {
      "cell_type": "code",
      "source": [
        "# for our validation dataset\n",
        "# Combine chars and tokens into dataset\n",
        "val_char_token_data = tf.data.Dataset.from_tensor_slices((val_sentences, val_chars))\n",
        "val_char_token_labels = tf.data.Dataset.from_tensor_slices(val_labels_one_hot) # make the labels\n",
        "val_char_token_dataset = tf.data.Dataset.zip(val_char_token_data, val_char_token_labels)# zip combine existing datasets\n",
        "\n",
        "# Prefetch and batch val data\n",
        "val_char_token_dataset = val_char_token_dataset.batch(32).prefetch(tf.data.AUTOTUNE)"
      ],
      "metadata": {
        "id": "_E6SvwKNrLuF"
      },
      "execution_count": 149,
      "outputs": []
    },
    {
      "cell_type": "code",
      "source": [
        "# for our test dataset\n",
        "# Combine chars and tokens into dataset\n",
        "test_char_token_data = tf.data.Dataset.from_tensor_slices((test_sentences, test_chars))\n",
        "test_char_token_labels = tf.data.Dataset.from_tensor_slices(test_labels_one_hot) # make the labels\n",
        "test_char_token_dataset = tf.data.Dataset.zip(test_char_token_data, test_char_token_labels)# zip combine existing datasets\n",
        "\n",
        "# Prefetch and batch train data\n",
        "test_char_token_dataset = test_char_token_dataset.batch(32).prefetch(tf.data.AUTOTUNE)"
      ],
      "metadata": {
        "id": "qg34v8xprcfw"
      },
      "execution_count": 150,
      "outputs": []
    },
    {
      "cell_type": "code",
      "source": [
        "# Check out our training char and token embedding datasets\n",
        "train_char_token_dataset, val_char_token_dataset"
      ],
      "metadata": {
        "colab": {
          "base_uri": "https://localhost:8080/"
        },
        "id": "pMA78Dk5r1wp",
        "outputId": "ad1ada9e-c186-4881-bae0-df1fecb0da81"
      },
      "execution_count": 151,
      "outputs": [
        {
          "output_type": "execute_result",
          "data": {
            "text/plain": [
              "(<_PrefetchDataset element_spec=((TensorSpec(shape=(None,), dtype=tf.string, name=None), TensorSpec(shape=(None,), dtype=tf.string, name=None)), TensorSpec(shape=(None, 5), dtype=tf.float64, name=None))>,\n",
              " <_PrefetchDataset element_spec=((TensorSpec(shape=(None,), dtype=tf.string, name=None), TensorSpec(shape=(None,), dtype=tf.string, name=None)), TensorSpec(shape=(None, 5), dtype=tf.float64, name=None))>)"
            ]
          },
          "metadata": {},
          "execution_count": 151
        }
      ]
    },
    {
      "cell_type": "markdown",
      "source": [
        "### Fitting a model on token and character-level sequences"
      ],
      "metadata": {
        "id": "8Dl34OjtsbSY"
      }
    },
    {
      "cell_type": "code",
      "source": [
        "# Fit the model on tokens and chars\n",
        "history_model_4 = model_4.fit(train_char_token_dataset,\n",
        "                              steps_per_epoch = int(0.1 * len(train_char_token_dataset)),\n",
        "                              epochs = 3,\n",
        "                              validation_data = val_char_token_dataset,\n",
        "                              validation_steps = int(0.1 * len(val_char_token_dataset)))"
      ],
      "metadata": {
        "colab": {
          "base_uri": "https://localhost:8080/"
        },
        "id": "VCNMD95ZshUP",
        "outputId": "b0f08f95-666a-47af-ad68-49df40366c12"
      },
      "execution_count": 155,
      "outputs": [
        {
          "output_type": "stream",
          "name": "stdout",
          "text": [
            "Epoch 1/3\n",
            "562/562 [==============================] - 204s 337ms/step - loss: 0.9880 - accuracy: 0.6038 - val_loss: 0.7761 - val_accuracy: 0.6971\n",
            "Epoch 2/3\n",
            "562/562 [==============================] - 193s 344ms/step - loss: 0.7961 - accuracy: 0.6882 - val_loss: 0.7152 - val_accuracy: 0.7264\n",
            "Epoch 3/3\n",
            "562/562 [==============================] - 197s 351ms/step - loss: 0.7724 - accuracy: 0.7052 - val_loss: 0.6810 - val_accuracy: 0.7447\n"
          ]
        }
      ]
    },
    {
      "cell_type": "code",
      "source": [
        "# Evaluate on the whole validatation dataset\n",
        "model_4.evaluate(val_char_token_dataset)"
      ],
      "metadata": {
        "colab": {
          "base_uri": "https://localhost:8080/"
        },
        "id": "BhnRHQhNuB-3",
        "outputId": "0e8f71cb-7ab2-444e-ba91-ac654ae05692"
      },
      "execution_count": 156,
      "outputs": [
        {
          "output_type": "stream",
          "name": "stdout",
          "text": [
            "945/945 [==============================] - 69s 73ms/step - loss: 0.6885 - accuracy: 0.7377\n"
          ]
        },
        {
          "output_type": "execute_result",
          "data": {
            "text/plain": [
              "[0.6884687542915344, 0.7377201318740845]"
            ]
          },
          "metadata": {},
          "execution_count": 156
        }
      ]
    },
    {
      "cell_type": "code",
      "source": [
        "# Make prediction on the whole token-character model hybrid\n",
        "model_4_pred_probs = model_4.predict(val_char_token_dataset) # Must: val_char_token_dataset is in same format as train_char_token dataset\n",
        "model_4_pred_probs"
      ],
      "metadata": {
        "colab": {
          "base_uri": "https://localhost:8080/"
        },
        "id": "jQGs6fzSuX_1",
        "outputId": "3ee54afc-6edb-4fd6-d2f3-99c4a259d19b"
      },
      "execution_count": 157,
      "outputs": [
        {
          "output_type": "stream",
          "name": "stdout",
          "text": [
            "945/945 [==============================] - 61s 60ms/step\n"
          ]
        },
        {
          "output_type": "execute_result",
          "data": {
            "text/plain": [
              "array([[4.2485711e-01, 4.2059097e-01, 2.6881837e-03, 1.4654931e-01,\n",
              "        5.3145010e-03],\n",
              "       [3.5513827e-01, 4.7187588e-01, 1.8611188e-03, 1.7026700e-01,\n",
              "        8.5775723e-04],\n",
              "       [3.1037778e-01, 1.4470910e-01, 2.8097926e-02, 4.9706423e-01,\n",
              "        1.9751051e-02],\n",
              "       ...,\n",
              "       [6.1372906e-04, 7.6130382e-03, 6.2272310e-02, 2.6477204e-04,\n",
              "        9.2923617e-01],\n",
              "       [5.9520165e-03, 5.4197580e-02, 2.2179505e-01, 3.3643248e-03,\n",
              "        7.1469104e-01],\n",
              "       [3.2383898e-01, 2.8471094e-01, 3.0196798e-01, 4.4599745e-02,\n",
              "        4.4882286e-02]], dtype=float32)"
            ]
          },
          "metadata": {},
          "execution_count": 157
        }
      ]
    },
    {
      "cell_type": "code",
      "source": [
        "# probs to pred\n",
        "model_4_preds = tf.argmax(model_4_pred_probs, axis=1)\n",
        "model_4_preds"
      ],
      "metadata": {
        "colab": {
          "base_uri": "https://localhost:8080/"
        },
        "id": "u609xDrRvgP5",
        "outputId": "d25e9cb9-280a-4f47-ab79-135f2abb584e"
      },
      "execution_count": 158,
      "outputs": [
        {
          "output_type": "execute_result",
          "data": {
            "text/plain": [
              "<tf.Tensor: shape=(30212,), dtype=int64, numpy=array([0, 1, 3, ..., 4, 4, 0])>"
            ]
          },
          "metadata": {},
          "execution_count": 158
        }
      ]
    },
    {
      "cell_type": "code",
      "source": [
        "# Calculate model_4 results\n",
        "model_4_results = calculate_results(y_true = val_labels_encoded,\n",
        "                                    y_pred = model_4_preds)\n",
        "model_4_results\n",
        "# seems like our model_4 results is worst than model_1"
      ],
      "metadata": {
        "colab": {
          "base_uri": "https://localhost:8080/"
        },
        "id": "ABs5he04v02J",
        "outputId": "a8439d35-053c-4ed1-809e-2c05691d0b2b"
      },
      "execution_count": 159,
      "outputs": [
        {
          "output_type": "execute_result",
          "data": {
            "text/plain": [
              "{'accuracy': 73.77201112140871,\n",
              " 'precision': 0.7371268435578328,\n",
              " 'recall': 0.7377201112140871,\n",
              " 'f1': 0.7343122840474868}"
            ]
          },
          "metadata": {},
          "execution_count": 159
        }
      ]
    },
    {
      "cell_type": "code",
      "source": [
        "baseline_results"
      ],
      "metadata": {
        "colab": {
          "base_uri": "https://localhost:8080/"
        },
        "id": "BRKvdxjxwYZL",
        "outputId": "cb9c6651-9769-49fa-8d6b-a201bdb45e70"
      },
      "execution_count": 160,
      "outputs": [
        {
          "output_type": "execute_result",
          "data": {
            "text/plain": [
              "{'accuracy': 72.1832384482987,\n",
              " 'precision': 0.7186466952323352,\n",
              " 'recall': 0.7218323844829869,\n",
              " 'f1': 0.6989250353450294}"
            ]
          },
          "metadata": {},
          "execution_count": 160
        }
      ]
    },
    {
      "cell_type": "markdown",
      "source": [
        "#### 📖Exercise: Creating my own complex Model (just for fun)"
      ],
      "metadata": {
        "id": "LMBUPigFjTx_"
      }
    },
    {
      "cell_type": "code",
      "source": [
        "# from tensorflow.keras.layers import TextVectorization"
      ],
      "metadata": {
        "id": "GMAdnlq_wogS"
      },
      "execution_count": null,
      "outputs": []
    },
    {
      "cell_type": "code",
      "source": [
        "# # For Text vectorization\n",
        "# # Setup text Vectorization variable ( look at model_1 how we got his variable values)\n",
        "# # Each sentence length\n",
        "# sent_lens=[len(i.split()) for i in train_sentences] # how get train_sentences, val_sentences, test_sentences from raw data look at the top: may be little complex but very interesting.\n",
        "# # How long of a sentences length coers 95% of examples? how long our max_lenght should be so it covers most of the sentences\n",
        "# output_seq_len = int(np.percentile(sent_lens, 95))\n",
        "# max_length = output_seq_len  #55 # desired output length of vectorized sequence # we got 55 above: look in model_1 95% of sentences are below 55 word length\n",
        "\n",
        "# max_vocab_length = 68000 # max number of words  to have in our vocabulary # from paper\n",
        "\n",
        "# text_vectorizer = TextVectorization(max_tokens=max_vocab_length, # How many words in our vocabulary: None: no limit ( automaically add <00V>)\n",
        "#                                     standardize = 'lower_and_strip_punctuation',# make everying lowercase and remove puncuation\n",
        "#                                     split='whitespace',\n",
        "#                                     ngrams=None, # n-words:join splitted words before tokenizaion. None:each word, each token\n",
        "#                                     output_mode='int', # how to map token to token. here int but can be specific function like tf_idf\n",
        "#                                     #How long do we want our sequence to be : 50 ,100, None..\n",
        "#                                     #automatially set sequence to longest sequence or tweet lenght. add zero ad end for short tweets\n",
        "#                                     output_sequence_length=max_length, # Batch need to same length. Eg here Each Tweet length are different\n",
        "#                                     # aadd zero ad end for short tweets to match (output_sequence_length: none: means longest one)\n",
        "#                                     pad_to_max_tokens=True #if true reult in shape (Batch_size, Max_tokesn)\n",
        "#                                     )\n",
        "\n",
        "# # Adapt text vectorizer to training sentences\n",
        "# text_vectorizer.adapt(train_sentences)"
      ],
      "metadata": {
        "id": "giFYrTQHv2tF"
      },
      "execution_count": null,
      "outputs": []
    },
    {
      "cell_type": "code",
      "source": [
        "# # For character vectorization\n",
        "\n",
        "# # Setup character Vectorization variable ( look at model_3 how we got his variable values)\n",
        "# # what's the average character length (before the split)\n",
        "# char_lens = [len(sentences) for sentences in train_sentences]\n",
        "# output_seq_char_len = int(np.percentile(char_lens, 95))\n",
        "\n",
        "# # Get all keyboard characters\n",
        "# import string\n",
        "# alphabet = string.ascii_lowercase + string.digits + string.punctuation #abcdefghijklmnopqrstuvwxyz0123456789!\"#$%&'()*+,-./:;<=>?@[\\]^_`{|}~\n",
        "# # Create char-level token vectorizer instance\n",
        "# NUM_CHAR_TOKENS = len(alphabet) + 2 # add 2 for space and OOV token (OOV = out of vocab: '[UNK]') # 26+2 =28\n",
        "\n",
        "# char_vectorizer = TextVectorization(max_tokens = NUM_CHAR_TOKENS,\n",
        "#                                     output_sequence_length = output_seq_char_len,\n",
        "#                                     #  can be set to None if we don't what stardization if we dont want to remove punctuation\n",
        "#                                     standardize = 'lower_and_strip_punctuation', #Default # make everything lowercase and remove punctuation like @#/!...\n",
        "#                                     name = 'char_vectorizer',\n",
        "#                                     pad_to_max_tokens=True\n",
        "#                                     )"
      ],
      "metadata": {
        "id": "y5qK8clAz4J7"
      },
      "execution_count": null,
      "outputs": []
    },
    {
      "cell_type": "code",
      "source": [
        "# # Make Function to split sentences into characters\n",
        "# def split_chars(text):\n",
        "#   return \" \".join(list(text))\n",
        "\n",
        "# # Split sequence-level data splits into character-level data splits\n",
        "# train_chars = [split_chars(sentence) for sentence in train_sentences]\n",
        "# val_chars = [split_chars(sentence) for sentence in val_sentences]\n",
        "# test_chars = [split_chars(sentence) for sentence in test_sentences]"
      ],
      "metadata": {
        "id": "_48L0hGM2j-j"
      },
      "execution_count": null,
      "outputs": []
    },
    {
      "cell_type": "code",
      "source": [
        "# # Adapt charcter vectorizer to training character\n",
        "# char_vectorizer.adapt(train_chars)"
      ],
      "metadata": {
        "id": "Mvc2Xc7x2ocb"
      },
      "execution_count": null,
      "outputs": []
    },
    {
      "cell_type": "code",
      "source": [
        "# from tensorflow.keras import layers"
      ],
      "metadata": {
        "id": "V3El9u9PuU-Y"
      },
      "execution_count": null,
      "outputs": []
    },
    {
      "cell_type": "code",
      "source": [
        "# # For our Token embedding\n",
        "# rct_20k_text_vocab = text_vectorizer.get_vocabulary() # get all of the unique words in our train_data\n",
        "# token_embed = layers.Embedding(input_dim = len(rct_20k_text_vocab), # set the input shape,: 68000\n",
        "#                               output_dim = 128, # Neural network especially that using GPU works greate with number divisible by 8 eg. 128. eacg word or token to 128 numerical values\n",
        "#                               input_length = max_length, # how long is each input\n",
        "#                               mask_zero=True, # use masking to handle variable sequence length # just making sure for shape error # efficient computing if lots of zero\n",
        "#                               name='token_embedding'\n",
        "#                               )\n",
        "# print(token_embed)"
      ],
      "metadata": {
        "id": "ET2yGM0c1ZiM"
      },
      "execution_count": null,
      "outputs": []
    },
    {
      "cell_type": "code",
      "source": [
        "# # For our character embedding\n",
        "# char_vocab= char_vectorizer.get_vocabulary() # get all of the unique words in our train_data\n",
        "# char_embed = layers.Embedding(input_dim = len(char_vocab), # set the input shape,: 28\n",
        "#                               # outout dimension: same as given in fig 1 in https://arxiv.org/pdf/1612.05251.pdf\n",
        "#                               output_dim = 25, # Neural network especially that using GPU works greate with number divisible by 8 eg. 128. eacg word or token to 128 numerical values\n",
        "#                               input_length = NUM_CHAR_TOKENS, # how long is each input\n",
        "#                               mask_zero=True, # use masking to handle variable sequence length # just making sure for shape error # efficient computing if lots of zero\n",
        "#                               name='char_embedding'\n",
        "#                               )\n",
        "# print(char_embed)"
      ],
      "metadata": {
        "id": "kpXFCpxe1hBR"
      },
      "execution_count": null,
      "outputs": []
    },
    {
      "cell_type": "code",
      "source": [
        "# Build our Conv1D model to process sequences\n",
        "from tensorflow.keras import layers\n",
        "\n",
        "inputs_token_embeddings = layers.Input(shape=(1,), dtype='string')\n",
        "text_vectors = text_vectorizer(inputs_token_embeddings)\n",
        "token_embeddings = token_embed(text_vectors)\n",
        "x = layers.GlobalMaxPool1D()(token_embeddings)\n",
        "token_embeddings_outputs = layers.Dense (128, activation=\"relu\")(x)\n",
        "print(f\"{token_embeddings_outputs.shape}\")\n",
        "token_embeddings_model = tf.keras.Model(inputs = inputs_token_embeddings,\n",
        "                                       outputs = token_embeddings_outputs)\n",
        "\n",
        "\n",
        "inputs_char_embeddings = layers.Input(shape=(1,), dtype='string')\n",
        "character_vectors = char_vectorizer(inputs_char_embeddings)\n",
        "char_embeddings = char_embed(character_vectors)\n",
        "x = layers.GlobalMaxPool1D()(char_embeddings)\n",
        "char_embeddings_outputs = layers.Dense (128, activation=\"relu\")(x)\n",
        "print(f\"{char_embeddings_outputs.shape}\")\n",
        "char_embeddings_model = tf.keras.Model(inputs = inputs_char_embeddings,\n",
        "                                       outputs = char_embeddings_outputs)\n",
        "\n",
        "\n",
        "token_char_concat_embeddings = layers.Concatenate(name=\"token_char_embeddings_hybrid\")([token_embeddings_model.output,\n",
        "                                                                 char_embeddings_model.output])\n",
        "\n",
        "# 4. Create output layers - adding in Dropout, discussed in section 4.2 of https://arxiv.org/pdf/1612.05251.pdf, nyst see to realize what we are doing here.\n",
        "# for regularization or overfitting: randomly drops 0.5 learned weights or 50% of input units set to zero randomly At the ends only keep the important weights only\n",
        "combined_dropout_my_own_experiment = layers.Dropout(0.5)(token_char_concat_embeddings)\n",
        "combined_dense_my_own_experiment = layers.Dense(128, activation=\"relu\")(combined_dropout_my_own_experiment)\n",
        "print(combined_dense_my_own_experiment.shape)\n",
        "combine_dense_conv1D_my_own_experiment = layers.Conv1D(filters=64, # each review will diveded into 64 parts\n",
        "                  kernel_size=5, # 5 words at a time # may 5 no good for character level embedding may be use 15 or 20\n",
        "                  strides=1,\n",
        "                  activation='relu',\n",
        "                  padding='same')(tf.expand_dims(combined_dense_my_own_experiment,axis=-1))# Changind the dimension as Conv layer require 3D input shape\n",
        "print(combine_dense_conv1D_my_own_experiment.shape)\n",
        "final_dropout_my_own_experiment = layers.Dropout(0.5)(combine_dense_conv1D_my_own_experiment)\n",
        "\n",
        "x = layers.GlobalMaxPool1D()(final_dropout_my_own_experiment) # shape has to be (None, 5)\n",
        "output_layer_my_own_experiment = layers.Dense(num_classes, activation=\"softmax\")(x)\n",
        "\n",
        "#5. Construct model with char and token inputs\n",
        "model_4_my_own_experiment = tf.keras.Model(inputs = [token_embeddings_model.input, char_embeddings_model.input ],\n",
        "                         outputs = output_layer_my_own_experiment,\n",
        "                         name = \"model_4_token_and_char_embeddings_my_own_experiment\")\n",
        "\n",
        "# Compile  Conv1D\n",
        "model_4_my_own_experiment.compile(loss='categorical_crossentropy',\n",
        "                optimizer=tf.keras.optimizers.Adam(),\n",
        "                metrics=[\"accuracy\"])\n",
        "\n",
        "# Get a summary()\n",
        "model_4_my_own_experiment.summary()"
      ],
      "metadata": {
        "colab": {
          "base_uri": "https://localhost:8080/"
        },
        "id": "S6JCZdoR5hrD",
        "outputId": "338b9fea-146e-4656-f4d7-bca4cd4badb4"
      },
      "execution_count": 161,
      "outputs": [
        {
          "output_type": "stream",
          "name": "stdout",
          "text": [
            "(None, 128)\n",
            "(None, 128)\n",
            "(None, 128)\n",
            "(None, 128, 64)\n",
            "Model: \"model_4_token_and_char_embeddings_my_own_experiment\"\n",
            "__________________________________________________________________________________________________\n",
            " Layer (type)                Output Shape                 Param #   Connected to                  \n",
            "==================================================================================================\n",
            " input_34 (InputLayer)       [(None, 1)]                  0         []                            \n",
            "                                                                                                  \n",
            " input_35 (InputLayer)       [(None, 1)]                  0         []                            \n",
            "                                                                                                  \n",
            " text_vectorization_1 (Text  (None, 55)                   0         ['input_34[0][0]']            \n",
            " Vectorization)                                                                                   \n",
            "                                                                                                  \n",
            " char_vectorizer (TextVecto  (None, 290)                  0         ['input_35[0][0]']            \n",
            " rization)                                                                                        \n",
            "                                                                                                  \n",
            " token_embedding (Embedding  (None, 55, 128)              8299648   ['text_vectorization_1[21][0]'\n",
            " )                                                                  ]                             \n",
            "                                                                                                  \n",
            " char_embedding (Embedding)  (None, 290, 25)              700       ['char_vectorizer[27][0]']    \n",
            "                                                                                                  \n",
            " global_max_pooling1d_35 (G  (None, 128)                  0         ['token_embedding[21][0]']    \n",
            " lobalMaxPooling1D)                                                                               \n",
            "                                                                                                  \n",
            " global_max_pooling1d_36 (G  (None, 25)                   0         ['char_embedding[27][0]']     \n",
            " lobalMaxPooling1D)                                                                               \n",
            "                                                                                                  \n",
            " dense_84 (Dense)            (None, 128)                  16512     ['global_max_pooling1d_35[0][0\n",
            "                                                                    ]']                           \n",
            "                                                                                                  \n",
            " dense_85 (Dense)            (None, 128)                  3328      ['global_max_pooling1d_36[0][0\n",
            "                                                                    ]']                           \n",
            "                                                                                                  \n",
            " token_char_embeddings_hybr  (None, 256)                  0         ['dense_84[0][0]',            \n",
            " id (Concatenate)                                                    'dense_85[0][0]']            \n",
            "                                                                                                  \n",
            " dropout_35 (Dropout)        (None, 256)                  0         ['token_char_embeddings_hybrid\n",
            "                                                                    [0][0]']                      \n",
            "                                                                                                  \n",
            " dense_86 (Dense)            (None, 128)                  32896     ['dropout_35[0][0]']          \n",
            "                                                                                                  \n",
            " tf.expand_dims_5 (TFOpLamb  (None, 128, 1)               0         ['dense_86[0][0]']            \n",
            " da)                                                                                              \n",
            "                                                                                                  \n",
            " conv1d_11 (Conv1D)          (None, 128, 64)              384       ['tf.expand_dims_5[0][0]']    \n",
            "                                                                                                  \n",
            " dropout_36 (Dropout)        (None, 128, 64)              0         ['conv1d_11[0][0]']           \n",
            "                                                                                                  \n",
            " global_max_pooling1d_37 (G  (None, 64)                   0         ['dropout_36[0][0]']          \n",
            " lobalMaxPooling1D)                                                                               \n",
            "                                                                                                  \n",
            " dense_87 (Dense)            (None, 5)                    325       ['global_max_pooling1d_37[0][0\n",
            "                                                                    ]']                           \n",
            "                                                                                                  \n",
            "==================================================================================================\n",
            "Total params: 8353793 (31.87 MB)\n",
            "Trainable params: 8353793 (31.87 MB)\n",
            "Non-trainable params: 0 (0.00 Byte)\n",
            "__________________________________________________________________________________________________\n"
          ]
        }
      ]
    },
    {
      "cell_type": "code",
      "source": [
        "# Plot hybrid complex our own experimental model\n",
        "from keras.utils import plot_model\n",
        "plot_model(model_4_my_own_experiment,show_shapes=True)"
      ],
      "metadata": {
        "colab": {
          "base_uri": "https://localhost:8080/",
          "height": 1000
        },
        "id": "557GBukr6eU4",
        "outputId": "80cbb205-c424-4de4-bb2b-2529a5f66e77"
      },
      "execution_count": 162,
      "outputs": [
        {
          "output_type": "execute_result",
          "data": {
            "image/png": "[encoded data removed]",
            "text/plain": [
              "<IPython.core.display.Image object>"
            ]
          },
          "metadata": {},
          "execution_count": 162
        }
      ]
    },
    {
      "cell_type": "code",
      "source": [
        "# # Fit the model on tokens and chars\n",
        "# history_model_4_my_own_experiment = model_4_my_own_experiment.fit(train_char_token_dataset,\n",
        "#                                                                   steps_per_epoch = int(0.1 * len(train_char_token_dataset)),\n",
        "#                                                                   epochs = 3,\n",
        "#                                                                   validation_data = val_char_token_dataset,\n",
        "#                                                                   validation_steps = int(0.1 * len(val_char_token_dataset)))"
      ],
      "metadata": {
        "colab": {
          "base_uri": "https://localhost:8080/"
        },
        "id": "Vp8uA7aymNix",
        "outputId": "d0e2104a-7bf8-4136-83a8-e6e777cb901d"
      },
      "execution_count": 163,
      "outputs": [
        {
          "output_type": "stream",
          "name": "stdout",
          "text": [
            "Epoch 1/3\n",
            "562/562 [==============================] - 74s 126ms/step - loss: 1.0200 - accuracy: 0.5558 - val_loss: 0.7859 - val_accuracy: 0.7188\n",
            "Epoch 2/3\n",
            "562/562 [==============================] - 71s 126ms/step - loss: 0.6655 - accuracy: 0.7450 - val_loss: 0.7227 - val_accuracy: 0.7460\n",
            "Epoch 3/3\n",
            "562/562 [==============================] - 70s 125ms/step - loss: 0.6023 - accuracy: 0.7695 - val_loss: 0.6970 - val_accuracy: 0.7610\n"
          ]
        }
      ]
    },
    {
      "cell_type": "code",
      "source": [
        "# Evaluate on whole validation dataset\n",
        "# model_4_my_own_experiment.evaluate(val_char_token_dataset)\n",
        "# 945/945 [==============================] - 6s 6ms/step - loss: 0.7009 - accuracy: 0.7643\n",
        "# [0.7009354829788208, 0.7642658352851868]\n",
        "\n",
        "#  seems like second best model after model_1 so far"
      ],
      "metadata": {
        "colab": {
          "base_uri": "https://localhost:8080/"
        },
        "id": "maRRw5efxj_U",
        "outputId": "d2952b13-86f5-45d7-dad9-cb507c035dfc"
      },
      "execution_count": 165,
      "outputs": [
        {
          "output_type": "stream",
          "name": "stdout",
          "text": [
            "945/945 [==============================] - 6s 6ms/step - loss: 0.7009 - accuracy: 0.7643\n"
          ]
        },
        {
          "output_type": "execute_result",
          "data": {
            "text/plain": [
              "[0.7009354829788208, 0.7642658352851868]"
            ]
          },
          "metadata": {},
          "execution_count": 165
        }
      ]
    },
    {
      "cell_type": "code",
      "source": [],
      "metadata": {
        "id": "PLtpgI4GyqFL"
      },
      "execution_count": null,
      "outputs": []
    }
  ]
}