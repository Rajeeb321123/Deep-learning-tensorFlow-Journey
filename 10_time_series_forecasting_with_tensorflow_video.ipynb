{
  "nbformat": 4,
  "nbformat_minor": 0,
  "metadata": {
    "colab": {
      "provenance": [],
      "toc_visible": true,
      "authorship_tag": "ABX9TyOZQtRbalJGlBJkO0XTtTUi",
      "include_colab_link": true
    },
    "kernelspec": {
      "name": "python3",
      "display_name": "Python 3"
    },
    "language_info": {
      "name": "python"
    }
  },
  "cells": [
    {
      "cell_type": "markdown",
      "metadata": {
        "id": "view-in-github",
        "colab_type": "text"
      },
      "source": [
        "<a href=\"https://colab.research.google.com/github/Rajeeb321123/Deep-learning-tensorFlow-Journey/blob/master/10_time_series_forecasting_with_tensorflow_video.ipynb\" target=\"_parent\"><img src=\"https://colab.research.google.com/assets/colab-badge.svg\" alt=\"Open In Colab\"/></a>"
      ]
    },
    {
      "cell_type": "markdown",
      "source": [
        "# Time series forecasting fundamentals with TensorFlow + Milestone Project 3: BitPredict🤑💰📈\n",
        "\n",
        "To predict the price of Bitcoin based on historical price of Bitcoin.\n",
        "\n",
        "Links:\n",
        "* https://github.com/mrdbourke/tensorflow-deep-learning\n",
        "* Book version: https://dev.mrdbourke.com/tensorflow-deep-learning/\n",
        "* About Time series: https://otexts.com/fpp3/"
      ],
      "metadata": {
        "id": "6whFWYDHNnkh"
      }
    },
    {
      "cell_type": "markdown",
      "source": [
        "## Get Data\n"
      ],
      "metadata": {
        "id": "ROR0dXdQOM7f"
      }
    },
    {
      "cell_type": "code",
      "source": [
        "!wget https://raw.githubusercontent.com/mrdbourke/tensorflow-deep-learning/main/extras/BTC_USD_2013-10-01_2021-05-18-CoinDesk.csv"
      ],
      "metadata": {
        "colab": {
          "base_uri": "https://localhost:8080/"
        },
        "id": "SxDeWSGtQLOu",
        "outputId": "598f5f11-2f9b-4930-8539-659e92c5326e"
      },
      "execution_count": 1,
      "outputs": [
        {
          "output_type": "stream",
          "name": "stdout",
          "text": [
            "--2024-04-30 07:54:52--  https://raw.githubusercontent.com/mrdbourke/tensorflow-deep-learning/main/extras/BTC_USD_2013-10-01_2021-05-18-CoinDesk.csv\n",
            "Resolving raw.githubusercontent.com (raw.githubusercontent.com)... 185.199.108.133, 185.199.109.133, 185.199.110.133, ...\n",
            "Connecting to raw.githubusercontent.com (raw.githubusercontent.com)|185.199.108.133|:443... connected.\n",
            "HTTP request sent, awaiting response... 200 OK\n",
            "Length: 178509 (174K) [text/plain]\n",
            "Saving to: ‘BTC_USD_2013-10-01_2021-05-18-CoinDesk.csv’\n",
            "\n",
            "\r          BTC_USD_2   0%[                    ]       0  --.-KB/s               \rBTC_USD_2013-10-01_ 100%[===================>] 174.33K  --.-KB/s    in 0.02s   \n",
            "\n",
            "2024-04-30 07:54:53 (10.0 MB/s) - ‘BTC_USD_2013-10-01_2021-05-18-CoinDesk.csv’ saved [178509/178509]\n",
            "\n"
          ]
        }
      ]
    },
    {
      "cell_type": "markdown",
      "source": [
        "## Importing Time series with pandas"
      ],
      "metadata": {
        "id": "abkcyJalOarW"
      }
    },
    {
      "cell_type": "code",
      "source": [
        "# import with pandas\n",
        "import pandas as pd\n",
        "# Let's read in our bitcoin data and parse the data\n",
        "df = pd.read_csv(\"/content/BTC_USD_2013-10-01_2021-05-18-CoinDesk.csv\",\n",
        "                 parse_dates = [\"Date\"],\n",
        "                 index_col = [\"Date\"]) # parse the date column and tell pandas column 1 is a date time.\n",
        "df.head()"
      ],
      "metadata": {
        "colab": {
          "base_uri": "https://localhost:8080/",
          "height": 237
        },
        "id": "P1scXJ2PQVRf",
        "outputId": "7b53299a-e904-4c2b-99ed-c9caa0e2801f"
      },
      "execution_count": 2,
      "outputs": [
        {
          "output_type": "execute_result",
          "data": {
            "text/plain": [
              "           Currency  Closing Price (USD)  24h Open (USD)  24h High (USD)  \\\n",
              "Date                                                                       \n",
              "2013-10-01      BTC            123.65499       124.30466       124.75166   \n",
              "2013-10-02      BTC            125.45500       123.65499       125.75850   \n",
              "2013-10-03      BTC            108.58483       125.45500       125.66566   \n",
              "2013-10-04      BTC            118.67466       108.58483       118.67500   \n",
              "2013-10-05      BTC            121.33866       118.67466       121.93633   \n",
              "\n",
              "            24h Low (USD)  \n",
              "Date                       \n",
              "2013-10-01      122.56349  \n",
              "2013-10-02      123.63383  \n",
              "2013-10-03       83.32833  \n",
              "2013-10-04      107.05816  \n",
              "2013-10-05      118.00566  "
            ],
            "text/html": [
              "\n",
              "  <div id=\"df-95a8850e-7ce6-407b-9a39-b72ecb06a415\" class=\"colab-df-container\">\n",
              "    <div>\n",
              "<style scoped>\n",
              "    .dataframe tbody tr th:only-of-type {\n",
              "        vertical-align: middle;\n",
              "    }\n",
              "\n",
              "    .dataframe tbody tr th {\n",
              "        vertical-align: top;\n",
              "    }\n",
              "\n",
              "    .dataframe thead th {\n",
              "        text-align: right;\n",
              "    }\n",
              "</style>\n",
              "<table border=\"1\" class=\"dataframe\">\n",
              "  <thead>\n",
              "    <tr style=\"text-align: right;\">\n",
              "      <th></th>\n",
              "      <th>Currency</th>\n",
              "      <th>Closing Price (USD)</th>\n",
              "      <th>24h Open (USD)</th>\n",
              "      <th>24h High (USD)</th>\n",
              "      <th>24h Low (USD)</th>\n",
              "    </tr>\n",
              "    <tr>\n",
              "      <th>Date</th>\n",
              "      <th></th>\n",
              "      <th></th>\n",
              "      <th></th>\n",
              "      <th></th>\n",
              "      <th></th>\n",
              "    </tr>\n",
              "  </thead>\n",
              "  <tbody>\n",
              "    <tr>\n",
              "      <th>2013-10-01</th>\n",
              "      <td>BTC</td>\n",
              "      <td>123.65499</td>\n",
              "      <td>124.30466</td>\n",
              "      <td>124.75166</td>\n",
              "      <td>122.56349</td>\n",
              "    </tr>\n",
              "    <tr>\n",
              "      <th>2013-10-02</th>\n",
              "      <td>BTC</td>\n",
              "      <td>125.45500</td>\n",
              "      <td>123.65499</td>\n",
              "      <td>125.75850</td>\n",
              "      <td>123.63383</td>\n",
              "    </tr>\n",
              "    <tr>\n",
              "      <th>2013-10-03</th>\n",
              "      <td>BTC</td>\n",
              "      <td>108.58483</td>\n",
              "      <td>125.45500</td>\n",
              "      <td>125.66566</td>\n",
              "      <td>83.32833</td>\n",
              "    </tr>\n",
              "    <tr>\n",
              "      <th>2013-10-04</th>\n",
              "      <td>BTC</td>\n",
              "      <td>118.67466</td>\n",
              "      <td>108.58483</td>\n",
              "      <td>118.67500</td>\n",
              "      <td>107.05816</td>\n",
              "    </tr>\n",
              "    <tr>\n",
              "      <th>2013-10-05</th>\n",
              "      <td>BTC</td>\n",
              "      <td>121.33866</td>\n",
              "      <td>118.67466</td>\n",
              "      <td>121.93633</td>\n",
              "      <td>118.00566</td>\n",
              "    </tr>\n",
              "  </tbody>\n",
              "</table>\n",
              "</div>\n",
              "    <div class=\"colab-df-buttons\">\n",
              "\n",
              "  <div class=\"colab-df-container\">\n",
              "    <button class=\"colab-df-convert\" onclick=\"convertToInteractive('df-95a8850e-7ce6-407b-9a39-b72ecb06a415')\"\n",
              "            title=\"Convert this dataframe to an interactive table.\"\n",
              "            style=\"display:none;\">\n",
              "\n",
              "  <svg xmlns=\"http://www.w3.org/2000/svg\" height=\"24px\" viewBox=\"0 -960 960 960\">\n",
              "    <path d=\"M120-120v-720h720v720H120Zm60-500h600v-160H180v160Zm220 220h160v-160H400v160Zm0 220h160v-160H400v160ZM180-400h160v-160H180v160Zm440 0h160v-160H620v160ZM180-180h160v-160H180v160Zm440 0h160v-160H620v160Z\"/>\n",
              "  </svg>\n",
              "    </button>\n",
              "\n",
              "  <style>\n",
              "    .colab-df-container {\n",
              "      display:flex;\n",
              "      gap: 12px;\n",
              "    }\n",
              "\n",
              "    .colab-df-convert {\n",
              "      background-color: #E8F0FE;\n",
              "      border: none;\n",
              "      border-radius: 50%;\n",
              "      cursor: pointer;\n",
              "      display: none;\n",
              "      fill: #1967D2;\n",
              "      height: 32px;\n",
              "      padding: 0 0 0 0;\n",
              "      width: 32px;\n",
              "    }\n",
              "\n",
              "    .colab-df-convert:hover {\n",
              "      background-color: #E2EBFA;\n",
              "      box-shadow: 0px 1px 2px rgba(60, 64, 67, 0.3), 0px 1px 3px 1px rgba(60, 64, 67, 0.15);\n",
              "      fill: #174EA6;\n",
              "    }\n",
              "\n",
              "    .colab-df-buttons div {\n",
              "      margin-bottom: 4px;\n",
              "    }\n",
              "\n",
              "    [theme=dark] .colab-df-convert {\n",
              "      background-color: #3B4455;\n",
              "      fill: #D2E3FC;\n",
              "    }\n",
              "\n",
              "    [theme=dark] .colab-df-convert:hover {\n",
              "      background-color: #434B5C;\n",
              "      box-shadow: 0px 1px 3px 1px rgba(0, 0, 0, 0.15);\n",
              "      filter: drop-shadow(0px 1px 2px rgba(0, 0, 0, 0.3));\n",
              "      fill: #FFFFFF;\n",
              "    }\n",
              "  </style>\n",
              "\n",
              "    <script>\n",
              "      const buttonEl =\n",
              "        document.querySelector('#df-95a8850e-7ce6-407b-9a39-b72ecb06a415 button.colab-df-convert');\n",
              "      buttonEl.style.display =\n",
              "        google.colab.kernel.accessAllowed ? 'block' : 'none';\n",
              "\n",
              "      async function convertToInteractive(key) {\n",
              "        const element = document.querySelector('#df-95a8850e-7ce6-407b-9a39-b72ecb06a415');\n",
              "        const dataTable =\n",
              "          await google.colab.kernel.invokeFunction('convertToInteractive',\n",
              "                                                    [key], {});\n",
              "        if (!dataTable) return;\n",
              "\n",
              "        const docLinkHtml = 'Like what you see? Visit the ' +\n",
              "          '<a target=\"_blank\" href=https://colab.research.google.com/notebooks/data_table.ipynb>data table notebook</a>'\n",
              "          + ' to learn more about interactive tables.';\n",
              "        element.innerHTML = '';\n",
              "        dataTable['output_type'] = 'display_data';\n",
              "        await google.colab.output.renderOutput(dataTable, element);\n",
              "        const docLink = document.createElement('div');\n",
              "        docLink.innerHTML = docLinkHtml;\n",
              "        element.appendChild(docLink);\n",
              "      }\n",
              "    </script>\n",
              "  </div>\n",
              "\n",
              "\n",
              "<div id=\"df-9faa61fa-1a7d-409f-9844-de81dea61418\">\n",
              "  <button class=\"colab-df-quickchart\" onclick=\"quickchart('df-9faa61fa-1a7d-409f-9844-de81dea61418')\"\n",
              "            title=\"Suggest charts\"\n",
              "            style=\"display:none;\">\n",
              "\n",
              "<svg xmlns=\"http://www.w3.org/2000/svg\" height=\"24px\"viewBox=\"0 0 24 24\"\n",
              "     width=\"24px\">\n",
              "    <g>\n",
              "        <path d=\"M19 3H5c-1.1 0-2 .9-2 2v14c0 1.1.9 2 2 2h14c1.1 0 2-.9 2-2V5c0-1.1-.9-2-2-2zM9 17H7v-7h2v7zm4 0h-2V7h2v10zm4 0h-2v-4h2v4z\"/>\n",
              "    </g>\n",
              "</svg>\n",
              "  </button>\n",
              "\n",
              "<style>\n",
              "  .colab-df-quickchart {\n",
              "      --bg-color: #E8F0FE;\n",
              "      --fill-color: #1967D2;\n",
              "      --hover-bg-color: #E2EBFA;\n",
              "      --hover-fill-color: #174EA6;\n",
              "      --disabled-fill-color: #AAA;\n",
              "      --disabled-bg-color: #DDD;\n",
              "  }\n",
              "\n",
              "  [theme=dark] .colab-df-quickchart {\n",
              "      --bg-color: #3B4455;\n",
              "      --fill-color: #D2E3FC;\n",
              "      --hover-bg-color: #434B5C;\n",
              "      --hover-fill-color: #FFFFFF;\n",
              "      --disabled-bg-color: #3B4455;\n",
              "      --disabled-fill-color: #666;\n",
              "  }\n",
              "\n",
              "  .colab-df-quickchart {\n",
              "    background-color: var(--bg-color);\n",
              "    border: none;\n",
              "    border-radius: 50%;\n",
              "    cursor: pointer;\n",
              "    display: none;\n",
              "    fill: var(--fill-color);\n",
              "    height: 32px;\n",
              "    padding: 0;\n",
              "    width: 32px;\n",
              "  }\n",
              "\n",
              "  .colab-df-quickchart:hover {\n",
              "    background-color: var(--hover-bg-color);\n",
              "    box-shadow: 0 1px 2px rgba(60, 64, 67, 0.3), 0 1px 3px 1px rgba(60, 64, 67, 0.15);\n",
              "    fill: var(--button-hover-fill-color);\n",
              "  }\n",
              "\n",
              "  .colab-df-quickchart-complete:disabled,\n",
              "  .colab-df-quickchart-complete:disabled:hover {\n",
              "    background-color: var(--disabled-bg-color);\n",
              "    fill: var(--disabled-fill-color);\n",
              "    box-shadow: none;\n",
              "  }\n",
              "\n",
              "  .colab-df-spinner {\n",
              "    border: 2px solid var(--fill-color);\n",
              "    border-color: transparent;\n",
              "    border-bottom-color: var(--fill-color);\n",
              "    animation:\n",
              "      spin 1s steps(1) infinite;\n",
              "  }\n",
              "\n",
              "  @keyframes spin {\n",
              "    0% {\n",
              "      border-color: transparent;\n",
              "      border-bottom-color: var(--fill-color);\n",
              "      border-left-color: var(--fill-color);\n",
              "    }\n",
              "    20% {\n",
              "      border-color: transparent;\n",
              "      border-left-color: var(--fill-color);\n",
              "      border-top-color: var(--fill-color);\n",
              "    }\n",
              "    30% {\n",
              "      border-color: transparent;\n",
              "      border-left-color: var(--fill-color);\n",
              "      border-top-color: var(--fill-color);\n",
              "      border-right-color: var(--fill-color);\n",
              "    }\n",
              "    40% {\n",
              "      border-color: transparent;\n",
              "      border-right-color: var(--fill-color);\n",
              "      border-top-color: var(--fill-color);\n",
              "    }\n",
              "    60% {\n",
              "      border-color: transparent;\n",
              "      border-right-color: var(--fill-color);\n",
              "    }\n",
              "    80% {\n",
              "      border-color: transparent;\n",
              "      border-right-color: var(--fill-color);\n",
              "      border-bottom-color: var(--fill-color);\n",
              "    }\n",
              "    90% {\n",
              "      border-color: transparent;\n",
              "      border-bottom-color: var(--fill-color);\n",
              "    }\n",
              "  }\n",
              "</style>\n",
              "\n",
              "  <script>\n",
              "    async function quickchart(key) {\n",
              "      const quickchartButtonEl =\n",
              "        document.querySelector('#' + key + ' button');\n",
              "      quickchartButtonEl.disabled = true;  // To prevent multiple clicks.\n",
              "      quickchartButtonEl.classList.add('colab-df-spinner');\n",
              "      try {\n",
              "        const charts = await google.colab.kernel.invokeFunction(\n",
              "            'suggestCharts', [key], {});\n",
              "      } catch (error) {\n",
              "        console.error('Error during call to suggestCharts:', error);\n",
              "      }\n",
              "      quickchartButtonEl.classList.remove('colab-df-spinner');\n",
              "      quickchartButtonEl.classList.add('colab-df-quickchart-complete');\n",
              "    }\n",
              "    (() => {\n",
              "      let quickchartButtonEl =\n",
              "        document.querySelector('#df-9faa61fa-1a7d-409f-9844-de81dea61418 button');\n",
              "      quickchartButtonEl.style.display =\n",
              "        google.colab.kernel.accessAllowed ? 'block' : 'none';\n",
              "    })();\n",
              "  </script>\n",
              "</div>\n",
              "\n",
              "    </div>\n",
              "  </div>\n"
            ],
            "application/vnd.google.colaboratory.intrinsic+json": {
              "type": "dataframe",
              "variable_name": "df",
              "summary": "{\n  \"name\": \"df\",\n  \"rows\": 2787,\n  \"fields\": [\n    {\n      \"column\": \"Date\",\n      \"properties\": {\n        \"dtype\": \"date\",\n        \"min\": \"2013-10-01 00:00:00\",\n        \"max\": \"2021-05-18 00:00:00\",\n        \"num_unique_values\": 2787,\n        \"samples\": [\n          \"2019-06-11 00:00:00\",\n          \"2021-05-03 00:00:00\",\n          \"2017-10-05 00:00:00\"\n        ],\n        \"semantic_type\": \"\",\n        \"description\": \"\"\n      }\n    },\n    {\n      \"column\": \"Currency\",\n      \"properties\": {\n        \"dtype\": \"category\",\n        \"num_unique_values\": 1,\n        \"samples\": [\n          \"BTC\"\n        ],\n        \"semantic_type\": \"\",\n        \"description\": \"\"\n      }\n    },\n    {\n      \"column\": \"Closing Price (USD)\",\n      \"properties\": {\n        \"dtype\": \"number\",\n        \"std\": 10887.84744436952,\n        \"min\": 108.58483,\n        \"max\": 63346.7890351052,\n        \"num_unique_values\": 2787,\n        \"samples\": [\n          7954.0062377205\n        ],\n        \"semantic_type\": \"\",\n        \"description\": \"\"\n      }\n    },\n    {\n      \"column\": \"24h Open (USD)\",\n      \"properties\": {\n        \"dtype\": \"number\",\n        \"std\": 10863.80077212387,\n        \"min\": 108.58483,\n        \"max\": 63562.6735446382,\n        \"num_unique_values\": 2787,\n        \"samples\": [\n          7600.9225047785\n        ],\n        \"semantic_type\": \"\",\n        \"description\": \"\"\n      }\n    },\n    {\n      \"column\": \"24h High (USD)\",\n      \"properties\": {\n        \"dtype\": \"number\",\n        \"std\": 11206.779756254151,\n        \"min\": 118.675,\n        \"max\": 64801.787869525,\n        \"num_unique_values\": 2787,\n        \"samples\": [\n          8064.9001353225\n        ],\n        \"semantic_type\": \"\",\n        \"description\": \"\"\n      }\n    },\n    {\n      \"column\": \"24h Low (USD)\",\n      \"properties\": {\n        \"dtype\": \"number\",\n        \"std\": 10475.8112518284,\n        \"min\": 83.32833,\n        \"max\": 62094.6329143272,\n        \"num_unique_values\": 2785,\n        \"samples\": [\n          7714.610306452\n        ],\n        \"semantic_type\": \"\",\n        \"description\": \"\"\n      }\n    }\n  ]\n}"
            }
          },
          "metadata": {},
          "execution_count": 2
        }
      ]
    },
    {
      "cell_type": "code",
      "source": [
        "df.info()"
      ],
      "metadata": {
        "colab": {
          "base_uri": "https://localhost:8080/"
        },
        "id": "uVKTg0GERQJN",
        "outputId": "106756fa-444f-4005-948d-e6a9abd65977"
      },
      "execution_count": 3,
      "outputs": [
        {
          "output_type": "stream",
          "name": "stdout",
          "text": [
            "<class 'pandas.core.frame.DataFrame'>\n",
            "DatetimeIndex: 2787 entries, 2013-10-01 to 2021-05-18\n",
            "Data columns (total 5 columns):\n",
            " #   Column               Non-Null Count  Dtype  \n",
            "---  ------               --------------  -----  \n",
            " 0   Currency             2787 non-null   object \n",
            " 1   Closing Price (USD)  2787 non-null   float64\n",
            " 2   24h Open (USD)       2787 non-null   float64\n",
            " 3   24h High (USD)       2787 non-null   float64\n",
            " 4   24h Low (USD)        2787 non-null   float64\n",
            "dtypes: float64(4), object(1)\n",
            "memory usage: 130.6+ KB\n"
          ]
        }
      ]
    },
    {
      "cell_type": "code",
      "source": [
        "df.tail()"
      ],
      "metadata": {
        "colab": {
          "base_uri": "https://localhost:8080/",
          "height": 237
        },
        "id": "rzaqVGR1RbRB",
        "outputId": "303d800a-c3bf-4346-fec0-d7452d139f62"
      },
      "execution_count": 4,
      "outputs": [
        {
          "output_type": "execute_result",
          "data": {
            "text/plain": [
              "           Currency  Closing Price (USD)  24h Open (USD)  24h High (USD)  \\\n",
              "Date                                                                       \n",
              "2021-05-14      BTC         49764.132082    49596.778891    51448.798576   \n",
              "2021-05-15      BTC         50032.693137    49717.354353    51578.312545   \n",
              "2021-05-16      BTC         47885.625255    49926.035067    50690.802950   \n",
              "2021-05-17      BTC         45604.615754    46805.537852    49670.414174   \n",
              "2021-05-18      BTC         43144.471291    46439.336570    46622.853437   \n",
              "\n",
              "            24h Low (USD)  \n",
              "Date                       \n",
              "2021-05-14   46294.720180  \n",
              "2021-05-15   48944.346536  \n",
              "2021-05-16   47005.102292  \n",
              "2021-05-17   43868.638969  \n",
              "2021-05-18   42102.346430  "
            ],
            "text/html": [
              "\n",
              "  <div id=\"df-731109a6-1ed5-4923-b163-a6c74a2f17f9\" class=\"colab-df-container\">\n",
              "    <div>\n",
              "<style scoped>\n",
              "    .dataframe tbody tr th:only-of-type {\n",
              "        vertical-align: middle;\n",
              "    }\n",
              "\n",
              "    .dataframe tbody tr th {\n",
              "        vertical-align: top;\n",
              "    }\n",
              "\n",
              "    .dataframe thead th {\n",
              "        text-align: right;\n",
              "    }\n",
              "</style>\n",
              "<table border=\"1\" class=\"dataframe\">\n",
              "  <thead>\n",
              "    <tr style=\"text-align: right;\">\n",
              "      <th></th>\n",
              "      <th>Currency</th>\n",
              "      <th>Closing Price (USD)</th>\n",
              "      <th>24h Open (USD)</th>\n",
              "      <th>24h High (USD)</th>\n",
              "      <th>24h Low (USD)</th>\n",
              "    </tr>\n",
              "    <tr>\n",
              "      <th>Date</th>\n",
              "      <th></th>\n",
              "      <th></th>\n",
              "      <th></th>\n",
              "      <th></th>\n",
              "      <th></th>\n",
              "    </tr>\n",
              "  </thead>\n",
              "  <tbody>\n",
              "    <tr>\n",
              "      <th>2021-05-14</th>\n",
              "      <td>BTC</td>\n",
              "      <td>49764.132082</td>\n",
              "      <td>49596.778891</td>\n",
              "      <td>51448.798576</td>\n",
              "      <td>46294.720180</td>\n",
              "    </tr>\n",
              "    <tr>\n",
              "      <th>2021-05-15</th>\n",
              "      <td>BTC</td>\n",
              "      <td>50032.693137</td>\n",
              "      <td>49717.354353</td>\n",
              "      <td>51578.312545</td>\n",
              "      <td>48944.346536</td>\n",
              "    </tr>\n",
              "    <tr>\n",
              "      <th>2021-05-16</th>\n",
              "      <td>BTC</td>\n",
              "      <td>47885.625255</td>\n",
              "      <td>49926.035067</td>\n",
              "      <td>50690.802950</td>\n",
              "      <td>47005.102292</td>\n",
              "    </tr>\n",
              "    <tr>\n",
              "      <th>2021-05-17</th>\n",
              "      <td>BTC</td>\n",
              "      <td>45604.615754</td>\n",
              "      <td>46805.537852</td>\n",
              "      <td>49670.414174</td>\n",
              "      <td>43868.638969</td>\n",
              "    </tr>\n",
              "    <tr>\n",
              "      <th>2021-05-18</th>\n",
              "      <td>BTC</td>\n",
              "      <td>43144.471291</td>\n",
              "      <td>46439.336570</td>\n",
              "      <td>46622.853437</td>\n",
              "      <td>42102.346430</td>\n",
              "    </tr>\n",
              "  </tbody>\n",
              "</table>\n",
              "</div>\n",
              "    <div class=\"colab-df-buttons\">\n",
              "\n",
              "  <div class=\"colab-df-container\">\n",
              "    <button class=\"colab-df-convert\" onclick=\"convertToInteractive('df-731109a6-1ed5-4923-b163-a6c74a2f17f9')\"\n",
              "            title=\"Convert this dataframe to an interactive table.\"\n",
              "            style=\"display:none;\">\n",
              "\n",
              "  <svg xmlns=\"http://www.w3.org/2000/svg\" height=\"24px\" viewBox=\"0 -960 960 960\">\n",
              "    <path d=\"M120-120v-720h720v720H120Zm60-500h600v-160H180v160Zm220 220h160v-160H400v160Zm0 220h160v-160H400v160ZM180-400h160v-160H180v160Zm440 0h160v-160H620v160ZM180-180h160v-160H180v160Zm440 0h160v-160H620v160Z\"/>\n",
              "  </svg>\n",
              "    </button>\n",
              "\n",
              "  <style>\n",
              "    .colab-df-container {\n",
              "      display:flex;\n",
              "      gap: 12px;\n",
              "    }\n",
              "\n",
              "    .colab-df-convert {\n",
              "      background-color: #E8F0FE;\n",
              "      border: none;\n",
              "      border-radius: 50%;\n",
              "      cursor: pointer;\n",
              "      display: none;\n",
              "      fill: #1967D2;\n",
              "      height: 32px;\n",
              "      padding: 0 0 0 0;\n",
              "      width: 32px;\n",
              "    }\n",
              "\n",
              "    .colab-df-convert:hover {\n",
              "      background-color: #E2EBFA;\n",
              "      box-shadow: 0px 1px 2px rgba(60, 64, 67, 0.3), 0px 1px 3px 1px rgba(60, 64, 67, 0.15);\n",
              "      fill: #174EA6;\n",
              "    }\n",
              "\n",
              "    .colab-df-buttons div {\n",
              "      margin-bottom: 4px;\n",
              "    }\n",
              "\n",
              "    [theme=dark] .colab-df-convert {\n",
              "      background-color: #3B4455;\n",
              "      fill: #D2E3FC;\n",
              "    }\n",
              "\n",
              "    [theme=dark] .colab-df-convert:hover {\n",
              "      background-color: #434B5C;\n",
              "      box-shadow: 0px 1px 3px 1px rgba(0, 0, 0, 0.15);\n",
              "      filter: drop-shadow(0px 1px 2px rgba(0, 0, 0, 0.3));\n",
              "      fill: #FFFFFF;\n",
              "    }\n",
              "  </style>\n",
              "\n",
              "    <script>\n",
              "      const buttonEl =\n",
              "        document.querySelector('#df-731109a6-1ed5-4923-b163-a6c74a2f17f9 button.colab-df-convert');\n",
              "      buttonEl.style.display =\n",
              "        google.colab.kernel.accessAllowed ? 'block' : 'none';\n",
              "\n",
              "      async function convertToInteractive(key) {\n",
              "        const element = document.querySelector('#df-731109a6-1ed5-4923-b163-a6c74a2f17f9');\n",
              "        const dataTable =\n",
              "          await google.colab.kernel.invokeFunction('convertToInteractive',\n",
              "                                                    [key], {});\n",
              "        if (!dataTable) return;\n",
              "\n",
              "        const docLinkHtml = 'Like what you see? Visit the ' +\n",
              "          '<a target=\"_blank\" href=https://colab.research.google.com/notebooks/data_table.ipynb>data table notebook</a>'\n",
              "          + ' to learn more about interactive tables.';\n",
              "        element.innerHTML = '';\n",
              "        dataTable['output_type'] = 'display_data';\n",
              "        await google.colab.output.renderOutput(dataTable, element);\n",
              "        const docLink = document.createElement('div');\n",
              "        docLink.innerHTML = docLinkHtml;\n",
              "        element.appendChild(docLink);\n",
              "      }\n",
              "    </script>\n",
              "  </div>\n",
              "\n",
              "\n",
              "<div id=\"df-be308a5f-8529-42d6-96f2-b090ca32800d\">\n",
              "  <button class=\"colab-df-quickchart\" onclick=\"quickchart('df-be308a5f-8529-42d6-96f2-b090ca32800d')\"\n",
              "            title=\"Suggest charts\"\n",
              "            style=\"display:none;\">\n",
              "\n",
              "<svg xmlns=\"http://www.w3.org/2000/svg\" height=\"24px\"viewBox=\"0 0 24 24\"\n",
              "     width=\"24px\">\n",
              "    <g>\n",
              "        <path d=\"M19 3H5c-1.1 0-2 .9-2 2v14c0 1.1.9 2 2 2h14c1.1 0 2-.9 2-2V5c0-1.1-.9-2-2-2zM9 17H7v-7h2v7zm4 0h-2V7h2v10zm4 0h-2v-4h2v4z\"/>\n",
              "    </g>\n",
              "</svg>\n",
              "  </button>\n",
              "\n",
              "<style>\n",
              "  .colab-df-quickchart {\n",
              "      --bg-color: #E8F0FE;\n",
              "      --fill-color: #1967D2;\n",
              "      --hover-bg-color: #E2EBFA;\n",
              "      --hover-fill-color: #174EA6;\n",
              "      --disabled-fill-color: #AAA;\n",
              "      --disabled-bg-color: #DDD;\n",
              "  }\n",
              "\n",
              "  [theme=dark] .colab-df-quickchart {\n",
              "      --bg-color: #3B4455;\n",
              "      --fill-color: #D2E3FC;\n",
              "      --hover-bg-color: #434B5C;\n",
              "      --hover-fill-color: #FFFFFF;\n",
              "      --disabled-bg-color: #3B4455;\n",
              "      --disabled-fill-color: #666;\n",
              "  }\n",
              "\n",
              "  .colab-df-quickchart {\n",
              "    background-color: var(--bg-color);\n",
              "    border: none;\n",
              "    border-radius: 50%;\n",
              "    cursor: pointer;\n",
              "    display: none;\n",
              "    fill: var(--fill-color);\n",
              "    height: 32px;\n",
              "    padding: 0;\n",
              "    width: 32px;\n",
              "  }\n",
              "\n",
              "  .colab-df-quickchart:hover {\n",
              "    background-color: var(--hover-bg-color);\n",
              "    box-shadow: 0 1px 2px rgba(60, 64, 67, 0.3), 0 1px 3px 1px rgba(60, 64, 67, 0.15);\n",
              "    fill: var(--button-hover-fill-color);\n",
              "  }\n",
              "\n",
              "  .colab-df-quickchart-complete:disabled,\n",
              "  .colab-df-quickchart-complete:disabled:hover {\n",
              "    background-color: var(--disabled-bg-color);\n",
              "    fill: var(--disabled-fill-color);\n",
              "    box-shadow: none;\n",
              "  }\n",
              "\n",
              "  .colab-df-spinner {\n",
              "    border: 2px solid var(--fill-color);\n",
              "    border-color: transparent;\n",
              "    border-bottom-color: var(--fill-color);\n",
              "    animation:\n",
              "      spin 1s steps(1) infinite;\n",
              "  }\n",
              "\n",
              "  @keyframes spin {\n",
              "    0% {\n",
              "      border-color: transparent;\n",
              "      border-bottom-color: var(--fill-color);\n",
              "      border-left-color: var(--fill-color);\n",
              "    }\n",
              "    20% {\n",
              "      border-color: transparent;\n",
              "      border-left-color: var(--fill-color);\n",
              "      border-top-color: var(--fill-color);\n",
              "    }\n",
              "    30% {\n",
              "      border-color: transparent;\n",
              "      border-left-color: var(--fill-color);\n",
              "      border-top-color: var(--fill-color);\n",
              "      border-right-color: var(--fill-color);\n",
              "    }\n",
              "    40% {\n",
              "      border-color: transparent;\n",
              "      border-right-color: var(--fill-color);\n",
              "      border-top-color: var(--fill-color);\n",
              "    }\n",
              "    60% {\n",
              "      border-color: transparent;\n",
              "      border-right-color: var(--fill-color);\n",
              "    }\n",
              "    80% {\n",
              "      border-color: transparent;\n",
              "      border-right-color: var(--fill-color);\n",
              "      border-bottom-color: var(--fill-color);\n",
              "    }\n",
              "    90% {\n",
              "      border-color: transparent;\n",
              "      border-bottom-color: var(--fill-color);\n",
              "    }\n",
              "  }\n",
              "</style>\n",
              "\n",
              "  <script>\n",
              "    async function quickchart(key) {\n",
              "      const quickchartButtonEl =\n",
              "        document.querySelector('#' + key + ' button');\n",
              "      quickchartButtonEl.disabled = true;  // To prevent multiple clicks.\n",
              "      quickchartButtonEl.classList.add('colab-df-spinner');\n",
              "      try {\n",
              "        const charts = await google.colab.kernel.invokeFunction(\n",
              "            'suggestCharts', [key], {});\n",
              "      } catch (error) {\n",
              "        console.error('Error during call to suggestCharts:', error);\n",
              "      }\n",
              "      quickchartButtonEl.classList.remove('colab-df-spinner');\n",
              "      quickchartButtonEl.classList.add('colab-df-quickchart-complete');\n",
              "    }\n",
              "    (() => {\n",
              "      let quickchartButtonEl =\n",
              "        document.querySelector('#df-be308a5f-8529-42d6-96f2-b090ca32800d button');\n",
              "      quickchartButtonEl.style.display =\n",
              "        google.colab.kernel.accessAllowed ? 'block' : 'none';\n",
              "    })();\n",
              "  </script>\n",
              "</div>\n",
              "\n",
              "    </div>\n",
              "  </div>\n"
            ],
            "application/vnd.google.colaboratory.intrinsic+json": {
              "type": "dataframe",
              "summary": "{\n  \"name\": \"df\",\n  \"rows\": 5,\n  \"fields\": [\n    {\n      \"column\": \"Date\",\n      \"properties\": {\n        \"dtype\": \"date\",\n        \"min\": \"2021-05-14 00:00:00\",\n        \"max\": \"2021-05-18 00:00:00\",\n        \"num_unique_values\": 5,\n        \"samples\": [\n          \"2021-05-15 00:00:00\",\n          \"2021-05-18 00:00:00\",\n          \"2021-05-16 00:00:00\"\n        ],\n        \"semantic_type\": \"\",\n        \"description\": \"\"\n      }\n    },\n    {\n      \"column\": \"Currency\",\n      \"properties\": {\n        \"dtype\": \"category\",\n        \"num_unique_values\": 1,\n        \"samples\": [\n          \"BTC\"\n        ],\n        \"semantic_type\": \"\",\n        \"description\": \"\"\n      }\n    },\n    {\n      \"column\": \"Closing Price (USD)\",\n      \"properties\": {\n        \"dtype\": \"number\",\n        \"std\": 2916.5186784641833,\n        \"min\": 43144.4712908603,\n        \"max\": 50032.6931367648,\n        \"num_unique_values\": 5,\n        \"samples\": [\n          50032.6931367648\n        ],\n        \"semantic_type\": \"\",\n        \"description\": \"\"\n      }\n    },\n    {\n      \"column\": \"24h Open (USD)\",\n      \"properties\": {\n        \"dtype\": \"number\",\n        \"std\": 1720.1702365921644,\n        \"min\": 46439.3365698047,\n        \"max\": 49926.035067459,\n        \"num_unique_values\": 5,\n        \"samples\": [\n          49717.3543531654\n        ],\n        \"semantic_type\": \"\",\n        \"description\": \"\"\n      }\n    },\n    {\n      \"column\": \"24h High (USD)\",\n      \"properties\": {\n        \"dtype\": \"number\",\n        \"std\": 2035.9897613463545,\n        \"min\": 46622.8534374849,\n        \"max\": 51578.3125446899,\n        \"num_unique_values\": 5,\n        \"samples\": [\n          51578.3125446899\n        ],\n        \"semantic_type\": \"\",\n        \"description\": \"\"\n      }\n    },\n    {\n      \"column\": \"24h Low (USD)\",\n      \"properties\": {\n        \"dtype\": \"number\",\n        \"std\": 2686.239730855477,\n        \"min\": 42102.3464296188,\n        \"max\": 48944.3465360214,\n        \"num_unique_values\": 5,\n        \"samples\": [\n          48944.3465360214\n        ],\n        \"semantic_type\": \"\",\n        \"description\": \"\"\n      }\n    }\n  ]\n}"
            }
          },
          "metadata": {},
          "execution_count": 4
        }
      ]
    },
    {
      "cell_type": "code",
      "source": [
        "# How many samples we have?\n",
        "len(df)"
      ],
      "metadata": {
        "colab": {
          "base_uri": "https://localhost:8080/"
        },
        "id": "fH1mnZkVRhSl",
        "outputId": "f321460e-2bab-4b1d-e916-7cf755268da2"
      },
      "execution_count": 5,
      "outputs": [
        {
          "output_type": "execute_result",
          "data": {
            "text/plain": [
              "2787"
            ]
          },
          "metadata": {},
          "execution_count": 5
        }
      ]
    },
    {
      "cell_type": "markdown",
      "source": [
        "Though we've collected the historical price of Bitcoin for the past ~8 years but there's 2787 samples.\n",
        "\n",
        "Typically deep learning models usually likes lots and lots of samples ( thousands to tens of thousands  to millions ).\n",
        "\n",
        "A smaller number of samples is something you'll often run into with time serises of data problems.\n",
        "\n",
        "> 🔑 **Note** The **seasonality** of a time series dataset is referred as the number of samples per year. So for our Bitcoin data, it has seasonality of daily or value of 365 because we collect one sample per day meaning we will get 365 per year."
      ],
      "metadata": {
        "id": "XLvUZP4oRpM-"
      }
    },
    {
      "cell_type": "code",
      "source": [
        "# Only want closing price for each day\n",
        "bitcoin_prices = pd.DataFrame(df[\"Closing Price (USD)\"]).rename(columns={\"Closing Price (USD)\": \"Price\"})\n",
        "bitcoin_prices.head()"
      ],
      "metadata": {
        "id": "HoKuXDf4S8kO",
        "colab": {
          "base_uri": "https://localhost:8080/",
          "height": 237
        },
        "outputId": "b3214f97-b333-4e56-818f-338c79d8e5a9"
      },
      "execution_count": 6,
      "outputs": [
        {
          "output_type": "execute_result",
          "data": {
            "text/plain": [
              "                Price\n",
              "Date                 \n",
              "2013-10-01  123.65499\n",
              "2013-10-02  125.45500\n",
              "2013-10-03  108.58483\n",
              "2013-10-04  118.67466\n",
              "2013-10-05  121.33866"
            ],
            "text/html": [
              "\n",
              "  <div id=\"df-bd50ee5b-8f9f-4964-afab-14ede30c683e\" class=\"colab-df-container\">\n",
              "    <div>\n",
              "<style scoped>\n",
              "    .dataframe tbody tr th:only-of-type {\n",
              "        vertical-align: middle;\n",
              "    }\n",
              "\n",
              "    .dataframe tbody tr th {\n",
              "        vertical-align: top;\n",
              "    }\n",
              "\n",
              "    .dataframe thead th {\n",
              "        text-align: right;\n",
              "    }\n",
              "</style>\n",
              "<table border=\"1\" class=\"dataframe\">\n",
              "  <thead>\n",
              "    <tr style=\"text-align: right;\">\n",
              "      <th></th>\n",
              "      <th>Price</th>\n",
              "    </tr>\n",
              "    <tr>\n",
              "      <th>Date</th>\n",
              "      <th></th>\n",
              "    </tr>\n",
              "  </thead>\n",
              "  <tbody>\n",
              "    <tr>\n",
              "      <th>2013-10-01</th>\n",
              "      <td>123.65499</td>\n",
              "    </tr>\n",
              "    <tr>\n",
              "      <th>2013-10-02</th>\n",
              "      <td>125.45500</td>\n",
              "    </tr>\n",
              "    <tr>\n",
              "      <th>2013-10-03</th>\n",
              "      <td>108.58483</td>\n",
              "    </tr>\n",
              "    <tr>\n",
              "      <th>2013-10-04</th>\n",
              "      <td>118.67466</td>\n",
              "    </tr>\n",
              "    <tr>\n",
              "      <th>2013-10-05</th>\n",
              "      <td>121.33866</td>\n",
              "    </tr>\n",
              "  </tbody>\n",
              "</table>\n",
              "</div>\n",
              "    <div class=\"colab-df-buttons\">\n",
              "\n",
              "  <div class=\"colab-df-container\">\n",
              "    <button class=\"colab-df-convert\" onclick=\"convertToInteractive('df-bd50ee5b-8f9f-4964-afab-14ede30c683e')\"\n",
              "            title=\"Convert this dataframe to an interactive table.\"\n",
              "            style=\"display:none;\">\n",
              "\n",
              "  <svg xmlns=\"http://www.w3.org/2000/svg\" height=\"24px\" viewBox=\"0 -960 960 960\">\n",
              "    <path d=\"M120-120v-720h720v720H120Zm60-500h600v-160H180v160Zm220 220h160v-160H400v160Zm0 220h160v-160H400v160ZM180-400h160v-160H180v160Zm440 0h160v-160H620v160ZM180-180h160v-160H180v160Zm440 0h160v-160H620v160Z\"/>\n",
              "  </svg>\n",
              "    </button>\n",
              "\n",
              "  <style>\n",
              "    .colab-df-container {\n",
              "      display:flex;\n",
              "      gap: 12px;\n",
              "    }\n",
              "\n",
              "    .colab-df-convert {\n",
              "      background-color: #E8F0FE;\n",
              "      border: none;\n",
              "      border-radius: 50%;\n",
              "      cursor: pointer;\n",
              "      display: none;\n",
              "      fill: #1967D2;\n",
              "      height: 32px;\n",
              "      padding: 0 0 0 0;\n",
              "      width: 32px;\n",
              "    }\n",
              "\n",
              "    .colab-df-convert:hover {\n",
              "      background-color: #E2EBFA;\n",
              "      box-shadow: 0px 1px 2px rgba(60, 64, 67, 0.3), 0px 1px 3px 1px rgba(60, 64, 67, 0.15);\n",
              "      fill: #174EA6;\n",
              "    }\n",
              "\n",
              "    .colab-df-buttons div {\n",
              "      margin-bottom: 4px;\n",
              "    }\n",
              "\n",
              "    [theme=dark] .colab-df-convert {\n",
              "      background-color: #3B4455;\n",
              "      fill: #D2E3FC;\n",
              "    }\n",
              "\n",
              "    [theme=dark] .colab-df-convert:hover {\n",
              "      background-color: #434B5C;\n",
              "      box-shadow: 0px 1px 3px 1px rgba(0, 0, 0, 0.15);\n",
              "      filter: drop-shadow(0px 1px 2px rgba(0, 0, 0, 0.3));\n",
              "      fill: #FFFFFF;\n",
              "    }\n",
              "  </style>\n",
              "\n",
              "    <script>\n",
              "      const buttonEl =\n",
              "        document.querySelector('#df-bd50ee5b-8f9f-4964-afab-14ede30c683e button.colab-df-convert');\n",
              "      buttonEl.style.display =\n",
              "        google.colab.kernel.accessAllowed ? 'block' : 'none';\n",
              "\n",
              "      async function convertToInteractive(key) {\n",
              "        const element = document.querySelector('#df-bd50ee5b-8f9f-4964-afab-14ede30c683e');\n",
              "        const dataTable =\n",
              "          await google.colab.kernel.invokeFunction('convertToInteractive',\n",
              "                                                    [key], {});\n",
              "        if (!dataTable) return;\n",
              "\n",
              "        const docLinkHtml = 'Like what you see? Visit the ' +\n",
              "          '<a target=\"_blank\" href=https://colab.research.google.com/notebooks/data_table.ipynb>data table notebook</a>'\n",
              "          + ' to learn more about interactive tables.';\n",
              "        element.innerHTML = '';\n",
              "        dataTable['output_type'] = 'display_data';\n",
              "        await google.colab.output.renderOutput(dataTable, element);\n",
              "        const docLink = document.createElement('div');\n",
              "        docLink.innerHTML = docLinkHtml;\n",
              "        element.appendChild(docLink);\n",
              "      }\n",
              "    </script>\n",
              "  </div>\n",
              "\n",
              "\n",
              "<div id=\"df-02ba1dec-c8bf-45bd-8cb2-355900671159\">\n",
              "  <button class=\"colab-df-quickchart\" onclick=\"quickchart('df-02ba1dec-c8bf-45bd-8cb2-355900671159')\"\n",
              "            title=\"Suggest charts\"\n",
              "            style=\"display:none;\">\n",
              "\n",
              "<svg xmlns=\"http://www.w3.org/2000/svg\" height=\"24px\"viewBox=\"0 0 24 24\"\n",
              "     width=\"24px\">\n",
              "    <g>\n",
              "        <path d=\"M19 3H5c-1.1 0-2 .9-2 2v14c0 1.1.9 2 2 2h14c1.1 0 2-.9 2-2V5c0-1.1-.9-2-2-2zM9 17H7v-7h2v7zm4 0h-2V7h2v10zm4 0h-2v-4h2v4z\"/>\n",
              "    </g>\n",
              "</svg>\n",
              "  </button>\n",
              "\n",
              "<style>\n",
              "  .colab-df-quickchart {\n",
              "      --bg-color: #E8F0FE;\n",
              "      --fill-color: #1967D2;\n",
              "      --hover-bg-color: #E2EBFA;\n",
              "      --hover-fill-color: #174EA6;\n",
              "      --disabled-fill-color: #AAA;\n",
              "      --disabled-bg-color: #DDD;\n",
              "  }\n",
              "\n",
              "  [theme=dark] .colab-df-quickchart {\n",
              "      --bg-color: #3B4455;\n",
              "      --fill-color: #D2E3FC;\n",
              "      --hover-bg-color: #434B5C;\n",
              "      --hover-fill-color: #FFFFFF;\n",
              "      --disabled-bg-color: #3B4455;\n",
              "      --disabled-fill-color: #666;\n",
              "  }\n",
              "\n",
              "  .colab-df-quickchart {\n",
              "    background-color: var(--bg-color);\n",
              "    border: none;\n",
              "    border-radius: 50%;\n",
              "    cursor: pointer;\n",
              "    display: none;\n",
              "    fill: var(--fill-color);\n",
              "    height: 32px;\n",
              "    padding: 0;\n",
              "    width: 32px;\n",
              "  }\n",
              "\n",
              "  .colab-df-quickchart:hover {\n",
              "    background-color: var(--hover-bg-color);\n",
              "    box-shadow: 0 1px 2px rgba(60, 64, 67, 0.3), 0 1px 3px 1px rgba(60, 64, 67, 0.15);\n",
              "    fill: var(--button-hover-fill-color);\n",
              "  }\n",
              "\n",
              "  .colab-df-quickchart-complete:disabled,\n",
              "  .colab-df-quickchart-complete:disabled:hover {\n",
              "    background-color: var(--disabled-bg-color);\n",
              "    fill: var(--disabled-fill-color);\n",
              "    box-shadow: none;\n",
              "  }\n",
              "\n",
              "  .colab-df-spinner {\n",
              "    border: 2px solid var(--fill-color);\n",
              "    border-color: transparent;\n",
              "    border-bottom-color: var(--fill-color);\n",
              "    animation:\n",
              "      spin 1s steps(1) infinite;\n",
              "  }\n",
              "\n",
              "  @keyframes spin {\n",
              "    0% {\n",
              "      border-color: transparent;\n",
              "      border-bottom-color: var(--fill-color);\n",
              "      border-left-color: var(--fill-color);\n",
              "    }\n",
              "    20% {\n",
              "      border-color: transparent;\n",
              "      border-left-color: var(--fill-color);\n",
              "      border-top-color: var(--fill-color);\n",
              "    }\n",
              "    30% {\n",
              "      border-color: transparent;\n",
              "      border-left-color: var(--fill-color);\n",
              "      border-top-color: var(--fill-color);\n",
              "      border-right-color: var(--fill-color);\n",
              "    }\n",
              "    40% {\n",
              "      border-color: transparent;\n",
              "      border-right-color: var(--fill-color);\n",
              "      border-top-color: var(--fill-color);\n",
              "    }\n",
              "    60% {\n",
              "      border-color: transparent;\n",
              "      border-right-color: var(--fill-color);\n",
              "    }\n",
              "    80% {\n",
              "      border-color: transparent;\n",
              "      border-right-color: var(--fill-color);\n",
              "      border-bottom-color: var(--fill-color);\n",
              "    }\n",
              "    90% {\n",
              "      border-color: transparent;\n",
              "      border-bottom-color: var(--fill-color);\n",
              "    }\n",
              "  }\n",
              "</style>\n",
              "\n",
              "  <script>\n",
              "    async function quickchart(key) {\n",
              "      const quickchartButtonEl =\n",
              "        document.querySelector('#' + key + ' button');\n",
              "      quickchartButtonEl.disabled = true;  // To prevent multiple clicks.\n",
              "      quickchartButtonEl.classList.add('colab-df-spinner');\n",
              "      try {\n",
              "        const charts = await google.colab.kernel.invokeFunction(\n",
              "            'suggestCharts', [key], {});\n",
              "      } catch (error) {\n",
              "        console.error('Error during call to suggestCharts:', error);\n",
              "      }\n",
              "      quickchartButtonEl.classList.remove('colab-df-spinner');\n",
              "      quickchartButtonEl.classList.add('colab-df-quickchart-complete');\n",
              "    }\n",
              "    (() => {\n",
              "      let quickchartButtonEl =\n",
              "        document.querySelector('#df-02ba1dec-c8bf-45bd-8cb2-355900671159 button');\n",
              "      quickchartButtonEl.style.display =\n",
              "        google.colab.kernel.accessAllowed ? 'block' : 'none';\n",
              "    })();\n",
              "  </script>\n",
              "</div>\n",
              "\n",
              "    </div>\n",
              "  </div>\n"
            ],
            "application/vnd.google.colaboratory.intrinsic+json": {
              "type": "dataframe",
              "variable_name": "bitcoin_prices",
              "summary": "{\n  \"name\": \"bitcoin_prices\",\n  \"rows\": 2787,\n  \"fields\": [\n    {\n      \"column\": \"Date\",\n      \"properties\": {\n        \"dtype\": \"date\",\n        \"min\": \"2013-10-01 00:00:00\",\n        \"max\": \"2021-05-18 00:00:00\",\n        \"num_unique_values\": 2787,\n        \"samples\": [\n          \"2019-06-11 00:00:00\",\n          \"2021-05-03 00:00:00\",\n          \"2017-10-05 00:00:00\"\n        ],\n        \"semantic_type\": \"\",\n        \"description\": \"\"\n      }\n    },\n    {\n      \"column\": \"Price\",\n      \"properties\": {\n        \"dtype\": \"number\",\n        \"std\": 10887.84744436952,\n        \"min\": 108.58483,\n        \"max\": 63346.7890351052,\n        \"num_unique_values\": 2787,\n        \"samples\": [\n          7954.0062377205,\n          56427.0431250152,\n          4186.78374\n        ],\n        \"semantic_type\": \"\",\n        \"description\": \"\"\n      }\n    }\n  ]\n}"
            }
          },
          "metadata": {},
          "execution_count": 6
        }
      ]
    },
    {
      "cell_type": "code",
      "source": [
        "import matplotlib.pyplot as plt\n",
        "bitcoin_prices.plot(figsize=(10, 7))\n",
        "plt.ylabel(\"BTC Price\")\n",
        "plt.title(\"Price of Bitcoin from 1 Oct 2013 to 18 May 2021\", fontsize = 16)\n",
        "plt.legend(fontsize=14, loc='upper left')"
      ],
      "metadata": {
        "colab": {
          "base_uri": "https://localhost:8080/",
          "height": 661
        },
        "id": "gbpJ994qdJBm",
        "outputId": "b0528484-3816-469e-bf12-e5d185f75c41"
      },
      "execution_count": 7,
      "outputs": [
        {
          "output_type": "execute_result",
          "data": {
            "text/plain": [
              "<matplotlib.legend.Legend at 0x7d64a527da50>"
            ]
          },
          "metadata": {},
          "execution_count": 7
        },
        {
          "output_type": "display_data",
          "data": {
            "text/plain": [
              "<Figure size 1000x700 with 1 Axes>"
            ],
            "image/png": "[encoded data removed]"
          },
          "metadata": {}
        }
      ]
    },
    {
      "cell_type": "markdown",
      "source": [
        "## Import time series data with Python's CSV module"
      ],
      "metadata": {
        "id": "jR-AquH0if86"
      }
    },
    {
      "cell_type": "code",
      "source": [
        "# # importing and formating historical Bitcoin data with Python\n",
        "# import csv\n",
        "# from datetime import datetime\n",
        "\n",
        "# with open('/content/BTC_USD_2013-10-01_2021-05-18-CoinDesk.csv', mode='r') as csv_file:\n",
        "#     csv_reader = csv.reader(csv_file, delimiter=',')\n",
        "#     print(type(csv_reader)) # delimiter what comes between the column. see the csv file in raw to see comma\n",
        "#     line_count = 0\n",
        "\n",
        "#     for row in csv_reader:\n",
        "#       if line_count == 0:\n",
        "#           print(f'Column are {\", \".join(row[:3])}')\n",
        "#           line_count += 1\n",
        "#       else:\n",
        "#           print(f'\\t{row[0]} value in {row[1]} was {row[2]}.')\n",
        "#           line_count += 1\n",
        "#       if line_count > 10:\n",
        "#         break\n",
        "\n",
        "#     print(f'Processed {line_count} lines.')"
      ],
      "metadata": {
        "id": "4OV2r-ZTdk-l"
      },
      "execution_count": 8,
      "outputs": []
    },
    {
      "cell_type": "code",
      "source": [
        "# Importing and formating historical Bitcoin data with Python\n",
        "import csv\n",
        "from datetime import datetime\n",
        "\n",
        "timesteps = []\n",
        "btc_price = []\n",
        "\n",
        "with open('/content/BTC_USD_2013-10-01_2021-05-18-CoinDesk.csv', mode='r') as f:\n",
        "  csv_reader = csv.reader(f, delimiter=',')  # delimiter what comes between the column. see the csv file in raw to see comma\n",
        "  next(csv_reader) # skip the top row. We dont want the header\n",
        "\n",
        "  for line in csv_reader:\n",
        "    timesteps.append(datetime.strptime(line[1], \"%Y-%m-%d\")) # time is in index 1\n",
        "    btc_price.append(float(line[2])) # Get closing price as fload\n",
        "\n",
        "# View first 10 of each\n",
        "timesteps[:10],btc_price[:10]\n"
      ],
      "metadata": {
        "colab": {
          "base_uri": "https://localhost:8080/"
        },
        "id": "Sfml2x6KjFkV",
        "outputId": "1d3529d7-6a00-4056-ccc7-8787e74140f7"
      },
      "execution_count": 9,
      "outputs": [
        {
          "output_type": "execute_result",
          "data": {
            "text/plain": [
              "([datetime.datetime(2013, 10, 1, 0, 0),\n",
              "  datetime.datetime(2013, 10, 2, 0, 0),\n",
              "  datetime.datetime(2013, 10, 3, 0, 0),\n",
              "  datetime.datetime(2013, 10, 4, 0, 0),\n",
              "  datetime.datetime(2013, 10, 5, 0, 0),\n",
              "  datetime.datetime(2013, 10, 6, 0, 0),\n",
              "  datetime.datetime(2013, 10, 7, 0, 0),\n",
              "  datetime.datetime(2013, 10, 8, 0, 0),\n",
              "  datetime.datetime(2013, 10, 9, 0, 0),\n",
              "  datetime.datetime(2013, 10, 10, 0, 0)],\n",
              " [123.65499,\n",
              "  125.455,\n",
              "  108.58483,\n",
              "  118.67466,\n",
              "  121.33866,\n",
              "  120.65533,\n",
              "  121.795,\n",
              "  123.033,\n",
              "  124.049,\n",
              "  125.96116])"
            ]
          },
          "metadata": {},
          "execution_count": 9
        }
      ]
    },
    {
      "cell_type": "code",
      "source": [
        "# Plot from csv\n",
        "import matplotlib.pyplot as plt\n",
        "import numpy as np\n",
        "\n",
        "plt.figure(figsize=(10,7))\n",
        "plt.plot(timesteps, btc_price)\n",
        "plt.ylabel(\"BTC Price\")\n",
        "plt.title(\"Price of Bitcoin from 1 Oct 2013 to 18 May 2021\", fontsize = 16)\n",
        "# plt.legend(fontsize=14, loc='upper left') no legend in python csv"
      ],
      "metadata": {
        "colab": {
          "base_uri": "https://localhost:8080/",
          "height": 642
        },
        "id": "88olsardg33q",
        "outputId": "aa68600a-1d83-4e7f-d41f-f8b394fa9e33"
      },
      "execution_count": 10,
      "outputs": [
        {
          "output_type": "execute_result",
          "data": {
            "text/plain": [
              "Text(0.5, 1.0, 'Price of Bitcoin from 1 Oct 2013 to 18 May 2021')"
            ]
          },
          "metadata": {},
          "execution_count": 10
        },
        {
          "output_type": "display_data",
          "data": {
            "text/plain": [
              "<Figure size 1000x700 with 1 Axes>"
            ],
            "image/png": "[encoded data removed]"
          },
          "metadata": {}
        }
      ]
    },
    {
      "cell_type": "markdown",
      "source": [
        "## Format data part 1: Create train and test sets of our time series data"
      ],
      "metadata": {
        "id": "RJ0HHHBVlMeJ"
      }
    },
    {
      "cell_type": "markdown",
      "source": [
        "### Creating train and test set with time series data (wrong way)"
      ],
      "metadata": {
        "id": "wm-YVbtblmK6"
      }
    },
    {
      "cell_type": "code",
      "source": [
        "bitcoin_prices[:5]"
      ],
      "metadata": {
        "colab": {
          "base_uri": "https://localhost:8080/",
          "height": 237
        },
        "id": "FvEq3zcnlz1s",
        "outputId": "926896b1-2cf9-4123-b4b4-d53ef599b199"
      },
      "execution_count": 11,
      "outputs": [
        {
          "output_type": "execute_result",
          "data": {
            "text/plain": [
              "                Price\n",
              "Date                 \n",
              "2013-10-01  123.65499\n",
              "2013-10-02  125.45500\n",
              "2013-10-03  108.58483\n",
              "2013-10-04  118.67466\n",
              "2013-10-05  121.33866"
            ],
            "text/html": [
              "\n",
              "  <div id=\"df-af2b1eb1-451a-4ebe-9842-84cc67956be8\" class=\"colab-df-container\">\n",
              "    <div>\n",
              "<style scoped>\n",
              "    .dataframe tbody tr th:only-of-type {\n",
              "        vertical-align: middle;\n",
              "    }\n",
              "\n",
              "    .dataframe tbody tr th {\n",
              "        vertical-align: top;\n",
              "    }\n",
              "\n",
              "    .dataframe thead th {\n",
              "        text-align: right;\n",
              "    }\n",
              "</style>\n",
              "<table border=\"1\" class=\"dataframe\">\n",
              "  <thead>\n",
              "    <tr style=\"text-align: right;\">\n",
              "      <th></th>\n",
              "      <th>Price</th>\n",
              "    </tr>\n",
              "    <tr>\n",
              "      <th>Date</th>\n",
              "      <th></th>\n",
              "    </tr>\n",
              "  </thead>\n",
              "  <tbody>\n",
              "    <tr>\n",
              "      <th>2013-10-01</th>\n",
              "      <td>123.65499</td>\n",
              "    </tr>\n",
              "    <tr>\n",
              "      <th>2013-10-02</th>\n",
              "      <td>125.45500</td>\n",
              "    </tr>\n",
              "    <tr>\n",
              "      <th>2013-10-03</th>\n",
              "      <td>108.58483</td>\n",
              "    </tr>\n",
              "    <tr>\n",
              "      <th>2013-10-04</th>\n",
              "      <td>118.67466</td>\n",
              "    </tr>\n",
              "    <tr>\n",
              "      <th>2013-10-05</th>\n",
              "      <td>121.33866</td>\n",
              "    </tr>\n",
              "  </tbody>\n",
              "</table>\n",
              "</div>\n",
              "    <div class=\"colab-df-buttons\">\n",
              "\n",
              "  <div class=\"colab-df-container\">\n",
              "    <button class=\"colab-df-convert\" onclick=\"convertToInteractive('df-af2b1eb1-451a-4ebe-9842-84cc67956be8')\"\n",
              "            title=\"Convert this dataframe to an interactive table.\"\n",
              "            style=\"display:none;\">\n",
              "\n",
              "  <svg xmlns=\"http://www.w3.org/2000/svg\" height=\"24px\" viewBox=\"0 -960 960 960\">\n",
              "    <path d=\"M120-120v-720h720v720H120Zm60-500h600v-160H180v160Zm220 220h160v-160H400v160Zm0 220h160v-160H400v160ZM180-400h160v-160H180v160Zm440 0h160v-160H620v160ZM180-180h160v-160H180v160Zm440 0h160v-160H620v160Z\"/>\n",
              "  </svg>\n",
              "    </button>\n",
              "\n",
              "  <style>\n",
              "    .colab-df-container {\n",
              "      display:flex;\n",
              "      gap: 12px;\n",
              "    }\n",
              "\n",
              "    .colab-df-convert {\n",
              "      background-color: #E8F0FE;\n",
              "      border: none;\n",
              "      border-radius: 50%;\n",
              "      cursor: pointer;\n",
              "      display: none;\n",
              "      fill: #1967D2;\n",
              "      height: 32px;\n",
              "      padding: 0 0 0 0;\n",
              "      width: 32px;\n",
              "    }\n",
              "\n",
              "    .colab-df-convert:hover {\n",
              "      background-color: #E2EBFA;\n",
              "      box-shadow: 0px 1px 2px rgba(60, 64, 67, 0.3), 0px 1px 3px 1px rgba(60, 64, 67, 0.15);\n",
              "      fill: #174EA6;\n",
              "    }\n",
              "\n",
              "    .colab-df-buttons div {\n",
              "      margin-bottom: 4px;\n",
              "    }\n",
              "\n",
              "    [theme=dark] .colab-df-convert {\n",
              "      background-color: #3B4455;\n",
              "      fill: #D2E3FC;\n",
              "    }\n",
              "\n",
              "    [theme=dark] .colab-df-convert:hover {\n",
              "      background-color: #434B5C;\n",
              "      box-shadow: 0px 1px 3px 1px rgba(0, 0, 0, 0.15);\n",
              "      filter: drop-shadow(0px 1px 2px rgba(0, 0, 0, 0.3));\n",
              "      fill: #FFFFFF;\n",
              "    }\n",
              "  </style>\n",
              "\n",
              "    <script>\n",
              "      const buttonEl =\n",
              "        document.querySelector('#df-af2b1eb1-451a-4ebe-9842-84cc67956be8 button.colab-df-convert');\n",
              "      buttonEl.style.display =\n",
              "        google.colab.kernel.accessAllowed ? 'block' : 'none';\n",
              "\n",
              "      async function convertToInteractive(key) {\n",
              "        const element = document.querySelector('#df-af2b1eb1-451a-4ebe-9842-84cc67956be8');\n",
              "        const dataTable =\n",
              "          await google.colab.kernel.invokeFunction('convertToInteractive',\n",
              "                                                    [key], {});\n",
              "        if (!dataTable) return;\n",
              "\n",
              "        const docLinkHtml = 'Like what you see? Visit the ' +\n",
              "          '<a target=\"_blank\" href=https://colab.research.google.com/notebooks/data_table.ipynb>data table notebook</a>'\n",
              "          + ' to learn more about interactive tables.';\n",
              "        element.innerHTML = '';\n",
              "        dataTable['output_type'] = 'display_data';\n",
              "        await google.colab.output.renderOutput(dataTable, element);\n",
              "        const docLink = document.createElement('div');\n",
              "        docLink.innerHTML = docLinkHtml;\n",
              "        element.appendChild(docLink);\n",
              "      }\n",
              "    </script>\n",
              "  </div>\n",
              "\n",
              "\n",
              "<div id=\"df-769a8416-3491-4d35-b497-7e2ba9c0b71b\">\n",
              "  <button class=\"colab-df-quickchart\" onclick=\"quickchart('df-769a8416-3491-4d35-b497-7e2ba9c0b71b')\"\n",
              "            title=\"Suggest charts\"\n",
              "            style=\"display:none;\">\n",
              "\n",
              "<svg xmlns=\"http://www.w3.org/2000/svg\" height=\"24px\"viewBox=\"0 0 24 24\"\n",
              "     width=\"24px\">\n",
              "    <g>\n",
              "        <path d=\"M19 3H5c-1.1 0-2 .9-2 2v14c0 1.1.9 2 2 2h14c1.1 0 2-.9 2-2V5c0-1.1-.9-2-2-2zM9 17H7v-7h2v7zm4 0h-2V7h2v10zm4 0h-2v-4h2v4z\"/>\n",
              "    </g>\n",
              "</svg>\n",
              "  </button>\n",
              "\n",
              "<style>\n",
              "  .colab-df-quickchart {\n",
              "      --bg-color: #E8F0FE;\n",
              "      --fill-color: #1967D2;\n",
              "      --hover-bg-color: #E2EBFA;\n",
              "      --hover-fill-color: #174EA6;\n",
              "      --disabled-fill-color: #AAA;\n",
              "      --disabled-bg-color: #DDD;\n",
              "  }\n",
              "\n",
              "  [theme=dark] .colab-df-quickchart {\n",
              "      --bg-color: #3B4455;\n",
              "      --fill-color: #D2E3FC;\n",
              "      --hover-bg-color: #434B5C;\n",
              "      --hover-fill-color: #FFFFFF;\n",
              "      --disabled-bg-color: #3B4455;\n",
              "      --disabled-fill-color: #666;\n",
              "  }\n",
              "\n",
              "  .colab-df-quickchart {\n",
              "    background-color: var(--bg-color);\n",
              "    border: none;\n",
              "    border-radius: 50%;\n",
              "    cursor: pointer;\n",
              "    display: none;\n",
              "    fill: var(--fill-color);\n",
              "    height: 32px;\n",
              "    padding: 0;\n",
              "    width: 32px;\n",
              "  }\n",
              "\n",
              "  .colab-df-quickchart:hover {\n",
              "    background-color: var(--hover-bg-color);\n",
              "    box-shadow: 0 1px 2px rgba(60, 64, 67, 0.3), 0 1px 3px 1px rgba(60, 64, 67, 0.15);\n",
              "    fill: var(--button-hover-fill-color);\n",
              "  }\n",
              "\n",
              "  .colab-df-quickchart-complete:disabled,\n",
              "  .colab-df-quickchart-complete:disabled:hover {\n",
              "    background-color: var(--disabled-bg-color);\n",
              "    fill: var(--disabled-fill-color);\n",
              "    box-shadow: none;\n",
              "  }\n",
              "\n",
              "  .colab-df-spinner {\n",
              "    border: 2px solid var(--fill-color);\n",
              "    border-color: transparent;\n",
              "    border-bottom-color: var(--fill-color);\n",
              "    animation:\n",
              "      spin 1s steps(1) infinite;\n",
              "  }\n",
              "\n",
              "  @keyframes spin {\n",
              "    0% {\n",
              "      border-color: transparent;\n",
              "      border-bottom-color: var(--fill-color);\n",
              "      border-left-color: var(--fill-color);\n",
              "    }\n",
              "    20% {\n",
              "      border-color: transparent;\n",
              "      border-left-color: var(--fill-color);\n",
              "      border-top-color: var(--fill-color);\n",
              "    }\n",
              "    30% {\n",
              "      border-color: transparent;\n",
              "      border-left-color: var(--fill-color);\n",
              "      border-top-color: var(--fill-color);\n",
              "      border-right-color: var(--fill-color);\n",
              "    }\n",
              "    40% {\n",
              "      border-color: transparent;\n",
              "      border-right-color: var(--fill-color);\n",
              "      border-top-color: var(--fill-color);\n",
              "    }\n",
              "    60% {\n",
              "      border-color: transparent;\n",
              "      border-right-color: var(--fill-color);\n",
              "    }\n",
              "    80% {\n",
              "      border-color: transparent;\n",
              "      border-right-color: var(--fill-color);\n",
              "      border-bottom-color: var(--fill-color);\n",
              "    }\n",
              "    90% {\n",
              "      border-color: transparent;\n",
              "      border-bottom-color: var(--fill-color);\n",
              "    }\n",
              "  }\n",
              "</style>\n",
              "\n",
              "  <script>\n",
              "    async function quickchart(key) {\n",
              "      const quickchartButtonEl =\n",
              "        document.querySelector('#' + key + ' button');\n",
              "      quickchartButtonEl.disabled = true;  // To prevent multiple clicks.\n",
              "      quickchartButtonEl.classList.add('colab-df-spinner');\n",
              "      try {\n",
              "        const charts = await google.colab.kernel.invokeFunction(\n",
              "            'suggestCharts', [key], {});\n",
              "      } catch (error) {\n",
              "        console.error('Error during call to suggestCharts:', error);\n",
              "      }\n",
              "      quickchartButtonEl.classList.remove('colab-df-spinner');\n",
              "      quickchartButtonEl.classList.add('colab-df-quickchart-complete');\n",
              "    }\n",
              "    (() => {\n",
              "      let quickchartButtonEl =\n",
              "        document.querySelector('#df-769a8416-3491-4d35-b497-7e2ba9c0b71b button');\n",
              "      quickchartButtonEl.style.display =\n",
              "        google.colab.kernel.accessAllowed ? 'block' : 'none';\n",
              "    })();\n",
              "  </script>\n",
              "</div>\n",
              "\n",
              "    </div>\n",
              "  </div>\n"
            ],
            "application/vnd.google.colaboratory.intrinsic+json": {
              "type": "dataframe",
              "summary": "{\n  \"name\": \"bitcoin_prices[:5]\",\n  \"rows\": 5,\n  \"fields\": [\n    {\n      \"column\": \"Date\",\n      \"properties\": {\n        \"dtype\": \"date\",\n        \"min\": \"2013-10-01 00:00:00\",\n        \"max\": \"2013-10-05 00:00:00\",\n        \"num_unique_values\": 5,\n        \"samples\": [\n          \"2013-10-02 00:00:00\",\n          \"2013-10-05 00:00:00\",\n          \"2013-10-03 00:00:00\"\n        ],\n        \"semantic_type\": \"\",\n        \"description\": \"\"\n      }\n    },\n    {\n      \"column\": \"Price\",\n      \"properties\": {\n        \"dtype\": \"number\",\n        \"std\": 6.631743648699791,\n        \"min\": 108.58483,\n        \"max\": 125.455,\n        \"num_unique_values\": 5,\n        \"samples\": [\n          125.455,\n          121.33866,\n          108.58483\n        ],\n        \"semantic_type\": \"\",\n        \"description\": \"\"\n      }\n    }\n  ]\n}"
            }
          },
          "metadata": {},
          "execution_count": 11
        }
      ]
    },
    {
      "cell_type": "code",
      "source": [
        "# Get bitcoin date array\n",
        "timesteps = bitcoin_prices.index.to_numpy()\n",
        "prices = bitcoin_prices[\"Price\"].to_numpy()\n",
        "\n",
        "timesteps[:10], prices[:10]"
      ],
      "metadata": {
        "colab": {
          "base_uri": "https://localhost:8080/"
        },
        "id": "FxEarmRzrw-Y",
        "outputId": "9369094a-9fa1-4fd4-e77a-aae21d49e565"
      },
      "execution_count": 12,
      "outputs": [
        {
          "output_type": "execute_result",
          "data": {
            "text/plain": [
              "(array(['2013-10-01T00:00:00.000000000', '2013-10-02T00:00:00.000000000',\n",
              "        '2013-10-03T00:00:00.000000000', '2013-10-04T00:00:00.000000000',\n",
              "        '2013-10-05T00:00:00.000000000', '2013-10-06T00:00:00.000000000',\n",
              "        '2013-10-07T00:00:00.000000000', '2013-10-08T00:00:00.000000000',\n",
              "        '2013-10-09T00:00:00.000000000', '2013-10-10T00:00:00.000000000'],\n",
              "       dtype='datetime64[ns]'),\n",
              " array([123.65499, 125.455  , 108.58483, 118.67466, 121.33866, 120.65533,\n",
              "        121.795  , 123.033  , 124.049  , 125.96116]))"
            ]
          },
          "metadata": {},
          "execution_count": 12
        }
      ]
    },
    {
      "cell_type": "code",
      "source": [
        "# Wrong way to make train/test sets for time series data\n",
        "from sklearn.model_selection import train_test_split\n",
        "\n",
        "X_train, X_test, y_train, y_test = train_test_split(timesteps,\n",
        "                                                    prices,\n",
        "                                                    test_size=0.2,\n",
        "                                                    # random split is wrong for time series problem\n",
        "                                                    random_state=42, # split the data randomly\n",
        "                                                    )\n",
        "\n",
        "X_train[:10], y_train[:10]"
      ],
      "metadata": {
        "colab": {
          "base_uri": "https://localhost:8080/"
        },
        "id": "HPS_BqGvsX5d",
        "outputId": "4d12b86e-e174-468d-a686-4e5dedf46c84"
      },
      "execution_count": 13,
      "outputs": [
        {
          "output_type": "execute_result",
          "data": {
            "text/plain": [
              "(array(['2015-05-23T00:00:00.000000000', '2017-11-27T00:00:00.000000000',\n",
              "        '2019-06-01T00:00:00.000000000', '2014-01-09T00:00:00.000000000',\n",
              "        '2014-08-12T00:00:00.000000000', '2019-11-26T00:00:00.000000000',\n",
              "        '2015-11-28T00:00:00.000000000', '2015-12-27T00:00:00.000000000',\n",
              "        '2018-04-10T00:00:00.000000000', '2014-06-19T00:00:00.000000000'],\n",
              "       dtype='datetime64[ns]'),\n",
              " array([ 240.1588    , 9573.9675    , 8513.20388193,  860.84166   ,\n",
              "         566.31625   , 7211.86180875,  354.954     ,  419.338     ,\n",
              "        6789.2675    ,  601.88666   ]))"
            ]
          },
          "metadata": {},
          "execution_count": 13
        }
      ]
    },
    {
      "cell_type": "code",
      "source": [
        "X_train.shape, X_test.shape, y_train.shape, y_test.shape"
      ],
      "metadata": {
        "colab": {
          "base_uri": "https://localhost:8080/"
        },
        "id": "BHHWzLtFsxww",
        "outputId": "d8eb614e-5bd3-491a-9c91-8502ca96d6ad"
      },
      "execution_count": 14,
      "outputs": [
        {
          "output_type": "execute_result",
          "data": {
            "text/plain": [
              "((2229,), (558,), (2229,), (558,))"
            ]
          },
          "metadata": {},
          "execution_count": 14
        }
      ]
    },
    {
      "cell_type": "code",
      "source": [
        "# Let's plot wrong train and test split data\n",
        "import matplotlib.pyplot as plt\n",
        "import numpy as np\n",
        "\n",
        "plt.figure(figsize=(10,7))\n",
        "plt.scatter(X_train, y_train, s=5, label=\"Train data\")\n",
        "plt.scatter(X_test, y_test, s=5, label=\"Test data\")\n",
        "plt.xlabel(\"Date\")\n",
        "plt.ylabel(\"BTC Price\")\n",
        "plt.title(\"Price of Bitcoin from 1 Oct 2013 to 18 May 2021\", fontsize = 16)\n",
        "plt.legend(fontsize=14, loc='upper left')\n",
        "plt.show()\n",
        "\n",
        "# data leakage issue\n",
        "# test data should simulate future in time series (psuedo future)"
      ],
      "metadata": {
        "colab": {
          "base_uri": "https://localhost:8080/",
          "height": 643
        },
        "id": "fmmSNje1r-X1",
        "outputId": "ea21e8ec-220d-48ff-e073-6596ee129fcd"
      },
      "execution_count": 15,
      "outputs": [
        {
          "output_type": "display_data",
          "data": {
            "text/plain": [
              "<Figure size 1000x700 with 1 Axes>"
            ],
            "image/png": "[encoded data removed]"
          },
          "metadata": {}
        }
      ]
    },
    {
      "cell_type": "markdown",
      "source": [
        "### Create train and test sets for time series (right way)"
      ],
      "metadata": {
        "id": "90GLql_SuDBH"
      }
    },
    {
      "cell_type": "code",
      "source": [
        "# Create a train and test splits the right way for time series data\n",
        "split_size = int(0.8 * len(prices)) # 80% train and 20% test\n",
        "\n",
        "# Create train data splits (everyting before the splits)\n",
        "X_train, y_train = timesteps[:split_size], prices[:split_size]\n",
        "\n",
        "# Create test splits (everyting beyond the split)\n",
        "X_test, y_test = timesteps[split_size:], prices[split_size:]\n",
        "\n",
        "len(X_train), len(X_test), len(y_train), len(y_test)"
      ],
      "metadata": {
        "colab": {
          "base_uri": "https://localhost:8080/"
        },
        "id": "_Cl3v8LMvW4m",
        "outputId": "cbb22de3-fd38-417d-b15b-215f27e07f4d"
      },
      "execution_count": 16,
      "outputs": [
        {
          "output_type": "execute_result",
          "data": {
            "text/plain": [
              "(2229, 558, 2229, 558)"
            ]
          },
          "metadata": {},
          "execution_count": 16
        }
      ]
    },
    {
      "cell_type": "code",
      "source": [
        "# Plot the correctly made splts\n",
        "import matplotlib.pyplot as plt\n",
        "import numpy as np\n",
        "\n",
        "plt.figure(figsize=(10,7))\n",
        "plt.scatter(X_train, y_train, s=5, label=\"Train data\")\n",
        "plt.scatter(X_test, y_test, s=5, label=\"Test data\")\n",
        "plt.xlabel(\"Date\")\n",
        "plt.ylabel(\"BTC Price\")\n",
        "plt.title(\"Price of Bitcoin from 1 Oct 2013 to 18 May 2021\", fontsize = 16)\n",
        "plt.legend(fontsize=14, loc='upper left')\n",
        "plt.show()\n",
        "\n",
        "# test data is simulating futre (right way)"
      ],
      "metadata": {
        "colab": {
          "base_uri": "https://localhost:8080/",
          "height": 643
        },
        "id": "igbRy83qwJQx",
        "outputId": "bff30701-c880-4046-a9d3-e4b58c00ca07"
      },
      "execution_count": 17,
      "outputs": [
        {
          "output_type": "display_data",
          "data": {
            "text/plain": [
              "<Figure size 1000x700 with 1 Axes>"
            ],
            "image/png": "[encoded data removed]"
          },
          "metadata": {}
        }
      ]
    },
    {
      "cell_type": "markdown",
      "source": [
        "## Create a plotting functions\n",
        "\n",
        "Typing plotting code is tedious, let's functionize it"
      ],
      "metadata": {
        "id": "9yknMB8VwQPX"
      }
    },
    {
      "cell_type": "code",
      "source": [
        "# Create a function to plot time series data\n",
        "def plot_time_series(timesteps, values, format = \".\", start = 0, end=None, label = None):\n",
        "  \"\"\"\n",
        "  Plot timesteps (a series of points in time) against values (a series of values across timesteps)\n",
        "\n",
        "  Parameters\n",
        "  ----------\n",
        "  timesteps: array of timesteps values\n",
        "  values: array of values across time\n",
        "  format: style of plot, default is \".\"\n",
        "  start: where to start the plot (setting a value will index from start of timesteps)\n",
        "  end : where to end the plot (similar to start but for the end)\n",
        "  label : label to show on plot about the values\n",
        "  \"\"\"\n",
        "  # Plot the series\n",
        "  plt.plot(timesteps[start:end],\n",
        "           values[start:end],\n",
        "           format,\n",
        "           label=label)\n",
        "  plt.xlabel(\"Time\")\n",
        "  plt.ylabel(\"BTC Price\")\n",
        "\n",
        "  if label:\n",
        "    plt.legend(fontsize = 14) # label bigger\n",
        "\n",
        "  plt.grid(True)"
      ],
      "metadata": {
        "id": "dzzH3sW6wl-S"
      },
      "execution_count": 18,
      "outputs": []
    },
    {
      "cell_type": "code",
      "source": [
        "# Test out plotting  fucntions\n",
        "plot_time_series(timesteps=X_train,values=y_train, label=\"Train data\")\n",
        "plot_time_series(timesteps=X_test,values=y_test, label=\"Test data\")"
      ],
      "metadata": {
        "colab": {
          "base_uri": "https://localhost:8080/",
          "height": 449
        },
        "id": "XP9iiM40yr3_",
        "outputId": "c83df8b0-d7e1-420f-d6ad-be8442b9d768"
      },
      "execution_count": 19,
      "outputs": [
        {
          "output_type": "display_data",
          "data": {
            "text/plain": [
              "<Figure size 640x480 with 1 Axes>"
            ],
            "image/png": "[encoded data removed]"
          },
          "metadata": {}
        }
      ]
    },
    {
      "cell_type": "code",
      "source": [
        "# plot_time_series(timesteps=X_train,values=y_train, start=1500, label=\"Train data\")\n",
        "plot_time_series(timesteps=X_test,values=y_test,start=500, label=\"Test data\")"
      ],
      "metadata": {
        "colab": {
          "base_uri": "https://localhost:8080/",
          "height": 449
        },
        "id": "uetNfTvdzZNR",
        "outputId": "bc0b407d-61f3-473e-f731-fa200775b061"
      },
      "execution_count": 20,
      "outputs": [
        {
          "output_type": "display_data",
          "data": {
            "text/plain": [
              "<Figure size 640x480 with 1 Axes>"
            ],
            "image/png": "[encoded data removed]"
          },
          "metadata": {}
        }
      ]
    },
    {
      "cell_type": "markdown",
      "source": [
        "## Modelling Experiments\n",
        "\n",
        "We've got some Bitcoin historical data, to model it, let's run a series of modelling experiments and see which model performs best.\n",
        "\n",
        "Terms to be familiar with:\n",
        "* **Horizon** = number of timesteps into the futre we're going to predict\n",
        "* **Window size** = number of timesteps we're going to use to predict **Horizon**\n",
        "\n",
        "Modelling experiments we're running:\n",
        "* model 0  Naive model (baseline)\n",
        "* model 1  Dense mdoel 1, horizon = 1, window = 7\n",
        "* model 2  Same as 1, horizon = 1, window = 30\n",
        "* model 3  Same as 1, horizon = 7, window = 30\n",
        "* model 4  Conv1D\n",
        "* model 6  LSTM\n",
        "* model 7  Same as 1 (but with multivariate data)\n",
        "* model 8  N-BEATs Algorithm\n",
        "* model 9  Future predictin model (model to predict future values)\n",
        "* model 10 Same as 1 (but with turkey 🦃 data introduced)"
      ],
      "metadata": {
        "id": "JtHjInlgzIae"
      }
    },
    {
      "cell_type": "markdown",
      "source": [
        "## Model 0: Naive forecast (baseline)\n",
        "\n",
        "The formula looks like this:\n",
        "\n",
        "$$\\hat{y}_{t} = y_{t-1}$$\n",
        "\n",
        "> The prediction at timestep t (y-hat) is equal to the value at timestep t-1 (previous timestep) - this is for horizon of 1."
      ],
      "metadata": {
        "id": "4HsKJxIA0Lpy"
      }
    },
    {
      "cell_type": "code",
      "source": [
        "# Create a naive forecast\n",
        "naive_forecast = y_test[:-1]\n",
        "\n",
        "naive_forecast[:10], naive_forecast[-10:]"
      ],
      "metadata": {
        "colab": {
          "base_uri": "https://localhost:8080/"
        },
        "id": "T5XLW-deEm8r",
        "outputId": "96ebc86c-b8ef-413e-b8c9-87614d44f1bf"
      },
      "execution_count": 21,
      "outputs": [
        {
          "output_type": "execute_result",
          "data": {
            "text/plain": [
              "(array([9226.48582088, 8794.35864452, 8798.04205463, 9081.18687849,\n",
              "        8711.53433917, 8760.89271814, 8749.52059102, 8656.97092235,\n",
              "        8500.64355816, 8469.2608989 ]),\n",
              " array([57107.12067189, 58788.20967893, 58102.19142623, 55715.54665129,\n",
              "        56573.5554719 , 52147.82118698, 49764.1320816 , 50032.69313676,\n",
              "        47885.62525472, 45604.61575361]))"
            ]
          },
          "metadata": {},
          "execution_count": 21
        }
      ]
    },
    {
      "cell_type": "code",
      "source": [
        "# Plot naive forecast\n",
        "plt.figure(figsize=(10, 7))\n",
        "# plot_time_series(timesteps=X_train, values=y_train, label=\"Train data\")\n",
        "plot_time_series(timesteps=X_test, values=y_test, start=450, format=\"-\", label=\"Test data\")\n",
        "plot_time_series(timesteps=X_test[1:], values=naive_forecast, start=450, format='-', label=\"Naive Forecast\")"
      ],
      "metadata": {
        "colab": {
          "base_uri": "https://localhost:8080/",
          "height": 619
        },
        "id": "VcWNMpbVITLf",
        "outputId": "b8c84a08-003b-4102-e976-6e0de7bb8ee4"
      },
      "execution_count": 22,
      "outputs": [
        {
          "output_type": "display_data",
          "data": {
            "text/plain": [
              "<Figure size 1000x700 with 1 Axes>"
            ],
            "image/png": "[encoded data removed]"
          },
          "metadata": {}
        }
      ]
    },
    {
      "cell_type": "markdown",
      "source": [
        "> ⚒️ **Exercise**: spend 10 minutes reading the simple forecasts chapter of [forecasting: Principles in Practice](https://otexts.com/fpp3/simple-methods.html). And have as search to find out why the naive forecast is hard to beat, does the term augoregressive come up."
      ],
      "metadata": {
        "id": "bkYwzOyKIfJx"
      }
    },
    {
      "cell_type": "markdown",
      "source": [
        "## Evaluating a time series model\n",
        "\n",
        "Let's look into some evaluation metrics for time series forecasting.\n",
        "\n",
        "What are we doing?\n",
        "\n",
        "We're predicting a number, so that means we have a form of a regression problem.\n",
        "\n",
        "Because we're working on a regression problem, we'll need some regression-like metrics.\n",
        "\n",
        "A few common regression metrics (which can also be used for time series forecasting):\n",
        "* MAE - mean absolute error\n",
        "* MSE - mean squared error\n",
        "* RMSE - root means square error\n",
        "* MAPE/sMAPE - (symmetric) mean absolute percentage error\n",
        "* MASE - mean absolute scaled error.\n",
        "\n",
        "The main thing we're evaluating here is: **How do our model's forecast (y_pred) compare against the actual values (y_true or ground truth values)?**\n",
        "\n",
        "📖 **Resource**: For a deeper dive on the various kinds of time series forecasting methods see Forecasting: Principles and Practice chapter 5.8: https://otexts.com/fpp3/accuracy.html"
      ],
      "metadata": {
        "id": "sGRD_al_ON29"
      }
    },
    {
      "cell_type": "code",
      "source": [
        "import tensorflow as tf"
      ],
      "metadata": {
        "id": "48DWtlHiQSXK"
      },
      "execution_count": 23,
      "outputs": []
    },
    {
      "cell_type": "code",
      "source": [
        "# MASE implementation\n",
        "def mean_absolute_scaled_error(y_true, y_pred):\n",
        "  \"\"\"\n",
        "  Implement MASE (assuming no seasonality of data).\n",
        "  \"\"\"\n",
        "\n",
        "  mae = tf.reduce_mean(tf.abs(y_true-y_pred))\n",
        "\n",
        "  # Find MAE of naive forecast (no seasonality)\n",
        "  mae_naive_no_season = tf.reduce_mean(tf.abs(y_true[1:] - y_true[:-1])) # our seasonality is 1 only (hence the shift of 1)\n",
        "\n",
        "  mase = mae / mae_naive_no_season\n",
        "  return mase"
      ],
      "metadata": {
        "id": "XeTzpStaXCWj"
      },
      "execution_count": 24,
      "outputs": []
    },
    {
      "cell_type": "code",
      "source": [
        "mean_absolute_scaled_error(y_true = y_test[1:], y_pred=naive_forecast).numpy() # naive_forecast is 1 (near it)"
      ],
      "metadata": {
        "colab": {
          "base_uri": "https://localhost:8080/"
        },
        "id": "fI7oFW6JYsbI",
        "outputId": "7031c88d-303b-471a-ecfe-d7899aabda77"
      },
      "execution_count": 25,
      "outputs": [
        {
          "output_type": "execute_result",
          "data": {
            "text/plain": [
              "0.9995699939182624"
            ]
          },
          "metadata": {},
          "execution_count": 25
        }
      ]
    },
    {
      "cell_type": "code",
      "source": [
        "# Create a function to take in model predictions and truth values and return evaluation metrics\n",
        "def evaluate_preds(y_true, y_pred):\n",
        "  \"\"\"\n",
        "  lower value here is better model\n",
        "  \"\"\"\n",
        "  # Make sure float 32 datatype {for metric calcuations}\n",
        "  y_true = tf.cast(y_true, dtype=tf.float32)\n",
        "  y_pred = tf.cast(y_pred, dtype=tf.float32)\n",
        "\n",
        "  # mae = tf.reduce_mean(tf.abs(y_true-y_pred))\n",
        "  # mse = tf.reduce_mean(tf.square(y_true-y_pred))\n",
        "  # rmse = tf.math.sqrt(mse)\n",
        "  # mape = tf.reduce_mean(tf.abs((y_true-y_pred)/ y_true)) * 100\n",
        "  # mae_naive_no_season = tf.reduce_mean(tf.abs(y_true[1:] - y_true[:-1])) # our seasonality is 1 only (hence the shift of 1)\n",
        "  # mase = mae / mae_naive_no_season\n",
        "\n",
        "\n",
        "  # Calculate various evaluation metrics\n",
        "  mae = tf.keras.metrics.mean_absolute_error(y_true, y_pred)\n",
        "  mse = tf.keras.metrics.mean_squared_error(y_true, y_pred)\n",
        "  rmse = tf.sqrt(mse)\n",
        "  mape = tf.keras.metrics.mean_absolute_percentage_error(y_true, y_pred)\n",
        "  mase = mean_absolute_scaled_error(y_true, y_pred)\n",
        "\n",
        "\n",
        "\n",
        "  return {\n",
        "      \"mae\": mae.numpy(),\n",
        "      \"mse\": mse.numpy(),\n",
        "      \"rmse\": rmse.numpy(),\n",
        "      \"mape\": mape.numpy(),\n",
        "      \"mase\": mase.numpy(),\n",
        "          }\n",
        "\n"
      ],
      "metadata": {
        "id": "VB-mCGLdYzPR"
      },
      "execution_count": 26,
      "outputs": []
    },
    {
      "cell_type": "code",
      "source": [
        "naive_results = evaluate_preds(y_true = y_test[1:], y_pred=naive_forecast)\n",
        "naive_results\n",
        "\n",
        "# lower value is better for all metrics"
      ],
      "metadata": {
        "colab": {
          "base_uri": "https://localhost:8080/"
        },
        "id": "36MHH_PocPGY",
        "outputId": "332f1b33-a9ee-4b7e-b988-bf3f2b667b4d"
      },
      "execution_count": 27,
      "outputs": [
        {
          "output_type": "execute_result",
          "data": {
            "text/plain": [
              "{'mae': 567.9802,\n",
              " 'mse': 1147547.0,\n",
              " 'rmse': 1071.2362,\n",
              " 'mape': 2.5165248,\n",
              " 'mase': 0.99957}"
            ]
          },
          "metadata": {},
          "execution_count": 27
        }
      ]
    },
    {
      "cell_type": "code",
      "source": [
        "naive_forecast[-10:] # according to mae each value is 567 away from real value"
      ],
      "metadata": {
        "colab": {
          "base_uri": "https://localhost:8080/"
        },
        "id": "7aNI6QEzey8N",
        "outputId": "78f321b8-83d4-4092-a8aa-4919dfec0af2"
      },
      "execution_count": 28,
      "outputs": [
        {
          "output_type": "execute_result",
          "data": {
            "text/plain": [
              "array([57107.12067189, 58788.20967893, 58102.19142623, 55715.54665129,\n",
              "       56573.5554719 , 52147.82118698, 49764.1320816 , 50032.69313676,\n",
              "       47885.62525472, 45604.61575361])"
            ]
          },
          "metadata": {},
          "execution_count": 28
        }
      ]
    },
    {
      "cell_type": "code",
      "source": [
        "tf.reduce_mean(y_test)"
      ],
      "metadata": {
        "colab": {
          "base_uri": "https://localhost:8080/"
        },
        "id": "CJCO-VbBgndO",
        "outputId": "4a934ca1-34d5-44e8-9e90-db3950036c33"
      },
      "execution_count": 29,
      "outputs": [
        {
          "output_type": "execute_result",
          "data": {
            "text/plain": [
              "<tf.Tensor: shape=(), dtype=float64, numpy=20056.632963737226>"
            ]
          },
          "metadata": {},
          "execution_count": 29
        }
      ]
    },
    {
      "cell_type": "code",
      "source": [
        "tf.reduce_min(y_test), tf.reduce_max(y_test)\n",
        "\n",
        "# Tip if our prediction are near max, error percentage goes down as 567 mae is less than 63346 but at average and lower value, error goes up"
      ],
      "metadata": {
        "colab": {
          "base_uri": "https://localhost:8080/"
        },
        "id": "4WnqIVOCgyno",
        "outputId": "58d14d18-6f63-4f4a-f726-124af28c649e"
      },
      "execution_count": 30,
      "outputs": [
        {
          "output_type": "execute_result",
          "data": {
            "text/plain": [
              "(<tf.Tensor: shape=(), dtype=float64, numpy=4944.7023359837>,\n",
              " <tf.Tensor: shape=(), dtype=float64, numpy=63346.7890351052>)"
            ]
          },
          "metadata": {},
          "execution_count": 30
        }
      ]
    },
    {
      "cell_type": "markdown",
      "source": [
        "## Other models you can use for baseline and for actual forecasts\n",
        "\n",
        "In this notebook, we're focused on Tensorflow and deep learning models.\n",
        "\n",
        "However there are plenty of other styles of timeseries forecasting models we may want to experiment with: https://dev.mrdbourke.com/tensorflow-deep-learning/10_time_series_forecasting_in_tensorflow/#other-kinds-of-time-series-forecasting-models-which-can-be-used-for-baselines-and-actual-forecasts\n",
        "\n",
        "We may we look at amazing facebook time series forecasting: https://github.com/facebookresearch/Kats for future learning."
      ],
      "metadata": {
        "id": "2xi912IOg3vB"
      }
    },
    {
      "cell_type": "markdown",
      "source": [
        "## Format Data Part 2: Windowing our dataset\n",
        "\n",
        "Why do we window?\n",
        "\n",
        "We window our time series dataset to turn our data into supervised learning problem.\n",
        "\n",
        "```\n",
        "Windowing for one week\n",
        "[0, 1, 2, 3, 4, 5, 6] -> [7]\n",
        "[1, 2, 3, 4, 5, 6, 7] -> [8]\n",
        "[2, 3, 4, 5, 6, 7, 8] -> [9]\n",
        "\n",
        "```"
      ],
      "metadata": {
        "id": "xU_mY6tEiDIq"
      }
    },
    {
      "cell_type": "code",
      "source": [
        "len(y_train)"
      ],
      "metadata": {
        "colab": {
          "base_uri": "https://localhost:8080/"
        },
        "id": "qzGkqcPSj9dq",
        "outputId": "9cf24361-5660-4b5f-bbc9-571dbc2f0ead"
      },
      "execution_count": 31,
      "outputs": [
        {
          "output_type": "execute_result",
          "data": {
            "text/plain": [
              "2229"
            ]
          },
          "metadata": {},
          "execution_count": 31
        }
      ]
    },
    {
      "cell_type": "code",
      "source": [
        "# What we want to do with our data\n",
        "print(f\"We want to use: {btc_price[:7]} to predict this: {btc_price[7]}\")\n"
      ],
      "metadata": {
        "colab": {
          "base_uri": "https://localhost:8080/"
        },
        "id": "5ZC5mm33kCRO",
        "outputId": "540f27ca-7588-419f-aaac-39b271533e10"
      },
      "execution_count": 32,
      "outputs": [
        {
          "output_type": "stream",
          "name": "stdout",
          "text": [
            "We want to use: [123.65499, 125.455, 108.58483, 118.67466, 121.33866, 120.65533, 121.795] to predict this: 123.033\n"
          ]
        }
      ]
    },
    {
      "cell_type": "code",
      "source": [
        "# let's setup global variable for window and horizon size\n",
        "HORIZON = 1 # predict next 1 day\n",
        "WINDOW_SIZE = 7 # use the past week of Bitcoin data to make the prediction"
      ],
      "metadata": {
        "id": "wfUnyUPwkFN2"
      },
      "execution_count": 33,
      "outputs": []
    },
    {
      "cell_type": "code",
      "source": [
        "# Create function to label windowed data\n",
        "def get_labelled_window(x, horizon=HORIZON):\n",
        "  \"\"\"\n",
        "  Creates labels for windowed dataset.\n",
        "\n",
        "  E.g. if horizon = 1\n",
        "  Input: [0, 1, 2, 3, 4, 5, 6, 7] -> Output: {[0, ,1, 2, 3, 4, 5, 6], [7]} # first 7 as features and last one as label\n",
        "  \"\"\"\n",
        "\n",
        "  return x[:, :-horizon], x[:, -horizon:]  # tuple"
      ],
      "metadata": {
        "id": "QtYCUhmEvEXl"
      },
      "execution_count": 34,
      "outputs": []
    },
    {
      "cell_type": "code",
      "source": [
        "# Test out the window labelling function\n",
        "test_window, test_label = get_labelled_window(tf.expand_dims(tf.range(8), axis = 0))\n",
        "print(f\"Window: {tf.squeeze(test_window).numpy()} -> Label: {tf.squeeze(test_label).numpy()}\")"
      ],
      "metadata": {
        "colab": {
          "base_uri": "https://localhost:8080/"
        },
        "id": "vhKOQ0hMwFvy",
        "outputId": "6425edb9-5956-4d77-c801-68f0258983c8"
      },
      "execution_count": 35,
      "outputs": [
        {
          "output_type": "stream",
          "name": "stdout",
          "text": [
            "Window: [0 1 2 3 4 5 6] -> Label: 7\n"
          ]
        }
      ]
    },
    {
      "cell_type": "markdown",
      "source": [
        "We've go a way to label our windowed data.\n",
        "\n",
        "However, this only works on a small scale.\n",
        "\n",
        "We need a way to do the above across our entire time series.\n",
        "\n",
        "To speed things up, we'll leverage Numpy's array indexing.\n",
        "\n",
        "must_learn_numpy_indexing: may be little tough but most do all: https://numpy.org/doc/stable/user/basics.indexing.html\n",
        "\n",
        "Our function will:\n",
        "1. Create a window step of specific window size (eg. [0,1,2,3,4,5,6]).\n",
        "2. Use Numpy Indexing to create a 2D array of multiple window steps, for example: (increase of 1 in each):\n",
        "```\n",
        "[[0, 1, 2, 3, 4, 5, 6]],\n",
        "[[1, 2, 3, 4, 5, 6, 7]],\n",
        "[[2, 3, 4, 5, 6, 7, 8]],\n",
        "[[3, 4, 5, 6, 7, 8, 9]],\n",
        "```\n",
        "\n",
        "3. Uses the 2D array of mulitple window steps (from 2.) to index on a target series (e.g. the historical price of Bitcoin)\n",
        "4. Uses our `get_labelled_window()` function we created above to turn the window steps into window with a specified horizon.\n",
        "\n",
        "> 📖 **Resources:** The function we're about to create has been adapted from the following article:\n",
        "https://towardsdatascience.com/fast-and-robust-sliding-window-vectorization-with-numpy-3ad950ed62f5"
      ],
      "metadata": {
        "id": "dca2gMPz1JCo"
      }
    },
    {
      "cell_type": "code",
      "source": [
        "import numpy as np"
      ],
      "metadata": {
        "id": "ygTgnSYx6RIx"
      },
      "execution_count": 36,
      "outputs": []
    },
    {
      "cell_type": "code",
      "source": [
        "# Create function to view NumPy arrays as windows: much faster than using for loop: POWER OF NUMPY\n",
        "def make_windows(x, window_size = WINDOW_SIZE, horizon=HORIZON):\n",
        "  \"\"\"\n",
        "  Turns a 1D array into 2D array of sequential labelled windows of window_size with horizon size labels.\n",
        "  \"\"\"\n",
        "\n",
        "  # 1. Create a window of specific window_size (add the horizon on the end of labeeling later)\n",
        "  window_step = np.expand_dims(np.arange(window_size + horizon), axis = 0)\n",
        "\n",
        "  # 2. Create a 2D array of multiple window steps (minus 1 to account for 0 indexing)\n",
        "  # window_size + horizon - 1 so when we react at the end we don't want to drift out of range and -1 or it will be plus for len(x) because up to element 7 away from end\n",
        "  window_indexes = window_step + np.expand_dims(np.arange(len(x) - (window_size + horizon - 1)), axis = 0).T # Create 2D array of window of size  window size\n",
        "  print(f\"Window indexs:\\n {window_indexes[:5], window_indexes.shape} \\n\\n\")\n",
        "\n",
        "  # 3. Index on the target array (a time series) with 2D array of multiple window steps\n",
        "  windowed_array = x[window_indexes]\n",
        "  print(f\"Window array:\\n {windowed_array[:5], windowed_array.shape} \\n\\n\\n\")\n",
        "\n",
        "  # 4. Get the labelled window\n",
        "  windows, labels = get_labelled_window(windowed_array, horizon = horizon)\n",
        "  print(f\"Window :\\n {windows[:5], windows.shape} \\n\\n\\n\")\n",
        "  print(f\"labels :\\n {labels[:5], labels.shape} \\n\\n\\n\")\n",
        "\n",
        "  return windows, labels\n"
      ],
      "metadata": {
        "id": "JgCIJ-b72iZm"
      },
      "execution_count": 37,
      "outputs": []
    },
    {
      "cell_type": "code",
      "source": [
        "len(prices)"
      ],
      "metadata": {
        "colab": {
          "base_uri": "https://localhost:8080/"
        },
        "id": "QrZYoQjN3HgD",
        "outputId": "58cc9a49-d40e-4e9b-aae5-371fd42f686f"
      },
      "execution_count": 38,
      "outputs": [
        {
          "output_type": "execute_result",
          "data": {
            "text/plain": [
              "2787"
            ]
          },
          "metadata": {},
          "execution_count": 38
        }
      ]
    },
    {
      "cell_type": "code",
      "source": [
        "full_windows, full_labels = make_windows(prices, window_size = WINDOW_SIZE, horizon = HORIZON)\n",
        "len(full_windows), len(full_labels)"
      ],
      "metadata": {
        "colab": {
          "base_uri": "https://localhost:8080/"
        },
        "id": "MsDUe6R285Rc",
        "outputId": "ba7a39dc-4bc2-47fa-8ea7-b75dfee867cb"
      },
      "execution_count": 39,
      "outputs": [
        {
          "output_type": "stream",
          "name": "stdout",
          "text": [
            "Window indexs:\n",
            " (array([[ 0,  1,  2,  3,  4,  5,  6,  7],\n",
            "       [ 1,  2,  3,  4,  5,  6,  7,  8],\n",
            "       [ 2,  3,  4,  5,  6,  7,  8,  9],\n",
            "       [ 3,  4,  5,  6,  7,  8,  9, 10],\n",
            "       [ 4,  5,  6,  7,  8,  9, 10, 11]]), (2780, 8)) \n",
            "\n",
            "\n",
            "Window array:\n",
            " (array([[123.65499, 125.455  , 108.58483, 118.67466, 121.33866, 120.65533,\n",
            "        121.795  , 123.033  ],\n",
            "       [125.455  , 108.58483, 118.67466, 121.33866, 120.65533, 121.795  ,\n",
            "        123.033  , 124.049  ],\n",
            "       [108.58483, 118.67466, 121.33866, 120.65533, 121.795  , 123.033  ,\n",
            "        124.049  , 125.96116],\n",
            "       [118.67466, 121.33866, 120.65533, 121.795  , 123.033  , 124.049  ,\n",
            "        125.96116, 125.27966],\n",
            "       [121.33866, 120.65533, 121.795  , 123.033  , 124.049  , 125.96116,\n",
            "        125.27966, 125.9275 ]]), (2780, 8)) \n",
            "\n",
            "\n",
            "\n",
            "Window :\n",
            " (array([[123.65499, 125.455  , 108.58483, 118.67466, 121.33866, 120.65533,\n",
            "        121.795  ],\n",
            "       [125.455  , 108.58483, 118.67466, 121.33866, 120.65533, 121.795  ,\n",
            "        123.033  ],\n",
            "       [108.58483, 118.67466, 121.33866, 120.65533, 121.795  , 123.033  ,\n",
            "        124.049  ],\n",
            "       [118.67466, 121.33866, 120.65533, 121.795  , 123.033  , 124.049  ,\n",
            "        125.96116],\n",
            "       [121.33866, 120.65533, 121.795  , 123.033  , 124.049  , 125.96116,\n",
            "        125.27966]]), (2780, 7)) \n",
            "\n",
            "\n",
            "\n",
            "labels :\n",
            " (array([[123.033  ],\n",
            "       [124.049  ],\n",
            "       [125.96116],\n",
            "       [125.27966],\n",
            "       [125.9275 ]]), (2780, 1)) \n",
            "\n",
            "\n",
            "\n"
          ]
        },
        {
          "output_type": "execute_result",
          "data": {
            "text/plain": [
              "(2780, 2780)"
            ]
          },
          "metadata": {},
          "execution_count": 39
        }
      ]
    },
    {
      "cell_type": "code",
      "source": [
        "# View the first three 3 window /labels\n",
        "for i in range(3):\n",
        "  print(f\"Window: {full_windows[i]} -> Label {full_labels[i]}\")"
      ],
      "metadata": {
        "colab": {
          "base_uri": "https://localhost:8080/"
        },
        "id": "-GFUb34kABAn",
        "outputId": "5d5208fc-8f12-4dd7-be9e-a62bd9b826d3"
      },
      "execution_count": 40,
      "outputs": [
        {
          "output_type": "stream",
          "name": "stdout",
          "text": [
            "Window: [123.65499 125.455   108.58483 118.67466 121.33866 120.65533 121.795  ] -> Label [123.033]\n",
            "Window: [125.455   108.58483 118.67466 121.33866 120.65533 121.795   123.033  ] -> Label [124.049]\n",
            "Window: [108.58483 118.67466 121.33866 120.65533 121.795   123.033   124.049  ] -> Label [125.96116]\n"
          ]
        }
      ]
    },
    {
      "cell_type": "code",
      "source": [
        "# View the  three 3 window /labels\n",
        "for i in range(3):\n",
        "  print(f\"Window: {full_windows[i-3]} -> Label {full_labels[i-3]}\")"
      ],
      "metadata": {
        "colab": {
          "base_uri": "https://localhost:8080/"
        },
        "id": "PqF9chV3CjoR",
        "outputId": "71b5f4aa-78e5-4eed-87af-a74e78d97b46"
      },
      "execution_count": 41,
      "outputs": [
        {
          "output_type": "stream",
          "name": "stdout",
          "text": [
            "Window: [58788.20967893 58102.19142623 55715.54665129 56573.5554719\n",
            " 52147.82118698 49764.1320816  50032.69313676] -> Label [47885.62525472]\n",
            "Window: [58102.19142623 55715.54665129 56573.5554719  52147.82118698\n",
            " 49764.1320816  50032.69313676 47885.62525472] -> Label [45604.61575361]\n",
            "Window: [55715.54665129 56573.5554719  52147.82118698 49764.1320816\n",
            " 50032.69313676 47885.62525472 45604.61575361] -> Label [43144.47129086]\n"
          ]
        }
      ]
    },
    {
      "cell_type": "code",
      "source": [
        "prices[-1] # last label is our last value in prices array"
      ],
      "metadata": {
        "colab": {
          "base_uri": "https://localhost:8080/"
        },
        "id": "CgiWFhQ6DIUT",
        "outputId": "715a402a-5b4c-44ba-db44-cc8cc9be6f9e"
      },
      "execution_count": 42,
      "outputs": [
        {
          "output_type": "execute_result",
          "data": {
            "text/plain": [
              "43144.4712908603"
            ]
          },
          "metadata": {},
          "execution_count": 42
        }
      ]
    },
    {
      "cell_type": "markdown",
      "source": [
        "🔑 **Note** You can find a function which achieves similar results to the ones we implemented above at tf.keras.preprocessing.timeseries_dataset_from_array(). Just like ours, it takes in an array and return a windowed datasets from benefit of returning data in the form of a tf.data. Dataset instance (we'll see how to do this with our own data later)."
      ],
      "metadata": {
        "id": "OobtJ4yFDaG1"
      }
    },
    {
      "cell_type": "code",
      "source": [
        "# from tensorflow import keras\n",
        "# dataset = keras.preprocessing.timeseries_dataset_from_array(data = prices[:-7],\n",
        "#                                                             targets = prices[7:],\n",
        "#                                                             sequence_length = 7,\n",
        "#                                                             batch_size = None # default value\n",
        "#                                                             )"
      ],
      "metadata": {
        "id": "bD-tRjxHEC2u"
      },
      "execution_count": 43,
      "outputs": []
    },
    {
      "cell_type": "markdown",
      "source": [
        "## Turning window into training and test sets"
      ],
      "metadata": {
        "id": "g1ODXnVEm4mP"
      }
    },
    {
      "cell_type": "code",
      "source": [
        "full_windows[:5], full_labels[:5]"
      ],
      "metadata": {
        "colab": {
          "base_uri": "https://localhost:8080/"
        },
        "id": "cZZCr-59x8h9",
        "outputId": "af001a0b-588a-40b6-f178-1a7287992bbc"
      },
      "execution_count": 44,
      "outputs": [
        {
          "output_type": "execute_result",
          "data": {
            "text/plain": [
              "(array([[123.65499, 125.455  , 108.58483, 118.67466, 121.33866, 120.65533,\n",
              "         121.795  ],\n",
              "        [125.455  , 108.58483, 118.67466, 121.33866, 120.65533, 121.795  ,\n",
              "         123.033  ],\n",
              "        [108.58483, 118.67466, 121.33866, 120.65533, 121.795  , 123.033  ,\n",
              "         124.049  ],\n",
              "        [118.67466, 121.33866, 120.65533, 121.795  , 123.033  , 124.049  ,\n",
              "         125.96116],\n",
              "        [121.33866, 120.65533, 121.795  , 123.033  , 124.049  , 125.96116,\n",
              "         125.27966]]),\n",
              " array([[123.033  ],\n",
              "        [124.049  ],\n",
              "        [125.96116],\n",
              "        [125.27966],\n",
              "        [125.9275 ]]))"
            ]
          },
          "metadata": {},
          "execution_count": 44
        }
      ]
    },
    {
      "cell_type": "code",
      "source": [
        "# Make the train/test splits\n",
        "def make_train_test_splits(windows, labels, test_split=0.2 ):\n",
        "  \"\"\"\n",
        "  Splits matching pairs of windows and labels into train and test splits.\n",
        "  \"\"\"\n",
        "  print(int(len(windows)*0.8))\n",
        "  # 80% train/ 20% test\n",
        "  split_size = int(len(windows)*(1 - test_split))\n",
        "  train_windows = windows[:split_size]\n",
        "  train_labels = labels[:split_size]\n",
        "  test_windows = windows[split_size:]\n",
        "  test_labels = labels[split_size:]\n",
        "\n",
        "  return train_windows, test_windows, train_labels, test_labels"
      ],
      "metadata": {
        "id": "HD8QVOMxnGxK"
      },
      "execution_count": 45,
      "outputs": []
    },
    {
      "cell_type": "code",
      "source": [
        "# Create train and test windows\n",
        "train_windows, test_windows, train_labels, test_labels = make_train_test_splits(windows=full_windows, labels=full_labels, test_split=0.2)\n",
        "len(train_windows), len(test_windows), len(train_labels), len(test_labels)"
      ],
      "metadata": {
        "colab": {
          "base_uri": "https://localhost:8080/"
        },
        "id": "itd6oU4Az9gg",
        "outputId": "6833418e-ef47-41cf-e804-b295e31f1b2b"
      },
      "execution_count": 46,
      "outputs": [
        {
          "output_type": "stream",
          "name": "stdout",
          "text": [
            "2224\n"
          ]
        },
        {
          "output_type": "execute_result",
          "data": {
            "text/plain": [
              "(2224, 556, 2224, 556)"
            ]
          },
          "metadata": {},
          "execution_count": 46
        }
      ]
    },
    {
      "cell_type": "code",
      "source": [
        "full_labels.shape"
      ],
      "metadata": {
        "colab": {
          "base_uri": "https://localhost:8080/"
        },
        "id": "ZVuPHbCACLe8",
        "outputId": "81f70837-bb6d-43b1-b3cc-ecf486b5b5ef"
      },
      "execution_count": 66,
      "outputs": [
        {
          "output_type": "execute_result",
          "data": {
            "text/plain": [
              "(2780, 1)"
            ]
          },
          "metadata": {},
          "execution_count": 66
        }
      ]
    },
    {
      "cell_type": "code",
      "source": [
        "1 - 0.2"
      ],
      "metadata": {
        "colab": {
          "base_uri": "https://localhost:8080/"
        },
        "id": "dC4cU79Y3M2Q",
        "outputId": "44f44eca-b4e1-4db7-9e14-aea097d81f27"
      },
      "execution_count": 47,
      "outputs": [
        {
          "output_type": "execute_result",
          "data": {
            "text/plain": [
              "0.8"
            ]
          },
          "metadata": {},
          "execution_count": 47
        }
      ]
    },
    {
      "cell_type": "code",
      "source": [
        "train_windows[:5], train_labels[:5]"
      ],
      "metadata": {
        "colab": {
          "base_uri": "https://localhost:8080/"
        },
        "id": "rbyk89SJ2Pra",
        "outputId": "22ae65fb-5ba9-46dd-95e1-41c6f19bbc2e"
      },
      "execution_count": 48,
      "outputs": [
        {
          "output_type": "execute_result",
          "data": {
            "text/plain": [
              "(array([[123.65499, 125.455  , 108.58483, 118.67466, 121.33866, 120.65533,\n",
              "         121.795  ],\n",
              "        [125.455  , 108.58483, 118.67466, 121.33866, 120.65533, 121.795  ,\n",
              "         123.033  ],\n",
              "        [108.58483, 118.67466, 121.33866, 120.65533, 121.795  , 123.033  ,\n",
              "         124.049  ],\n",
              "        [118.67466, 121.33866, 120.65533, 121.795  , 123.033  , 124.049  ,\n",
              "         125.96116],\n",
              "        [121.33866, 120.65533, 121.795  , 123.033  , 124.049  , 125.96116,\n",
              "         125.27966]]),\n",
              " array([[123.033  ],\n",
              "        [124.049  ],\n",
              "        [125.96116],\n",
              "        [125.27966],\n",
              "        [125.9275 ]]))"
            ]
          },
          "metadata": {},
          "execution_count": 48
        }
      ]
    },
    {
      "cell_type": "code",
      "source": [
        "# Check to see if train labels are same before and after windowing\n",
        "np.array_equal(np.squeeze(train_labels[:-HORIZON-1]), y_train[WINDOW_SIZE:])"
      ],
      "metadata": {
        "colab": {
          "base_uri": "https://localhost:8080/"
        },
        "id": "8wDSrC-X2UbS",
        "outputId": "e67465bf-b559-4b15-c582-7793fcef3b3d"
      },
      "execution_count": 49,
      "outputs": [
        {
          "output_type": "execute_result",
          "data": {
            "text/plain": [
              "True"
            ]
          },
          "metadata": {},
          "execution_count": 49
        }
      ]
    },
    {
      "cell_type": "markdown",
      "source": [
        "## Make a modelling checkpoint callback\n",
        "\n",
        "Because our Model's performance will fluctuate from experiment to experiment, we're going to write a model checkpoint so we can compare apples to apples.\n",
        "\n",
        "More specifically, we want t0 ocomapre each of our model's best performance against the other model's best performace.\n",
        "\n",
        "for example if our model performs the best on epochs 55 (but we're training for 100 epochs), we want to load and evaluate the model saved on epoch 55.\n",
        "\n",
        "We can create a modelling checkpoint callback using the following:\n",
        "https://www.tensorflow.org/api_docs/python/tf/keras/callbacks/Callback"
      ],
      "metadata": {
        "id": "vkGkx1hK24w9"
      }
    },
    {
      "cell_type": "code",
      "source": [
        "import os\n",
        "\n",
        "# Create a function to implement a ModelCheckpoint callback with a specific filename\n",
        "def create_model_checkpoint(model_name, save_path=\"model_experiment\"):\n",
        "  return tf.keras.callbacks.ModelCheckpoint(filepath=os.path.join(save_path, model_name),\n",
        "                                            monitor = \"val_loss\",\n",
        "                                            verbose = 0,\n",
        "                                            save_best_only=True)"
      ],
      "metadata": {
        "id": "2AuIyw2G5Fu7"
      },
      "execution_count": 50,
      "outputs": []
    },
    {
      "cell_type": "markdown",
      "source": [
        "## Model 1: Dense model(window=7, Horizon =1)\n",
        "\n",
        "Our first deep model is going to be a simple dense model:\n",
        "* A single dense layer with 128 hidden units and ReLU\n",
        "* An output layer with linear activation (no activation)\n",
        "* Adam optimization and MAE loss function\n",
        "* Batch size of 128 (large batch because only 7 data per week, small overall data).\n",
        "* 100 epochs.\n",
        "\n",
        "\n",
        "\n",
        "Why These values?\n",
        "\n",
        "Druke those these hyperparamter out of lots of experimentaions.\n",
        "\n",
        "* **HyperParameter** = values a machine learning parctitioner can adjust themselves.\n",
        "* **Parameters** = values a model learns on its own."
      ],
      "metadata": {
        "id": "21FTdl2Q3u7A"
      }
    },
    {
      "cell_type": "code",
      "source": [
        "import tensorflow as tf\n",
        "from tensorflow.keras import layers\n",
        "\n",
        "# Set random seed for as reproducible results as possible\n",
        "tf.random.set_seed(42)\n",
        "\n",
        "# 1. Construct model\n",
        "model_1 = tf.keras.Sequential([\n",
        "    layers.Dense(128, activation=\"relu\"),\n",
        "    layers.Dense(HORIZON, activation=\"linear\") # linear activation is same as no activation: output same as input\n",
        "], name = \"model_1_dense\") # name our model so we can save it by accesing its name by model_1.name\n",
        "\n",
        "# 2. Compile\n",
        "model_1.compile(loss=\"mae\",\n",
        "                optimizer=tf.keras.optimizers.Adam(),\n",
        "                metrics = [\"mae\", \"mse\"])\n",
        "\n",
        "# 3. Fit the model\n",
        "model_1.fit(x = train_windows,\n",
        "            y = train_labels,\n",
        "            epochs = 100,\n",
        "            verbose = 1,\n",
        "            batch_size = 128,\n",
        "            validation_data = (test_windows, test_labels),\n",
        "            callbacks = [create_model_checkpoint(model_name = model_1.name)]\n",
        ")\n"
      ],
      "metadata": {
        "colab": {
          "base_uri": "https://localhost:8080/"
        },
        "id": "PTbDrPMN8wtU",
        "outputId": "695535d9-8c59-4aaa-e74d-190b99238ada"
      },
      "execution_count": 51,
      "outputs": [
        {
          "output_type": "stream",
          "name": "stdout",
          "text": [
            "Epoch 1/100\n",
            "18/18 [==============================] - 2s 86ms/step - loss: 1936.1646 - mae: 1936.1646 - mse: 10913111.0000 - val_loss: 1598.2123 - val_mae: 1598.2123 - val_mse: 6172652.5000\n",
            "Epoch 2/100\n",
            "18/18 [==============================] - 1s 50ms/step - loss: 325.0513 - mae: 325.0513 - mse: 408339.7812 - val_loss: 1522.7344 - val_mae: 1522.7344 - val_mse: 5626194.0000\n",
            "Epoch 3/100\n",
            "18/18 [==============================] - 2s 92ms/step - loss: 211.9724 - mae: 211.9724 - mse: 211001.7500 - val_loss: 947.2859 - val_mae: 947.2858 - val_mse: 2872158.5000\n",
            "Epoch 4/100\n",
            "18/18 [==============================] - 1s 53ms/step - loss: 168.8440 - mae: 168.8440 - mse: 147463.3438 - val_loss: 896.7064 - val_mae: 896.7064 - val_mse: 2701386.7500\n",
            "Epoch 5/100\n",
            "18/18 [==============================] - 0s 9ms/step - loss: 162.5446 - mae: 162.5446 - mse: 142160.7031 - val_loss: 897.7359 - val_mae: 897.7359 - val_mse: 2612991.0000\n",
            "Epoch 6/100\n",
            "18/18 [==============================] - 1s 51ms/step - loss: 157.4617 - mae: 157.4617 - mse: 133941.5000 - val_loss: 873.1019 - val_mae: 873.1019 - val_mse: 2589672.2500\n",
            "Epoch 7/100\n",
            "18/18 [==============================] - 1s 38ms/step - loss: 152.1744 - mae: 152.1744 - mse: 126646.5312 - val_loss: 856.3226 - val_mae: 856.3226 - val_mse: 2378271.7500\n",
            "Epoch 8/100\n",
            "18/18 [==============================] - 1s 50ms/step - loss: 148.3221 - mae: 148.3221 - mse: 121355.2500 - val_loss: 822.4009 - val_mae: 822.4009 - val_mse: 2282306.2500\n",
            "Epoch 9/100\n",
            "18/18 [==============================] - 0s 6ms/step - loss: 148.1979 - mae: 148.1979 - mse: 119836.0234 - val_loss: 860.1919 - val_mae: 860.1919 - val_mse: 2286751.7500\n",
            "Epoch 10/100\n",
            "18/18 [==============================] - 1s 63ms/step - loss: 144.8825 - mae: 144.8825 - mse: 115642.2734 - val_loss: 795.2045 - val_mae: 795.2045 - val_mse: 2095157.8750\n",
            "Epoch 11/100\n",
            "18/18 [==============================] - 1s 87ms/step - loss: 140.3879 - mae: 140.3879 - mse: 109308.3672 - val_loss: 772.5634 - val_mae: 772.5634 - val_mse: 2019659.7500\n",
            "Epoch 12/100\n",
            "18/18 [==============================] - 0s 15ms/step - loss: 137.6260 - mae: 137.6260 - mse: 105409.3594 - val_loss: 854.4885 - val_mae: 854.4885 - val_mse: 2159753.5000\n",
            "Epoch 13/100\n",
            "18/18 [==============================] - 1s 54ms/step - loss: 137.0621 - mae: 137.0621 - mse: 106545.3672 - val_loss: 755.7681 - val_mae: 755.7681 - val_mse: 1868151.1250\n",
            "Epoch 14/100\n",
            "18/18 [==============================] - 0s 7ms/step - loss: 131.7843 - mae: 131.7843 - mse: 99017.4375 - val_loss: 771.8974 - val_mae: 771.8974 - val_mse: 1864055.1250\n",
            "Epoch 15/100\n",
            "18/18 [==============================] - 1s 69ms/step - loss: 130.9223 - mae: 130.9223 - mse: 96449.5547 - val_loss: 742.4293 - val_mae: 742.4293 - val_mse: 1759489.5000\n",
            "Epoch 16/100\n",
            "18/18 [==============================] - 0s 11ms/step - loss: 128.3983 - mae: 128.3983 - mse: 93324.2109 - val_loss: 746.9269 - val_mae: 746.9269 - val_mse: 1742840.0000\n",
            "Epoch 17/100\n",
            "18/18 [==============================] - 1s 67ms/step - loss: 126.6234 - mae: 126.6234 - mse: 90261.3203 - val_loss: 718.7659 - val_mae: 718.7659 - val_mse: 1648213.0000\n",
            "Epoch 18/100\n",
            "18/18 [==============================] - 2s 124ms/step - loss: 123.9585 - mae: 123.9585 - mse: 89747.9531 - val_loss: 695.9222 - val_mae: 695.9222 - val_mse: 1572052.7500\n",
            "Epoch 19/100\n",
            "18/18 [==============================] - 0s 12ms/step - loss: 121.8965 - mae: 121.8965 - mse: 86357.7266 - val_loss: 716.7625 - val_mae: 716.7625 - val_mse: 1605305.3750\n",
            "Epoch 20/100\n",
            "18/18 [==============================] - 2s 93ms/step - loss: 122.2676 - mae: 122.2676 - mse: 87569.5000 - val_loss: 655.9970 - val_mae: 655.9970 - val_mse: 1471378.6250\n",
            "Epoch 21/100\n",
            "18/18 [==============================] - 1s 62ms/step - loss: 122.4654 - mae: 122.4654 - mse: 87084.7656 - val_loss: 648.8467 - val_mae: 648.8467 - val_mse: 1432378.3750\n",
            "Epoch 22/100\n",
            "18/18 [==============================] - 1s 82ms/step - loss: 119.4660 - mae: 119.4660 - mse: 84023.6016 - val_loss: 644.7043 - val_mae: 644.7043 - val_mse: 1405765.0000\n",
            "Epoch 23/100\n",
            "18/18 [==============================] - 1s 68ms/step - loss: 117.3284 - mae: 117.3284 - mse: 80757.9609 - val_loss: 637.9225 - val_mae: 637.9225 - val_mse: 1384419.6250\n",
            "Epoch 24/100\n",
            "18/18 [==============================] - 1s 55ms/step - loss: 116.6684 - mae: 116.6684 - mse: 81230.7109 - val_loss: 629.9820 - val_mae: 629.9820 - val_mse: 1383038.3750\n",
            "Epoch 25/100\n",
            "18/18 [==============================] - 1s 52ms/step - loss: 114.8815 - mae: 114.8815 - mse: 78020.5938 - val_loss: 624.4229 - val_mae: 624.4229 - val_mse: 1363523.0000\n",
            "Epoch 26/100\n",
            "18/18 [==============================] - 1s 82ms/step - loss: 116.3545 - mae: 116.3545 - mse: 78066.6719 - val_loss: 619.6774 - val_mae: 619.6774 - val_mse: 1346850.5000\n",
            "Epoch 27/100\n",
            "18/18 [==============================] - 1s 62ms/step - loss: 114.4271 - mae: 114.4271 - mse: 77782.0078 - val_loss: 612.1066 - val_mae: 612.1066 - val_mse: 1305215.3750\n",
            "Epoch 28/100\n",
            "18/18 [==============================] - 2s 102ms/step - loss: 111.6709 - mae: 111.6709 - mse: 75352.6016 - val_loss: 608.8026 - val_mae: 608.8026 - val_mse: 1294815.2500\n",
            "Epoch 29/100\n",
            "18/18 [==============================] - 0s 14ms/step - loss: 111.1610 - mae: 111.1610 - mse: 75398.0312 - val_loss: 612.3622 - val_mae: 612.3622 - val_mse: 1291873.3750\n",
            "Epoch 30/100\n",
            "18/18 [==============================] - 0s 17ms/step - loss: 114.5456 - mae: 114.5456 - mse: 76691.2422 - val_loss: 615.9554 - val_mae: 615.9554 - val_mse: 1293884.2500\n",
            "Epoch 31/100\n",
            "18/18 [==============================] - 0s 23ms/step - loss: 113.2241 - mae: 113.2241 - mse: 74542.4609 - val_loss: 675.8585 - val_mae: 675.8585 - val_mse: 1425671.1250\n",
            "Epoch 32/100\n",
            "18/18 [==============================] - 2s 98ms/step - loss: 112.9839 - mae: 112.9839 - mse: 77731.0312 - val_loss: 604.0828 - val_mae: 604.0828 - val_mse: 1267344.3750\n",
            "Epoch 33/100\n",
            "18/18 [==============================] - 0s 9ms/step - loss: 110.9963 - mae: 110.9963 - mse: 74556.0625 - val_loss: 635.1288 - val_mae: 635.1288 - val_mse: 1327273.5000\n",
            "Epoch 34/100\n",
            "18/18 [==============================] - 1s 63ms/step - loss: 110.9219 - mae: 110.9219 - mse: 75830.2188 - val_loss: 591.8199 - val_mae: 591.8199 - val_mse: 1252580.3750\n",
            "Epoch 35/100\n",
            "18/18 [==============================] - 0s 8ms/step - loss: 109.9689 - mae: 109.9689 - mse: 73745.8672 - val_loss: 603.8831 - val_mae: 603.8831 - val_mse: 1258994.1250\n",
            "Epoch 36/100\n",
            "18/18 [==============================] - 0s 9ms/step - loss: 118.9073 - mae: 118.9073 - mse: 78345.6406 - val_loss: 680.1584 - val_mae: 680.1584 - val_mse: 1428075.0000\n",
            "Epoch 37/100\n",
            "18/18 [==============================] - 1s 54ms/step - loss: 113.6951 - mae: 113.6951 - mse: 75859.2109 - val_loss: 587.7427 - val_mae: 587.7427 - val_mse: 1233110.6250\n",
            "Epoch 38/100\n",
            "18/18 [==============================] - 0s 13ms/step - loss: 109.9398 - mae: 109.9398 - mse: 74301.4062 - val_loss: 599.3132 - val_mae: 599.3132 - val_mse: 1267861.1250\n",
            "Epoch 39/100\n",
            "18/18 [==============================] - 0s 9ms/step - loss: 112.0934 - mae: 112.0934 - mse: 73875.0625 - val_loss: 630.0923 - val_mae: 630.0923 - val_mse: 1340231.7500\n",
            "Epoch 40/100\n",
            "18/18 [==============================] - 0s 5ms/step - loss: 109.8164 - mae: 109.8164 - mse: 75035.1328 - val_loss: 588.8290 - val_mae: 588.8290 - val_mse: 1225747.8750\n",
            "Epoch 41/100\n",
            "18/18 [==============================] - 0s 4ms/step - loss: 109.0262 - mae: 109.0262 - mse: 73382.3438 - val_loss: 605.4203 - val_mae: 605.4203 - val_mse: 1278021.2500\n",
            "Epoch 42/100\n",
            "18/18 [==============================] - 0s 12ms/step - loss: 118.3940 - mae: 118.3940 - mse: 78313.7031 - val_loss: 618.5349 - val_mae: 618.5349 - val_mse: 1306138.5000\n",
            "Epoch 43/100\n",
            "18/18 [==============================] - 1s 42ms/step - loss: 108.9449 - mae: 108.9449 - mse: 73221.3984 - val_loss: 584.5088 - val_mae: 584.5088 - val_mse: 1226919.3750\n",
            "Epoch 44/100\n",
            "18/18 [==============================] - 1s 46ms/step - loss: 108.6472 - mae: 108.6472 - mse: 72125.0234 - val_loss: 580.9961 - val_mae: 580.9961 - val_mse: 1209169.0000\n",
            "Epoch 45/100\n",
            "18/18 [==============================] - 0s 14ms/step - loss: 107.8856 - mae: 107.8856 - mse: 72450.9531 - val_loss: 586.2094 - val_mae: 586.2094 - val_mse: 1233388.3750\n",
            "Epoch 46/100\n",
            "18/18 [==============================] - 0s 4ms/step - loss: 110.6719 - mae: 110.6719 - mse: 72988.4062 - val_loss: 623.6459 - val_mae: 623.6459 - val_mse: 1314522.1250\n",
            "Epoch 47/100\n",
            "18/18 [==============================] - 0s 5ms/step - loss: 111.9775 - mae: 111.9775 - mse: 75272.5938 - val_loss: 664.1943 - val_mae: 664.1943 - val_mse: 1372391.3750\n",
            "Epoch 48/100\n",
            "18/18 [==============================] - 0s 7ms/step - loss: 109.2215 - mae: 109.2215 - mse: 72387.7578 - val_loss: 608.4969 - val_mae: 608.4969 - val_mse: 1251877.3750\n",
            "Epoch 49/100\n",
            "18/18 [==============================] - 0s 10ms/step - loss: 113.0518 - mae: 113.0518 - mse: 73458.8594 - val_loss: 591.8802 - val_mae: 591.8802 - val_mse: 1246427.8750\n",
            "Epoch 50/100\n",
            "18/18 [==============================] - 0s 4ms/step - loss: 107.3236 - mae: 107.3236 - mse: 71379.8047 - val_loss: 617.9507 - val_mae: 617.9507 - val_mse: 1298459.1250\n",
            "Epoch 51/100\n",
            "18/18 [==============================] - 0s 4ms/step - loss: 108.9036 - mae: 108.9036 - mse: 71990.6797 - val_loss: 590.0723 - val_mae: 590.0723 - val_mse: 1216488.0000\n",
            "Epoch 52/100\n",
            "18/18 [==============================] - 0s 8ms/step - loss: 109.7701 - mae: 109.7701 - mse: 73557.2734 - val_loss: 587.0074 - val_mae: 587.0074 - val_mse: 1229388.6250\n",
            "Epoch 53/100\n",
            "18/18 [==============================] - 0s 17ms/step - loss: 109.5635 - mae: 109.5635 - mse: 72595.6484 - val_loss: 641.7448 - val_mae: 641.7448 - val_mse: 1322982.1250\n",
            "Epoch 54/100\n",
            "18/18 [==============================] - 0s 4ms/step - loss: 114.8573 - mae: 114.8573 - mse: 75414.5000 - val_loss: 674.4070 - val_mae: 674.4070 - val_mse: 1396097.3750\n",
            "Epoch 55/100\n",
            "18/18 [==============================] - 0s 4ms/step - loss: 111.9976 - mae: 111.9976 - mse: 74254.6875 - val_loss: 641.6509 - val_mae: 641.6509 - val_mse: 1357091.7500\n",
            "Epoch 56/100\n",
            "18/18 [==============================] - 0s 10ms/step - loss: 120.8161 - mae: 120.8161 - mse: 80280.5234 - val_loss: 942.8850 - val_mae: 942.8850 - val_mse: 2383978.7500\n",
            "Epoch 57/100\n",
            "18/18 [==============================] - 0s 4ms/step - loss: 141.6500 - mae: 141.6500 - mse: 98412.0859 - val_loss: 586.8133 - val_mae: 586.8133 - val_mse: 1231272.0000\n",
            "Epoch 58/100\n",
            "18/18 [==============================] - 0s 4ms/step - loss: 114.2313 - mae: 114.2313 - mse: 76377.8438 - val_loss: 654.8241 - val_mae: 654.8241 - val_mse: 1398258.8750\n",
            "Epoch 59/100\n",
            "18/18 [==============================] - 0s 5ms/step - loss: 108.9539 - mae: 108.9539 - mse: 71878.9062 - val_loss: 627.5273 - val_mae: 627.5273 - val_mse: 1320881.6250\n",
            "Epoch 60/100\n",
            "18/18 [==============================] - 0s 10ms/step - loss: 115.1237 - mae: 115.1237 - mse: 77083.8438 - val_loss: 591.7669 - val_mae: 591.7669 - val_mse: 1216148.6250\n",
            "Epoch 61/100\n",
            "18/18 [==============================] - 0s 7ms/step - loss: 109.9834 - mae: 109.9834 - mse: 73735.6016 - val_loss: 626.0994 - val_mae: 626.0994 - val_mse: 1283044.5000\n",
            "Epoch 62/100\n",
            "18/18 [==============================] - 1s 33ms/step - loss: 108.7109 - mae: 108.7109 - mse: 70607.1172 - val_loss: 578.5963 - val_mae: 578.5963 - val_mse: 1197776.7500\n",
            "Epoch 63/100\n",
            "18/18 [==============================] - 0s 5ms/step - loss: 109.7908 - mae: 109.7908 - mse: 72188.3984 - val_loss: 656.7404 - val_mae: 656.7404 - val_mse: 1349920.8750\n",
            "Epoch 64/100\n",
            "18/18 [==============================] - 0s 6ms/step - loss: 111.2972 - mae: 111.2972 - mse: 72649.6641 - val_loss: 718.5836 - val_mae: 718.5836 - val_mse: 1504978.2500\n",
            "Epoch 65/100\n",
            "18/18 [==============================] - 0s 7ms/step - loss: 115.4989 - mae: 115.4989 - mse: 76439.7031 - val_loss: 592.1750 - val_mae: 592.1750 - val_mse: 1212603.1250\n",
            "Epoch 66/100\n",
            "18/18 [==============================] - 1s 41ms/step - loss: 112.6045 - mae: 112.6045 - mse: 72733.2969 - val_loss: 575.5170 - val_mae: 575.5170 - val_mse: 1197904.5000\n",
            "Epoch 67/100\n",
            "18/18 [==============================] - 0s 11ms/step - loss: 106.0525 - mae: 106.0525 - mse: 69602.2891 - val_loss: 625.8805 - val_mae: 625.8805 - val_mse: 1314281.0000\n",
            "Epoch 68/100\n",
            "18/18 [==============================] - 0s 13ms/step - loss: 112.3971 - mae: 112.3971 - mse: 70425.5469 - val_loss: 674.5640 - val_mae: 674.5640 - val_mse: 1435596.0000\n",
            "Epoch 69/100\n",
            "18/18 [==============================] - 0s 4ms/step - loss: 123.3803 - mae: 123.3803 - mse: 80726.4062 - val_loss: 697.5309 - val_mae: 697.5309 - val_mse: 1497046.0000\n",
            "Epoch 70/100\n",
            "18/18 [==============================] - 0s 4ms/step - loss: 118.5791 - mae: 118.5791 - mse: 78145.3672 - val_loss: 581.1135 - val_mae: 581.1135 - val_mse: 1210699.5000\n",
            "Epoch 71/100\n",
            "18/18 [==============================] - 0s 6ms/step - loss: 110.1021 - mae: 110.1021 - mse: 71268.8984 - val_loss: 645.0997 - val_mae: 645.0997 - val_mse: 1323876.6250\n",
            "Epoch 72/100\n",
            "18/18 [==============================] - 2s 142ms/step - loss: 108.3366 - mae: 108.3366 - mse: 71432.6562 - val_loss: 571.6685 - val_mae: 571.6685 - val_mse: 1182780.0000\n",
            "Epoch 73/100\n",
            "18/18 [==============================] - 0s 27ms/step - loss: 110.4631 - mae: 110.4631 - mse: 72275.8906 - val_loss: 596.3978 - val_mae: 596.3978 - val_mse: 1245116.1250\n",
            "Epoch 74/100\n",
            "18/18 [==============================] - 0s 19ms/step - loss: 105.8869 - mae: 105.8869 - mse: 70485.1719 - val_loss: 575.1024 - val_mae: 575.1024 - val_mse: 1186212.2500\n",
            "Epoch 75/100\n",
            "18/18 [==============================] - 0s 11ms/step - loss: 107.1001 - mae: 107.1001 - mse: 69567.3516 - val_loss: 611.2806 - val_mae: 611.2806 - val_mse: 1248243.3750\n",
            "Epoch 76/100\n",
            "18/18 [==============================] - 0s 7ms/step - loss: 110.2396 - mae: 110.2396 - mse: 72382.2969 - val_loss: 573.3057 - val_mae: 573.3057 - val_mse: 1189350.5000\n",
            "Epoch 77/100\n",
            "18/18 [==============================] - 0s 9ms/step - loss: 109.5990 - mae: 109.5990 - mse: 70643.8828 - val_loss: 571.7852 - val_mae: 571.7852 - val_mse: 1184980.1250\n",
            "Epoch 78/100\n",
            "18/18 [==============================] - 1s 64ms/step - loss: 106.4073 - mae: 106.4073 - mse: 68891.1250 - val_loss: 570.6772 - val_mae: 570.6772 - val_mse: 1181840.1250\n",
            "Epoch 79/100\n",
            "18/18 [==============================] - 0s 4ms/step - loss: 106.7525 - mae: 106.7525 - mse: 71644.5469 - val_loss: 612.3945 - val_mae: 612.3945 - val_mse: 1280096.8750\n",
            "Epoch 80/100\n",
            "18/18 [==============================] - 0s 5ms/step - loss: 108.2970 - mae: 108.2970 - mse: 71386.0469 - val_loss: 575.0252 - val_mae: 575.0252 - val_mse: 1183343.8750\n",
            "Epoch 81/100\n",
            "18/18 [==============================] - 0s 7ms/step - loss: 105.2561 - mae: 105.2561 - mse: 69612.8984 - val_loss: 574.5514 - val_mae: 574.5514 - val_mse: 1191509.6250\n",
            "Epoch 82/100\n",
            "18/18 [==============================] - 1s 44ms/step - loss: 112.0848 - mae: 112.0848 - mse: 74547.4531 - val_loss: 569.3264 - val_mae: 569.3264 - val_mse: 1172323.3750\n",
            "Epoch 83/100\n",
            "18/18 [==============================] - 0s 16ms/step - loss: 109.6242 - mae: 109.6242 - mse: 72056.8047 - val_loss: 616.9876 - val_mae: 616.9876 - val_mse: 1287528.2500\n",
            "Epoch 84/100\n",
            "18/18 [==============================] - 0s 4ms/step - loss: 108.6227 - mae: 108.6227 - mse: 71155.4844 - val_loss: 577.5554 - val_mae: 577.5554 - val_mse: 1199240.5000\n",
            "Epoch 85/100\n",
            "18/18 [==============================] - 0s 5ms/step - loss: 106.4240 - mae: 106.4240 - mse: 69954.6797 - val_loss: 583.5966 - val_mae: 583.5966 - val_mse: 1193677.8750\n",
            "Epoch 86/100\n",
            "18/18 [==============================] - 0s 9ms/step - loss: 109.4291 - mae: 109.4291 - mse: 70381.2969 - val_loss: 634.1640 - val_mae: 634.1640 - val_mse: 1297915.6250\n",
            "Epoch 87/100\n",
            "18/18 [==============================] - 0s 4ms/step - loss: 107.1902 - mae: 107.1902 - mse: 68109.6562 - val_loss: 580.2205 - val_mae: 580.2205 - val_mse: 1204430.3750\n",
            "Epoch 88/100\n",
            "18/18 [==============================] - 0s 4ms/step - loss: 106.2134 - mae: 106.2134 - mse: 70628.8984 - val_loss: 574.4177 - val_mae: 574.4177 - val_mse: 1190273.1250\n",
            "Epoch 89/100\n",
            "18/18 [==============================] - 0s 6ms/step - loss: 107.1498 - mae: 107.1498 - mse: 68904.3047 - val_loss: 574.0721 - val_mae: 574.0721 - val_mse: 1187837.5000\n",
            "Epoch 90/100\n",
            "18/18 [==============================] - 0s 6ms/step - loss: 105.2796 - mae: 105.2796 - mse: 68030.2812 - val_loss: 653.3968 - val_mae: 653.3968 - val_mse: 1334174.2500\n",
            "Epoch 91/100\n",
            "18/18 [==============================] - 0s 6ms/step - loss: 110.3812 - mae: 110.3812 - mse: 71603.9688 - val_loss: 610.1949 - val_mae: 610.1949 - val_mse: 1275673.5000\n",
            "Epoch 92/100\n",
            "18/18 [==============================] - 0s 4ms/step - loss: 107.9464 - mae: 107.9464 - mse: 71134.1797 - val_loss: 572.6420 - val_mae: 572.6420 - val_mse: 1184215.5000\n",
            "Epoch 93/100\n",
            "18/18 [==============================] - 0s 4ms/step - loss: 112.3947 - mae: 112.3947 - mse: 72933.4297 - val_loss: 628.0670 - val_mae: 628.0670 - val_mse: 1309000.6250\n",
            "Epoch 94/100\n",
            "18/18 [==============================] - 0s 8ms/step - loss: 108.8304 - mae: 108.8304 - mse: 71660.3906 - val_loss: 587.5853 - val_mae: 587.5853 - val_mse: 1200691.1250\n",
            "Epoch 95/100\n",
            "18/18 [==============================] - 0s 9ms/step - loss: 105.6759 - mae: 105.6759 - mse: 67812.5000 - val_loss: 575.7086 - val_mae: 575.7086 - val_mse: 1191805.2500\n",
            "Epoch 96/100\n",
            "18/18 [==============================] - 0s 9ms/step - loss: 107.9664 - mae: 107.9664 - mse: 69917.7734 - val_loss: 638.7201 - val_mae: 638.7201 - val_mse: 1337826.1250\n",
            "Epoch 97/100\n",
            "18/18 [==============================] - 0s 4ms/step - loss: 108.7458 - mae: 108.7458 - mse: 71694.8672 - val_loss: 569.5711 - val_mae: 569.5711 - val_mse: 1172562.6250\n",
            "Epoch 98/100\n",
            "18/18 [==============================] - 0s 4ms/step - loss: 106.0681 - mae: 106.0681 - mse: 69240.7188 - val_loss: 572.0620 - val_mae: 572.0620 - val_mse: 1176543.1250\n",
            "Epoch 99/100\n",
            "18/18 [==============================] - 0s 4ms/step - loss: 106.4539 - mae: 106.4539 - mse: 70164.8516 - val_loss: 571.3987 - val_mae: 571.3987 - val_mse: 1179573.1250\n",
            "Epoch 100/100\n",
            "18/18 [==============================] - 0s 8ms/step - loss: 112.0826 - mae: 112.0826 - mse: 70342.2266 - val_loss: 665.8925 - val_mae: 665.8925 - val_mse: 1361898.8750\n"
          ]
        },
        {
          "output_type": "execute_result",
          "data": {
            "text/plain": [
              "<keras.src.callbacks.History at 0x7d64402f8a90>"
            ]
          },
          "metadata": {},
          "execution_count": 51
        }
      ]
    },
    {
      "cell_type": "code",
      "source": [
        "# Evaluate model on test data # remember this isnot best from model_1. We have saved best one with checkpoint callback\n",
        "model_1.evaluate(test_windows, test_labels)"
      ],
      "metadata": {
        "colab": {
          "base_uri": "https://localhost:8080/"
        },
        "id": "7XLthdh5_x6J",
        "outputId": "67d53315-525b-4497-8bba-1f31d578a389"
      },
      "execution_count": 52,
      "outputs": [
        {
          "output_type": "stream",
          "name": "stdout",
          "text": [
            "18/18 [==============================] - 0s 4ms/step - loss: 665.8925 - mae: 665.8925 - mse: 1361898.8750\n"
          ]
        },
        {
          "output_type": "execute_result",
          "data": {
            "text/plain": [
              "[665.8925170898438, 665.8925170898438, 1361898.875]"
            ]
          },
          "metadata": {},
          "execution_count": 52
        }
      ]
    },
    {
      "cell_type": "code",
      "source": [
        "# Load in saved best performing model from model_1 from saved checkpoint\n",
        "model_1 = tf.keras.models.load_model(\"/content/model_experiment/model_1_dense\")\n",
        "model_1.evaluate(test_windows, test_labels)"
      ],
      "metadata": {
        "colab": {
          "base_uri": "https://localhost:8080/"
        },
        "id": "9J5fdATE_-VN",
        "outputId": "61c5bf01-00c1-452c-8a7f-33b8c052f6b4"
      },
      "execution_count": 53,
      "outputs": [
        {
          "output_type": "stream",
          "name": "stdout",
          "text": [
            "18/18 [==============================] - 0s 2ms/step - loss: 569.3264 - mae: 569.3264 - mse: 1172323.6250\n"
          ]
        },
        {
          "output_type": "execute_result",
          "data": {
            "text/plain": [
              "[569.3263549804688, 569.3263549804688, 1172323.625]"
            ]
          },
          "metadata": {},
          "execution_count": 53
        }
      ]
    },
    {
      "cell_type": "markdown",
      "source": [
        "## Making forecast with a model_1 (on test dataset)\n",
        "To make \"Forecast\" on the test dataset (note: these won't be actual forecasts, they're only psuedo forecasts because actual forecast are into the future). Let's write a function to:\n",
        "\n",
        "1. Take in a train_model.\n",
        "2. Take in some input data (same kind of data the model was trained on).\n",
        "3. Passes the input data to model's `predict()` method.\n",
        "4. Returns the predictions."
      ],
      "metadata": {
        "id": "obtPTf6YBT8g"
      }
    },
    {
      "cell_type": "code",
      "source": [
        "def make_preds(model, input_data):\n",
        "  \"\"\"\n",
        "  Uses model to make predictions input_data.\n",
        "  \"\"\"\n",
        "  forecast = model.predict(input_data)\n",
        "  return tf.squeeze(forecast) # return 1D array of predcition"
      ],
      "metadata": {
        "id": "KGQlN8RxCj6J"
      },
      "execution_count": 54,
      "outputs": []
    },
    {
      "cell_type": "code",
      "source": [
        "# Make prediction using model_1 on the test dataset and view results\n",
        "model_1_preds = make_preds(model_1, test_windows)\n",
        "model_1_preds[:10],len(model_1_preds)"
      ],
      "metadata": {
        "id": "5q5UrrxRDKdM",
        "colab": {
          "base_uri": "https://localhost:8080/"
        },
        "outputId": "9983ef84-f03d-4861-e334-93c28d405f50"
      },
      "execution_count": 60,
      "outputs": [
        {
          "output_type": "stream",
          "name": "stdout",
          "text": [
            "18/18 [==============================] - 0s 3ms/step\n"
          ]
        },
        {
          "output_type": "execute_result",
          "data": {
            "text/plain": [
              "(<tf.Tensor: shape=(10,), dtype=float32, numpy=\n",
              " array([8862.285 , 8763.585 , 9005.282 , 8760.805 , 8728.642 , 8738.9795,\n",
              "        8681.329 , 8493.059 , 8464.063 , 8510.947 ], dtype=float32)>,\n",
              " 556)"
            ]
          },
          "metadata": {},
          "execution_count": 60
        }
      ]
    },
    {
      "cell_type": "code",
      "source": [
        "test_labels.shape # seems like extra dim but we dont want it it below so we use squeeze"
      ],
      "metadata": {
        "colab": {
          "base_uri": "https://localhost:8080/"
        },
        "id": "v2Du5zlvBZwI",
        "outputId": "5f347b33-c7a9-4d16-ac33-6875569344e5"
      },
      "execution_count": 62,
      "outputs": [
        {
          "output_type": "execute_result",
          "data": {
            "text/plain": [
              "(556, 1)"
            ]
          },
          "metadata": {},
          "execution_count": 62
        }
      ]
    },
    {
      "cell_type": "code",
      "source": [
        "# Evaluate preds\n",
        "model_1_results = evaluate_preds(y_true = tf.squeeze(test_labels),\n",
        "                                 y_pred = model_1_preds)\n",
        "\n",
        "model_1_results # results is very similar to naive model"
      ],
      "metadata": {
        "colab": {
          "base_uri": "https://localhost:8080/"
        },
        "id": "KpfBr12JAZ1E",
        "outputId": "cfa8c953-a312-4955-8adf-d44e09d9d066"
      },
      "execution_count": 63,
      "outputs": [
        {
          "output_type": "execute_result",
          "data": {
            "text/plain": [
              "{'mae': 569.3263,\n",
              " 'mse': 1172323.2,\n",
              " 'rmse': 1082.7388,\n",
              " 'mape': 2.5556736,\n",
              " 'mase': 1.0001487}"
            ]
          },
          "metadata": {},
          "execution_count": 63
        }
      ]
    },
    {
      "cell_type": "code",
      "source": [
        "naive_results"
      ],
      "metadata": {
        "colab": {
          "base_uri": "https://localhost:8080/"
        },
        "id": "bNNDsqo8BQUJ",
        "outputId": "6bc1b3ca-3703-4e5e-e964-e4a11d2b1a40"
      },
      "execution_count": 64,
      "outputs": [
        {
          "output_type": "execute_result",
          "data": {
            "text/plain": [
              "{'mae': 567.9802,\n",
              " 'mse': 1147547.0,\n",
              " 'rmse': 1071.2362,\n",
              " 'mape': 2.5165248,\n",
              " 'mase': 0.99957}"
            ]
          },
          "metadata": {},
          "execution_count": 64
        }
      ]
    },
    {
      "cell_type": "code",
      "source": [
        "a = np.array([1,2,3,4,5])"
      ],
      "metadata": {
        "id": "cfPXcZsyDhFq"
      },
      "execution_count": 74,
      "outputs": []
    },
    {
      "cell_type": "code",
      "source": [
        "a[-12:]"
      ],
      "metadata": {
        "colab": {
          "base_uri": "https://localhost:8080/"
        },
        "id": "Py3q5LlNDkWM",
        "outputId": "3bf82006-deb5-4e8b-8f90-6a8113bbdd7d"
      },
      "execution_count": 76,
      "outputs": [
        {
          "output_type": "execute_result",
          "data": {
            "text/plain": [
              "array([1, 2, 3, 4, 5])"
            ]
          },
          "metadata": {},
          "execution_count": 76
        }
      ]
    },
    {
      "cell_type": "code",
      "source": [],
      "metadata": {
        "colab": {
          "base_uri": "https://localhost:8080/"
        },
        "id": "d8o-Bwq8DLAq",
        "outputId": "5184d7fd-a776-456a-cb2e-06845bf63de5"
      },
      "execution_count": 77,
      "outputs": [
        {
          "output_type": "execute_result",
          "data": {
            "text/plain": [
              "556"
            ]
          },
          "metadata": {},
          "execution_count": 77
        }
      ]
    },
    {
      "cell_type": "code",
      "source": [
        "len(test_labels[:,0])"
      ],
      "metadata": {
        "colab": {
          "base_uri": "https://localhost:8080/"
        },
        "id": "kJ6qM3ZqDR2M",
        "outputId": "b8b716b8-3fd3-404e-ec9c-58b1c021b2ea"
      },
      "execution_count": 87,
      "outputs": [
        {
          "output_type": "execute_result",
          "data": {
            "text/plain": [
              "556"
            ]
          },
          "metadata": {},
          "execution_count": 87
        }
      ]
    },
    {
      "cell_type": "code",
      "source": [
        "# Let's plot our model 1 preformance\n",
        "offset = 340\n",
        "plt.figure(figsize=(10, 7))\n",
        "# Account for the test_window offset and index into test_labels to ensure correct plotting\n",
        "plot_time_series(timesteps=X_test[-len(test_windows):],\n",
        "                 values = test_labels[:, 0],  # [:, 0 ] just because test_labels is 2D (556,1)\n",
        "                 start=offset,\n",
        "                 label= \"Test Data\" )\n",
        "plot_time_series(timesteps=X_test[-len(test_windows):],\n",
        "                 values=model_1_preds,\n",
        "                 start=offset,\n",
        "                 format=\"-\",\n",
        "                 label=\"model_1_preds\")"
      ],
      "metadata": {
        "colab": {
          "base_uri": "https://localhost:8080/",
          "height": 619
        },
        "id": "5Z7KIRyCB3o0",
        "outputId": "c08c0fde-42b6-4649-f336-7470353bddd3"
      },
      "execution_count": 94,
      "outputs": [
        {
          "output_type": "display_data",
          "data": {
            "text/plain": [
              "<Figure size 1000x700 with 1 Axes>"
            ],
            "image/png": "[encoded data removed]"
          },
          "metadata": {}
        }
      ]
    },
    {
      "cell_type": "markdown",
      "source": [
        "Why our prediction lags slighty behind actual data: read about **AutoCorrelation** in 2.8 of https://otexts.com/fpp3/acf.html"
      ],
      "metadata": {
        "id": "PXrkWT6tJFlu"
      }
    },
    {
      "cell_type": "markdown",
      "source": [
        "## Model_2: Dense (window = 30, horizon = 1)"
      ],
      "metadata": {
        "id": "wxKuiSBtE2GV"
      }
    },
    {
      "cell_type": "code",
      "source": [
        "WINDOW_SIZE = 30 # use 30 prev timestep in past\n",
        "HORIZON = 1 # predict one step at a time (one day of Bitcoin price from previous 30)"
      ],
      "metadata": {
        "id": "9I4neVJuH7eT"
      },
      "execution_count": 95,
      "outputs": []
    },
    {
      "cell_type": "code",
      "source": [
        "len(prices)-30"
      ],
      "metadata": {
        "colab": {
          "base_uri": "https://localhost:8080/"
        },
        "id": "Yuq_GU40KDsC",
        "outputId": "86106cb0-7aca-4e64-f7b4-2ea39b2ea333"
      },
      "execution_count": 100,
      "outputs": [
        {
          "output_type": "execute_result",
          "data": {
            "text/plain": [
              "2757"
            ]
          },
          "metadata": {},
          "execution_count": 100
        }
      ]
    },
    {
      "cell_type": "code",
      "source": [
        "# Make recreate window data with appropriate horizon and window sizes\n",
        "full_windows, full_labels = make_windows(prices, window_size = WINDOW_SIZE, horizon = HORIZON)\n",
        "len(full_windows), len(full_labels)"
      ],
      "metadata": {
        "colab": {
          "base_uri": "https://localhost:8080/"
        },
        "id": "x8z_oJilH4qt",
        "outputId": "cfb8202a-51c5-4222-c3b5-af579e572fb8"
      },
      "execution_count": 96,
      "outputs": [
        {
          "output_type": "stream",
          "name": "stdout",
          "text": [
            "Window indexs:\n",
            " (array([[ 0,  1,  2,  3,  4,  5,  6,  7,  8,  9, 10, 11, 12, 13, 14, 15,\n",
            "        16, 17, 18, 19, 20, 21, 22, 23, 24, 25, 26, 27, 28, 29, 30],\n",
            "       [ 1,  2,  3,  4,  5,  6,  7,  8,  9, 10, 11, 12, 13, 14, 15, 16,\n",
            "        17, 18, 19, 20, 21, 22, 23, 24, 25, 26, 27, 28, 29, 30, 31],\n",
            "       [ 2,  3,  4,  5,  6,  7,  8,  9, 10, 11, 12, 13, 14, 15, 16, 17,\n",
            "        18, 19, 20, 21, 22, 23, 24, 25, 26, 27, 28, 29, 30, 31, 32],\n",
            "       [ 3,  4,  5,  6,  7,  8,  9, 10, 11, 12, 13, 14, 15, 16, 17, 18,\n",
            "        19, 20, 21, 22, 23, 24, 25, 26, 27, 28, 29, 30, 31, 32, 33],\n",
            "       [ 4,  5,  6,  7,  8,  9, 10, 11, 12, 13, 14, 15, 16, 17, 18, 19,\n",
            "        20, 21, 22, 23, 24, 25, 26, 27, 28, 29, 30, 31, 32, 33, 34]]), (2757, 31)) \n",
            "\n",
            "\n",
            "Window array:\n",
            " (array([[123.65499, 125.455  , 108.58483, 118.67466, 121.33866, 120.65533,\n",
            "        121.795  , 123.033  , 124.049  , 125.96116, 125.27966, 125.9275 ,\n",
            "        126.38333, 135.24199, 133.20333, 142.76333, 137.92333, 142.95166,\n",
            "        152.55183, 160.33883, 164.31499, 177.63333, 188.29716, 200.70166,\n",
            "        180.355  , 175.03166, 177.6965 , 187.15983, 192.75666, 197.4    ,\n",
            "        196.02499],\n",
            "       [125.455  , 108.58483, 118.67466, 121.33866, 120.65533, 121.795  ,\n",
            "        123.033  , 124.049  , 125.96116, 125.27966, 125.9275 , 126.38333,\n",
            "        135.24199, 133.20333, 142.76333, 137.92333, 142.95166, 152.55183,\n",
            "        160.33883, 164.31499, 177.63333, 188.29716, 200.70166, 180.355  ,\n",
            "        175.03166, 177.6965 , 187.15983, 192.75666, 197.4    , 196.02499,\n",
            "        198.04883],\n",
            "       [108.58483, 118.67466, 121.33866, 120.65533, 121.795  , 123.033  ,\n",
            "        124.049  , 125.96116, 125.27966, 125.9275 , 126.38333, 135.24199,\n",
            "        133.20333, 142.76333, 137.92333, 142.95166, 152.55183, 160.33883,\n",
            "        164.31499, 177.63333, 188.29716, 200.70166, 180.355  , 175.03166,\n",
            "        177.6965 , 187.15983, 192.75666, 197.4    , 196.02499, 198.04883,\n",
            "        198.93233],\n",
            "       [118.67466, 121.33866, 120.65533, 121.795  , 123.033  , 124.049  ,\n",
            "        125.96116, 125.27966, 125.9275 , 126.38333, 135.24199, 133.20333,\n",
            "        142.76333, 137.92333, 142.95166, 152.55183, 160.33883, 164.31499,\n",
            "        177.63333, 188.29716, 200.70166, 180.355  , 175.03166, 177.6965 ,\n",
            "        187.15983, 192.75666, 197.4    , 196.02499, 198.04883, 198.93233,\n",
            "        200.543  ],\n",
            "       [121.33866, 120.65533, 121.795  , 123.033  , 124.049  , 125.96116,\n",
            "        125.27966, 125.9275 , 126.38333, 135.24199, 133.20333, 142.76333,\n",
            "        137.92333, 142.95166, 152.55183, 160.33883, 164.31499, 177.63333,\n",
            "        188.29716, 200.70166, 180.355  , 175.03166, 177.6965 , 187.15983,\n",
            "        192.75666, 197.4    , 196.02499, 198.04883, 198.93233, 200.543  ,\n",
            "        210.3075 ]]), (2757, 31)) \n",
            "\n",
            "\n",
            "\n",
            "Window :\n",
            " (array([[123.65499, 125.455  , 108.58483, 118.67466, 121.33866, 120.65533,\n",
            "        121.795  , 123.033  , 124.049  , 125.96116, 125.27966, 125.9275 ,\n",
            "        126.38333, 135.24199, 133.20333, 142.76333, 137.92333, 142.95166,\n",
            "        152.55183, 160.33883, 164.31499, 177.63333, 188.29716, 200.70166,\n",
            "        180.355  , 175.03166, 177.6965 , 187.15983, 192.75666, 197.4    ],\n",
            "       [125.455  , 108.58483, 118.67466, 121.33866, 120.65533, 121.795  ,\n",
            "        123.033  , 124.049  , 125.96116, 125.27966, 125.9275 , 126.38333,\n",
            "        135.24199, 133.20333, 142.76333, 137.92333, 142.95166, 152.55183,\n",
            "        160.33883, 164.31499, 177.63333, 188.29716, 200.70166, 180.355  ,\n",
            "        175.03166, 177.6965 , 187.15983, 192.75666, 197.4    , 196.02499],\n",
            "       [108.58483, 118.67466, 121.33866, 120.65533, 121.795  , 123.033  ,\n",
            "        124.049  , 125.96116, 125.27966, 125.9275 , 126.38333, 135.24199,\n",
            "        133.20333, 142.76333, 137.92333, 142.95166, 152.55183, 160.33883,\n",
            "        164.31499, 177.63333, 188.29716, 200.70166, 180.355  , 175.03166,\n",
            "        177.6965 , 187.15983, 192.75666, 197.4    , 196.02499, 198.04883],\n",
            "       [118.67466, 121.33866, 120.65533, 121.795  , 123.033  , 124.049  ,\n",
            "        125.96116, 125.27966, 125.9275 , 126.38333, 135.24199, 133.20333,\n",
            "        142.76333, 137.92333, 142.95166, 152.55183, 160.33883, 164.31499,\n",
            "        177.63333, 188.29716, 200.70166, 180.355  , 175.03166, 177.6965 ,\n",
            "        187.15983, 192.75666, 197.4    , 196.02499, 198.04883, 198.93233],\n",
            "       [121.33866, 120.65533, 121.795  , 123.033  , 124.049  , 125.96116,\n",
            "        125.27966, 125.9275 , 126.38333, 135.24199, 133.20333, 142.76333,\n",
            "        137.92333, 142.95166, 152.55183, 160.33883, 164.31499, 177.63333,\n",
            "        188.29716, 200.70166, 180.355  , 175.03166, 177.6965 , 187.15983,\n",
            "        192.75666, 197.4    , 196.02499, 198.04883, 198.93233, 200.543  ]]), (2757, 30)) \n",
            "\n",
            "\n",
            "\n",
            "labels :\n",
            " (array([[196.02499],\n",
            "       [198.04883],\n",
            "       [198.93233],\n",
            "       [200.543  ],\n",
            "       [210.3075 ]]), (2757, 1)) \n",
            "\n",
            "\n",
            "\n"
          ]
        },
        {
          "output_type": "execute_result",
          "data": {
            "text/plain": [
              "(2757, 2757)"
            ]
          },
          "metadata": {},
          "execution_count": 96
        }
      ]
    },
    {
      "cell_type": "code",
      "source": [
        "# Create train and test windows for new window\n",
        "train_windows, test_windows, train_labels, test_labels = make_train_test_splits(windows=full_windows, labels=full_labels, test_split=0.2)\n",
        "len(train_windows), len(test_windows), len(train_labels), len(test_labels)"
      ],
      "metadata": {
        "colab": {
          "base_uri": "https://localhost:8080/"
        },
        "id": "OtV2SjQGHxBp",
        "outputId": "a0d97352-7da5-4288-994f-2b4ffb8203a2"
      },
      "execution_count": 97,
      "outputs": [
        {
          "output_type": "stream",
          "name": "stdout",
          "text": [
            "2205\n"
          ]
        },
        {
          "output_type": "execute_result",
          "data": {
            "text/plain": [
              "(2205, 552, 2205, 552)"
            ]
          },
          "metadata": {},
          "execution_count": 97
        }
      ]
    },
    {
      "cell_type": "code",
      "source": [
        "train_windows[:3], train_labels[:3]"
      ],
      "metadata": {
        "colab": {
          "base_uri": "https://localhost:8080/"
        },
        "id": "2o96koCqKTkL",
        "outputId": "caf03f5f-9d0d-43a2-ef33-42add053888a"
      },
      "execution_count": 101,
      "outputs": [
        {
          "output_type": "execute_result",
          "data": {
            "text/plain": [
              "(array([[123.65499, 125.455  , 108.58483, 118.67466, 121.33866, 120.65533,\n",
              "         121.795  , 123.033  , 124.049  , 125.96116, 125.27966, 125.9275 ,\n",
              "         126.38333, 135.24199, 133.20333, 142.76333, 137.92333, 142.95166,\n",
              "         152.55183, 160.33883, 164.31499, 177.63333, 188.29716, 200.70166,\n",
              "         180.355  , 175.03166, 177.6965 , 187.15983, 192.75666, 197.4    ],\n",
              "        [125.455  , 108.58483, 118.67466, 121.33866, 120.65533, 121.795  ,\n",
              "         123.033  , 124.049  , 125.96116, 125.27966, 125.9275 , 126.38333,\n",
              "         135.24199, 133.20333, 142.76333, 137.92333, 142.95166, 152.55183,\n",
              "         160.33883, 164.31499, 177.63333, 188.29716, 200.70166, 180.355  ,\n",
              "         175.03166, 177.6965 , 187.15983, 192.75666, 197.4    , 196.02499],\n",
              "        [108.58483, 118.67466, 121.33866, 120.65533, 121.795  , 123.033  ,\n",
              "         124.049  , 125.96116, 125.27966, 125.9275 , 126.38333, 135.24199,\n",
              "         133.20333, 142.76333, 137.92333, 142.95166, 152.55183, 160.33883,\n",
              "         164.31499, 177.63333, 188.29716, 200.70166, 180.355  , 175.03166,\n",
              "         177.6965 , 187.15983, 192.75666, 197.4    , 196.02499, 198.04883]]),\n",
              " array([[196.02499],\n",
              "        [198.04883],\n",
              "        [198.93233]]))"
            ]
          },
          "metadata": {},
          "execution_count": 101
        }
      ]
    },
    {
      "cell_type": "code",
      "source": [
        "import tensorflow as tf\n",
        "from tensorflow.keras import layers\n",
        "\n",
        "# Set random seed for as reproducible results as possible\n",
        "tf.random.set_seed(42)\n",
        "\n",
        "# 1. Construct model\n",
        "model_2 = tf.keras.Sequential([\n",
        "    layers.Dense(128, activation=\"relu\"),\n",
        "    layers.Dense(HORIZON, activation=\"linear\") # linear activation is same as no activation: output same as input\n",
        "], name = \"model_2_dense\") # name our model so we can save it by accesing its name by model_1.name\n",
        "\n",
        "# 2. Compile\n",
        "model_2.compile(loss=\"mae\",\n",
        "                optimizer=tf.keras.optimizers.Adam(),\n",
        "                metrics = [\"mae\", \"mse\"])\n",
        "\n",
        "# 3. Fit the model\n",
        "model_2.fit(x = train_windows,\n",
        "            y = train_labels,\n",
        "            epochs = 100,\n",
        "            verbose = 1,\n",
        "            batch_size = 128,\n",
        "            validation_data = (test_windows, test_labels),\n",
        "            callbacks = [create_model_checkpoint(model_name = model_2.name)]\n",
        ")"
      ],
      "metadata": {
        "colab": {
          "base_uri": "https://localhost:8080/"
        },
        "id": "8HoijuLeIHYE",
        "outputId": "fa66a995-c161-45f5-ed06-48b69c240811"
      },
      "execution_count": 98,
      "outputs": [
        {
          "output_type": "stream",
          "name": "stdout",
          "text": [
            "Epoch 1/100\n",
            "18/18 [==============================] - 2s 39ms/step - loss: 425.6685 - mae: 425.6685 - mse: 822226.6250 - val_loss: 1695.6934 - val_mae: 1695.6934 - val_mse: 7908829.0000\n",
            "Epoch 2/100\n",
            "18/18 [==============================] - 0s 28ms/step - loss: 284.5698 - mae: 284.5698 - mse: 362019.1875 - val_loss: 1528.6241 - val_mae: 1528.6241 - val_mse: 6188639.0000\n",
            "Epoch 3/100\n",
            "18/18 [==============================] - 0s 28ms/step - loss: 219.1034 - mae: 219.1034 - mse: 235518.5781 - val_loss: 1128.4657 - val_mae: 1128.4657 - val_mse: 3788359.0000\n",
            "Epoch 4/100\n",
            "18/18 [==============================] - 1s 30ms/step - loss: 220.2646 - mae: 220.2646 - mse: 225784.5938 - val_loss: 995.4514 - val_mae: 995.4514 - val_mse: 3065251.5000\n",
            "Epoch 5/100\n",
            "18/18 [==============================] - 0s 4ms/step - loss: 204.2760 - mae: 204.2760 - mse: 193985.9844 - val_loss: 1144.9277 - val_mae: 1144.9277 - val_mse: 3516533.7500\n",
            "Epoch 6/100\n",
            "18/18 [==============================] - 1s 29ms/step - loss: 181.3256 - mae: 181.3256 - mse: 165060.2500 - val_loss: 970.9006 - val_mae: 970.9006 - val_mse: 3063412.7500\n",
            "Epoch 7/100\n",
            "18/18 [==============================] - 1s 30ms/step - loss: 207.7003 - mae: 207.7003 - mse: 193009.7344 - val_loss: 962.2442 - val_mae: 962.2442 - val_mse: 2974982.5000\n",
            "Epoch 8/100\n",
            "18/18 [==============================] - 0s 5ms/step - loss: 166.5483 - mae: 166.5483 - mse: 147080.2812 - val_loss: 967.0221 - val_mae: 967.0221 - val_mse: 2980091.2500\n",
            "Epoch 9/100\n",
            "18/18 [==============================] - 0s 4ms/step - loss: 161.5218 - mae: 161.5218 - mse: 135520.5625 - val_loss: 1270.3601 - val_mae: 1270.3601 - val_mse: 3982567.0000\n",
            "Epoch 10/100\n",
            "18/18 [==============================] - 0s 4ms/step - loss: 179.5127 - mae: 179.5127 - mse: 155526.7344 - val_loss: 1308.7742 - val_mae: 1308.7742 - val_mse: 4168026.0000\n",
            "Epoch 11/100\n",
            "18/18 [==============================] - 0s 4ms/step - loss: 186.5463 - mae: 186.5463 - mse: 160067.0938 - val_loss: 1164.6523 - val_mae: 1164.6523 - val_mse: 3412250.0000\n",
            "Epoch 12/100\n",
            "18/18 [==============================] - 1s 30ms/step - loss: 183.8905 - mae: 183.8905 - mse: 151162.7812 - val_loss: 829.4922 - val_mae: 829.4922 - val_mse: 2112271.0000\n",
            "Epoch 13/100\n",
            "18/18 [==============================] - 0s 4ms/step - loss: 153.9185 - mae: 153.9185 - mse: 118824.1250 - val_loss: 1118.2262 - val_mae: 1118.2262 - val_mse: 3675846.0000\n",
            "Epoch 14/100\n",
            "18/18 [==============================] - 0s 5ms/step - loss: 153.1240 - mae: 153.1240 - mse: 123392.0703 - val_loss: 830.4077 - val_mae: 830.4077 - val_mse: 2220461.5000\n",
            "Epoch 15/100\n",
            "18/18 [==============================] - 1s 39ms/step - loss: 160.8526 - mae: 160.8526 - mse: 125003.9297 - val_loss: 792.5416 - val_mae: 792.5416 - val_mse: 1960216.1250\n",
            "Epoch 16/100\n",
            "18/18 [==============================] - 0s 6ms/step - loss: 146.8236 - mae: 146.8236 - mse: 105757.6406 - val_loss: 1002.5667 - val_mae: 1002.5667 - val_mse: 2690287.2500\n",
            "Epoch 17/100\n",
            "18/18 [==============================] - 0s 6ms/step - loss: 139.2589 - mae: 139.2589 - mse: 104351.1484 - val_loss: 979.1703 - val_mae: 979.1703 - val_mse: 2578619.0000\n",
            "Epoch 18/100\n",
            "18/18 [==============================] - 0s 5ms/step - loss: 149.2358 - mae: 149.2358 - mse: 112778.0938 - val_loss: 809.9023 - val_mae: 809.9023 - val_mse: 1949669.6250\n",
            "Epoch 19/100\n",
            "18/18 [==============================] - 0s 5ms/step - loss: 146.7701 - mae: 146.7701 - mse: 105343.5625 - val_loss: 1454.3242 - val_mae: 1454.3242 - val_mse: 5375822.0000\n",
            "Epoch 20/100\n",
            "18/18 [==============================] - 1s 42ms/step - loss: 161.5648 - mae: 161.5648 - mse: 124673.7734 - val_loss: 724.9746 - val_mae: 724.9746 - val_mse: 1692058.8750\n",
            "Epoch 21/100\n",
            "18/18 [==============================] - 0s 6ms/step - loss: 155.4863 - mae: 155.4863 - mse: 120057.1641 - val_loss: 1267.4957 - val_mae: 1267.4957 - val_mse: 3790520.7500\n",
            "Epoch 22/100\n",
            "18/18 [==============================] - 0s 6ms/step - loss: 216.4768 - mae: 216.4768 - mse: 179839.2031 - val_loss: 1291.7096 - val_mae: 1291.7096 - val_mse: 4346941.0000\n",
            "Epoch 23/100\n",
            "18/18 [==============================] - 0s 6ms/step - loss: 176.2459 - mae: 176.2459 - mse: 133355.9219 - val_loss: 785.9833 - val_mae: 785.9833 - val_mse: 1974436.1250\n",
            "Epoch 24/100\n",
            "18/18 [==============================] - 0s 7ms/step - loss: 154.5436 - mae: 154.5436 - mse: 115119.2266 - val_loss: 991.6788 - val_mae: 991.6788 - val_mse: 2826402.5000\n",
            "Epoch 25/100\n",
            "18/18 [==============================] - 0s 6ms/step - loss: 148.0194 - mae: 148.0194 - mse: 107407.3359 - val_loss: 983.6028 - val_mae: 983.6028 - val_mse: 2530661.0000\n",
            "Epoch 26/100\n",
            "18/18 [==============================] - 0s 6ms/step - loss: 137.4729 - mae: 137.4729 - mse: 97827.0625 - val_loss: 856.8948 - val_mae: 856.8948 - val_mse: 2248867.2500\n",
            "Epoch 27/100\n",
            "18/18 [==============================] - 0s 7ms/step - loss: 147.4241 - mae: 147.4241 - mse: 102839.6016 - val_loss: 951.6789 - val_mae: 951.6789 - val_mse: 2660789.7500\n",
            "Epoch 28/100\n",
            "18/18 [==============================] - 1s 31ms/step - loss: 138.6378 - mae: 138.6378 - mse: 95931.8594 - val_loss: 689.4245 - val_mae: 689.4245 - val_mse: 1566555.3750\n",
            "Epoch 29/100\n",
            "18/18 [==============================] - 0s 4ms/step - loss: 149.3253 - mae: 149.3253 - mse: 110268.9297 - val_loss: 692.6805 - val_mae: 692.6805 - val_mse: 1548751.7500\n",
            "Epoch 30/100\n",
            "18/18 [==============================] - 0s 5ms/step - loss: 141.8311 - mae: 141.8311 - mse: 97668.7188 - val_loss: 938.6268 - val_mae: 938.6268 - val_mse: 2343732.0000\n",
            "Epoch 31/100\n",
            "18/18 [==============================] - 0s 29ms/step - loss: 145.2692 - mae: 145.2692 - mse: 101601.0312 - val_loss: 689.2216 - val_mae: 689.2216 - val_mse: 1574944.7500\n",
            "Epoch 32/100\n",
            "18/18 [==============================] - 0s 4ms/step - loss: 148.5737 - mae: 148.5737 - mse: 105641.7656 - val_loss: 1130.6667 - val_mae: 1130.6667 - val_mse: 3114138.2500\n",
            "Epoch 33/100\n",
            "18/18 [==============================] - 0s 4ms/step - loss: 137.4349 - mae: 137.4349 - mse: 96708.5547 - val_loss: 859.3882 - val_mae: 859.3882 - val_mse: 2214436.7500\n",
            "Epoch 34/100\n",
            "18/18 [==============================] - 0s 4ms/step - loss: 138.7611 - mae: 138.7611 - mse: 93121.5078 - val_loss: 693.9135 - val_mae: 693.9135 - val_mse: 1514820.1250\n",
            "Epoch 35/100\n",
            "18/18 [==============================] - 0s 4ms/step - loss: 130.6715 - mae: 130.6715 - mse: 89554.0859 - val_loss: 690.8454 - val_mae: 690.8454 - val_mse: 1577614.8750\n",
            "Epoch 36/100\n",
            "18/18 [==============================] - 0s 5ms/step - loss: 144.9088 - mae: 144.9088 - mse: 100243.2969 - val_loss: 887.3845 - val_mae: 887.3845 - val_mse: 2121143.2500\n",
            "Epoch 37/100\n",
            "18/18 [==============================] - 0s 4ms/step - loss: 152.0741 - mae: 152.0741 - mse: 104065.0391 - val_loss: 892.5939 - val_mae: 892.5939 - val_mse: 2136434.5000\n",
            "Epoch 38/100\n",
            "18/18 [==============================] - 0s 4ms/step - loss: 160.9490 - mae: 160.9490 - mse: 115713.0625 - val_loss: 914.5999 - val_mae: 914.5999 - val_mse: 2211455.5000\n",
            "Epoch 39/100\n",
            "18/18 [==============================] - 1s 30ms/step - loss: 138.4794 - mae: 138.4794 - mse: 93078.4766 - val_loss: 678.9996 - val_mae: 678.9996 - val_mse: 1539404.6250\n",
            "Epoch 40/100\n",
            "18/18 [==============================] - 0s 4ms/step - loss: 127.5947 - mae: 127.5947 - mse: 87903.6484 - val_loss: 717.9572 - val_mae: 717.9572 - val_mse: 1564525.1250\n",
            "Epoch 41/100\n",
            "18/18 [==============================] - 0s 4ms/step - loss: 130.5215 - mae: 130.5215 - mse: 88577.9688 - val_loss: 685.3331 - val_mae: 685.3331 - val_mse: 1480564.1250\n",
            "Epoch 42/100\n",
            "18/18 [==============================] - 0s 29ms/step - loss: 120.3142 - mae: 120.3142 - mse: 82438.8984 - val_loss: 641.2391 - val_mae: 641.2391 - val_mse: 1403569.5000\n",
            "Epoch 43/100\n",
            "18/18 [==============================] - 0s 4ms/step - loss: 121.9203 - mae: 121.9203 - mse: 84203.5234 - val_loss: 826.5510 - val_mae: 826.5510 - val_mse: 2032461.6250\n",
            "Epoch 44/100\n",
            "18/18 [==============================] - 0s 4ms/step - loss: 152.1924 - mae: 152.1924 - mse: 107981.4453 - val_loss: 831.0755 - val_mae: 831.0755 - val_mse: 1916771.7500\n",
            "Epoch 45/100\n",
            "18/18 [==============================] - 1s 29ms/step - loss: 125.1483 - mae: 125.1483 - mse: 82470.0156 - val_loss: 639.3743 - val_mae: 639.3743 - val_mse: 1416604.1250\n",
            "Epoch 46/100\n",
            "18/18 [==============================] - 0s 4ms/step - loss: 123.9315 - mae: 123.9315 - mse: 86143.7500 - val_loss: 921.1297 - val_mae: 921.1297 - val_mse: 2421972.2500\n",
            "Epoch 47/100\n",
            "18/18 [==============================] - 0s 4ms/step - loss: 141.2841 - mae: 141.2841 - mse: 101585.3125 - val_loss: 979.4626 - val_mae: 979.4626 - val_mse: 2431928.5000\n",
            "Epoch 48/100\n",
            "18/18 [==============================] - 0s 4ms/step - loss: 154.4252 - mae: 154.4252 - mse: 112522.2969 - val_loss: 639.8669 - val_mae: 639.8669 - val_mse: 1367824.2500\n",
            "Epoch 49/100\n",
            "18/18 [==============================] - 0s 4ms/step - loss: 140.5717 - mae: 140.5717 - mse: 96796.7578 - val_loss: 692.2972 - val_mae: 692.2972 - val_mse: 1483425.3750\n",
            "Epoch 50/100\n",
            "18/18 [==============================] - 0s 4ms/step - loss: 123.0981 - mae: 123.0981 - mse: 83247.6719 - val_loss: 643.7324 - val_mae: 643.7324 - val_mse: 1408653.5000\n",
            "Epoch 51/100\n",
            "18/18 [==============================] - 0s 5ms/step - loss: 132.5701 - mae: 132.5701 - mse: 94635.6094 - val_loss: 753.7358 - val_mae: 753.7358 - val_mse: 1757130.2500\n",
            "Epoch 52/100\n",
            "18/18 [==============================] - 0s 4ms/step - loss: 131.9810 - mae: 131.9810 - mse: 90675.1094 - val_loss: 711.9230 - val_mae: 711.9230 - val_mse: 1527804.2500\n",
            "Epoch 53/100\n",
            "18/18 [==============================] - 0s 5ms/step - loss: 153.0234 - mae: 153.0234 - mse: 107283.6172 - val_loss: 1064.6388 - val_mae: 1064.6388 - val_mse: 3008430.0000\n",
            "Epoch 54/100\n",
            "18/18 [==============================] - 0s 4ms/step - loss: 158.6216 - mae: 158.6216 - mse: 114912.6875 - val_loss: 683.1130 - val_mae: 683.1130 - val_mse: 1456323.8750\n",
            "Epoch 55/100\n",
            "18/18 [==============================] - 0s 4ms/step - loss: 124.8270 - mae: 124.8270 - mse: 82622.0391 - val_loss: 683.6830 - val_mae: 683.6830 - val_mse: 1508682.0000\n",
            "Epoch 56/100\n",
            "18/18 [==============================] - 0s 4ms/step - loss: 124.8897 - mae: 124.8897 - mse: 83158.8594 - val_loss: 667.2703 - val_mae: 667.2703 - val_mse: 1462316.8750\n",
            "Epoch 57/100\n",
            "18/18 [==============================] - 0s 5ms/step - loss: 122.5071 - mae: 122.5071 - mse: 82429.1562 - val_loss: 935.9863 - val_mae: 935.9863 - val_mse: 2258697.0000\n",
            "Epoch 58/100\n",
            "18/18 [==============================] - 1s 29ms/step - loss: 147.9893 - mae: 147.9893 - mse: 103989.9766 - val_loss: 619.3806 - val_mae: 619.3806 - val_mse: 1323851.1250\n",
            "Epoch 59/100\n",
            "18/18 [==============================] - 0s 5ms/step - loss: 166.0711 - mae: 166.0711 - mse: 119555.3047 - val_loss: 713.8724 - val_mae: 713.8724 - val_mse: 1600079.1250\n",
            "Epoch 60/100\n",
            "18/18 [==============================] - 0s 5ms/step - loss: 117.1856 - mae: 117.1856 - mse: 76101.5625 - val_loss: 708.7941 - val_mae: 708.7941 - val_mse: 1590421.1250\n",
            "Epoch 61/100\n",
            "18/18 [==============================] - 0s 4ms/step - loss: 131.3775 - mae: 131.3775 - mse: 87666.4766 - val_loss: 630.6529 - val_mae: 630.6529 - val_mse: 1331805.5000\n",
            "Epoch 62/100\n",
            "18/18 [==============================] - 0s 5ms/step - loss: 126.0279 - mae: 126.0279 - mse: 88509.4766 - val_loss: 746.9383 - val_mae: 746.9383 - val_mse: 1706156.5000\n",
            "Epoch 63/100\n",
            "18/18 [==============================] - 0s 4ms/step - loss: 120.9125 - mae: 120.9125 - mse: 81213.0625 - val_loss: 620.3508 - val_mae: 620.3508 - val_mse: 1295364.1250\n",
            "Epoch 64/100\n",
            "18/18 [==============================] - 0s 4ms/step - loss: 114.6218 - mae: 114.6218 - mse: 77405.4141 - val_loss: 775.1923 - val_mae: 775.1923 - val_mse: 1802207.8750\n",
            "Epoch 65/100\n",
            "18/18 [==============================] - 0s 4ms/step - loss: 129.4048 - mae: 129.4048 - mse: 84916.8047 - val_loss: 644.5029 - val_mae: 644.5029 - val_mse: 1355518.6250\n",
            "Epoch 66/100\n",
            "18/18 [==============================] - 0s 4ms/step - loss: 121.0019 - mae: 121.0019 - mse: 83138.2734 - val_loss: 691.8100 - val_mae: 691.8100 - val_mse: 1523680.8750\n",
            "Epoch 67/100\n",
            "18/18 [==============================] - 0s 4ms/step - loss: 121.6288 - mae: 121.6288 - mse: 82234.0859 - val_loss: 639.6440 - val_mae: 639.6440 - val_mse: 1390332.1250\n",
            "Epoch 68/100\n",
            "18/18 [==============================] - 0s 4ms/step - loss: 113.8129 - mae: 113.8129 - mse: 76335.9766 - val_loss: 787.4863 - val_mae: 787.4863 - val_mse: 1741833.0000\n",
            "Epoch 69/100\n",
            "18/18 [==============================] - 0s 5ms/step - loss: 119.2885 - mae: 119.2885 - mse: 80443.9531 - val_loss: 985.9746 - val_mae: 985.9746 - val_mse: 2422258.2500\n",
            "Epoch 70/100\n",
            "18/18 [==============================] - 0s 4ms/step - loss: 128.7638 - mae: 128.7638 - mse: 87869.3203 - val_loss: 1089.5135 - val_mae: 1089.5135 - val_mse: 2824009.2500\n",
            "Epoch 71/100\n",
            "18/18 [==============================] - 0s 4ms/step - loss: 133.0451 - mae: 133.0451 - mse: 90661.3047 - val_loss: 643.1844 - val_mae: 643.1844 - val_mse: 1376139.7500\n",
            "Epoch 72/100\n",
            "18/18 [==============================] - 0s 4ms/step - loss: 134.8654 - mae: 134.8654 - mse: 90549.7578 - val_loss: 1225.9696 - val_mae: 1225.9696 - val_mse: 3423379.5000\n",
            "Epoch 73/100\n",
            "18/18 [==============================] - 0s 4ms/step - loss: 176.8700 - mae: 176.8700 - mse: 126927.0625 - val_loss: 710.3478 - val_mae: 710.3478 - val_mse: 1525055.1250\n",
            "Epoch 74/100\n",
            "18/18 [==============================] - 0s 28ms/step - loss: 134.6547 - mae: 134.6547 - mse: 92331.1562 - val_loss: 610.2489 - val_mae: 610.2489 - val_mse: 1286384.2500\n",
            "Epoch 75/100\n",
            "18/18 [==============================] - 0s 5ms/step - loss: 126.0938 - mae: 126.0938 - mse: 84390.6719 - val_loss: 844.2844 - val_mae: 844.2844 - val_mse: 1924631.0000\n",
            "Epoch 76/100\n",
            "18/18 [==============================] - 0s 4ms/step - loss: 119.6575 - mae: 119.6575 - mse: 82240.1016 - val_loss: 784.7327 - val_mae: 784.7327 - val_mse: 1744064.3750\n",
            "Epoch 77/100\n",
            "18/18 [==============================] - 0s 4ms/step - loss: 129.9757 - mae: 129.9757 - mse: 85381.7969 - val_loss: 784.1130 - val_mae: 784.1130 - val_mse: 1745154.3750\n",
            "Epoch 78/100\n",
            "18/18 [==============================] - 1s 30ms/step - loss: 143.7862 - mae: 143.7862 - mse: 95420.7656 - val_loss: 609.6165 - val_mae: 609.6165 - val_mse: 1276942.1250\n",
            "Epoch 79/100\n",
            "18/18 [==============================] - 0s 4ms/step - loss: 112.8041 - mae: 112.8041 - mse: 74981.7266 - val_loss: 667.1674 - val_mae: 667.1674 - val_mse: 1434810.7500\n",
            "Epoch 80/100\n",
            "18/18 [==============================] - 0s 5ms/step - loss: 120.7562 - mae: 120.7562 - mse: 79845.2812 - val_loss: 649.4006 - val_mae: 649.4006 - val_mse: 1364756.8750\n",
            "Epoch 81/100\n",
            "18/18 [==============================] - 0s 4ms/step - loss: 120.6246 - mae: 120.6246 - mse: 79650.0391 - val_loss: 809.6387 - val_mae: 809.6387 - val_mse: 1826378.3750\n",
            "Epoch 82/100\n",
            "18/18 [==============================] - 0s 5ms/step - loss: 123.4394 - mae: 123.4394 - mse: 82716.5391 - val_loss: 624.3226 - val_mae: 624.3226 - val_mse: 1321535.8750\n",
            "Epoch 83/100\n",
            "18/18 [==============================] - 0s 4ms/step - loss: 119.4901 - mae: 119.4901 - mse: 79079.9219 - val_loss: 658.3387 - val_mae: 658.3387 - val_mse: 1386067.0000\n",
            "Epoch 84/100\n",
            "18/18 [==============================] - 0s 4ms/step - loss: 120.6573 - mae: 120.6573 - mse: 79149.9141 - val_loss: 623.7932 - val_mae: 623.7932 - val_mse: 1330186.0000\n",
            "Epoch 85/100\n",
            "18/18 [==============================] - 0s 4ms/step - loss: 127.8453 - mae: 127.8453 - mse: 85575.1875 - val_loss: 1056.5280 - val_mae: 1056.5280 - val_mse: 2710880.5000\n",
            "Epoch 86/100\n",
            "18/18 [==============================] - 0s 5ms/step - loss: 124.3652 - mae: 124.3652 - mse: 83037.7812 - val_loss: 875.6983 - val_mae: 875.6983 - val_mse: 2026272.2500\n",
            "Epoch 87/100\n",
            "18/18 [==============================] - 0s 5ms/step - loss: 119.9990 - mae: 119.9990 - mse: 76773.7422 - val_loss: 638.1622 - val_mae: 638.1622 - val_mse: 1330944.0000\n",
            "Epoch 88/100\n",
            "18/18 [==============================] - 0s 5ms/step - loss: 120.9505 - mae: 120.9505 - mse: 80273.4219 - val_loss: 638.1051 - val_mae: 638.1051 - val_mse: 1349939.1250\n",
            "Epoch 89/100\n",
            "18/18 [==============================] - 0s 4ms/step - loss: 115.3674 - mae: 115.3674 - mse: 74811.8984 - val_loss: 1089.2822 - val_mae: 1089.2822 - val_mse: 2839646.5000\n",
            "Epoch 90/100\n",
            "18/18 [==============================] - 0s 4ms/step - loss: 144.3184 - mae: 144.3184 - mse: 94534.2500 - val_loss: 736.6373 - val_mae: 736.6373 - val_mse: 1630899.3750\n",
            "Epoch 91/100\n",
            "18/18 [==============================] - 0s 4ms/step - loss: 118.5917 - mae: 118.5917 - mse: 77418.5000 - val_loss: 624.9194 - val_mae: 624.9194 - val_mse: 1316889.2500\n",
            "Epoch 92/100\n",
            "18/18 [==============================] - 0s 4ms/step - loss: 116.0882 - mae: 116.0882 - mse: 75365.0781 - val_loss: 639.2393 - val_mae: 639.2393 - val_mse: 1340984.3750\n",
            "Epoch 93/100\n",
            "18/18 [==============================] - 0s 5ms/step - loss: 121.1178 - mae: 121.1178 - mse: 76838.2500 - val_loss: 678.3102 - val_mae: 678.3102 - val_mse: 1459924.1250\n",
            "Epoch 94/100\n",
            "18/18 [==============================] - 0s 5ms/step - loss: 116.1472 - mae: 116.1472 - mse: 77989.3438 - val_loss: 615.9749 - val_mae: 615.9749 - val_mse: 1283461.8750\n",
            "Epoch 95/100\n",
            "18/18 [==============================] - 0s 4ms/step - loss: 132.3016 - mae: 132.3016 - mse: 85640.6484 - val_loss: 613.0089 - val_mae: 613.0089 - val_mse: 1294812.7500\n",
            "Epoch 96/100\n",
            "18/18 [==============================] - 0s 4ms/step - loss: 112.0104 - mae: 112.0104 - mse: 73969.6797 - val_loss: 779.2965 - val_mae: 779.2965 - val_mse: 1718913.8750\n",
            "Epoch 97/100\n",
            "18/18 [==============================] - 0s 4ms/step - loss: 137.5217 - mae: 137.5217 - mse: 91377.2734 - val_loss: 830.3905 - val_mae: 830.3905 - val_mse: 1999853.8750\n",
            "Epoch 98/100\n",
            "18/18 [==============================] - 0s 4ms/step - loss: 142.8456 - mae: 142.8456 - mse: 90685.0781 - val_loss: 761.0269 - val_mae: 761.0269 - val_mse: 1714192.2500\n",
            "Epoch 99/100\n",
            "18/18 [==============================] - 0s 5ms/step - loss: 118.9484 - mae: 118.9484 - mse: 76890.0156 - val_loss: 701.2248 - val_mae: 701.2248 - val_mse: 1537591.7500\n",
            "Epoch 100/100\n",
            "18/18 [==============================] - 0s 4ms/step - loss: 124.6679 - mae: 124.6679 - mse: 81302.0234 - val_loss: 694.8715 - val_mae: 694.8715 - val_mse: 1535260.1250\n"
          ]
        },
        {
          "output_type": "execute_result",
          "data": {
            "text/plain": [
              "<keras.src.callbacks.History at 0x7d64993e3b80>"
            ]
          },
          "metadata": {},
          "execution_count": 98
        }
      ]
    },
    {
      "cell_type": "code",
      "source": [
        "# Evaluate model 2 on test data\n",
        "model_2.evaluate(test_windows, test_labels)"
      ],
      "metadata": {
        "colab": {
          "base_uri": "https://localhost:8080/"
        },
        "id": "QvNOzpQKIZDs",
        "outputId": "825bf6c8-76e0-4cd6-8935-be5b6bd1dfca"
      },
      "execution_count": 102,
      "outputs": [
        {
          "output_type": "stream",
          "name": "stdout",
          "text": [
            "18/18 [==============================] - 0s 3ms/step - loss: 694.8716 - mae: 694.8716 - mse: 1535260.2500\n"
          ]
        },
        {
          "output_type": "execute_result",
          "data": {
            "text/plain": [
              "[694.87158203125, 694.87158203125, 1535260.25]"
            ]
          },
          "metadata": {},
          "execution_count": 102
        }
      ]
    },
    {
      "cell_type": "code",
      "source": [
        "# Load in the best performing model of model_2\n",
        "model_2 = tf.keras.models.load_model(\"/content/model_experiment/model_2_dense\")\n",
        "model_2.evaluate(test_windows, test_labels)"
      ],
      "metadata": {
        "colab": {
          "base_uri": "https://localhost:8080/"
        },
        "id": "t89OttmDLC5g",
        "outputId": "8db3d8b6-642e-46bd-f0e6-cc30d9afe113"
      },
      "execution_count": 103,
      "outputs": [
        {
          "output_type": "stream",
          "name": "stdout",
          "text": [
            "18/18 [==============================] - 0s 2ms/step - loss: 609.6165 - mae: 609.6165 - mse: 1276942.2500\n"
          ]
        },
        {
          "output_type": "execute_result",
          "data": {
            "text/plain": [
              "[609.6165161132812, 609.6165161132812, 1276942.25]"
            ]
          },
          "metadata": {},
          "execution_count": 103
        }
      ]
    },
    {
      "cell_type": "code",
      "source": [
        "# Get forecast predictions\n",
        "model_2_preds = make_preds(model_2,\n",
        "                           input_data = test_windows)"
      ],
      "metadata": {
        "colab": {
          "base_uri": "https://localhost:8080/"
        },
        "id": "cEPe4iqgLPQp",
        "outputId": "db36cac7-3641-452c-c3e1-7fc73e4beecd"
      },
      "execution_count": 104,
      "outputs": [
        {
          "output_type": "stream",
          "name": "stdout",
          "text": [
            "18/18 [==============================] - 0s 3ms/step\n"
          ]
        }
      ]
    },
    {
      "cell_type": "code",
      "source": [
        "model_2_results = evaluate_preds(y_true = tf.squeeze(test_labels),\n",
        "                                 y_pred= model_2_preds)\n",
        "model_2_results"
      ],
      "metadata": {
        "colab": {
          "base_uri": "https://localhost:8080/"
        },
        "id": "gLq4xMWbLgHc",
        "outputId": "40baf792-492f-4f94-be67-4ea4e34280c7"
      },
      "execution_count": 105,
      "outputs": [
        {
          "output_type": "execute_result",
          "data": {
            "text/plain": [
              "{'mae': 609.6165,\n",
              " 'mse': 1276941.9,\n",
              " 'rmse': 1130.0186,\n",
              " 'mape': 2.7652848,\n",
              " 'mase': 1.0656155}"
            ]
          },
          "metadata": {},
          "execution_count": 105
        }
      ]
    },
    {
      "cell_type": "code",
      "source": [
        "offset = 300 # for zoom in\n",
        "plt.figure(figsize=(10, 7))\n",
        "# Account for test window offset when plotting\n",
        "plot_time_series(timesteps=X_test[(-len(test_windows)):],\n",
        "                 values = test_labels[:, 0],\n",
        "                 start=offset,\n",
        "                 label=\"Test data\")\n",
        "plot_time_series(timesteps=X_test[(-len(test_windows)):],\n",
        "                 values = model_2_preds,\n",
        "                 format=\"-\",\n",
        "                 start=offset,\n",
        "                 label=\"model_2_prediction\")\n"
      ],
      "metadata": {
        "colab": {
          "base_uri": "https://localhost:8080/",
          "height": 619
        },
        "id": "irWKHjOWLz3R",
        "outputId": "b95848ff-dd5e-457b-80a6-080096e7194d"
      },
      "execution_count": 108,
      "outputs": [
        {
          "output_type": "display_data",
          "data": {
            "text/plain": [
              "<Figure size 1000x700 with 1 Axes>"
            ],
            "image/png": "[encoded data removed]"
          },
          "metadata": {}
        }
      ]
    },
    {
      "cell_type": "markdown",
      "source": [
        "## Model 3: Dense (Window = 30, horizon = 7)"
      ],
      "metadata": {
        "id": "4Lz1uXggMoHx"
      }
    },
    {
      "cell_type": "code",
      "source": [
        "WINDOW_SIZE = 30 # use 30 prev timestep in past\n",
        "HORIZON = 7 # predict one step at a time (one day of Bitcoin price from previous 30)"
      ],
      "metadata": {
        "id": "p1JwE1xyOGE8"
      },
      "execution_count": 109,
      "outputs": []
    },
    {
      "cell_type": "code",
      "source": [
        "# Make recreate window data with appropriate horizon and window sizes\n",
        "full_windows, full_labels = make_windows(prices, window_size = WINDOW_SIZE, horizon = HORIZON)\n",
        "len(full_windows), len(full_labels)"
      ],
      "metadata": {
        "colab": {
          "base_uri": "https://localhost:8080/"
        },
        "id": "y-WERQv2OQmY",
        "outputId": "196b07b7-d216-4e61-b619-8e297fc34dc2"
      },
      "execution_count": 110,
      "outputs": [
        {
          "output_type": "stream",
          "name": "stdout",
          "text": [
            "Window indexs:\n",
            " (array([[ 0,  1,  2,  3,  4,  5,  6,  7,  8,  9, 10, 11, 12, 13, 14, 15,\n",
            "        16, 17, 18, 19, 20, 21, 22, 23, 24, 25, 26, 27, 28, 29, 30, 31,\n",
            "        32, 33, 34, 35, 36],\n",
            "       [ 1,  2,  3,  4,  5,  6,  7,  8,  9, 10, 11, 12, 13, 14, 15, 16,\n",
            "        17, 18, 19, 20, 21, 22, 23, 24, 25, 26, 27, 28, 29, 30, 31, 32,\n",
            "        33, 34, 35, 36, 37],\n",
            "       [ 2,  3,  4,  5,  6,  7,  8,  9, 10, 11, 12, 13, 14, 15, 16, 17,\n",
            "        18, 19, 20, 21, 22, 23, 24, 25, 26, 27, 28, 29, 30, 31, 32, 33,\n",
            "        34, 35, 36, 37, 38],\n",
            "       [ 3,  4,  5,  6,  7,  8,  9, 10, 11, 12, 13, 14, 15, 16, 17, 18,\n",
            "        19, 20, 21, 22, 23, 24, 25, 26, 27, 28, 29, 30, 31, 32, 33, 34,\n",
            "        35, 36, 37, 38, 39],\n",
            "       [ 4,  5,  6,  7,  8,  9, 10, 11, 12, 13, 14, 15, 16, 17, 18, 19,\n",
            "        20, 21, 22, 23, 24, 25, 26, 27, 28, 29, 30, 31, 32, 33, 34, 35,\n",
            "        36, 37, 38, 39, 40]]), (2751, 37)) \n",
            "\n",
            "\n",
            "Window array:\n",
            " (array([[123.65499, 125.455  , 108.58483, 118.67466, 121.33866, 120.65533,\n",
            "        121.795  , 123.033  , 124.049  , 125.96116, 125.27966, 125.9275 ,\n",
            "        126.38333, 135.24199, 133.20333, 142.76333, 137.92333, 142.95166,\n",
            "        152.55183, 160.33883, 164.31499, 177.63333, 188.29716, 200.70166,\n",
            "        180.355  , 175.03166, 177.6965 , 187.15983, 192.75666, 197.4    ,\n",
            "        196.02499, 198.04883, 198.93233, 200.543  , 210.3075 , 225.02   ,\n",
            "        248.25333],\n",
            "       [125.455  , 108.58483, 118.67466, 121.33866, 120.65533, 121.795  ,\n",
            "        123.033  , 124.049  , 125.96116, 125.27966, 125.9275 , 126.38333,\n",
            "        135.24199, 133.20333, 142.76333, 137.92333, 142.95166, 152.55183,\n",
            "        160.33883, 164.31499, 177.63333, 188.29716, 200.70166, 180.355  ,\n",
            "        175.03166, 177.6965 , 187.15983, 192.75666, 197.4    , 196.02499,\n",
            "        198.04883, 198.93233, 200.543  , 210.3075 , 225.02   , 248.25333,\n",
            "        262.32666],\n",
            "       [108.58483, 118.67466, 121.33866, 120.65533, 121.795  , 123.033  ,\n",
            "        124.049  , 125.96116, 125.27966, 125.9275 , 126.38333, 135.24199,\n",
            "        133.20333, 142.76333, 137.92333, 142.95166, 152.55183, 160.33883,\n",
            "        164.31499, 177.63333, 188.29716, 200.70166, 180.355  , 175.03166,\n",
            "        177.6965 , 187.15983, 192.75666, 197.4    , 196.02499, 198.04883,\n",
            "        198.93233, 200.543  , 210.3075 , 225.02   , 248.25333, 262.32666,\n",
            "        294.48699],\n",
            "       [118.67466, 121.33866, 120.65533, 121.795  , 123.033  , 124.049  ,\n",
            "        125.96116, 125.27966, 125.9275 , 126.38333, 135.24199, 133.20333,\n",
            "        142.76333, 137.92333, 142.95166, 152.55183, 160.33883, 164.31499,\n",
            "        177.63333, 188.29716, 200.70166, 180.355  , 175.03166, 177.6965 ,\n",
            "        187.15983, 192.75666, 197.4    , 196.02499, 198.04883, 198.93233,\n",
            "        200.543  , 210.3075 , 225.02   , 248.25333, 262.32666, 294.48699,\n",
            "        331.10325],\n",
            "       [121.33866, 120.65533, 121.795  , 123.033  , 124.049  , 125.96116,\n",
            "        125.27966, 125.9275 , 126.38333, 135.24199, 133.20333, 142.76333,\n",
            "        137.92333, 142.95166, 152.55183, 160.33883, 164.31499, 177.63333,\n",
            "        188.29716, 200.70166, 180.355  , 175.03166, 177.6965 , 187.15983,\n",
            "        192.75666, 197.4    , 196.02499, 198.04883, 198.93233, 200.543  ,\n",
            "        210.3075 , 225.02   , 248.25333, 262.32666, 294.48699, 331.10325,\n",
            "        285.8875 ]]), (2751, 37)) \n",
            "\n",
            "\n",
            "\n",
            "Window :\n",
            " (array([[123.65499, 125.455  , 108.58483, 118.67466, 121.33866, 120.65533,\n",
            "        121.795  , 123.033  , 124.049  , 125.96116, 125.27966, 125.9275 ,\n",
            "        126.38333, 135.24199, 133.20333, 142.76333, 137.92333, 142.95166,\n",
            "        152.55183, 160.33883, 164.31499, 177.63333, 188.29716, 200.70166,\n",
            "        180.355  , 175.03166, 177.6965 , 187.15983, 192.75666, 197.4    ],\n",
            "       [125.455  , 108.58483, 118.67466, 121.33866, 120.65533, 121.795  ,\n",
            "        123.033  , 124.049  , 125.96116, 125.27966, 125.9275 , 126.38333,\n",
            "        135.24199, 133.20333, 142.76333, 137.92333, 142.95166, 152.55183,\n",
            "        160.33883, 164.31499, 177.63333, 188.29716, 200.70166, 180.355  ,\n",
            "        175.03166, 177.6965 , 187.15983, 192.75666, 197.4    , 196.02499],\n",
            "       [108.58483, 118.67466, 121.33866, 120.65533, 121.795  , 123.033  ,\n",
            "        124.049  , 125.96116, 125.27966, 125.9275 , 126.38333, 135.24199,\n",
            "        133.20333, 142.76333, 137.92333, 142.95166, 152.55183, 160.33883,\n",
            "        164.31499, 177.63333, 188.29716, 200.70166, 180.355  , 175.03166,\n",
            "        177.6965 , 187.15983, 192.75666, 197.4    , 196.02499, 198.04883],\n",
            "       [118.67466, 121.33866, 120.65533, 121.795  , 123.033  , 124.049  ,\n",
            "        125.96116, 125.27966, 125.9275 , 126.38333, 135.24199, 133.20333,\n",
            "        142.76333, 137.92333, 142.95166, 152.55183, 160.33883, 164.31499,\n",
            "        177.63333, 188.29716, 200.70166, 180.355  , 175.03166, 177.6965 ,\n",
            "        187.15983, 192.75666, 197.4    , 196.02499, 198.04883, 198.93233],\n",
            "       [121.33866, 120.65533, 121.795  , 123.033  , 124.049  , 125.96116,\n",
            "        125.27966, 125.9275 , 126.38333, 135.24199, 133.20333, 142.76333,\n",
            "        137.92333, 142.95166, 152.55183, 160.33883, 164.31499, 177.63333,\n",
            "        188.29716, 200.70166, 180.355  , 175.03166, 177.6965 , 187.15983,\n",
            "        192.75666, 197.4    , 196.02499, 198.04883, 198.93233, 200.543  ]]), (2751, 30)) \n",
            "\n",
            "\n",
            "\n",
            "labels :\n",
            " (array([[196.02499, 198.04883, 198.93233, 200.543  , 210.3075 , 225.02   ,\n",
            "        248.25333],\n",
            "       [198.04883, 198.93233, 200.543  , 210.3075 , 225.02   , 248.25333,\n",
            "        262.32666],\n",
            "       [198.93233, 200.543  , 210.3075 , 225.02   , 248.25333, 262.32666,\n",
            "        294.48699],\n",
            "       [200.543  , 210.3075 , 225.02   , 248.25333, 262.32666, 294.48699,\n",
            "        331.10325],\n",
            "       [210.3075 , 225.02   , 248.25333, 262.32666, 294.48699, 331.10325,\n",
            "        285.8875 ]]), (2751, 7)) \n",
            "\n",
            "\n",
            "\n"
          ]
        },
        {
          "output_type": "execute_result",
          "data": {
            "text/plain": [
              "(2751, 2751)"
            ]
          },
          "metadata": {},
          "execution_count": 110
        }
      ]
    },
    {
      "cell_type": "code",
      "source": [],
      "metadata": {
        "id": "wqYmGLs2ORyr"
      },
      "execution_count": null,
      "outputs": []
    }
  ]
}